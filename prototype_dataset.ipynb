{
 "cells": [
  {
   "cell_type": "markdown",
   "source": [
    "# Prototype Dataset\n",
    "This file generates the path-to-path dataset to train a prototype transformer\n",
    "\n",
    "The input output sequence of a logo should consist of 270 Parameters\n",
    "- DeepSVG Embedding (256)\n",
    "- a0 Type \"EOS\" (1)\n",
    "- a1 - a6 Type (6)\n",
    "- a7 - a12 Param (6)\n",
    "- a13 time offset from beginning of animation in seconds\n",
    "\n",
    "Input Sequence\n",
    "- In the input sequence, the last 13 Parameters are set to zero\n",
    "- In a final model, these parameters are aimed to be left out (as context vector isn't based on that)\n",
    "\n",
    "Output Sequence\n",
    "- The Output sequence consists of the selected paths represented by their DeepSVG Embedding\n",
    "- The Animation is represented through the type and the parameters.\n",
    "- Each output sequence ends with an EOS Token, where the EOS-type in the one-hot-encoded part is set to 1."
   ],
   "metadata": {
    "collapsed": false
   },
   "id": "f87acc6b5c53311e"
  },
  {
   "cell_type": "markdown",
   "source": [
    "## Import DeepSVG Embedding"
   ],
   "metadata": {
    "collapsed": false
   },
   "id": "dc106e338f0e309d"
  },
  {
   "cell_type": "code",
   "outputs": [],
   "source": [
    "import pickle\n",
    "\n",
    "import torch\n",
    "\n",
    "with open(\"data/embeddings/path_embedding.pkl\", \"rb\") as f:\n",
    "    deepsvg_embedding = pickle.load(f)"
   ],
   "metadata": {
    "collapsed": false,
    "ExecuteTime": {
     "end_time": "2024-02-25T15:42:35.439221444Z",
     "start_time": "2024-02-25T15:42:33.776290928Z"
    }
   },
   "id": "68694a80615a4275",
   "execution_count": 1
  },
  {
   "cell_type": "code",
   "outputs": [],
   "source": [
    "## duplicate for further use\n",
    "embeddings = deepsvg_embedding.copy() #for output sequences\n",
    "input_sequences = deepsvg_embedding"
   ],
   "metadata": {
    "collapsed": false,
    "ExecuteTime": {
     "end_time": "2024-02-25T15:42:35.458087432Z",
     "start_time": "2024-02-25T15:42:35.436965653Z"
    }
   },
   "id": "bb59123a29038005",
   "execution_count": 2
  },
  {
   "cell_type": "code",
   "outputs": [
    {
     "data": {
      "text/plain": "  filename  animation_id         0         1         2         3         4  \\\n0   logo_0             1  0.851117 -1.775123  0.649689 -0.688600  0.216071   \n1   logo_0             0  0.763518 -0.982797 -0.446681  1.089468 -0.070563   \n2   logo_0             2  0.328628 -0.612160  1.592824 -0.422598 -0.765523   \n3   logo_0             3  0.291136 -0.928242  0.265542 -0.261439 -0.386160   \n4   logo_0             4  0.504446 -0.543099  0.915062  1.293575 -0.849605   \n\n          5         6         7  ...       246       247       248       249  \\\n0  0.135211 -1.748761 -1.347670  ... -1.616431 -1.572003  0.242460  0.430259   \n1  0.710206 -0.491675 -1.631172  ...  0.339061  0.022934  0.195161 -0.046488   \n2  1.140459  0.145881  0.240300  ... -0.254159 -0.790789 -0.057158  1.594653   \n3  1.256256 -0.414706 -1.206105  ... -0.446020 -1.369758  0.356421  1.456656   \n4  1.120387 -0.637641 -1.337280  ...  0.162753  0.206993 -0.201259 -1.087391   \n\n        250       251       252       253       254       255  \n0  0.079752 -1.039526 -0.696104  0.090277 -0.228757  0.144372  \n1 -0.492103 -0.605836 -1.282879  0.613195  0.297194 -0.172312  \n2  0.395605 -1.048015  0.454987 -0.439861  1.430237  0.192277  \n3  0.468766 -1.077724 -0.548627 -0.300660  0.632805 -0.136473  \n4 -0.597388 -0.992079 -0.851486 -0.225463 -0.549269  0.088637  \n\n[5 rows x 258 columns]",
      "text/html": "<div>\n<style scoped>\n    .dataframe tbody tr th:only-of-type {\n        vertical-align: middle;\n    }\n\n    .dataframe tbody tr th {\n        vertical-align: top;\n    }\n\n    .dataframe thead th {\n        text-align: right;\n    }\n</style>\n<table border=\"1\" class=\"dataframe\">\n  <thead>\n    <tr style=\"text-align: right;\">\n      <th></th>\n      <th>filename</th>\n      <th>animation_id</th>\n      <th>0</th>\n      <th>1</th>\n      <th>2</th>\n      <th>3</th>\n      <th>4</th>\n      <th>5</th>\n      <th>6</th>\n      <th>7</th>\n      <th>...</th>\n      <th>246</th>\n      <th>247</th>\n      <th>248</th>\n      <th>249</th>\n      <th>250</th>\n      <th>251</th>\n      <th>252</th>\n      <th>253</th>\n      <th>254</th>\n      <th>255</th>\n    </tr>\n  </thead>\n  <tbody>\n    <tr>\n      <th>0</th>\n      <td>logo_0</td>\n      <td>1</td>\n      <td>0.851117</td>\n      <td>-1.775123</td>\n      <td>0.649689</td>\n      <td>-0.688600</td>\n      <td>0.216071</td>\n      <td>0.135211</td>\n      <td>-1.748761</td>\n      <td>-1.347670</td>\n      <td>...</td>\n      <td>-1.616431</td>\n      <td>-1.572003</td>\n      <td>0.242460</td>\n      <td>0.430259</td>\n      <td>0.079752</td>\n      <td>-1.039526</td>\n      <td>-0.696104</td>\n      <td>0.090277</td>\n      <td>-0.228757</td>\n      <td>0.144372</td>\n    </tr>\n    <tr>\n      <th>1</th>\n      <td>logo_0</td>\n      <td>0</td>\n      <td>0.763518</td>\n      <td>-0.982797</td>\n      <td>-0.446681</td>\n      <td>1.089468</td>\n      <td>-0.070563</td>\n      <td>0.710206</td>\n      <td>-0.491675</td>\n      <td>-1.631172</td>\n      <td>...</td>\n      <td>0.339061</td>\n      <td>0.022934</td>\n      <td>0.195161</td>\n      <td>-0.046488</td>\n      <td>-0.492103</td>\n      <td>-0.605836</td>\n      <td>-1.282879</td>\n      <td>0.613195</td>\n      <td>0.297194</td>\n      <td>-0.172312</td>\n    </tr>\n    <tr>\n      <th>2</th>\n      <td>logo_0</td>\n      <td>2</td>\n      <td>0.328628</td>\n      <td>-0.612160</td>\n      <td>1.592824</td>\n      <td>-0.422598</td>\n      <td>-0.765523</td>\n      <td>1.140459</td>\n      <td>0.145881</td>\n      <td>0.240300</td>\n      <td>...</td>\n      <td>-0.254159</td>\n      <td>-0.790789</td>\n      <td>-0.057158</td>\n      <td>1.594653</td>\n      <td>0.395605</td>\n      <td>-1.048015</td>\n      <td>0.454987</td>\n      <td>-0.439861</td>\n      <td>1.430237</td>\n      <td>0.192277</td>\n    </tr>\n    <tr>\n      <th>3</th>\n      <td>logo_0</td>\n      <td>3</td>\n      <td>0.291136</td>\n      <td>-0.928242</td>\n      <td>0.265542</td>\n      <td>-0.261439</td>\n      <td>-0.386160</td>\n      <td>1.256256</td>\n      <td>-0.414706</td>\n      <td>-1.206105</td>\n      <td>...</td>\n      <td>-0.446020</td>\n      <td>-1.369758</td>\n      <td>0.356421</td>\n      <td>1.456656</td>\n      <td>0.468766</td>\n      <td>-1.077724</td>\n      <td>-0.548627</td>\n      <td>-0.300660</td>\n      <td>0.632805</td>\n      <td>-0.136473</td>\n    </tr>\n    <tr>\n      <th>4</th>\n      <td>logo_0</td>\n      <td>4</td>\n      <td>0.504446</td>\n      <td>-0.543099</td>\n      <td>0.915062</td>\n      <td>1.293575</td>\n      <td>-0.849605</td>\n      <td>1.120387</td>\n      <td>-0.637641</td>\n      <td>-1.337280</td>\n      <td>...</td>\n      <td>0.162753</td>\n      <td>0.206993</td>\n      <td>-0.201259</td>\n      <td>-1.087391</td>\n      <td>-0.597388</td>\n      <td>-0.992079</td>\n      <td>-0.851486</td>\n      <td>-0.225463</td>\n      <td>-0.549269</td>\n      <td>0.088637</td>\n    </tr>\n  </tbody>\n</table>\n<p>5 rows × 258 columns</p>\n</div>"
     },
     "execution_count": 3,
     "metadata": {},
     "output_type": "execute_result"
    }
   ],
   "source": [
    "embeddings['animation_id'] = embeddings['animation_id'].astype(int)\n",
    "embeddings.head()"
   ],
   "metadata": {
    "collapsed": false,
    "ExecuteTime": {
     "end_time": "2024-02-25T15:42:35.494795055Z",
     "start_time": "2024-02-25T15:42:35.437486176Z"
    }
   },
   "id": "9da861ad9f01a944",
   "execution_count": 3
  },
  {
   "cell_type": "markdown",
   "source": [
    "## Train / Test Split"
   ],
   "metadata": {
    "collapsed": false
   },
   "id": "a6e48324318b5982"
  },
  {
   "cell_type": "markdown",
   "source": [
    "### Logo Dataset Analysis\n",
    "Most logos have only a few paths\n",
    "Some logos have over 100 paths to animate"
   ],
   "metadata": {
    "collapsed": false
   },
   "id": "e8cd22cb0cffcf0c"
  },
  {
   "cell_type": "code",
   "outputs": [],
   "source": [
    "# Might not execute\n",
    "# input_sequences['filename'].value_counts().hist(bins=100)"
   ],
   "metadata": {
    "collapsed": false,
    "ExecuteTime": {
     "end_time": "2024-02-25T15:42:35.509845051Z",
     "start_time": "2024-02-25T15:42:35.450958891Z"
    }
   },
   "id": "6b9597e294788436",
   "execution_count": 4
  },
  {
   "cell_type": "markdown",
   "source": [
    "### Stratify on Number of Paths in Logo"
   ],
   "metadata": {
    "collapsed": false
   },
   "id": "cf7e27502d643b9f"
  },
  {
   "cell_type": "code",
   "outputs": [
    {
     "name": "stdout",
     "output_type": "stream",
     "text": [
      "[0.05, 0.1, 0.15, 0.2, 0.25, 0.3, 0.35, 0.4, 0.45, 0.5, 0.55, 0.6, 0.65, 0.7, 0.75, 0.8, 0.85, 0.9, 0.95, 1.0]\n",
      "0.05      8.8\n",
      "0.10     10.0\n",
      "0.15     11.0\n",
      "0.20     13.2\n",
      "0.25     14.0\n",
      "0.30     15.8\n",
      "0.35     17.0\n",
      "0.40     20.0\n",
      "0.45     21.0\n",
      "0.50     22.0\n",
      "0.55     23.0\n",
      "0.60     24.0\n",
      "0.65     25.0\n",
      "0.70     26.0\n",
      "0.75     27.0\n",
      "0.80     28.8\n",
      "0.85     30.6\n",
      "0.90     33.0\n",
      "0.95     50.0\n",
      "1.00    194.0\n",
      "Name: count, dtype: float64\n"
     ]
    },
    {
     "data": {
      "text/plain": "Quantile 1     36\nQuantile 7     32\nQuantile 10    30\nQuantile 17    25\nQuantile 6     23\nQuantile 14    23\nQuantile 4     23\nQuantile 11    23\nQuantile 16    22\nQuantile 0     22\nQuantile 8     21\nQuantile 18    21\nQuantile 13    20\nQuantile 19    20\nQuantile 5     20\nQuantile 15    19\nQuantile 3     18\nQuantile 9     15\nQuantile 12    12\nQuantile 2     12\nName: count_category, dtype: int64"
     },
     "execution_count": 5,
     "metadata": {},
     "output_type": "execute_result"
    }
   ],
   "source": [
    "# Count occurrences\n",
    "logos = input_sequences.groupby('filename').size().reset_index(name='count')\n",
    "\n",
    "# To stratify later, categorize the sizes\n",
    "bins = 20\n",
    "quantiles = [(i+1)/bins for i in range(bins)]\n",
    "print(quantiles)\n",
    "\n",
    "percentiles = logos['count'].quantile(quantiles)\n",
    "print(percentiles)\n",
    "\n",
    "# Function to categorize based on quantiles\n",
    "def categorize_count(count):\n",
    "    for i, percentile in enumerate(percentiles):\n",
    "        if count <= percentile:\n",
    "            return f\"Quantile {i}\"\n",
    "    return f\"Quantile {len(quantiles)}\"\n",
    "\n",
    "# Apply the categorization function to create a new column\n",
    "logos['count_category'] = logos['count'].apply(categorize_count)\n",
    "logos['count_category'].value_counts()"
   ],
   "metadata": {
    "collapsed": false,
    "ExecuteTime": {
     "end_time": "2024-02-25T15:42:35.660525449Z",
     "start_time": "2024-02-25T15:42:35.465344845Z"
    }
   },
   "id": "d582414bf00ab129",
   "execution_count": 5
  },
  {
   "cell_type": "markdown",
   "source": [
    "### Train / Test split"
   ],
   "metadata": {
    "collapsed": false
   },
   "id": "a7f1f7e2888b5286"
  },
  {
   "cell_type": "code",
   "outputs": [],
   "source": [
    "import pandas as pd\n",
    "from sklearn.model_selection import train_test_split\n",
    "\n",
    "# Split the DataFrame into training and testing sets, stratifying on 'count_category'\n",
    "logos_train, logos_test = train_test_split(logos, test_size=0.2, stratify=logos['count_category'], random_state=42)"
   ],
   "metadata": {
    "collapsed": false,
    "ExecuteTime": {
     "end_time": "2024-02-25T15:42:36.529286941Z",
     "start_time": "2024-02-25T15:42:35.499653561Z"
    }
   },
   "id": "5d3983833dc6366e",
   "execution_count": 6
  },
  {
   "cell_type": "markdown",
   "source": [
    "The distributions of lenghts are now similar. Outliers with a long sequence are in both datasets"
   ],
   "metadata": {
    "collapsed": false
   },
   "id": "9b4c87d7ce1b548"
  },
  {
   "cell_type": "code",
   "outputs": [
    {
     "data": {
      "text/plain": "<AxesSubplot:>"
     },
     "execution_count": 7,
     "metadata": {},
     "output_type": "execute_result"
    },
    {
     "data": {
      "text/plain": "<Figure size 640x480 with 1 Axes>",
      "image/png": "[encoded data removed]"
     },
     "metadata": {},
     "output_type": "display_data"
    }
   ],
   "source": [
    "logos_train['count'].hist(bins=100)"
   ],
   "metadata": {
    "collapsed": false,
    "ExecuteTime": {
     "end_time": "2024-02-25T15:42:36.972528134Z",
     "start_time": "2024-02-25T15:42:36.135021697Z"
    }
   },
   "id": "36a5d435c3bcd9ae",
   "execution_count": 7
  },
  {
   "cell_type": "code",
   "outputs": [
    {
     "data": {
      "text/plain": "<AxesSubplot:>"
     },
     "execution_count": 8,
     "metadata": {},
     "output_type": "execute_result"
    },
    {
     "data": {
      "text/plain": "<Figure size 640x480 with 1 Axes>",
      "image/png": "[encoded data removed]"
     },
     "metadata": {},
     "output_type": "display_data"
    }
   ],
   "source": [
    "logos_test['count'].hist(bins=100)"
   ],
   "metadata": {
    "collapsed": false,
    "ExecuteTime": {
     "end_time": "2024-02-25T15:42:37.288804300Z",
     "start_time": "2024-02-25T15:42:36.967891156Z"
    }
   },
   "id": "9da0b877551cca13",
   "execution_count": 8
  },
  {
   "cell_type": "code",
   "outputs": [
    {
     "data": {
      "text/plain": "array(['logo_53', 'logo_178', 'logo_394', 'logo_194', 'logo_233',\n       'logo_284', 'logo_100', 'logo_222', 'logo_93', 'logo_94',\n       'logo_67', 'logo_336', 'logo_362', 'logo_364', 'logo_86',\n       'logo_62', 'logo_245', 'logo_350', 'logo_275', 'logo_27',\n       'logo_290', 'logo_175', 'logo_200', 'logo_331', 'logo_70',\n       'logo_16', 'logo_65', 'logo_402', 'logo_390', 'logo_387',\n       'logo_111', 'logo_320', 'logo_286', 'logo_6', 'logo_313',\n       'logo_340', 'logo_118', 'logo_166', 'logo_269', 'logo_373',\n       'logo_203', 'logo_221', 'logo_361', 'logo_363', 'logo_271',\n       'logo_140', 'logo_190', 'logo_409', 'logo_145', 'logo_28',\n       'logo_372', 'logo_112', 'logo_248', 'logo_280', 'logo_226',\n       'logo_135', 'logo_294', 'logo_410', 'logo_267', 'logo_188',\n       'logo_428', 'logo_399', 'logo_208', 'logo_232', 'logo_186',\n       'logo_303', 'logo_21', 'logo_212', 'logo_348', 'logo_287',\n       'logo_407', 'logo_405', 'logo_77', 'logo_408', 'logo_256',\n       'logo_229', 'logo_151', 'logo_211', 'logo_247', 'logo_129',\n       'logo_328', 'logo_137', 'logo_432', 'logo_412', 'logo_82',\n       'logo_384', 'logo_249', 'logo_125'], dtype=object)"
     },
     "execution_count": 9,
     "metadata": {},
     "output_type": "execute_result"
    }
   ],
   "source": [
    "logos_test = logos_test['filename'].unique()\n",
    "logos_train = logos_train['filename'].unique()\n",
    "logos_test"
   ],
   "metadata": {
    "collapsed": false,
    "ExecuteTime": {
     "end_time": "2024-02-25T15:42:37.326335165Z",
     "start_time": "2024-02-25T15:42:37.268910138Z"
    }
   },
   "id": "1bab461f488d5804",
   "execution_count": 9
  },
  {
   "cell_type": "markdown",
   "source": [
    "### Discussion\n",
    "- One might also stratify over used animation types.\n",
    "- Are there enough good animations in the dataset for logos with lots of paths? -> Manual annotation"
   ],
   "metadata": {
    "collapsed": false
   },
   "id": "81ef715b269a0ba0"
  },
  {
   "cell_type": "markdown",
   "source": [
    "## Animation Dataset"
   ],
   "metadata": {
    "collapsed": false
   },
   "id": "e3a75939346578e8"
  },
  {
   "cell_type": "code",
   "outputs": [],
   "source": [
    "import pickle\n",
    "import pandas as pd\n",
    "\n",
    "# Load the pickle file\n",
    "with open(\"data/surrogate_model/animation_label.pkl\", \"rb\") as f:\n",
    "    imported_pickle = pickle.load(f)\n",
    "\n",
    "# Create a DataFrame from the imported data\n",
    "filtered_data = pd.DataFrame(imported_pickle, columns=[\"file\", \"animation_id\", \"model_output\", \"label\"])\n",
    "\n",
    "# Define the mapping for ratings\n",
    "mapping_dict = {\"Very Good\": 6, \"Good\": 5, \"Okay\": 4, \"Bad\": 3, \"Very Bad\": 2, \"no_rating\": 1}\n",
    "\n",
    "# Replace the 'label' column with the corresponding ratings using .map\n",
    "filtered_data['rating'] = filtered_data['label'].map(mapping_dict)\n",
    "\n",
    "# Extract unique logos by splitting 'file' with \"_animation\" and using .str.get(0)\n",
    "#logos_unique = filtered_data['file'].str.split('_animation').str.get(0).unique()"
   ],
   "metadata": {
    "collapsed": false,
    "ExecuteTime": {
     "end_time": "2024-02-25T15:42:37.510263428Z",
     "start_time": "2024-02-25T15:42:37.283841359Z"
    }
   },
   "id": "bbf07bef2aec2144",
   "execution_count": 10
  },
  {
   "cell_type": "code",
   "outputs": [
    {
     "data": {
      "text/plain": "                      file  animation_id  \\\n16940   logo_5_animation_0             7   \n16941   logo_5_animation_0             0   \n16942   logo_5_animation_0             5   \n16943   logo_5_animation_1             7   \n16944   logo_5_animation_2             7   \n16945   logo_5_animation_2             0   \n16946   logo_5_animation_3             7   \n16947   logo_5_animation_3             0   \n16948   logo_5_animation_3             4   \n16949   logo_5_animation_4             7   \n16950   logo_5_animation_4             0   \n16951   logo_5_animation_4             4   \n16952   logo_5_animation_4             3   \n16953   logo_5_animation_5             7   \n16954   logo_5_animation_5             0   \n16955   logo_5_animation_6             7   \n16956   logo_5_animation_6             0   \n16957   logo_5_animation_7             0   \n16958   logo_5_animation_7             4   \n16959   logo_5_animation_8             7   \n16960   logo_5_animation_8             0   \n16961   logo_5_animation_9             0   \n16962  logo_5_animation_10             7   \n16963  logo_5_animation_10             0   \n16964  logo_5_animation_12             0   \n16965  logo_5_animation_12             5   \n16966  logo_5_animation_12             1   \n16967  logo_5_animation_13             7   \n16968  logo_5_animation_13             0   \n16969  logo_5_animation_13             4   \n16970  logo_5_animation_14             7   \n16971  logo_5_animation_14             0   \n16972  logo_5_animation_14             3   \n16973  logo_5_animation_15             7   \n16974  logo_5_animation_16             7   \n16975  logo_5_animation_16             0   \n16976  logo_5_animation_16             2   \n16977  logo_5_animation_17             7   \n16978  logo_5_animation_18             7   \n16979  logo_5_animation_18             0   \n16980  logo_5_animation_18             4   \n16981  logo_5_animation_18             6   \n16982  logo_5_animation_19             0   \n16983  logo_5_animation_19             2   \n16984  logo_5_animation_20             7   \n16985  logo_5_animation_20             0   \n16986  logo_5_animation_21             0   \n16987  logo_5_animation_22             7   \n16988  logo_5_animation_22             0   \n16989  logo_5_animation_23             7   \n16990  logo_5_animation_23             0   \n16991  logo_5_animation_24             7   \n16992  logo_5_animation_24             0   \n16993  logo_5_animation_24             6   \n\n                                            model_output      label  rating  \n16940  [0, 0, 0, 0, 1, 0, -1.0, -1.0, -1.0, -1.0, -1....        NaN     NaN  \n16941  [0, 0, 0, 1, 0, 0, -1.0, -1.0, -1.0, -1.0, 0.8...        NaN     NaN  \n16942  [0, 0, 0, 0, 0, 1, -1.0, -1.0, -1.0, -1.0, -1....        NaN     NaN  \n16943  [0, 0, 0, 0, 1, 0, -1.0, -1.0, -1.0, -1.0, -1....        Bad     3.0  \n16944  [1, 0, 0, 0, 0, 0, 0.9560342718892494, 0.94782...   Very Bad     2.0  \n16945  [0, 0, 1, 0, 0, 0, -1.0, -1.0, -1.0, 0.0565513...   Very Bad     2.0  \n16946  [0, 0, 0, 0, 1, 0, -1.0, -1.0, -1.0, -1.0, -1....        Bad     3.0  \n16947  [0, 0, 0, 1, 0, 0, -1.0, -1.0, -1.0, -1.0, 0.2...       Okay     4.0  \n16948  [0, 0, 0, 0, 0, 1, -1.0, -1.0, -1.0, -1.0, -1....   Very Bad     2.0  \n16949  [0, 0, 0, 1, 0, 0, -1.0, -1.0, -1.0, -1.0, 0.2...       Good     5.0  \n16950  [0, 0, 0, 0, 1, 0, -1.0, -1.0, -1.0, -1.0, -1....       Okay     4.0  \n16951  [0, 1, 0, 0, 0, 0, -1.0, -1.0, 0.3960582426106...   Very Bad     2.0  \n16952  [1, 0, 0, 0, 0, 0, 0.15497227080241027, 0.0665...   Very Bad     2.0  \n16953  [0, 0, 0, 0, 0, 1, -1.0, -1.0, -1.0, -1.0, -1....       Good     5.0  \n16954  [0, 0, 0, 0, 0, 1, -1.0, -1.0, -1.0, -1.0, -1....       Good     5.0  \n16955  [0, 1, 0, 0, 0, 0, -1.0, -1.0, 0.7933400837616...       Good     5.0  \n16956  [1, 0, 0, 0, 0, 0, 0.8219540423197268, 0.48503...       Okay     4.0  \n16957  [0, 0, 1, 0, 0, 0, -1.0, -1.0, -1.0, 0.3238327...        Bad     3.0  \n16958  [0, 0, 0, 0, 0, 1, -1.0, -1.0, -1.0, -1.0, -1....  no_rating     1.0  \n16959  [0, 0, 0, 0, 0, 1, -1.0, -1.0, -1.0, -1.0, -1....       Okay     4.0  \n16960  [0, 0, 0, 1, 0, 0, -1.0, -1.0, -1.0, -1.0, 0.2...   Very Bad     2.0  \n16961  [0, 0, 1, 0, 0, 0, -1.0, -1.0, -1.0, 0.4630073...   Very Bad     2.0  \n16962  [1, 0, 0, 0, 0, 0, 0.5714025946899135, 0.42888...       Okay     4.0  \n16963  [0, 0, 0, 0, 1, 0, -1.0, -1.0, -1.0, -1.0, -1....       Okay     4.0  \n16964  [0, 1, 0, 0, 0, 0, -1.0, -1.0, 0.4745706786885...       Okay     4.0  \n16965  [1, 0, 0, 0, 0, 0, 0.6574725026572553, 0.66641...        Bad     3.0  \n16966  [1, 0, 0, 0, 0, 0, 0.14260035292536777, 0.0108...        Bad     3.0  \n16967  [0, 1, 0, 0, 0, 0, -1.0, -1.0, 0.2590084917154...       Okay     4.0  \n16968  [0, 0, 0, 0, 0, 1, -1.0, -1.0, -1.0, -1.0, -1....       Okay     4.0  \n16969  [0, 0, 1, 0, 0, 0, -1.0, -1.0, -1.0, 0.6852579...   Very Bad     2.0  \n16970  [0, 0, 0, 0, 1, 0, -1.0, -1.0, -1.0, -1.0, -1....   Very Bad     2.0  \n16971  [1, 0, 0, 0, 0, 0, 0.10682853770165568, 0.7025...       Okay     4.0  \n16972  [0, 0, 0, 1, 0, 0, -1.0, -1.0, -1.0, -1.0, 0.6...  no_rating     1.0  \n16973  [0, 1, 0, 0, 0, 0, -1.0, -1.0, 0.9652421415521...       Okay     4.0  \n16974  [0, 0, 0, 1, 0, 0, -1.0, -1.0, -1.0, -1.0, 0.3...        NaN     NaN  \n16975  [1, 0, 0, 0, 0, 0, 0.4169526266056648, 0.44675...        NaN     NaN  \n16976  [0, 0, 0, 1, 0, 0, -1.0, -1.0, -1.0, -1.0, 0.4...        NaN     NaN  \n16977  [0, 0, 0, 1, 0, 0, -1.0, -1.0, -1.0, -1.0, 0.5...        NaN     NaN  \n16978  [0, 0, 0, 1, 0, 0, -1.0, -1.0, -1.0, -1.0, 0.1...        NaN     NaN  \n16979  [0, 1, 0, 0, 0, 0, -1.0, -1.0, 0.3345597031675...        NaN     NaN  \n16980  [0, 0, 0, 0, 1, 0, -1.0, -1.0, -1.0, -1.0, -1....        NaN     NaN  \n16981  [0, 1, 0, 0, 0, 0, -1.0, -1.0, 0.1979396041625...        NaN     NaN  \n16982  [0, 1, 0, 0, 0, 0, -1.0, -1.0, 0.6771258268002...        NaN     NaN  \n16983  [0, 0, 0, 1, 0, 0, -1.0, -1.0, -1.0, -1.0, 0.7...        NaN     NaN  \n16984  [0, 0, 0, 0, 0, 1, -1.0, -1.0, -1.0, -1.0, -1....        NaN     NaN  \n16985  [0, 0, 0, 0, 1, 0, -1.0, -1.0, -1.0, -1.0, -1....        NaN     NaN  \n16986  [0, 0, 0, 0, 1, 0, -1.0, -1.0, -1.0, -1.0, -1....        NaN     NaN  \n16987  [0, 0, 1, 0, 0, 0, -1.0, -1.0, -1.0, 0.9582093...        NaN     NaN  \n16988  [0, 0, 0, 0, 0, 1, -1.0, -1.0, -1.0, -1.0, -1....        NaN     NaN  \n16989  [0, 0, 0, 0, 0, 1, -1.0, -1.0, -1.0, -1.0, -1....        NaN     NaN  \n16990  [0, 1, 0, 0, 0, 0, -1.0, -1.0, 0.9248652516259...        NaN     NaN  \n16991  [0, 0, 0, 0, 1, 0, -1.0, -1.0, -1.0, -1.0, -1....        NaN     NaN  \n16992  [0, 1, 0, 0, 0, 0, -1.0, -1.0, 0.7123429878269...        NaN     NaN  \n16993  [0, 1, 0, 0, 0, 0, -1.0, -1.0, 0.8397997363118...        NaN     NaN  ",
      "text/html": "<div>\n<style scoped>\n    .dataframe tbody tr th:only-of-type {\n        vertical-align: middle;\n    }\n\n    .dataframe tbody tr th {\n        vertical-align: top;\n    }\n\n    .dataframe thead th {\n        text-align: right;\n    }\n</style>\n<table border=\"1\" class=\"dataframe\">\n  <thead>\n    <tr style=\"text-align: right;\">\n      <th></th>\n      <th>file</th>\n      <th>animation_id</th>\n      <th>model_output</th>\n      <th>label</th>\n      <th>rating</th>\n    </tr>\n  </thead>\n  <tbody>\n    <tr>\n      <th>16940</th>\n      <td>logo_5_animation_0</td>\n      <td>7</td>\n      <td>[0, 0, 0, 0, 1, 0, -1.0, -1.0, -1.0, -1.0, -1....</td>\n      <td>NaN</td>\n      <td>NaN</td>\n    </tr>\n    <tr>\n      <th>16941</th>\n      <td>logo_5_animation_0</td>\n      <td>0</td>\n      <td>[0, 0, 0, 1, 0, 0, -1.0, -1.0, -1.0, -1.0, 0.8...</td>\n      <td>NaN</td>\n      <td>NaN</td>\n    </tr>\n    <tr>\n      <th>16942</th>\n      <td>logo_5_animation_0</td>\n      <td>5</td>\n      <td>[0, 0, 0, 0, 0, 1, -1.0, -1.0, -1.0, -1.0, -1....</td>\n      <td>NaN</td>\n      <td>NaN</td>\n    </tr>\n    <tr>\n      <th>16943</th>\n      <td>logo_5_animation_1</td>\n      <td>7</td>\n      <td>[0, 0, 0, 0, 1, 0, -1.0, -1.0, -1.0, -1.0, -1....</td>\n      <td>Bad</td>\n      <td>3.0</td>\n    </tr>\n    <tr>\n      <th>16944</th>\n      <td>logo_5_animation_2</td>\n      <td>7</td>\n      <td>[1, 0, 0, 0, 0, 0, 0.9560342718892494, 0.94782...</td>\n      <td>Very Bad</td>\n      <td>2.0</td>\n    </tr>\n    <tr>\n      <th>16945</th>\n      <td>logo_5_animation_2</td>\n      <td>0</td>\n      <td>[0, 0, 1, 0, 0, 0, -1.0, -1.0, -1.0, 0.0565513...</td>\n      <td>Very Bad</td>\n      <td>2.0</td>\n    </tr>\n    <tr>\n      <th>16946</th>\n      <td>logo_5_animation_3</td>\n      <td>7</td>\n      <td>[0, 0, 0, 0, 1, 0, -1.0, -1.0, -1.0, -1.0, -1....</td>\n      <td>Bad</td>\n      <td>3.0</td>\n    </tr>\n    <tr>\n      <th>16947</th>\n      <td>logo_5_animation_3</td>\n      <td>0</td>\n      <td>[0, 0, 0, 1, 0, 0, -1.0, -1.0, -1.0, -1.0, 0.2...</td>\n      <td>Okay</td>\n      <td>4.0</td>\n    </tr>\n    <tr>\n      <th>16948</th>\n      <td>logo_5_animation_3</td>\n      <td>4</td>\n      <td>[0, 0, 0, 0, 0, 1, -1.0, -1.0, -1.0, -1.0, -1....</td>\n      <td>Very Bad</td>\n      <td>2.0</td>\n    </tr>\n    <tr>\n      <th>16949</th>\n      <td>logo_5_animation_4</td>\n      <td>7</td>\n      <td>[0, 0, 0, 1, 0, 0, -1.0, -1.0, -1.0, -1.0, 0.2...</td>\n      <td>Good</td>\n      <td>5.0</td>\n    </tr>\n    <tr>\n      <th>16950</th>\n      <td>logo_5_animation_4</td>\n      <td>0</td>\n      <td>[0, 0, 0, 0, 1, 0, -1.0, -1.0, -1.0, -1.0, -1....</td>\n      <td>Okay</td>\n      <td>4.0</td>\n    </tr>\n    <tr>\n      <th>16951</th>\n      <td>logo_5_animation_4</td>\n      <td>4</td>\n      <td>[0, 1, 0, 0, 0, 0, -1.0, -1.0, 0.3960582426106...</td>\n      <td>Very Bad</td>\n      <td>2.0</td>\n    </tr>\n    <tr>\n      <th>16952</th>\n      <td>logo_5_animation_4</td>\n      <td>3</td>\n      <td>[1, 0, 0, 0, 0, 0, 0.15497227080241027, 0.0665...</td>\n      <td>Very Bad</td>\n      <td>2.0</td>\n    </tr>\n    <tr>\n      <th>16953</th>\n      <td>logo_5_animation_5</td>\n      <td>7</td>\n      <td>[0, 0, 0, 0, 0, 1, -1.0, -1.0, -1.0, -1.0, -1....</td>\n      <td>Good</td>\n      <td>5.0</td>\n    </tr>\n    <tr>\n      <th>16954</th>\n      <td>logo_5_animation_5</td>\n      <td>0</td>\n      <td>[0, 0, 0, 0, 0, 1, -1.0, -1.0, -1.0, -1.0, -1....</td>\n      <td>Good</td>\n      <td>5.0</td>\n    </tr>\n    <tr>\n      <th>16955</th>\n      <td>logo_5_animation_6</td>\n      <td>7</td>\n      <td>[0, 1, 0, 0, 0, 0, -1.0, -1.0, 0.7933400837616...</td>\n      <td>Good</td>\n      <td>5.0</td>\n    </tr>\n    <tr>\n      <th>16956</th>\n      <td>logo_5_animation_6</td>\n      <td>0</td>\n      <td>[1, 0, 0, 0, 0, 0, 0.8219540423197268, 0.48503...</td>\n      <td>Okay</td>\n      <td>4.0</td>\n    </tr>\n    <tr>\n      <th>16957</th>\n      <td>logo_5_animation_7</td>\n      <td>0</td>\n      <td>[0, 0, 1, 0, 0, 0, -1.0, -1.0, -1.0, 0.3238327...</td>\n      <td>Bad</td>\n      <td>3.0</td>\n    </tr>\n    <tr>\n      <th>16958</th>\n      <td>logo_5_animation_7</td>\n      <td>4</td>\n      <td>[0, 0, 0, 0, 0, 1, -1.0, -1.0, -1.0, -1.0, -1....</td>\n      <td>no_rating</td>\n      <td>1.0</td>\n    </tr>\n    <tr>\n      <th>16959</th>\n      <td>logo_5_animation_8</td>\n      <td>7</td>\n      <td>[0, 0, 0, 0, 0, 1, -1.0, -1.0, -1.0, -1.0, -1....</td>\n      <td>Okay</td>\n      <td>4.0</td>\n    </tr>\n    <tr>\n      <th>16960</th>\n      <td>logo_5_animation_8</td>\n      <td>0</td>\n      <td>[0, 0, 0, 1, 0, 0, -1.0, -1.0, -1.0, -1.0, 0.2...</td>\n      <td>Very Bad</td>\n      <td>2.0</td>\n    </tr>\n    <tr>\n      <th>16961</th>\n      <td>logo_5_animation_9</td>\n      <td>0</td>\n      <td>[0, 0, 1, 0, 0, 0, -1.0, -1.0, -1.0, 0.4630073...</td>\n      <td>Very Bad</td>\n      <td>2.0</td>\n    </tr>\n    <tr>\n      <th>16962</th>\n      <td>logo_5_animation_10</td>\n      <td>7</td>\n      <td>[1, 0, 0, 0, 0, 0, 0.5714025946899135, 0.42888...</td>\n      <td>Okay</td>\n      <td>4.0</td>\n    </tr>\n    <tr>\n      <th>16963</th>\n      <td>logo_5_animation_10</td>\n      <td>0</td>\n      <td>[0, 0, 0, 0, 1, 0, -1.0, -1.0, -1.0, -1.0, -1....</td>\n      <td>Okay</td>\n      <td>4.0</td>\n    </tr>\n    <tr>\n      <th>16964</th>\n      <td>logo_5_animation_12</td>\n      <td>0</td>\n      <td>[0, 1, 0, 0, 0, 0, -1.0, -1.0, 0.4745706786885...</td>\n      <td>Okay</td>\n      <td>4.0</td>\n    </tr>\n    <tr>\n      <th>16965</th>\n      <td>logo_5_animation_12</td>\n      <td>5</td>\n      <td>[1, 0, 0, 0, 0, 0, 0.6574725026572553, 0.66641...</td>\n      <td>Bad</td>\n      <td>3.0</td>\n    </tr>\n    <tr>\n      <th>16966</th>\n      <td>logo_5_animation_12</td>\n      <td>1</td>\n      <td>[1, 0, 0, 0, 0, 0, 0.14260035292536777, 0.0108...</td>\n      <td>Bad</td>\n      <td>3.0</td>\n    </tr>\n    <tr>\n      <th>16967</th>\n      <td>logo_5_animation_13</td>\n      <td>7</td>\n      <td>[0, 1, 0, 0, 0, 0, -1.0, -1.0, 0.2590084917154...</td>\n      <td>Okay</td>\n      <td>4.0</td>\n    </tr>\n    <tr>\n      <th>16968</th>\n      <td>logo_5_animation_13</td>\n      <td>0</td>\n      <td>[0, 0, 0, 0, 0, 1, -1.0, -1.0, -1.0, -1.0, -1....</td>\n      <td>Okay</td>\n      <td>4.0</td>\n    </tr>\n    <tr>\n      <th>16969</th>\n      <td>logo_5_animation_13</td>\n      <td>4</td>\n      <td>[0, 0, 1, 0, 0, 0, -1.0, -1.0, -1.0, 0.6852579...</td>\n      <td>Very Bad</td>\n      <td>2.0</td>\n    </tr>\n    <tr>\n      <th>16970</th>\n      <td>logo_5_animation_14</td>\n      <td>7</td>\n      <td>[0, 0, 0, 0, 1, 0, -1.0, -1.0, -1.0, -1.0, -1....</td>\n      <td>Very Bad</td>\n      <td>2.0</td>\n    </tr>\n    <tr>\n      <th>16971</th>\n      <td>logo_5_animation_14</td>\n      <td>0</td>\n      <td>[1, 0, 0, 0, 0, 0, 0.10682853770165568, 0.7025...</td>\n      <td>Okay</td>\n      <td>4.0</td>\n    </tr>\n    <tr>\n      <th>16972</th>\n      <td>logo_5_animation_14</td>\n      <td>3</td>\n      <td>[0, 0, 0, 1, 0, 0, -1.0, -1.0, -1.0, -1.0, 0.6...</td>\n      <td>no_rating</td>\n      <td>1.0</td>\n    </tr>\n    <tr>\n      <th>16973</th>\n      <td>logo_5_animation_15</td>\n      <td>7</td>\n      <td>[0, 1, 0, 0, 0, 0, -1.0, -1.0, 0.9652421415521...</td>\n      <td>Okay</td>\n      <td>4.0</td>\n    </tr>\n    <tr>\n      <th>16974</th>\n      <td>logo_5_animation_16</td>\n      <td>7</td>\n      <td>[0, 0, 0, 1, 0, 0, -1.0, -1.0, -1.0, -1.0, 0.3...</td>\n      <td>NaN</td>\n      <td>NaN</td>\n    </tr>\n    <tr>\n      <th>16975</th>\n      <td>logo_5_animation_16</td>\n      <td>0</td>\n      <td>[1, 0, 0, 0, 0, 0, 0.4169526266056648, 0.44675...</td>\n      <td>NaN</td>\n      <td>NaN</td>\n    </tr>\n    <tr>\n      <th>16976</th>\n      <td>logo_5_animation_16</td>\n      <td>2</td>\n      <td>[0, 0, 0, 1, 0, 0, -1.0, -1.0, -1.0, -1.0, 0.4...</td>\n      <td>NaN</td>\n      <td>NaN</td>\n    </tr>\n    <tr>\n      <th>16977</th>\n      <td>logo_5_animation_17</td>\n      <td>7</td>\n      <td>[0, 0, 0, 1, 0, 0, -1.0, -1.0, -1.0, -1.0, 0.5...</td>\n      <td>NaN</td>\n      <td>NaN</td>\n    </tr>\n    <tr>\n      <th>16978</th>\n      <td>logo_5_animation_18</td>\n      <td>7</td>\n      <td>[0, 0, 0, 1, 0, 0, -1.0, -1.0, -1.0, -1.0, 0.1...</td>\n      <td>NaN</td>\n      <td>NaN</td>\n    </tr>\n    <tr>\n      <th>16979</th>\n      <td>logo_5_animation_18</td>\n      <td>0</td>\n      <td>[0, 1, 0, 0, 0, 0, -1.0, -1.0, 0.3345597031675...</td>\n      <td>NaN</td>\n      <td>NaN</td>\n    </tr>\n    <tr>\n      <th>16980</th>\n      <td>logo_5_animation_18</td>\n      <td>4</td>\n      <td>[0, 0, 0, 0, 1, 0, -1.0, -1.0, -1.0, -1.0, -1....</td>\n      <td>NaN</td>\n      <td>NaN</td>\n    </tr>\n    <tr>\n      <th>16981</th>\n      <td>logo_5_animation_18</td>\n      <td>6</td>\n      <td>[0, 1, 0, 0, 0, 0, -1.0, -1.0, 0.1979396041625...</td>\n      <td>NaN</td>\n      <td>NaN</td>\n    </tr>\n    <tr>\n      <th>16982</th>\n      <td>logo_5_animation_19</td>\n      <td>0</td>\n      <td>[0, 1, 0, 0, 0, 0, -1.0, -1.0, 0.6771258268002...</td>\n      <td>NaN</td>\n      <td>NaN</td>\n    </tr>\n    <tr>\n      <th>16983</th>\n      <td>logo_5_animation_19</td>\n      <td>2</td>\n      <td>[0, 0, 0, 1, 0, 0, -1.0, -1.0, -1.0, -1.0, 0.7...</td>\n      <td>NaN</td>\n      <td>NaN</td>\n    </tr>\n    <tr>\n      <th>16984</th>\n      <td>logo_5_animation_20</td>\n      <td>7</td>\n      <td>[0, 0, 0, 0, 0, 1, -1.0, -1.0, -1.0, -1.0, -1....</td>\n      <td>NaN</td>\n      <td>NaN</td>\n    </tr>\n    <tr>\n      <th>16985</th>\n      <td>logo_5_animation_20</td>\n      <td>0</td>\n      <td>[0, 0, 0, 0, 1, 0, -1.0, -1.0, -1.0, -1.0, -1....</td>\n      <td>NaN</td>\n      <td>NaN</td>\n    </tr>\n    <tr>\n      <th>16986</th>\n      <td>logo_5_animation_21</td>\n      <td>0</td>\n      <td>[0, 0, 0, 0, 1, 0, -1.0, -1.0, -1.0, -1.0, -1....</td>\n      <td>NaN</td>\n      <td>NaN</td>\n    </tr>\n    <tr>\n      <th>16987</th>\n      <td>logo_5_animation_22</td>\n      <td>7</td>\n      <td>[0, 0, 1, 0, 0, 0, -1.0, -1.0, -1.0, 0.9582093...</td>\n      <td>NaN</td>\n      <td>NaN</td>\n    </tr>\n    <tr>\n      <th>16988</th>\n      <td>logo_5_animation_22</td>\n      <td>0</td>\n      <td>[0, 0, 0, 0, 0, 1, -1.0, -1.0, -1.0, -1.0, -1....</td>\n      <td>NaN</td>\n      <td>NaN</td>\n    </tr>\n    <tr>\n      <th>16989</th>\n      <td>logo_5_animation_23</td>\n      <td>7</td>\n      <td>[0, 0, 0, 0, 0, 1, -1.0, -1.0, -1.0, -1.0, -1....</td>\n      <td>NaN</td>\n      <td>NaN</td>\n    </tr>\n    <tr>\n      <th>16990</th>\n      <td>logo_5_animation_23</td>\n      <td>0</td>\n      <td>[0, 1, 0, 0, 0, 0, -1.0, -1.0, 0.9248652516259...</td>\n      <td>NaN</td>\n      <td>NaN</td>\n    </tr>\n    <tr>\n      <th>16991</th>\n      <td>logo_5_animation_24</td>\n      <td>7</td>\n      <td>[0, 0, 0, 0, 1, 0, -1.0, -1.0, -1.0, -1.0, -1....</td>\n      <td>NaN</td>\n      <td>NaN</td>\n    </tr>\n    <tr>\n      <th>16992</th>\n      <td>logo_5_animation_24</td>\n      <td>0</td>\n      <td>[0, 1, 0, 0, 0, 0, -1.0, -1.0, 0.7123429878269...</td>\n      <td>NaN</td>\n      <td>NaN</td>\n    </tr>\n    <tr>\n      <th>16993</th>\n      <td>logo_5_animation_24</td>\n      <td>6</td>\n      <td>[0, 1, 0, 0, 0, 0, -1.0, -1.0, 0.8397997363118...</td>\n      <td>NaN</td>\n      <td>NaN</td>\n    </tr>\n  </tbody>\n</table>\n</div>"
     },
     "execution_count": 11,
     "metadata": {},
     "output_type": "execute_result"
    }
   ],
   "source": [
    "#example\n",
    "filtered_data[filtered_data[\"file\"].str.contains(\"logo_5_\")]"
   ],
   "metadata": {
    "collapsed": false,
    "ExecuteTime": {
     "end_time": "2024-02-25T15:42:37.573565966Z",
     "start_time": "2024-02-25T15:42:37.485504238Z"
    }
   },
   "id": "130243845ed47e58",
   "execution_count": 11
  },
  {
   "cell_type": "markdown",
   "source": [
    "### Consistency: Delete twice animated paths in one animation\n",
    "Every animation should animate each path only once. **But there are duplicates.**\n",
    "Some duplicates are completely equal."
   ],
   "metadata": {
    "collapsed": false
   },
   "id": "24fdd76c4de39468"
  },
  {
   "cell_type": "code",
   "outputs": [
    {
     "data": {
      "text/plain": "                       file  animation_id  \\\n13311  logo_379_animation_5            27   \n13312  logo_379_animation_5            27   \n13313  logo_379_animation_5            33   \n13314  logo_379_animation_5            33   \n13315  logo_379_animation_5            28   \n13316  logo_379_animation_5            28   \n13317  logo_379_animation_5            31   \n13318  logo_379_animation_5            31   \n13319  logo_379_animation_5            32   \n13320  logo_379_animation_5            32   \n13321  logo_379_animation_5            30   \n13322  logo_379_animation_5            30   \n13323  logo_379_animation_5            29   \n13324  logo_379_animation_5            29   \n\n                                            model_output label  rating  \n13311  [0, 0, 0, 0, 0, 1, -1.0, -1.0, -1.0, -1.0, -1....  Okay     4.0  \n13312  [0, 0, 0, 0, 0, 1, -1.0, -1.0, -1.0, -1.0, -1....  Okay     4.0  \n13313  [0, 0, 0, 0, 0, 1, -1.0, -1.0, -1.0, -1.0, -1....  Good     5.0  \n13314  [0, 0, 0, 0, 0, 1, -1.0, -1.0, -1.0, -1.0, -1....  Okay     4.0  \n13315  [0, 0, 0, 1, 0, 0, -1.0, -1.0, -1.0, -1.0, 0.6...  Good     5.0  \n13316  [0, 0, 0, 1, 0, 0, -1.0, -1.0, -1.0, -1.0, 0.6...  Okay     4.0  \n13317  [0, 0, 0, 1, 0, 0, -1.0, -1.0, -1.0, -1.0, 0.7...  Okay     4.0  \n13318  [0, 0, 0, 1, 0, 0, -1.0, -1.0, -1.0, -1.0, 0.7...  Okay     4.0  \n13319  [0, 1, 0, 0, 0, 0, -1.0, -1.0, 0.7398985747399...  Good     5.0  \n13320  [0, 1, 0, 0, 0, 0, -1.0, -1.0, 0.7398985747399...  Okay     4.0  \n13321  [0, 0, 1, 0, 0, 0, -1.0, -1.0, -1.0, 0.9223249...   Bad     3.0  \n13322  [0, 0, 1, 0, 0, 0, -1.0, -1.0, -1.0, 0.9223249...  Okay     4.0  \n13323  [0, 0, 0, 0, 0, 1, -1.0, -1.0, -1.0, -1.0, -1....   Bad     3.0  \n13324  [0, 0, 0, 0, 0, 1, -1.0, -1.0, -1.0, -1.0, -1....  Okay     4.0  ",
      "text/html": "<div>\n<style scoped>\n    .dataframe tbody tr th:only-of-type {\n        vertical-align: middle;\n    }\n\n    .dataframe tbody tr th {\n        vertical-align: top;\n    }\n\n    .dataframe thead th {\n        text-align: right;\n    }\n</style>\n<table border=\"1\" class=\"dataframe\">\n  <thead>\n    <tr style=\"text-align: right;\">\n      <th></th>\n      <th>file</th>\n      <th>animation_id</th>\n      <th>model_output</th>\n      <th>label</th>\n      <th>rating</th>\n    </tr>\n  </thead>\n  <tbody>\n    <tr>\n      <th>13311</th>\n      <td>logo_379_animation_5</td>\n      <td>27</td>\n      <td>[0, 0, 0, 0, 0, 1, -1.0, -1.0, -1.0, -1.0, -1....</td>\n      <td>Okay</td>\n      <td>4.0</td>\n    </tr>\n    <tr>\n      <th>13312</th>\n      <td>logo_379_animation_5</td>\n      <td>27</td>\n      <td>[0, 0, 0, 0, 0, 1, -1.0, -1.0, -1.0, -1.0, -1....</td>\n      <td>Okay</td>\n      <td>4.0</td>\n    </tr>\n    <tr>\n      <th>13313</th>\n      <td>logo_379_animation_5</td>\n      <td>33</td>\n      <td>[0, 0, 0, 0, 0, 1, -1.0, -1.0, -1.0, -1.0, -1....</td>\n      <td>Good</td>\n      <td>5.0</td>\n    </tr>\n    <tr>\n      <th>13314</th>\n      <td>logo_379_animation_5</td>\n      <td>33</td>\n      <td>[0, 0, 0, 0, 0, 1, -1.0, -1.0, -1.0, -1.0, -1....</td>\n      <td>Okay</td>\n      <td>4.0</td>\n    </tr>\n    <tr>\n      <th>13315</th>\n      <td>logo_379_animation_5</td>\n      <td>28</td>\n      <td>[0, 0, 0, 1, 0, 0, -1.0, -1.0, -1.0, -1.0, 0.6...</td>\n      <td>Good</td>\n      <td>5.0</td>\n    </tr>\n    <tr>\n      <th>13316</th>\n      <td>logo_379_animation_5</td>\n      <td>28</td>\n      <td>[0, 0, 0, 1, 0, 0, -1.0, -1.0, -1.0, -1.0, 0.6...</td>\n      <td>Okay</td>\n      <td>4.0</td>\n    </tr>\n    <tr>\n      <th>13317</th>\n      <td>logo_379_animation_5</td>\n      <td>31</td>\n      <td>[0, 0, 0, 1, 0, 0, -1.0, -1.0, -1.0, -1.0, 0.7...</td>\n      <td>Okay</td>\n      <td>4.0</td>\n    </tr>\n    <tr>\n      <th>13318</th>\n      <td>logo_379_animation_5</td>\n      <td>31</td>\n      <td>[0, 0, 0, 1, 0, 0, -1.0, -1.0, -1.0, -1.0, 0.7...</td>\n      <td>Okay</td>\n      <td>4.0</td>\n    </tr>\n    <tr>\n      <th>13319</th>\n      <td>logo_379_animation_5</td>\n      <td>32</td>\n      <td>[0, 1, 0, 0, 0, 0, -1.0, -1.0, 0.7398985747399...</td>\n      <td>Good</td>\n      <td>5.0</td>\n    </tr>\n    <tr>\n      <th>13320</th>\n      <td>logo_379_animation_5</td>\n      <td>32</td>\n      <td>[0, 1, 0, 0, 0, 0, -1.0, -1.0, 0.7398985747399...</td>\n      <td>Okay</td>\n      <td>4.0</td>\n    </tr>\n    <tr>\n      <th>13321</th>\n      <td>logo_379_animation_5</td>\n      <td>30</td>\n      <td>[0, 0, 1, 0, 0, 0, -1.0, -1.0, -1.0, 0.9223249...</td>\n      <td>Bad</td>\n      <td>3.0</td>\n    </tr>\n    <tr>\n      <th>13322</th>\n      <td>logo_379_animation_5</td>\n      <td>30</td>\n      <td>[0, 0, 1, 0, 0, 0, -1.0, -1.0, -1.0, 0.9223249...</td>\n      <td>Okay</td>\n      <td>4.0</td>\n    </tr>\n    <tr>\n      <th>13323</th>\n      <td>logo_379_animation_5</td>\n      <td>29</td>\n      <td>[0, 0, 0, 0, 0, 1, -1.0, -1.0, -1.0, -1.0, -1....</td>\n      <td>Bad</td>\n      <td>3.0</td>\n    </tr>\n    <tr>\n      <th>13324</th>\n      <td>logo_379_animation_5</td>\n      <td>29</td>\n      <td>[0, 0, 0, 0, 0, 1, -1.0, -1.0, -1.0, -1.0, -1....</td>\n      <td>Okay</td>\n      <td>4.0</td>\n    </tr>\n  </tbody>\n</table>\n</div>"
     },
     "execution_count": 12,
     "metadata": {},
     "output_type": "execute_result"
    }
   ],
   "source": [
    "# Example\n",
    "filtered_data[filtered_data['file'] == \"logo_379_animation_5\"]"
   ],
   "metadata": {
    "collapsed": false,
    "ExecuteTime": {
     "end_time": "2024-02-25T15:42:37.622537321Z",
     "start_time": "2024-02-25T15:42:37.568930318Z"
    }
   },
   "id": "cb637cf25418b6ab",
   "execution_count": 12
  },
  {
   "cell_type": "code",
   "outputs": [
    {
     "name": "stdout",
     "output_type": "stream",
     "text": [
      "There are 243 duplicates.\n",
      "Reduced to 124 duplicates.\n"
     ]
    }
   ],
   "source": [
    "# SIMPLE DUPLICATE REDUCTION\n",
    "print(f\"There are {filtered_data.duplicated(subset=['file', 'animation_id'], keep=False).sum()} duplicates.\")\n",
    "\n",
    "# Create a copy for and convert numpy to strings\n",
    "duplicate_search = filtered_data.copy()\n",
    "duplicate_search['model_output'] = duplicate_search['model_output'].apply(lambda x: str(x))\n",
    "\n",
    "# Find duplicates in the copy and remove with a mask\n",
    "duplicates_mask = duplicate_search.duplicated(keep='first')\n",
    "filtered_data = filtered_data[~duplicates_mask]\n",
    "\n",
    "print(f\"Reduced to {filtered_data.duplicated(subset=['file', 'animation_id'], keep=False).sum()} duplicates.\")"
   ],
   "metadata": {
    "collapsed": false,
    "ExecuteTime": {
     "end_time": "2024-02-25T15:42:38.783445569Z",
     "start_time": "2024-02-25T15:42:37.597594014Z"
    }
   },
   "id": "c2cbc95347ff1656",
   "execution_count": 13
  },
  {
   "cell_type": "markdown",
   "source": [
    "But there are some more duplicates. Some have different ratings, so let's simply keep the better rating:"
   ],
   "metadata": {
    "collapsed": false
   },
   "id": "adc2d7767be07d8c"
  },
  {
   "cell_type": "code",
   "outputs": [
    {
     "data": {
      "text/plain": "                        file  animation_id  \\\n1758    logo_159_animation_3            11   \n1759    logo_159_animation_3            11   \n1863   logo_181_animation_12            13   \n1864   logo_181_animation_12            13   \n2417    logo_36_animation_12             0   \n...                      ...           ...   \n23352   logo_126_animation_3            34   \n23353   logo_126_animation_3             5   \n23354   logo_126_animation_3             5   \n23762   logo_91_animation_12            22   \n23763   logo_91_animation_12            22   \n\n                                            model_output     label  rating  \n1758   [0, 1, 0, 0, 0, 0, -1.0, -1.0, 0.2379646270918...       Bad     3.0  \n1759   [0, 1, 0, 0, 0, 0, -1.0, -1.0, 0.2379646270918...      Okay     4.0  \n1863   [0, 0, 0, 1, 0, 0, -1.0, -1.0, -1.0, -1.0, 0.4...      Okay     4.0  \n1864   [0, 0, 0, 1, 0, 0, -1.0, -1.0, -1.0, -1.0, 0.4...      Good     5.0  \n2417   [0, 0, 0, 0, 1, 0, -1.0, -1.0, -1.0, -1.0, -1....       Bad     3.0  \n...                                                  ...       ...     ...  \n23352  [0, 0, 0, 1, 0, 0, -1.0, -1.0, -1.0, -1.0, 0.2...      Good     5.0  \n23353  [0, 0, 0, 0, 0, 1, -1.0, -1.0, -1.0, -1.0, -1....      Good     5.0  \n23354  [0, 0, 0, 0, 0, 1, -1.0, -1.0, -1.0, -1.0, -1....  Very Bad     2.0  \n23762  [0, 0, 0, 1, 0, 0, -1.0, -1.0, -1.0, -1.0, 0.4...       Bad     3.0  \n23763  [0, 0, 0, 1, 0, 0, -1.0, -1.0, -1.0, -1.0, 0.4...  Very Bad     2.0  \n\n[124 rows x 5 columns]",
      "text/html": "<div>\n<style scoped>\n    .dataframe tbody tr th:only-of-type {\n        vertical-align: middle;\n    }\n\n    .dataframe tbody tr th {\n        vertical-align: top;\n    }\n\n    .dataframe thead th {\n        text-align: right;\n    }\n</style>\n<table border=\"1\" class=\"dataframe\">\n  <thead>\n    <tr style=\"text-align: right;\">\n      <th></th>\n      <th>file</th>\n      <th>animation_id</th>\n      <th>model_output</th>\n      <th>label</th>\n      <th>rating</th>\n    </tr>\n  </thead>\n  <tbody>\n    <tr>\n      <th>1758</th>\n      <td>logo_159_animation_3</td>\n      <td>11</td>\n      <td>[0, 1, 0, 0, 0, 0, -1.0, -1.0, 0.2379646270918...</td>\n      <td>Bad</td>\n      <td>3.0</td>\n    </tr>\n    <tr>\n      <th>1759</th>\n      <td>logo_159_animation_3</td>\n      <td>11</td>\n      <td>[0, 1, 0, 0, 0, 0, -1.0, -1.0, 0.2379646270918...</td>\n      <td>Okay</td>\n      <td>4.0</td>\n    </tr>\n    <tr>\n      <th>1863</th>\n      <td>logo_181_animation_12</td>\n      <td>13</td>\n      <td>[0, 0, 0, 1, 0, 0, -1.0, -1.0, -1.0, -1.0, 0.4...</td>\n      <td>Okay</td>\n      <td>4.0</td>\n    </tr>\n    <tr>\n      <th>1864</th>\n      <td>logo_181_animation_12</td>\n      <td>13</td>\n      <td>[0, 0, 0, 1, 0, 0, -1.0, -1.0, -1.0, -1.0, 0.4...</td>\n      <td>Good</td>\n      <td>5.0</td>\n    </tr>\n    <tr>\n      <th>2417</th>\n      <td>logo_36_animation_12</td>\n      <td>0</td>\n      <td>[0, 0, 0, 0, 1, 0, -1.0, -1.0, -1.0, -1.0, -1....</td>\n      <td>Bad</td>\n      <td>3.0</td>\n    </tr>\n    <tr>\n      <th>...</th>\n      <td>...</td>\n      <td>...</td>\n      <td>...</td>\n      <td>...</td>\n      <td>...</td>\n    </tr>\n    <tr>\n      <th>23352</th>\n      <td>logo_126_animation_3</td>\n      <td>34</td>\n      <td>[0, 0, 0, 1, 0, 0, -1.0, -1.0, -1.0, -1.0, 0.2...</td>\n      <td>Good</td>\n      <td>5.0</td>\n    </tr>\n    <tr>\n      <th>23353</th>\n      <td>logo_126_animation_3</td>\n      <td>5</td>\n      <td>[0, 0, 0, 0, 0, 1, -1.0, -1.0, -1.0, -1.0, -1....</td>\n      <td>Good</td>\n      <td>5.0</td>\n    </tr>\n    <tr>\n      <th>23354</th>\n      <td>logo_126_animation_3</td>\n      <td>5</td>\n      <td>[0, 0, 0, 0, 0, 1, -1.0, -1.0, -1.0, -1.0, -1....</td>\n      <td>Very Bad</td>\n      <td>2.0</td>\n    </tr>\n    <tr>\n      <th>23762</th>\n      <td>logo_91_animation_12</td>\n      <td>22</td>\n      <td>[0, 0, 0, 1, 0, 0, -1.0, -1.0, -1.0, -1.0, 0.4...</td>\n      <td>Bad</td>\n      <td>3.0</td>\n    </tr>\n    <tr>\n      <th>23763</th>\n      <td>logo_91_animation_12</td>\n      <td>22</td>\n      <td>[0, 0, 0, 1, 0, 0, -1.0, -1.0, -1.0, -1.0, 0.4...</td>\n      <td>Very Bad</td>\n      <td>2.0</td>\n    </tr>\n  </tbody>\n</table>\n<p>124 rows × 5 columns</p>\n</div>"
     },
     "execution_count": 14,
     "metadata": {},
     "output_type": "execute_result"
    }
   ],
   "source": [
    "duplicates_mask = filtered_data.duplicated(subset=['file', 'animation_id'], keep=False)\n",
    "filtered_data[duplicates_mask]"
   ],
   "metadata": {
    "collapsed": false,
    "ExecuteTime": {
     "end_time": "2024-02-25T15:42:38.868138167Z",
     "start_time": "2024-02-25T15:42:38.759236173Z"
    }
   },
   "id": "666a431fce7451a3",
   "execution_count": 14
  },
  {
   "cell_type": "code",
   "outputs": [
    {
     "name": "stdout",
     "output_type": "stream",
     "text": [
      "Reduced to 0 duplicates.\n"
     ]
    }
   ],
   "source": [
    "# Sort the DataFrame by 'file', 'animation_id' (for grouping) and 'rating' (descending order to prioritize higher ratings)\n",
    "filtered_data_sorted = filtered_data.sort_values(by=['file', 'animation_id', 'rating'], ascending=[True, True, False])\n",
    "\n",
    "# Mark duplicates, keeping the row with the highest rating\n",
    "duplicates_mask = filtered_data_sorted.duplicated(subset=['file', 'animation_id'], keep='first')\n",
    "\n",
    "# Identify the indices of rows to keep and filter the original DataFrame\n",
    "indices_to_keep = filtered_data_sorted[~duplicates_mask].index\n",
    "\n",
    "filtered_data = filtered_data.loc[filtered_data.index.intersection(indices_to_keep)]\n",
    "\n",
    "print(f\"Reduced to {filtered_data.duplicated(subset=['file', 'animation_id'], keep=False).sum()} duplicates.\")"
   ],
   "metadata": {
    "collapsed": false,
    "ExecuteTime": {
     "end_time": "2024-02-25T15:42:38.957525289Z",
     "start_time": "2024-02-25T15:42:38.800374460Z"
    }
   },
   "id": "2395f5f9c8fc8e87",
   "execution_count": 15
  },
  {
   "cell_type": "markdown",
   "source": [
    "Now all duplicates are gone. Let's check with an example:"
   ],
   "metadata": {
    "collapsed": false
   },
   "id": "4ea4a5ee92e9187a"
  },
  {
   "cell_type": "code",
   "outputs": [
    {
     "data": {
      "text/plain": "                       file  animation_id  \\\n13311  logo_379_animation_5            27   \n13313  logo_379_animation_5            33   \n13315  logo_379_animation_5            28   \n13317  logo_379_animation_5            31   \n13319  logo_379_animation_5            32   \n13322  logo_379_animation_5            30   \n13324  logo_379_animation_5            29   \n\n                                            model_output label  rating  \n13311  [0, 0, 0, 0, 0, 1, -1.0, -1.0, -1.0, -1.0, -1....  Okay     4.0  \n13313  [0, 0, 0, 0, 0, 1, -1.0, -1.0, -1.0, -1.0, -1....  Good     5.0  \n13315  [0, 0, 0, 1, 0, 0, -1.0, -1.0, -1.0, -1.0, 0.6...  Good     5.0  \n13317  [0, 0, 0, 1, 0, 0, -1.0, -1.0, -1.0, -1.0, 0.7...  Okay     4.0  \n13319  [0, 1, 0, 0, 0, 0, -1.0, -1.0, 0.7398985747399...  Good     5.0  \n13322  [0, 0, 1, 0, 0, 0, -1.0, -1.0, -1.0, 0.9223249...  Okay     4.0  \n13324  [0, 0, 0, 0, 0, 1, -1.0, -1.0, -1.0, -1.0, -1....  Okay     4.0  ",
      "text/html": "<div>\n<style scoped>\n    .dataframe tbody tr th:only-of-type {\n        vertical-align: middle;\n    }\n\n    .dataframe tbody tr th {\n        vertical-align: top;\n    }\n\n    .dataframe thead th {\n        text-align: right;\n    }\n</style>\n<table border=\"1\" class=\"dataframe\">\n  <thead>\n    <tr style=\"text-align: right;\">\n      <th></th>\n      <th>file</th>\n      <th>animation_id</th>\n      <th>model_output</th>\n      <th>label</th>\n      <th>rating</th>\n    </tr>\n  </thead>\n  <tbody>\n    <tr>\n      <th>13311</th>\n      <td>logo_379_animation_5</td>\n      <td>27</td>\n      <td>[0, 0, 0, 0, 0, 1, -1.0, -1.0, -1.0, -1.0, -1....</td>\n      <td>Okay</td>\n      <td>4.0</td>\n    </tr>\n    <tr>\n      <th>13313</th>\n      <td>logo_379_animation_5</td>\n      <td>33</td>\n      <td>[0, 0, 0, 0, 0, 1, -1.0, -1.0, -1.0, -1.0, -1....</td>\n      <td>Good</td>\n      <td>5.0</td>\n    </tr>\n    <tr>\n      <th>13315</th>\n      <td>logo_379_animation_5</td>\n      <td>28</td>\n      <td>[0, 0, 0, 1, 0, 0, -1.0, -1.0, -1.0, -1.0, 0.6...</td>\n      <td>Good</td>\n      <td>5.0</td>\n    </tr>\n    <tr>\n      <th>13317</th>\n      <td>logo_379_animation_5</td>\n      <td>31</td>\n      <td>[0, 0, 0, 1, 0, 0, -1.0, -1.0, -1.0, -1.0, 0.7...</td>\n      <td>Okay</td>\n      <td>4.0</td>\n    </tr>\n    <tr>\n      <th>13319</th>\n      <td>logo_379_animation_5</td>\n      <td>32</td>\n      <td>[0, 1, 0, 0, 0, 0, -1.0, -1.0, 0.7398985747399...</td>\n      <td>Good</td>\n      <td>5.0</td>\n    </tr>\n    <tr>\n      <th>13322</th>\n      <td>logo_379_animation_5</td>\n      <td>30</td>\n      <td>[0, 0, 1, 0, 0, 0, -1.0, -1.0, -1.0, 0.9223249...</td>\n      <td>Okay</td>\n      <td>4.0</td>\n    </tr>\n    <tr>\n      <th>13324</th>\n      <td>logo_379_animation_5</td>\n      <td>29</td>\n      <td>[0, 0, 0, 0, 0, 1, -1.0, -1.0, -1.0, -1.0, -1....</td>\n      <td>Okay</td>\n      <td>4.0</td>\n    </tr>\n  </tbody>\n</table>\n</div>"
     },
     "execution_count": 16,
     "metadata": {},
     "output_type": "execute_result"
    }
   ],
   "source": [
    "# Check: Should be 7 animations instead of 14 \n",
    "filtered_data[filtered_data['file'] == \"logo_379_animation_5\"]  # EG: logo_379_animation_5 , logo_334_animation_12"
   ],
   "metadata": {
    "collapsed": false,
    "ExecuteTime": {
     "end_time": "2024-02-25T15:42:39.020546634Z",
     "start_time": "2024-02-25T15:42:38.861311175Z"
    }
   },
   "id": "c79f680ae079114a",
   "execution_count": 16
  },
  {
   "cell_type": "code",
   "outputs": [],
   "source": [
    "filtered_data.reset_index(drop=True, inplace=True)"
   ],
   "metadata": {
    "collapsed": false,
    "ExecuteTime": {
     "end_time": "2024-02-25T15:42:39.033081404Z",
     "start_time": "2024-02-25T15:42:38.895706038Z"
    }
   },
   "id": "8052ef4a1b3a6fd",
   "execution_count": 17
  },
  {
   "cell_type": "markdown",
   "source": [
    "### Some Statistics about the Animations we have here\n",
    "Result: Many animations with only one animated path"
   ],
   "metadata": {
    "collapsed": false
   },
   "id": "a27f707d3a85a731"
  },
  {
   "cell_type": "code",
   "outputs": [
    {
     "name": "stdout",
     "output_type": "stream",
     "text": [
      "9907 Animations initially\n",
      "   Animation Length  Count\n",
      "1                 1   2901\n",
      "0                 2   3175\n",
      "2                 3   2301\n",
      "3                 4    876\n",
      "4                 5    312\n",
      "5                 6    220\n",
      "6                 7    112\n",
      "7                 8     10\n"
     ]
    }
   ],
   "source": [
    "grouped = filtered_data.groupby('file').count()\n",
    "grouped = grouped[['animation_id']]\n",
    "print(f\"{grouped.size} Animations initially\")\n",
    "histogram_table = grouped['animation_id'].value_counts().reset_index()\n",
    "histogram_table.columns = ['Animation Length', 'Count']\n",
    "histogram_table = histogram_table.sort_values(by='Animation Length')\n",
    "print(histogram_table)"
   ],
   "metadata": {
    "collapsed": false,
    "ExecuteTime": {
     "end_time": "2024-02-25T15:42:39.169175477Z",
     "start_time": "2024-02-25T15:42:38.901922377Z"
    }
   },
   "id": "a9ff5a562cb6b276",
   "execution_count": 18
  },
  {
   "cell_type": "code",
   "outputs": [
    {
     "data": {
      "text/plain": "      Rating  Count  Percentage\n0        Bad   2503   17.531694\n1       Good   2384   16.698186\n2       Okay   4568   31.995517\n3   Very Bad   3025   21.187925\n4  Very Good    509    3.565175\n5  no_rating   1288    9.021503",
      "text/html": "<div>\n<style scoped>\n    .dataframe tbody tr th:only-of-type {\n        vertical-align: middle;\n    }\n\n    .dataframe tbody tr th {\n        vertical-align: top;\n    }\n\n    .dataframe thead th {\n        text-align: right;\n    }\n</style>\n<table border=\"1\" class=\"dataframe\">\n  <thead>\n    <tr style=\"text-align: right;\">\n      <th></th>\n      <th>Rating</th>\n      <th>Count</th>\n      <th>Percentage</th>\n    </tr>\n  </thead>\n  <tbody>\n    <tr>\n      <th>0</th>\n      <td>Bad</td>\n      <td>2503</td>\n      <td>17.531694</td>\n    </tr>\n    <tr>\n      <th>1</th>\n      <td>Good</td>\n      <td>2384</td>\n      <td>16.698186</td>\n    </tr>\n    <tr>\n      <th>2</th>\n      <td>Okay</td>\n      <td>4568</td>\n      <td>31.995517</td>\n    </tr>\n    <tr>\n      <th>3</th>\n      <td>Very Bad</td>\n      <td>3025</td>\n      <td>21.187925</td>\n    </tr>\n    <tr>\n      <th>4</th>\n      <td>Very Good</td>\n      <td>509</td>\n      <td>3.565175</td>\n    </tr>\n    <tr>\n      <th>5</th>\n      <td>no_rating</td>\n      <td>1288</td>\n      <td>9.021503</td>\n    </tr>\n  </tbody>\n</table>\n</div>"
     },
     "execution_count": 19,
     "metadata": {},
     "output_type": "execute_result"
    }
   ],
   "source": [
    "grouped = filtered_data.groupby('label').count()\n",
    "grouped = grouped[['file']].reset_index()\n",
    "grouped.columns = ['Rating', 'Count']\n",
    "grouped['Percentage'] = (grouped['Count'] / grouped['Count'].sum()) * 100\n",
    "grouped"
   ],
   "metadata": {
    "collapsed": false,
    "ExecuteTime": {
     "end_time": "2024-02-25T15:42:39.195090829Z",
     "start_time": "2024-02-25T15:42:38.940005057Z"
    }
   },
   "id": "860151ed1d201f65",
   "execution_count": 19
  },
  {
   "cell_type": "markdown",
   "source": [
    "### Investigate overall rating of animations"
   ],
   "metadata": {
    "collapsed": false
   },
   "id": "32e263ddaf7b9683"
  },
  {
   "cell_type": "code",
   "outputs": [
    {
     "data": {
      "text/plain": "<AxesSubplot:>"
     },
     "execution_count": 20,
     "metadata": {},
     "output_type": "execute_result"
    },
    {
     "data": {
      "text/plain": "<Figure size 640x480 with 1 Axes>",
      "image/png": "[encoded data removed]"
     },
     "metadata": {},
     "output_type": "display_data"
    }
   ],
   "source": [
    "filtered_data['average_rating'] = filtered_data.groupby('file')['rating'].transform('mean')\n",
    "filtered_data['average_rating'].hist(bins=20)"
   ],
   "metadata": {
    "collapsed": false,
    "ExecuteTime": {
     "end_time": "2024-02-25T15:42:39.658786217Z",
     "start_time": "2024-02-25T15:42:38.970313019Z"
    }
   },
   "id": "fbd67fe9b288f9ee",
   "execution_count": 20
  },
  {
   "cell_type": "code",
   "outputs": [
    {
     "data": {
      "text/plain": "                      file  animation_id  \\\n16682   logo_5_animation_0             7   \n16683   logo_5_animation_0             0   \n16684   logo_5_animation_0             5   \n16685   logo_5_animation_1             7   \n16686   logo_5_animation_2             7   \n16687   logo_5_animation_2             0   \n16688   logo_5_animation_3             7   \n16689   logo_5_animation_3             0   \n16690   logo_5_animation_3             4   \n16691   logo_5_animation_4             7   \n16692   logo_5_animation_4             0   \n16693   logo_5_animation_4             4   \n16694   logo_5_animation_4             3   \n16695   logo_5_animation_5             7   \n16696   logo_5_animation_5             0   \n16697   logo_5_animation_6             7   \n16698   logo_5_animation_6             0   \n16699   logo_5_animation_7             0   \n16700   logo_5_animation_7             4   \n16701   logo_5_animation_8             7   \n16702   logo_5_animation_8             0   \n16703   logo_5_animation_9             0   \n16704  logo_5_animation_10             7   \n16705  logo_5_animation_10             0   \n16706  logo_5_animation_12             0   \n16707  logo_5_animation_12             5   \n16708  logo_5_animation_12             1   \n16709  logo_5_animation_13             7   \n16710  logo_5_animation_13             0   \n16711  logo_5_animation_13             4   \n16712  logo_5_animation_14             7   \n16713  logo_5_animation_14             0   \n16714  logo_5_animation_14             3   \n16715  logo_5_animation_15             7   \n16716  logo_5_animation_16             7   \n16717  logo_5_animation_16             0   \n16718  logo_5_animation_16             2   \n16719  logo_5_animation_17             7   \n16720  logo_5_animation_18             7   \n16721  logo_5_animation_18             0   \n16722  logo_5_animation_18             4   \n16723  logo_5_animation_18             6   \n16724  logo_5_animation_19             0   \n16725  logo_5_animation_19             2   \n16726  logo_5_animation_20             7   \n16727  logo_5_animation_20             0   \n16728  logo_5_animation_21             0   \n16729  logo_5_animation_22             7   \n16730  logo_5_animation_22             0   \n16731  logo_5_animation_23             7   \n16732  logo_5_animation_23             0   \n16733  logo_5_animation_24             7   \n16734  logo_5_animation_24             0   \n16735  logo_5_animation_24             6   \n\n                                            model_output      label  rating  \\\n16682  [0, 0, 0, 0, 1, 0, -1.0, -1.0, -1.0, -1.0, -1....        NaN     NaN   \n16683  [0, 0, 0, 1, 0, 0, -1.0, -1.0, -1.0, -1.0, 0.8...        NaN     NaN   \n16684  [0, 0, 0, 0, 0, 1, -1.0, -1.0, -1.0, -1.0, -1....        NaN     NaN   \n16685  [0, 0, 0, 0, 1, 0, -1.0, -1.0, -1.0, -1.0, -1....        Bad     3.0   \n16686  [1, 0, 0, 0, 0, 0, 0.9560342718892494, 0.94782...   Very Bad     2.0   \n16687  [0, 0, 1, 0, 0, 0, -1.0, -1.0, -1.0, 0.0565513...   Very Bad     2.0   \n16688  [0, 0, 0, 0, 1, 0, -1.0, -1.0, -1.0, -1.0, -1....        Bad     3.0   \n16689  [0, 0, 0, 1, 0, 0, -1.0, -1.0, -1.0, -1.0, 0.2...       Okay     4.0   \n16690  [0, 0, 0, 0, 0, 1, -1.0, -1.0, -1.0, -1.0, -1....   Very Bad     2.0   \n16691  [0, 0, 0, 1, 0, 0, -1.0, -1.0, -1.0, -1.0, 0.2...       Good     5.0   \n16692  [0, 0, 0, 0, 1, 0, -1.0, -1.0, -1.0, -1.0, -1....       Okay     4.0   \n16693  [0, 1, 0, 0, 0, 0, -1.0, -1.0, 0.3960582426106...   Very Bad     2.0   \n16694  [1, 0, 0, 0, 0, 0, 0.15497227080241027, 0.0665...   Very Bad     2.0   \n16695  [0, 0, 0, 0, 0, 1, -1.0, -1.0, -1.0, -1.0, -1....       Good     5.0   \n16696  [0, 0, 0, 0, 0, 1, -1.0, -1.0, -1.0, -1.0, -1....       Good     5.0   \n16697  [0, 1, 0, 0, 0, 0, -1.0, -1.0, 0.7933400837616...       Good     5.0   \n16698  [1, 0, 0, 0, 0, 0, 0.8219540423197268, 0.48503...       Okay     4.0   \n16699  [0, 0, 1, 0, 0, 0, -1.0, -1.0, -1.0, 0.3238327...        Bad     3.0   \n16700  [0, 0, 0, 0, 0, 1, -1.0, -1.0, -1.0, -1.0, -1....  no_rating     1.0   \n16701  [0, 0, 0, 0, 0, 1, -1.0, -1.0, -1.0, -1.0, -1....       Okay     4.0   \n16702  [0, 0, 0, 1, 0, 0, -1.0, -1.0, -1.0, -1.0, 0.2...   Very Bad     2.0   \n16703  [0, 0, 1, 0, 0, 0, -1.0, -1.0, -1.0, 0.4630073...   Very Bad     2.0   \n16704  [1, 0, 0, 0, 0, 0, 0.5714025946899135, 0.42888...       Okay     4.0   \n16705  [0, 0, 0, 0, 1, 0, -1.0, -1.0, -1.0, -1.0, -1....       Okay     4.0   \n16706  [0, 1, 0, 0, 0, 0, -1.0, -1.0, 0.4745706786885...       Okay     4.0   \n16707  [1, 0, 0, 0, 0, 0, 0.6574725026572553, 0.66641...        Bad     3.0   \n16708  [1, 0, 0, 0, 0, 0, 0.14260035292536777, 0.0108...        Bad     3.0   \n16709  [0, 1, 0, 0, 0, 0, -1.0, -1.0, 0.2590084917154...       Okay     4.0   \n16710  [0, 0, 0, 0, 0, 1, -1.0, -1.0, -1.0, -1.0, -1....       Okay     4.0   \n16711  [0, 0, 1, 0, 0, 0, -1.0, -1.0, -1.0, 0.6852579...   Very Bad     2.0   \n16712  [0, 0, 0, 0, 1, 0, -1.0, -1.0, -1.0, -1.0, -1....   Very Bad     2.0   \n16713  [1, 0, 0, 0, 0, 0, 0.10682853770165568, 0.7025...       Okay     4.0   \n16714  [0, 0, 0, 1, 0, 0, -1.0, -1.0, -1.0, -1.0, 0.6...  no_rating     1.0   \n16715  [0, 1, 0, 0, 0, 0, -1.0, -1.0, 0.9652421415521...       Okay     4.0   \n16716  [0, 0, 0, 1, 0, 0, -1.0, -1.0, -1.0, -1.0, 0.3...        NaN     NaN   \n16717  [1, 0, 0, 0, 0, 0, 0.4169526266056648, 0.44675...        NaN     NaN   \n16718  [0, 0, 0, 1, 0, 0, -1.0, -1.0, -1.0, -1.0, 0.4...        NaN     NaN   \n16719  [0, 0, 0, 1, 0, 0, -1.0, -1.0, -1.0, -1.0, 0.5...        NaN     NaN   \n16720  [0, 0, 0, 1, 0, 0, -1.0, -1.0, -1.0, -1.0, 0.1...        NaN     NaN   \n16721  [0, 1, 0, 0, 0, 0, -1.0, -1.0, 0.3345597031675...        NaN     NaN   \n16722  [0, 0, 0, 0, 1, 0, -1.0, -1.0, -1.0, -1.0, -1....        NaN     NaN   \n16723  [0, 1, 0, 0, 0, 0, -1.0, -1.0, 0.1979396041625...        NaN     NaN   \n16724  [0, 1, 0, 0, 0, 0, -1.0, -1.0, 0.6771258268002...        NaN     NaN   \n16725  [0, 0, 0, 1, 0, 0, -1.0, -1.0, -1.0, -1.0, 0.7...        NaN     NaN   \n16726  [0, 0, 0, 0, 0, 1, -1.0, -1.0, -1.0, -1.0, -1....        NaN     NaN   \n16727  [0, 0, 0, 0, 1, 0, -1.0, -1.0, -1.0, -1.0, -1....        NaN     NaN   \n16728  [0, 0, 0, 0, 1, 0, -1.0, -1.0, -1.0, -1.0, -1....        NaN     NaN   \n16729  [0, 0, 1, 0, 0, 0, -1.0, -1.0, -1.0, 0.9582093...        NaN     NaN   \n16730  [0, 0, 0, 0, 0, 1, -1.0, -1.0, -1.0, -1.0, -1....        NaN     NaN   \n16731  [0, 0, 0, 0, 0, 1, -1.0, -1.0, -1.0, -1.0, -1....        NaN     NaN   \n16732  [0, 1, 0, 0, 0, 0, -1.0, -1.0, 0.9248652516259...        NaN     NaN   \n16733  [0, 0, 0, 0, 1, 0, -1.0, -1.0, -1.0, -1.0, -1....        NaN     NaN   \n16734  [0, 1, 0, 0, 0, 0, -1.0, -1.0, 0.7123429878269...        NaN     NaN   \n16735  [0, 1, 0, 0, 0, 0, -1.0, -1.0, 0.8397997363118...        NaN     NaN   \n\n       average_rating  \n16682             NaN  \n16683             NaN  \n16684             NaN  \n16685        3.000000  \n16686        2.000000  \n16687        2.000000  \n16688        3.000000  \n16689        3.000000  \n16690        3.000000  \n16691        3.250000  \n16692        3.250000  \n16693        3.250000  \n16694        3.250000  \n16695        5.000000  \n16696        5.000000  \n16697        4.500000  \n16698        4.500000  \n16699        2.000000  \n16700        2.000000  \n16701        3.000000  \n16702        3.000000  \n16703        2.000000  \n16704        4.000000  \n16705        4.000000  \n16706        3.333333  \n16707        3.333333  \n16708        3.333333  \n16709        3.333333  \n16710        3.333333  \n16711        3.333333  \n16712        2.333333  \n16713        2.333333  \n16714        2.333333  \n16715        4.000000  \n16716             NaN  \n16717             NaN  \n16718             NaN  \n16719             NaN  \n16720             NaN  \n16721             NaN  \n16722             NaN  \n16723             NaN  \n16724             NaN  \n16725             NaN  \n16726             NaN  \n16727             NaN  \n16728             NaN  \n16729             NaN  \n16730             NaN  \n16731             NaN  \n16732             NaN  \n16733             NaN  \n16734             NaN  \n16735             NaN  ",
      "text/html": "<div>\n<style scoped>\n    .dataframe tbody tr th:only-of-type {\n        vertical-align: middle;\n    }\n\n    .dataframe tbody tr th {\n        vertical-align: top;\n    }\n\n    .dataframe thead th {\n        text-align: right;\n    }\n</style>\n<table border=\"1\" class=\"dataframe\">\n  <thead>\n    <tr style=\"text-align: right;\">\n      <th></th>\n      <th>file</th>\n      <th>animation_id</th>\n      <th>model_output</th>\n      <th>label</th>\n      <th>rating</th>\n      <th>average_rating</th>\n    </tr>\n  </thead>\n  <tbody>\n    <tr>\n      <th>16682</th>\n      <td>logo_5_animation_0</td>\n      <td>7</td>\n      <td>[0, 0, 0, 0, 1, 0, -1.0, -1.0, -1.0, -1.0, -1....</td>\n      <td>NaN</td>\n      <td>NaN</td>\n      <td>NaN</td>\n    </tr>\n    <tr>\n      <th>16683</th>\n      <td>logo_5_animation_0</td>\n      <td>0</td>\n      <td>[0, 0, 0, 1, 0, 0, -1.0, -1.0, -1.0, -1.0, 0.8...</td>\n      <td>NaN</td>\n      <td>NaN</td>\n      <td>NaN</td>\n    </tr>\n    <tr>\n      <th>16684</th>\n      <td>logo_5_animation_0</td>\n      <td>5</td>\n      <td>[0, 0, 0, 0, 0, 1, -1.0, -1.0, -1.0, -1.0, -1....</td>\n      <td>NaN</td>\n      <td>NaN</td>\n      <td>NaN</td>\n    </tr>\n    <tr>\n      <th>16685</th>\n      <td>logo_5_animation_1</td>\n      <td>7</td>\n      <td>[0, 0, 0, 0, 1, 0, -1.0, -1.0, -1.0, -1.0, -1....</td>\n      <td>Bad</td>\n      <td>3.0</td>\n      <td>3.000000</td>\n    </tr>\n    <tr>\n      <th>16686</th>\n      <td>logo_5_animation_2</td>\n      <td>7</td>\n      <td>[1, 0, 0, 0, 0, 0, 0.9560342718892494, 0.94782...</td>\n      <td>Very Bad</td>\n      <td>2.0</td>\n      <td>2.000000</td>\n    </tr>\n    <tr>\n      <th>16687</th>\n      <td>logo_5_animation_2</td>\n      <td>0</td>\n      <td>[0, 0, 1, 0, 0, 0, -1.0, -1.0, -1.0, 0.0565513...</td>\n      <td>Very Bad</td>\n      <td>2.0</td>\n      <td>2.000000</td>\n    </tr>\n    <tr>\n      <th>16688</th>\n      <td>logo_5_animation_3</td>\n      <td>7</td>\n      <td>[0, 0, 0, 0, 1, 0, -1.0, -1.0, -1.0, -1.0, -1....</td>\n      <td>Bad</td>\n      <td>3.0</td>\n      <td>3.000000</td>\n    </tr>\n    <tr>\n      <th>16689</th>\n      <td>logo_5_animation_3</td>\n      <td>0</td>\n      <td>[0, 0, 0, 1, 0, 0, -1.0, -1.0, -1.0, -1.0, 0.2...</td>\n      <td>Okay</td>\n      <td>4.0</td>\n      <td>3.000000</td>\n    </tr>\n    <tr>\n      <th>16690</th>\n      <td>logo_5_animation_3</td>\n      <td>4</td>\n      <td>[0, 0, 0, 0, 0, 1, -1.0, -1.0, -1.0, -1.0, -1....</td>\n      <td>Very Bad</td>\n      <td>2.0</td>\n      <td>3.000000</td>\n    </tr>\n    <tr>\n      <th>16691</th>\n      <td>logo_5_animation_4</td>\n      <td>7</td>\n      <td>[0, 0, 0, 1, 0, 0, -1.0, -1.0, -1.0, -1.0, 0.2...</td>\n      <td>Good</td>\n      <td>5.0</td>\n      <td>3.250000</td>\n    </tr>\n    <tr>\n      <th>16692</th>\n      <td>logo_5_animation_4</td>\n      <td>0</td>\n      <td>[0, 0, 0, 0, 1, 0, -1.0, -1.0, -1.0, -1.0, -1....</td>\n      <td>Okay</td>\n      <td>4.0</td>\n      <td>3.250000</td>\n    </tr>\n    <tr>\n      <th>16693</th>\n      <td>logo_5_animation_4</td>\n      <td>4</td>\n      <td>[0, 1, 0, 0, 0, 0, -1.0, -1.0, 0.3960582426106...</td>\n      <td>Very Bad</td>\n      <td>2.0</td>\n      <td>3.250000</td>\n    </tr>\n    <tr>\n      <th>16694</th>\n      <td>logo_5_animation_4</td>\n      <td>3</td>\n      <td>[1, 0, 0, 0, 0, 0, 0.15497227080241027, 0.0665...</td>\n      <td>Very Bad</td>\n      <td>2.0</td>\n      <td>3.250000</td>\n    </tr>\n    <tr>\n      <th>16695</th>\n      <td>logo_5_animation_5</td>\n      <td>7</td>\n      <td>[0, 0, 0, 0, 0, 1, -1.0, -1.0, -1.0, -1.0, -1....</td>\n      <td>Good</td>\n      <td>5.0</td>\n      <td>5.000000</td>\n    </tr>\n    <tr>\n      <th>16696</th>\n      <td>logo_5_animation_5</td>\n      <td>0</td>\n      <td>[0, 0, 0, 0, 0, 1, -1.0, -1.0, -1.0, -1.0, -1....</td>\n      <td>Good</td>\n      <td>5.0</td>\n      <td>5.000000</td>\n    </tr>\n    <tr>\n      <th>16697</th>\n      <td>logo_5_animation_6</td>\n      <td>7</td>\n      <td>[0, 1, 0, 0, 0, 0, -1.0, -1.0, 0.7933400837616...</td>\n      <td>Good</td>\n      <td>5.0</td>\n      <td>4.500000</td>\n    </tr>\n    <tr>\n      <th>16698</th>\n      <td>logo_5_animation_6</td>\n      <td>0</td>\n      <td>[1, 0, 0, 0, 0, 0, 0.8219540423197268, 0.48503...</td>\n      <td>Okay</td>\n      <td>4.0</td>\n      <td>4.500000</td>\n    </tr>\n    <tr>\n      <th>16699</th>\n      <td>logo_5_animation_7</td>\n      <td>0</td>\n      <td>[0, 0, 1, 0, 0, 0, -1.0, -1.0, -1.0, 0.3238327...</td>\n      <td>Bad</td>\n      <td>3.0</td>\n      <td>2.000000</td>\n    </tr>\n    <tr>\n      <th>16700</th>\n      <td>logo_5_animation_7</td>\n      <td>4</td>\n      <td>[0, 0, 0, 0, 0, 1, -1.0, -1.0, -1.0, -1.0, -1....</td>\n      <td>no_rating</td>\n      <td>1.0</td>\n      <td>2.000000</td>\n    </tr>\n    <tr>\n      <th>16701</th>\n      <td>logo_5_animation_8</td>\n      <td>7</td>\n      <td>[0, 0, 0, 0, 0, 1, -1.0, -1.0, -1.0, -1.0, -1....</td>\n      <td>Okay</td>\n      <td>4.0</td>\n      <td>3.000000</td>\n    </tr>\n    <tr>\n      <th>16702</th>\n      <td>logo_5_animation_8</td>\n      <td>0</td>\n      <td>[0, 0, 0, 1, 0, 0, -1.0, -1.0, -1.0, -1.0, 0.2...</td>\n      <td>Very Bad</td>\n      <td>2.0</td>\n      <td>3.000000</td>\n    </tr>\n    <tr>\n      <th>16703</th>\n      <td>logo_5_animation_9</td>\n      <td>0</td>\n      <td>[0, 0, 1, 0, 0, 0, -1.0, -1.0, -1.0, 0.4630073...</td>\n      <td>Very Bad</td>\n      <td>2.0</td>\n      <td>2.000000</td>\n    </tr>\n    <tr>\n      <th>16704</th>\n      <td>logo_5_animation_10</td>\n      <td>7</td>\n      <td>[1, 0, 0, 0, 0, 0, 0.5714025946899135, 0.42888...</td>\n      <td>Okay</td>\n      <td>4.0</td>\n      <td>4.000000</td>\n    </tr>\n    <tr>\n      <th>16705</th>\n      <td>logo_5_animation_10</td>\n      <td>0</td>\n      <td>[0, 0, 0, 0, 1, 0, -1.0, -1.0, -1.0, -1.0, -1....</td>\n      <td>Okay</td>\n      <td>4.0</td>\n      <td>4.000000</td>\n    </tr>\n    <tr>\n      <th>16706</th>\n      <td>logo_5_animation_12</td>\n      <td>0</td>\n      <td>[0, 1, 0, 0, 0, 0, -1.0, -1.0, 0.4745706786885...</td>\n      <td>Okay</td>\n      <td>4.0</td>\n      <td>3.333333</td>\n    </tr>\n    <tr>\n      <th>16707</th>\n      <td>logo_5_animation_12</td>\n      <td>5</td>\n      <td>[1, 0, 0, 0, 0, 0, 0.6574725026572553, 0.66641...</td>\n      <td>Bad</td>\n      <td>3.0</td>\n      <td>3.333333</td>\n    </tr>\n    <tr>\n      <th>16708</th>\n      <td>logo_5_animation_12</td>\n      <td>1</td>\n      <td>[1, 0, 0, 0, 0, 0, 0.14260035292536777, 0.0108...</td>\n      <td>Bad</td>\n      <td>3.0</td>\n      <td>3.333333</td>\n    </tr>\n    <tr>\n      <th>16709</th>\n      <td>logo_5_animation_13</td>\n      <td>7</td>\n      <td>[0, 1, 0, 0, 0, 0, -1.0, -1.0, 0.2590084917154...</td>\n      <td>Okay</td>\n      <td>4.0</td>\n      <td>3.333333</td>\n    </tr>\n    <tr>\n      <th>16710</th>\n      <td>logo_5_animation_13</td>\n      <td>0</td>\n      <td>[0, 0, 0, 0, 0, 1, -1.0, -1.0, -1.0, -1.0, -1....</td>\n      <td>Okay</td>\n      <td>4.0</td>\n      <td>3.333333</td>\n    </tr>\n    <tr>\n      <th>16711</th>\n      <td>logo_5_animation_13</td>\n      <td>4</td>\n      <td>[0, 0, 1, 0, 0, 0, -1.0, -1.0, -1.0, 0.6852579...</td>\n      <td>Very Bad</td>\n      <td>2.0</td>\n      <td>3.333333</td>\n    </tr>\n    <tr>\n      <th>16712</th>\n      <td>logo_5_animation_14</td>\n      <td>7</td>\n      <td>[0, 0, 0, 0, 1, 0, -1.0, -1.0, -1.0, -1.0, -1....</td>\n      <td>Very Bad</td>\n      <td>2.0</td>\n      <td>2.333333</td>\n    </tr>\n    <tr>\n      <th>16713</th>\n      <td>logo_5_animation_14</td>\n      <td>0</td>\n      <td>[1, 0, 0, 0, 0, 0, 0.10682853770165568, 0.7025...</td>\n      <td>Okay</td>\n      <td>4.0</td>\n      <td>2.333333</td>\n    </tr>\n    <tr>\n      <th>16714</th>\n      <td>logo_5_animation_14</td>\n      <td>3</td>\n      <td>[0, 0, 0, 1, 0, 0, -1.0, -1.0, -1.0, -1.0, 0.6...</td>\n      <td>no_rating</td>\n      <td>1.0</td>\n      <td>2.333333</td>\n    </tr>\n    <tr>\n      <th>16715</th>\n      <td>logo_5_animation_15</td>\n      <td>7</td>\n      <td>[0, 1, 0, 0, 0, 0, -1.0, -1.0, 0.9652421415521...</td>\n      <td>Okay</td>\n      <td>4.0</td>\n      <td>4.000000</td>\n    </tr>\n    <tr>\n      <th>16716</th>\n      <td>logo_5_animation_16</td>\n      <td>7</td>\n      <td>[0, 0, 0, 1, 0, 0, -1.0, -1.0, -1.0, -1.0, 0.3...</td>\n      <td>NaN</td>\n      <td>NaN</td>\n      <td>NaN</td>\n    </tr>\n    <tr>\n      <th>16717</th>\n      <td>logo_5_animation_16</td>\n      <td>0</td>\n      <td>[1, 0, 0, 0, 0, 0, 0.4169526266056648, 0.44675...</td>\n      <td>NaN</td>\n      <td>NaN</td>\n      <td>NaN</td>\n    </tr>\n    <tr>\n      <th>16718</th>\n      <td>logo_5_animation_16</td>\n      <td>2</td>\n      <td>[0, 0, 0, 1, 0, 0, -1.0, -1.0, -1.0, -1.0, 0.4...</td>\n      <td>NaN</td>\n      <td>NaN</td>\n      <td>NaN</td>\n    </tr>\n    <tr>\n      <th>16719</th>\n      <td>logo_5_animation_17</td>\n      <td>7</td>\n      <td>[0, 0, 0, 1, 0, 0, -1.0, -1.0, -1.0, -1.0, 0.5...</td>\n      <td>NaN</td>\n      <td>NaN</td>\n      <td>NaN</td>\n    </tr>\n    <tr>\n      <th>16720</th>\n      <td>logo_5_animation_18</td>\n      <td>7</td>\n      <td>[0, 0, 0, 1, 0, 0, -1.0, -1.0, -1.0, -1.0, 0.1...</td>\n      <td>NaN</td>\n      <td>NaN</td>\n      <td>NaN</td>\n    </tr>\n    <tr>\n      <th>16721</th>\n      <td>logo_5_animation_18</td>\n      <td>0</td>\n      <td>[0, 1, 0, 0, 0, 0, -1.0, -1.0, 0.3345597031675...</td>\n      <td>NaN</td>\n      <td>NaN</td>\n      <td>NaN</td>\n    </tr>\n    <tr>\n      <th>16722</th>\n      <td>logo_5_animation_18</td>\n      <td>4</td>\n      <td>[0, 0, 0, 0, 1, 0, -1.0, -1.0, -1.0, -1.0, -1....</td>\n      <td>NaN</td>\n      <td>NaN</td>\n      <td>NaN</td>\n    </tr>\n    <tr>\n      <th>16723</th>\n      <td>logo_5_animation_18</td>\n      <td>6</td>\n      <td>[0, 1, 0, 0, 0, 0, -1.0, -1.0, 0.1979396041625...</td>\n      <td>NaN</td>\n      <td>NaN</td>\n      <td>NaN</td>\n    </tr>\n    <tr>\n      <th>16724</th>\n      <td>logo_5_animation_19</td>\n      <td>0</td>\n      <td>[0, 1, 0, 0, 0, 0, -1.0, -1.0, 0.6771258268002...</td>\n      <td>NaN</td>\n      <td>NaN</td>\n      <td>NaN</td>\n    </tr>\n    <tr>\n      <th>16725</th>\n      <td>logo_5_animation_19</td>\n      <td>2</td>\n      <td>[0, 0, 0, 1, 0, 0, -1.0, -1.0, -1.0, -1.0, 0.7...</td>\n      <td>NaN</td>\n      <td>NaN</td>\n      <td>NaN</td>\n    </tr>\n    <tr>\n      <th>16726</th>\n      <td>logo_5_animation_20</td>\n      <td>7</td>\n      <td>[0, 0, 0, 0, 0, 1, -1.0, -1.0, -1.0, -1.0, -1....</td>\n      <td>NaN</td>\n      <td>NaN</td>\n      <td>NaN</td>\n    </tr>\n    <tr>\n      <th>16727</th>\n      <td>logo_5_animation_20</td>\n      <td>0</td>\n      <td>[0, 0, 0, 0, 1, 0, -1.0, -1.0, -1.0, -1.0, -1....</td>\n      <td>NaN</td>\n      <td>NaN</td>\n      <td>NaN</td>\n    </tr>\n    <tr>\n      <th>16728</th>\n      <td>logo_5_animation_21</td>\n      <td>0</td>\n      <td>[0, 0, 0, 0, 1, 0, -1.0, -1.0, -1.0, -1.0, -1....</td>\n      <td>NaN</td>\n      <td>NaN</td>\n      <td>NaN</td>\n    </tr>\n    <tr>\n      <th>16729</th>\n      <td>logo_5_animation_22</td>\n      <td>7</td>\n      <td>[0, 0, 1, 0, 0, 0, -1.0, -1.0, -1.0, 0.9582093...</td>\n      <td>NaN</td>\n      <td>NaN</td>\n      <td>NaN</td>\n    </tr>\n    <tr>\n      <th>16730</th>\n      <td>logo_5_animation_22</td>\n      <td>0</td>\n      <td>[0, 0, 0, 0, 0, 1, -1.0, -1.0, -1.0, -1.0, -1....</td>\n      <td>NaN</td>\n      <td>NaN</td>\n      <td>NaN</td>\n    </tr>\n    <tr>\n      <th>16731</th>\n      <td>logo_5_animation_23</td>\n      <td>7</td>\n      <td>[0, 0, 0, 0, 0, 1, -1.0, -1.0, -1.0, -1.0, -1....</td>\n      <td>NaN</td>\n      <td>NaN</td>\n      <td>NaN</td>\n    </tr>\n    <tr>\n      <th>16732</th>\n      <td>logo_5_animation_23</td>\n      <td>0</td>\n      <td>[0, 1, 0, 0, 0, 0, -1.0, -1.0, 0.9248652516259...</td>\n      <td>NaN</td>\n      <td>NaN</td>\n      <td>NaN</td>\n    </tr>\n    <tr>\n      <th>16733</th>\n      <td>logo_5_animation_24</td>\n      <td>7</td>\n      <td>[0, 0, 0, 0, 1, 0, -1.0, -1.0, -1.0, -1.0, -1....</td>\n      <td>NaN</td>\n      <td>NaN</td>\n      <td>NaN</td>\n    </tr>\n    <tr>\n      <th>16734</th>\n      <td>logo_5_animation_24</td>\n      <td>0</td>\n      <td>[0, 1, 0, 0, 0, 0, -1.0, -1.0, 0.7123429878269...</td>\n      <td>NaN</td>\n      <td>NaN</td>\n      <td>NaN</td>\n    </tr>\n    <tr>\n      <th>16735</th>\n      <td>logo_5_animation_24</td>\n      <td>6</td>\n      <td>[0, 1, 0, 0, 0, 0, -1.0, -1.0, 0.8397997363118...</td>\n      <td>NaN</td>\n      <td>NaN</td>\n      <td>NaN</td>\n    </tr>\n  </tbody>\n</table>\n</div>"
     },
     "execution_count": 21,
     "metadata": {},
     "output_type": "execute_result"
    }
   ],
   "source": [
    "# example\n",
    "filtered_data[filtered_data[\"file\"].str.contains(\"logo_5_\")]"
   ],
   "metadata": {
    "collapsed": false,
    "ExecuteTime": {
     "end_time": "2024-02-25T15:42:39.665532688Z",
     "start_time": "2024-02-25T15:42:39.176386373Z"
    }
   },
   "id": "62c21c5337932e58",
   "execution_count": 21
  },
  {
   "cell_type": "markdown",
   "source": [
    "### Now pick good Animations only\n",
    "Pick the following animations\n",
    "- Best per logo (include as many different logos as possible)\n",
    "- Add all GOOD animations (additionally add as many animations as possible) TODO: Implement later"
   ],
   "metadata": {
    "collapsed": false
   },
   "id": "69ca51f1073850a"
  },
  {
   "cell_type": "code",
   "outputs": [],
   "source": [
    "filtered_data['include'] = 0"
   ],
   "metadata": {
    "collapsed": false,
    "ExecuteTime": {
     "end_time": "2024-02-25T15:42:39.685881788Z",
     "start_time": "2024-02-25T15:42:39.260298303Z"
    }
   },
   "id": "c5419a3d2a1cee39",
   "execution_count": 22
  },
  {
   "cell_type": "code",
   "outputs": [],
   "source": [
    "# use all animations with an average rating over 3\n",
    "minimum_rating = 3\n",
    "temp = filtered_data['average_rating'] > minimum_rating\n",
    "filtered_data.loc[temp, 'include'] = 1"
   ],
   "metadata": {
    "collapsed": false,
    "ExecuteTime": {
     "end_time": "2024-02-25T15:42:39.688723014Z",
     "start_time": "2024-02-25T15:42:39.304581322Z"
    }
   },
   "id": "de9be0678e5523f9",
   "execution_count": 23
  },
  {
   "cell_type": "code",
   "outputs": [
    {
     "name": "stdout",
     "output_type": "stream",
     "text": [
      "34.44150072643364% of the data is left out\n"
     ]
    }
   ],
   "source": [
    "print(f\"{filtered_data['include'].mean() * 100}% of the data is left out\")"
   ],
   "metadata": {
    "collapsed": false,
    "ExecuteTime": {
     "end_time": "2024-02-25T15:42:39.691965791Z",
     "start_time": "2024-02-25T15:42:39.305000612Z"
    }
   },
   "id": "23571e53d0ce3431",
   "execution_count": 24
  },
  {
   "cell_type": "code",
   "outputs": [],
   "source": [
    "# go through each logo to find the best animation\n",
    "for logo in logos:\n",
    "    # make a data frame that contains all the animations of one logo\n",
    "    temp = filtered_data[filtered_data[\"file\"].str.contains(logo)]\n",
    "\n",
    "    best_logo = temp[temp['average_rating'] == temp['average_rating'].max()]\n",
    "    best_logo = best_logo['file'].unique()\n",
    "    \n",
    "    filtered_data.loc[filtered_data['file'].isin(best_logo), 'include'] = 1\n",
    "    break"
   ],
   "metadata": {
    "collapsed": false,
    "ExecuteTime": {
     "end_time": "2024-02-25T15:42:39.695868974Z",
     "start_time": "2024-02-25T15:42:39.305345833Z"
    }
   },
   "id": "d89768ae8bf1f84a",
   "execution_count": 25
  },
  {
   "cell_type": "code",
   "outputs": [
    {
     "name": "stdout",
     "output_type": "stream",
     "text": [
      "Now 34.44150072643364% of the data is left out\n"
     ]
    }
   ],
   "source": [
    "print(f\"Now {filtered_data['include'].mean() * 100}% of the data is left out\")"
   ],
   "metadata": {
    "collapsed": false,
    "ExecuteTime": {
     "end_time": "2024-02-25T15:42:39.734027190Z",
     "start_time": "2024-02-25T15:42:39.327772634Z"
    }
   },
   "id": "ebb126468661dfd",
   "execution_count": 26
  },
  {
   "cell_type": "markdown",
   "source": [
    "Note: No additional animations are selected"
   ],
   "metadata": {
    "collapsed": false
   },
   "id": "b89401a51abb04eb"
  },
  {
   "cell_type": "code",
   "outputs": [],
   "source": [
    "best_output = filtered_data[filtered_data['include'] == 1].copy()\n",
    "best_output.drop(columns=['include'], inplace=True, axis=1)"
   ],
   "metadata": {
    "collapsed": false,
    "ExecuteTime": {
     "end_time": "2024-02-25T15:42:39.825816173Z",
     "start_time": "2024-02-25T15:42:39.336729052Z"
    }
   },
   "id": "9d8596ed60930653",
   "execution_count": 27
  },
  {
   "cell_type": "code",
   "outputs": [],
   "source": [
    "# extract logo\n",
    "pattern = r'(logo_\\d+)'\n",
    "best_output['filename'] = best_output['file'].str.extract(pattern)"
   ],
   "metadata": {
    "collapsed": false,
    "ExecuteTime": {
     "end_time": "2024-02-25T15:42:39.828273179Z",
     "start_time": "2024-02-25T15:42:39.380406468Z"
    }
   },
   "id": "27b015491ede981",
   "execution_count": 28
  },
  {
   "cell_type": "markdown",
   "source": [
    "### Numeration to keep order later (corresponds to start-time)"
   ],
   "metadata": {
    "collapsed": false
   },
   "id": "7333d519facdacd5"
  },
  {
   "cell_type": "code",
   "outputs": [
    {
     "data": {
      "text/plain": "                   file  animation_id  \\\n0  logo_316_animation_0             4   \n1  logo_316_animation_0            24   \n2  logo_316_animation_0            23   \n3  logo_316_animation_1             4   \n4  logo_316_animation_1            24   \n\n                                        model_output     label  rating  \\\n0  [0, 0, 0, 1, 0, 0, -1.0, -1.0, -1.0, -1.0, 0.8...      Good     5.0   \n1  [0, 0, 0, 0, 0, 1, -1.0, -1.0, -1.0, -1.0, -1....      Good     5.0   \n2  [0, 0, 0, 0, 1, 0, -1.0, -1.0, -1.0, -1.0, -1....      Good     5.0   \n3  [1, 0, 0, 0, 0, 0, 0.13436424411240122, 0.8474...  Very Bad     2.0   \n4  [0, 0, 1, 0, 0, 0, -1.0, -1.0, -1.0, 0.7637746...      Okay     4.0   \n\n   average_rating  filename   a13  \n0        5.000000  logo_316  0.25  \n1        5.000000  logo_316  0.50  \n2        5.000000  logo_316  0.75  \n3        3.333333  logo_316  0.25  \n4        3.333333  logo_316  0.50  ",
      "text/html": "<div>\n<style scoped>\n    .dataframe tbody tr th:only-of-type {\n        vertical-align: middle;\n    }\n\n    .dataframe tbody tr th {\n        vertical-align: top;\n    }\n\n    .dataframe thead th {\n        text-align: right;\n    }\n</style>\n<table border=\"1\" class=\"dataframe\">\n  <thead>\n    <tr style=\"text-align: right;\">\n      <th></th>\n      <th>file</th>\n      <th>animation_id</th>\n      <th>model_output</th>\n      <th>label</th>\n      <th>rating</th>\n      <th>average_rating</th>\n      <th>filename</th>\n      <th>a13</th>\n    </tr>\n  </thead>\n  <tbody>\n    <tr>\n      <th>0</th>\n      <td>logo_316_animation_0</td>\n      <td>4</td>\n      <td>[0, 0, 0, 1, 0, 0, -1.0, -1.0, -1.0, -1.0, 0.8...</td>\n      <td>Good</td>\n      <td>5.0</td>\n      <td>5.000000</td>\n      <td>logo_316</td>\n      <td>0.25</td>\n    </tr>\n    <tr>\n      <th>1</th>\n      <td>logo_316_animation_0</td>\n      <td>24</td>\n      <td>[0, 0, 0, 0, 0, 1, -1.0, -1.0, -1.0, -1.0, -1....</td>\n      <td>Good</td>\n      <td>5.0</td>\n      <td>5.000000</td>\n      <td>logo_316</td>\n      <td>0.50</td>\n    </tr>\n    <tr>\n      <th>2</th>\n      <td>logo_316_animation_0</td>\n      <td>23</td>\n      <td>[0, 0, 0, 0, 1, 0, -1.0, -1.0, -1.0, -1.0, -1....</td>\n      <td>Good</td>\n      <td>5.0</td>\n      <td>5.000000</td>\n      <td>logo_316</td>\n      <td>0.75</td>\n    </tr>\n    <tr>\n      <th>3</th>\n      <td>logo_316_animation_1</td>\n      <td>4</td>\n      <td>[1, 0, 0, 0, 0, 0, 0.13436424411240122, 0.8474...</td>\n      <td>Very Bad</td>\n      <td>2.0</td>\n      <td>3.333333</td>\n      <td>logo_316</td>\n      <td>0.25</td>\n    </tr>\n    <tr>\n      <th>4</th>\n      <td>logo_316_animation_1</td>\n      <td>24</td>\n      <td>[0, 0, 1, 0, 0, 0, -1.0, -1.0, -1.0, 0.7637746...</td>\n      <td>Okay</td>\n      <td>4.0</td>\n      <td>3.333333</td>\n      <td>logo_316</td>\n      <td>0.50</td>\n    </tr>\n  </tbody>\n</table>\n</div>"
     },
     "execution_count": 29,
     "metadata": {},
     "output_type": "execute_result"
    }
   ],
   "source": [
    "# Create a time_offset column filled with zeros\n",
    "best_output['a13'] = 0.0\n",
    "\n",
    "# Define animation start time offset in seconds from animation start\n",
    "TIME_OFFSET_STEP = 0.25\n",
    "\n",
    "# Initialize a dictionary to store numbering for each file\n",
    "file_counts = {}\n",
    "\n",
    "# Iterate through the \"file\" column and number each unique file\n",
    "for index, row in best_output.iterrows():\n",
    "    filename = row['file']\n",
    "    if filename not in file_counts:\n",
    "        file_counts[filename] = 1\n",
    "    else:\n",
    "        file_counts[filename] += 1\n",
    "    best_output.at[index, 'a13'] = file_counts[filename] * TIME_OFFSET_STEP\n",
    "best_output.head()"
   ],
   "metadata": {
    "collapsed": false,
    "ExecuteTime": {
     "end_time": "2024-02-25T15:42:40.598455272Z",
     "start_time": "2024-02-25T15:42:39.380757500Z"
    }
   },
   "id": "8eb50787fb7ba2d1",
   "execution_count": 29
  },
  {
   "cell_type": "markdown",
   "source": [
    "### Stat: Animated paths per logo"
   ],
   "metadata": {
    "collapsed": false
   },
   "id": "6810cac385fb0ab0"
  },
  {
   "cell_type": "code",
   "outputs": [
    {
     "data": {
      "text/plain": "   filename  animation_id\n0  logo_316             5\n1  logo_316             4\n2  logo_316             2\n3  logo_316             1\n4  logo_316            24",
      "text/html": "<div>\n<style scoped>\n    .dataframe tbody tr th:only-of-type {\n        vertical-align: middle;\n    }\n\n    .dataframe tbody tr th {\n        vertical-align: top;\n    }\n\n    .dataframe thead th {\n        text-align: right;\n    }\n</style>\n<table border=\"1\" class=\"dataframe\">\n  <thead>\n    <tr style=\"text-align: right;\">\n      <th></th>\n      <th>filename</th>\n      <th>animation_id</th>\n    </tr>\n  </thead>\n  <tbody>\n    <tr>\n      <th>0</th>\n      <td>logo_316</td>\n      <td>5</td>\n    </tr>\n    <tr>\n      <th>1</th>\n      <td>logo_316</td>\n      <td>4</td>\n    </tr>\n    <tr>\n      <th>2</th>\n      <td>logo_316</td>\n      <td>2</td>\n    </tr>\n    <tr>\n      <th>3</th>\n      <td>logo_316</td>\n      <td>1</td>\n    </tr>\n    <tr>\n      <th>4</th>\n      <td>logo_316</td>\n      <td>24</td>\n    </tr>\n  </tbody>\n</table>\n</div>"
     },
     "execution_count": 30,
     "metadata": {},
     "output_type": "execute_result"
    }
   ],
   "source": [
    "used_paths = best_output[[\"filename\", \"animation_id\"]].drop_duplicates(\n",
    "    subset = ['filename', 'animation_id'], keep = 'last').reset_index(drop = True)\n",
    "used_paths.head()"
   ],
   "metadata": {
    "collapsed": false,
    "ExecuteTime": {
     "end_time": "2024-02-25T15:42:40.631386279Z",
     "start_time": "2024-02-25T15:42:40.592422927Z"
    }
   },
   "id": "37720cb3f400d63a",
   "execution_count": 30
  },
  {
   "cell_type": "code",
   "outputs": [
    {
     "data": {
      "text/plain": "array([[<AxesSubplot:title={'center':'animation_id'}>]], dtype=object)"
     },
     "execution_count": 31,
     "metadata": {},
     "output_type": "execute_result"
    },
    {
     "data": {
      "text/plain": "<Figure size 640x480 with 1 Axes>",
      "image/png": "[encoded data removed]"
     },
     "metadata": {},
     "output_type": "display_data"
    }
   ],
   "source": [
    "used_paths.groupby(['filename']).count().hist()"
   ],
   "metadata": {
    "collapsed": false,
    "ExecuteTime": {
     "end_time": "2024-02-25T15:42:41.084375758Z",
     "start_time": "2024-02-25T15:42:40.612338170Z"
    }
   },
   "id": "6bf2b3d098c776df",
   "execution_count": 31
  },
  {
   "cell_type": "markdown",
   "source": [
    "### Some Statistics again\n"
   ],
   "metadata": {
    "collapsed": false
   },
   "id": "3e427e39220f011c"
  },
  {
   "cell_type": "code",
   "outputs": [
    {
     "name": "stdout",
     "output_type": "stream",
     "text": [
      "3456 Animations left over\n",
      "   Animation Length  Count\n",
      "1                 1   1018\n",
      "0                 2   1117\n",
      "2                 3    833\n",
      "3                 4    283\n",
      "4                 5     95\n",
      "5                 6     71\n",
      "6                 7     36\n",
      "7                 8      3\n"
     ]
    }
   ],
   "source": [
    "grouped = best_output.groupby('file').count()\n",
    "grouped = grouped[['animation_id']]\n",
    "print(f\"{grouped.size} Animations left over\")\n",
    "histogram_table = grouped['animation_id'].value_counts().reset_index()\n",
    "histogram_table.columns = ['Animation Length', 'Count']\n",
    "histogram_table = histogram_table.sort_values(by='Animation Length')\n",
    "print(histogram_table)"
   ],
   "metadata": {
    "collapsed": false,
    "ExecuteTime": {
     "end_time": "2024-02-25T15:42:41.103468198Z",
     "start_time": "2024-02-25T15:42:40.896237174Z"
    }
   },
   "id": "a1993ce2ca35e2fb",
   "execution_count": 32
  },
  {
   "cell_type": "markdown",
   "source": [
    "# Build sequences"
   ],
   "metadata": {
    "collapsed": false
   },
   "id": "c275faf882ee5165"
  },
  {
   "cell_type": "markdown",
   "source": [
    "## Make List of all Data Samples"
   ],
   "metadata": {
    "collapsed": false
   },
   "id": "c58b68a3c311b2f7"
  },
  {
   "cell_type": "markdown",
   "source": [
    "### Apply Stats"
   ],
   "metadata": {
    "collapsed": false
   },
   "id": "11c3906fa42e40c6"
  },
  {
   "cell_type": "code",
   "outputs": [
    {
     "data": {
      "text/plain": "       filename                  file  animation_length  a1  a2  a3  a4  a5  \\\n0      logo_316  logo_316_animation_0                 1   0   0   0   1   0   \n1      logo_316  logo_316_animation_0                 1   0   0   0   0   0   \n2      logo_316  logo_316_animation_0                 1   0   0   0   0   1   \n3      logo_316  logo_316_animation_1                 1   1   0   0   0   0   \n4      logo_316  logo_316_animation_1                 1   0   0   1   0   0   \n...         ...                   ...               ...  ..  ..  ..  ..  ..   \n23372   logo_91   logo_91_animation_8                 1   0   0   0   1   0   \n23378   logo_91  logo_91_animation_12                 1   0   0   0   0   1   \n23379   logo_91  logo_91_animation_12                 1   0   0   0   1   0   \n23380   logo_91  logo_91_animation_13                 1   0   1   0   0   0   \n23381   logo_91  logo_91_animation_13                 1   0   0   0   0   0   \n\n       a6  \n0       0  \n1       1  \n2       0  \n3       0  \n4       0  \n...    ..  \n23372   0  \n23378   0  \n23379   0  \n23380   0  \n23381   1  \n\n[8060 rows x 9 columns]",
      "text/html": "<div>\n<style scoped>\n    .dataframe tbody tr th:only-of-type {\n        vertical-align: middle;\n    }\n\n    .dataframe tbody tr th {\n        vertical-align: top;\n    }\n\n    .dataframe thead th {\n        text-align: right;\n    }\n</style>\n<table border=\"1\" class=\"dataframe\">\n  <thead>\n    <tr style=\"text-align: right;\">\n      <th></th>\n      <th>filename</th>\n      <th>file</th>\n      <th>animation_length</th>\n      <th>a1</th>\n      <th>a2</th>\n      <th>a3</th>\n      <th>a4</th>\n      <th>a5</th>\n      <th>a6</th>\n    </tr>\n  </thead>\n  <tbody>\n    <tr>\n      <th>0</th>\n      <td>logo_316</td>\n      <td>logo_316_animation_0</td>\n      <td>1</td>\n      <td>0</td>\n      <td>0</td>\n      <td>0</td>\n      <td>1</td>\n      <td>0</td>\n      <td>0</td>\n    </tr>\n    <tr>\n      <th>1</th>\n      <td>logo_316</td>\n      <td>logo_316_animation_0</td>\n      <td>1</td>\n      <td>0</td>\n      <td>0</td>\n      <td>0</td>\n      <td>0</td>\n      <td>0</td>\n      <td>1</td>\n    </tr>\n    <tr>\n      <th>2</th>\n      <td>logo_316</td>\n      <td>logo_316_animation_0</td>\n      <td>1</td>\n      <td>0</td>\n      <td>0</td>\n      <td>0</td>\n      <td>0</td>\n      <td>1</td>\n      <td>0</td>\n    </tr>\n    <tr>\n      <th>3</th>\n      <td>logo_316</td>\n      <td>logo_316_animation_1</td>\n      <td>1</td>\n      <td>1</td>\n      <td>0</td>\n      <td>0</td>\n      <td>0</td>\n      <td>0</td>\n      <td>0</td>\n    </tr>\n    <tr>\n      <th>4</th>\n      <td>logo_316</td>\n      <td>logo_316_animation_1</td>\n      <td>1</td>\n      <td>0</td>\n      <td>0</td>\n      <td>1</td>\n      <td>0</td>\n      <td>0</td>\n      <td>0</td>\n    </tr>\n    <tr>\n      <th>...</th>\n      <td>...</td>\n      <td>...</td>\n      <td>...</td>\n      <td>...</td>\n      <td>...</td>\n      <td>...</td>\n      <td>...</td>\n      <td>...</td>\n      <td>...</td>\n    </tr>\n    <tr>\n      <th>23372</th>\n      <td>logo_91</td>\n      <td>logo_91_animation_8</td>\n      <td>1</td>\n      <td>0</td>\n      <td>0</td>\n      <td>0</td>\n      <td>1</td>\n      <td>0</td>\n      <td>0</td>\n    </tr>\n    <tr>\n      <th>23378</th>\n      <td>logo_91</td>\n      <td>logo_91_animation_12</td>\n      <td>1</td>\n      <td>0</td>\n      <td>0</td>\n      <td>0</td>\n      <td>0</td>\n      <td>1</td>\n      <td>0</td>\n    </tr>\n    <tr>\n      <th>23379</th>\n      <td>logo_91</td>\n      <td>logo_91_animation_12</td>\n      <td>1</td>\n      <td>0</td>\n      <td>0</td>\n      <td>0</td>\n      <td>1</td>\n      <td>0</td>\n      <td>0</td>\n    </tr>\n    <tr>\n      <th>23380</th>\n      <td>logo_91</td>\n      <td>logo_91_animation_13</td>\n      <td>1</td>\n      <td>0</td>\n      <td>1</td>\n      <td>0</td>\n      <td>0</td>\n      <td>0</td>\n      <td>0</td>\n    </tr>\n    <tr>\n      <th>23381</th>\n      <td>logo_91</td>\n      <td>logo_91_animation_13</td>\n      <td>1</td>\n      <td>0</td>\n      <td>0</td>\n      <td>0</td>\n      <td>0</td>\n      <td>0</td>\n      <td>1</td>\n    </tr>\n  </tbody>\n</table>\n<p>8060 rows × 9 columns</p>\n</div>"
     },
     "execution_count": 33,
     "metadata": {},
     "output_type": "execute_result"
    }
   ],
   "source": [
    "final_animation_stats = best_output[['filename', 'file', 'model_output']].copy()\n",
    "final_animation_stats['animation_length'] = 1\n",
    "for i in range(6):\n",
    " final_animation_stats[f'a{i+1}'] = final_animation_stats['model_output'].apply(lambda x: x[i])\n",
    "final_animation_stats.drop(['model_output'], inplace=True, axis=1)\n",
    "final_animation_stats"
   ],
   "metadata": {
    "collapsed": false,
    "ExecuteTime": {
     "end_time": "2024-02-25T15:42:41.126590940Z",
     "start_time": "2024-02-25T15:42:40.929780146Z"
    }
   },
   "id": "eabb9ffd4acd8635",
   "execution_count": 33
  },
  {
   "cell_type": "markdown",
   "source": [
    "### Group by logo & animation"
   ],
   "metadata": {
    "collapsed": false
   },
   "id": "203bd84128d57a27"
  },
  {
   "cell_type": "code",
   "outputs": [
    {
     "data": {
      "text/plain": "     filename                 file  animation_length  a1  a2  a3  a4  a5  a6  \\\n0      logo_0   logo_0_animation_0                 5   0   0   1   1   2   1   \n1      logo_0  logo_0_animation_13                 5   0   1   1   0   2   1   \n2      logo_0  logo_0_animation_14                 4   1   1   0   1   1   0   \n3      logo_0  logo_0_animation_15                 2   0   2   0   0   0   0   \n4      logo_0   logo_0_animation_4                 6   1   1   0   1   2   1   \n...       ...                  ...               ...  ..  ..  ..  ..  ..  ..   \n3451  logo_99  logo_99_animation_4                 3   0   1   0   1   1   0   \n3452  logo_99  logo_99_animation_5                 3   0   0   0   1   0   2   \n3453  logo_99  logo_99_animation_6                 3   1   1   0   1   0   0   \n3454  logo_99  logo_99_animation_7                 3   0   0   0   1   2   0   \n3455  logo_99  logo_99_animation_8                 3   1   0   0   1   0   1   \n\n      a0  \n0      1  \n1      1  \n2      1  \n3      1  \n4      1  \n...   ..  \n3451   1  \n3452   1  \n3453   1  \n3454   1  \n3455   1  \n\n[3456 rows x 10 columns]",
      "text/html": "<div>\n<style scoped>\n    .dataframe tbody tr th:only-of-type {\n        vertical-align: middle;\n    }\n\n    .dataframe tbody tr th {\n        vertical-align: top;\n    }\n\n    .dataframe thead th {\n        text-align: right;\n    }\n</style>\n<table border=\"1\" class=\"dataframe\">\n  <thead>\n    <tr style=\"text-align: right;\">\n      <th></th>\n      <th>filename</th>\n      <th>file</th>\n      <th>animation_length</th>\n      <th>a1</th>\n      <th>a2</th>\n      <th>a3</th>\n      <th>a4</th>\n      <th>a5</th>\n      <th>a6</th>\n      <th>a0</th>\n    </tr>\n  </thead>\n  <tbody>\n    <tr>\n      <th>0</th>\n      <td>logo_0</td>\n      <td>logo_0_animation_0</td>\n      <td>5</td>\n      <td>0</td>\n      <td>0</td>\n      <td>1</td>\n      <td>1</td>\n      <td>2</td>\n      <td>1</td>\n      <td>1</td>\n    </tr>\n    <tr>\n      <th>1</th>\n      <td>logo_0</td>\n      <td>logo_0_animation_13</td>\n      <td>5</td>\n      <td>0</td>\n      <td>1</td>\n      <td>1</td>\n      <td>0</td>\n      <td>2</td>\n      <td>1</td>\n      <td>1</td>\n    </tr>\n    <tr>\n      <th>2</th>\n      <td>logo_0</td>\n      <td>logo_0_animation_14</td>\n      <td>4</td>\n      <td>1</td>\n      <td>1</td>\n      <td>0</td>\n      <td>1</td>\n      <td>1</td>\n      <td>0</td>\n      <td>1</td>\n    </tr>\n    <tr>\n      <th>3</th>\n      <td>logo_0</td>\n      <td>logo_0_animation_15</td>\n      <td>2</td>\n      <td>0</td>\n      <td>2</td>\n      <td>0</td>\n      <td>0</td>\n      <td>0</td>\n      <td>0</td>\n      <td>1</td>\n    </tr>\n    <tr>\n      <th>4</th>\n      <td>logo_0</td>\n      <td>logo_0_animation_4</td>\n      <td>6</td>\n      <td>1</td>\n      <td>1</td>\n      <td>0</td>\n      <td>1</td>\n      <td>2</td>\n      <td>1</td>\n      <td>1</td>\n    </tr>\n    <tr>\n      <th>...</th>\n      <td>...</td>\n      <td>...</td>\n      <td>...</td>\n      <td>...</td>\n      <td>...</td>\n      <td>...</td>\n      <td>...</td>\n      <td>...</td>\n      <td>...</td>\n      <td>...</td>\n    </tr>\n    <tr>\n      <th>3451</th>\n      <td>logo_99</td>\n      <td>logo_99_animation_4</td>\n      <td>3</td>\n      <td>0</td>\n      <td>1</td>\n      <td>0</td>\n      <td>1</td>\n      <td>1</td>\n      <td>0</td>\n      <td>1</td>\n    </tr>\n    <tr>\n      <th>3452</th>\n      <td>logo_99</td>\n      <td>logo_99_animation_5</td>\n      <td>3</td>\n      <td>0</td>\n      <td>0</td>\n      <td>0</td>\n      <td>1</td>\n      <td>0</td>\n      <td>2</td>\n      <td>1</td>\n    </tr>\n    <tr>\n      <th>3453</th>\n      <td>logo_99</td>\n      <td>logo_99_animation_6</td>\n      <td>3</td>\n      <td>1</td>\n      <td>1</td>\n      <td>0</td>\n      <td>1</td>\n      <td>0</td>\n      <td>0</td>\n      <td>1</td>\n    </tr>\n    <tr>\n      <th>3454</th>\n      <td>logo_99</td>\n      <td>logo_99_animation_7</td>\n      <td>3</td>\n      <td>0</td>\n      <td>0</td>\n      <td>0</td>\n      <td>1</td>\n      <td>2</td>\n      <td>0</td>\n      <td>1</td>\n    </tr>\n    <tr>\n      <th>3455</th>\n      <td>logo_99</td>\n      <td>logo_99_animation_8</td>\n      <td>3</td>\n      <td>1</td>\n      <td>0</td>\n      <td>0</td>\n      <td>1</td>\n      <td>0</td>\n      <td>1</td>\n      <td>1</td>\n    </tr>\n  </tbody>\n</table>\n<p>3456 rows × 10 columns</p>\n</div>"
     },
     "execution_count": 34,
     "metadata": {},
     "output_type": "execute_result"
    }
   ],
   "source": [
    "final_animations_index = final_animation_stats.groupby(['filename', 'file']).sum()\n",
    "final_animations_index['a0'] = 1 # EOS one per animation sequence\n",
    "final_animations_index = final_animations_index.reset_index()\n",
    "final_animations_index"
   ],
   "metadata": {
    "collapsed": false,
    "ExecuteTime": {
     "end_time": "2024-02-25T15:42:41.335352586Z",
     "start_time": "2024-02-25T15:42:41.000341902Z"
    }
   },
   "id": "a027e3d0598f18f0",
   "execution_count": 34
  },
  {
   "cell_type": "markdown",
   "source": [
    "### Balance and Oversampling"
   ],
   "metadata": {
    "collapsed": false
   },
   "id": "4d86190a37fc7924"
  },
  {
   "cell_type": "code",
   "outputs": [
    {
     "name": "stdout",
     "output_type": "stream",
     "text": [
      "Balanced with oversampling 0% to 40%\n",
      "a1     877\n",
      "a2    1001\n",
      "a3     633\n",
      "a4    1244\n",
      "a5    1551\n",
      "a6    1163\n",
      "dtype: int64\n"
     ]
    }
   ],
   "source": [
    "final_animations_index['repeat'] = 1\n",
    "\n",
    "def print_balancing_stats(df: pd.DataFrame, silent=False):\n",
    "    temp = df.copy()\n",
    "    temp = temp[~temp['filename'].isin(logos_test)] # train data only\n",
    "    temp = temp.reset_index().drop(['filename', 'file','animation_length'], axis=1)\n",
    "    for i in range(0, 7):\n",
    "        temp[f'a{i}'] = temp[f'a{i}'] * temp['repeat']\n",
    "    balance = temp[['a1', 'a2', 'a3', 'a4', 'a5', 'a6']].sum()\n",
    "    balance_percentage = min(balance) / max(balance)\n",
    "    balance_diff = max(balance) - min(balance)\n",
    "    if silent:\n",
    "        return balance_diff, balance_percentage, balance.nsmallest(6).index\n",
    "    print(f\"Balanced with oversampling {int(temp['repeat'].sum() / len(temp) * 100)-100}% to {int(balance_percentage * 100)}%\")\n",
    "    print(balance)\n",
    "    \n",
    "print_balancing_stats(final_animations_index)"
   ],
   "metadata": {
    "collapsed": false,
    "ExecuteTime": {
     "end_time": "2024-02-25T15:42:41.374386470Z",
     "start_time": "2024-02-25T15:42:41.047538357Z"
    }
   },
   "id": "532e96d4b7ac0450",
   "execution_count": 35
  },
  {
   "cell_type": "code",
   "outputs": [
    {
     "data": {
      "text/plain": "(918,\n 0.4081237911025145,\n Index(['a3', 'a1', 'a2', 'a6', 'a4', 'a5'], dtype='object'))"
     },
     "execution_count": 36,
     "metadata": {},
     "output_type": "execute_result"
    }
   ],
   "source": [
    "print_balancing_stats(final_animations_index, silent=True)"
   ],
   "metadata": {
    "collapsed": false,
    "ExecuteTime": {
     "end_time": "2024-02-25T15:42:41.395265454Z",
     "start_time": "2024-02-25T15:42:41.076402346Z"
    }
   },
   "id": "e6535846bfac6305",
   "execution_count": 36
  },
  {
   "cell_type": "markdown",
   "source": [
    "Currently, EOS (a0) occurs much more often then the other animation types.\n",
    "\n",
    "Let's oversample all sequences > 1"
   ],
   "metadata": {
    "collapsed": false
   },
   "id": "fb06dfaff1c49384"
  },
  {
   "cell_type": "code",
   "outputs": [
    {
     "data": {
      "text/plain": "    filename                 file  animation_length  a1  a2  a3  a4  a5  a6  \\\n860   logo_2   logo_2_animation_0                 3   0   0   0   1   1   1   \n861   logo_2   logo_2_animation_1                 1   0   0   0   0   1   0   \n862   logo_2  logo_2_animation_14                 4   1   1   0   1   1   0   \n863   logo_2  logo_2_animation_15                 2   0   2   0   0   0   0   \n864   logo_2   logo_2_animation_3                 2   0   0   0   0   1   1   \n865   logo_2   logo_2_animation_4                 4   1   0   1   1   1   0   \n866   logo_2   logo_2_animation_8                 3   0   0   0   2   0   1   \n867   logo_2   logo_2_animation_9                 2   0   1   1   0   0   0   \n\n     a0  repeat  \n860   1       1  \n861   1       1  \n862   1       1  \n863   1       1  \n864   1       1  \n865   1       1  \n866   1       1  \n867   1       1  ",
      "text/html": "<div>\n<style scoped>\n    .dataframe tbody tr th:only-of-type {\n        vertical-align: middle;\n    }\n\n    .dataframe tbody tr th {\n        vertical-align: top;\n    }\n\n    .dataframe thead th {\n        text-align: right;\n    }\n</style>\n<table border=\"1\" class=\"dataframe\">\n  <thead>\n    <tr style=\"text-align: right;\">\n      <th></th>\n      <th>filename</th>\n      <th>file</th>\n      <th>animation_length</th>\n      <th>a1</th>\n      <th>a2</th>\n      <th>a3</th>\n      <th>a4</th>\n      <th>a5</th>\n      <th>a6</th>\n      <th>a0</th>\n      <th>repeat</th>\n    </tr>\n  </thead>\n  <tbody>\n    <tr>\n      <th>860</th>\n      <td>logo_2</td>\n      <td>logo_2_animation_0</td>\n      <td>3</td>\n      <td>0</td>\n      <td>0</td>\n      <td>0</td>\n      <td>1</td>\n      <td>1</td>\n      <td>1</td>\n      <td>1</td>\n      <td>1</td>\n    </tr>\n    <tr>\n      <th>861</th>\n      <td>logo_2</td>\n      <td>logo_2_animation_1</td>\n      <td>1</td>\n      <td>0</td>\n      <td>0</td>\n      <td>0</td>\n      <td>0</td>\n      <td>1</td>\n      <td>0</td>\n      <td>1</td>\n      <td>1</td>\n    </tr>\n    <tr>\n      <th>862</th>\n      <td>logo_2</td>\n      <td>logo_2_animation_14</td>\n      <td>4</td>\n      <td>1</td>\n      <td>1</td>\n      <td>0</td>\n      <td>1</td>\n      <td>1</td>\n      <td>0</td>\n      <td>1</td>\n      <td>1</td>\n    </tr>\n    <tr>\n      <th>863</th>\n      <td>logo_2</td>\n      <td>logo_2_animation_15</td>\n      <td>2</td>\n      <td>0</td>\n      <td>2</td>\n      <td>0</td>\n      <td>0</td>\n      <td>0</td>\n      <td>0</td>\n      <td>1</td>\n      <td>1</td>\n    </tr>\n    <tr>\n      <th>864</th>\n      <td>logo_2</td>\n      <td>logo_2_animation_3</td>\n      <td>2</td>\n      <td>0</td>\n      <td>0</td>\n      <td>0</td>\n      <td>0</td>\n      <td>1</td>\n      <td>1</td>\n      <td>1</td>\n      <td>1</td>\n    </tr>\n    <tr>\n      <th>865</th>\n      <td>logo_2</td>\n      <td>logo_2_animation_4</td>\n      <td>4</td>\n      <td>1</td>\n      <td>0</td>\n      <td>1</td>\n      <td>1</td>\n      <td>1</td>\n      <td>0</td>\n      <td>1</td>\n      <td>1</td>\n    </tr>\n    <tr>\n      <th>866</th>\n      <td>logo_2</td>\n      <td>logo_2_animation_8</td>\n      <td>3</td>\n      <td>0</td>\n      <td>0</td>\n      <td>0</td>\n      <td>2</td>\n      <td>0</td>\n      <td>1</td>\n      <td>1</td>\n      <td>1</td>\n    </tr>\n    <tr>\n      <th>867</th>\n      <td>logo_2</td>\n      <td>logo_2_animation_9</td>\n      <td>2</td>\n      <td>0</td>\n      <td>1</td>\n      <td>1</td>\n      <td>0</td>\n      <td>0</td>\n      <td>0</td>\n      <td>1</td>\n      <td>1</td>\n    </tr>\n  </tbody>\n</table>\n</div>"
     },
     "execution_count": 37,
     "metadata": {},
     "output_type": "execute_result"
    }
   ],
   "source": [
    "final_animations_index[final_animations_index['filename'] == 'logo_2']"
   ],
   "metadata": {
    "collapsed": false,
    "ExecuteTime": {
     "end_time": "2024-02-25T15:42:41.463902398Z",
     "start_time": "2024-02-25T15:42:41.100130387Z"
    }
   },
   "id": "2c967c051f36b82d",
   "execution_count": 37
  },
  {
   "cell_type": "markdown",
   "source": [
    "Through oversampling, this can be optimized..."
   ],
   "metadata": {
    "collapsed": false
   },
   "id": "874c5cf743ee78df"
  },
  {
   "cell_type": "code",
   "outputs": [
    {
     "name": "stdout",
     "output_type": "stream",
     "text": [
      "Final oversampling: 16 difference, 77 in filtering\n",
      "Final oversampling: 16 difference, 77 in filtering\n",
      "Final oversampling: 16 difference, 76 in filtering\n",
      "Final oversampling: 15 difference, 75 in filtering\n",
      "Final oversampling: 14 difference, 160 in filtering\n",
      "Final oversampling: 12 difference, 86 in filtering\n",
      "Final oversampling: 11 difference, 76 in filtering\n",
      "Final oversampling: 11 difference, 75 in filtering\n",
      "Final oversampling: 11 difference, 136 in filtering\n",
      "Final oversampling: 11 difference, 136 in filtering\n",
      "Final oversampling: 10 difference, 75 in filtering\n",
      "Final oversampling: 10 difference, 74 in filtering\n",
      "Final oversampling: 12 difference, 160 in filtering\n",
      "Final oversampling: 11 difference, 159 in filtering\n",
      "Final oversampling: 11 difference, 74 in filtering\n",
      "Final oversampling: 10 difference, 136 in filtering\n",
      "Final oversampling: 9 difference, 132 in filtering\n",
      "Final oversampling: 8 difference, 74 in filtering\n",
      "Final oversampling: 9 difference, 187 in filtering\n",
      "Final oversampling: 9 difference, 83 in filtering\n",
      "Final oversampling: 8 difference, 83 in filtering\n",
      "Final oversampling: 7 difference, 73 in filtering\n",
      "Final oversampling: 6 difference, 82 in filtering\n",
      "Final oversampling: 6 difference, 158 in filtering\n",
      "Final oversampling: 5 difference, 85 in filtering\n",
      "Final oversampling: 6 difference, 186 in filtering\n",
      "Final oversampling: 6 difference, 158 in filtering\n",
      "Final oversampling: 5 difference, 132 in filtering\n",
      "Final oversampling: 4 difference, 73 in filtering\n",
      "Final oversampling: 5 difference, 158 in filtering\n",
      "Final oversampling: 6 difference, 74 in filtering\n",
      "Final oversampling: 5 difference, 136 in filtering\n",
      "Final oversampling: 5 difference, 136 in filtering\n",
      "Final oversampling: 4 difference, 158 in filtering\n",
      "Final oversampling: 3 difference, 85 in filtering\n",
      "Final oversampling: 4 difference, 431 in filtering\n",
      "Final oversampling: 4 difference, 85 in filtering\n",
      "Final oversampling: 4 difference, 85 in filtering\n",
      "Final oversampling: 4 difference, 246 in filtering\n",
      "Final oversampling: 2 difference, 85 in filtering\n",
      "Final oversampling: 2 difference, 85 in filtering\n",
      "Final oversampling: 2 difference, 246 in filtering\n",
      "Final oversampling: 2 difference, 347 in filtering\n",
      "Final oversampling: 1 difference, 170 in filtering\n",
      "Break after 398 Iterations\n",
      "Balanced with oversampling 52% to 99%\n",
      "a1    1775\n",
      "a2    1774\n",
      "a3    1774\n",
      "a4    1775\n",
      "a5    1774\n",
      "a6    1774\n",
      "dtype: int64\n"
     ]
    }
   ],
   "source": [
    "# Very fancy sampling\n",
    "def get_filter_mask(df, rare_animations, second_rarest=False, second_most_frequent=False, max_repetition=8):\n",
    "    if second_rarest and second_most_frequent:\n",
    "        return df.loc[(df[rare_animations[0]] > 0) & \n",
    "                      (df[rare_animations[1]] > 0) &\n",
    "                      (df[rare_animations[4]] == 0) &\n",
    "                      (df[rare_animations[5]] == 0) &\n",
    "                      (df['repeat'] < df['animation_length'] + 2) &\n",
    "                      (df['repeat'] < max_repetition)]\n",
    "    if second_rarest and not second_most_frequent:\n",
    "        return df.loc[(df[rare_animations[0]] > 0) & \n",
    "                      #(df[rare_animations[1]] > 0) &\n",
    "                      (df[rare_animations[4]] == 0) &\n",
    "                      (df[rare_animations[5]] == 0) &\n",
    "                      (df['repeat'] < df['animation_length'] + 2) &\n",
    "                      (df['repeat'] < max_repetition)]\n",
    "    if not second_rarest and second_most_frequent:\n",
    "        return df.loc[(df[rare_animations[0]] > 0) & \n",
    "                      (df[rare_animations[1]] > 0) &\n",
    "                      #(df[rare_animations[4]] == 0) &\n",
    "                      (df[rare_animations[5]] == 0) &\n",
    "                      (df['repeat'] < df['animation_length'] + 2) &\n",
    "                      (df['repeat'] < max_repetition)]\n",
    "    return df.loc[(df[rare_animations[0]] > 0) & \n",
    "                  #(df[rare_animations[1]] > 0) &\n",
    "                  #(df[rare_animations[4]] == 0) &\n",
    "                  (df[rare_animations[5]] == 0) &\n",
    "                  (df['repeat'] < df['animation_length'] + 2) &\n",
    "                  (df['repeat'] < max_repetition)]\n",
    "\n",
    "final_animations_index['repeat'] = 1\n",
    "sample_size = 5\n",
    "\n",
    "for i in range(1000):\n",
    "    balance_diff, balance, rare_animations = print_balancing_stats(final_animations_index, silent=True)\n",
    "    if balance_diff < 20:\n",
    "        sample_size = 1\n",
    "        filtering = get_filter_mask(final_animations_index, rare_animations, second_most_frequent=True, max_repetition=8)\n",
    "\n",
    "    else:\n",
    "        filtering = get_filter_mask(final_animations_index, rare_animations, second_rarest=True, second_most_frequent=True, max_repetition=6)\n",
    "        if len(filtering == 0):\n",
    "            filtering = get_filter_mask(final_animations_index, rare_animations, second_most_frequent=True, max_repetition=7)\n",
    "            if len(filtering == 0):\n",
    "                filtering = get_filter_mask(final_animations_index, rare_animations, max_repetition=8)\n",
    "            \n",
    "    if balance_diff < 20:\n",
    "        print(f\"Final oversampling: {balance_diff} difference, {len(filtering)} in filtering\")\n",
    "    if balance_diff < 2:\n",
    "        print(f\"Break after {i} Iterations\")\n",
    "        break\n",
    "\n",
    "    random_indices = filtering.sample(n=min(sample_size, len(filtering))).index.tolist()\n",
    "    final_animations_index.loc[random_indices, 'repeat'] += 1\n",
    "    \n",
    "print_balancing_stats(final_animations_index)"
   ],
   "metadata": {
    "collapsed": false,
    "ExecuteTime": {
     "end_time": "2024-02-25T15:42:47.642892636Z",
     "start_time": "2024-02-25T15:42:41.144941684Z"
    }
   },
   "id": "6ba3337e8c4dc314",
   "execution_count": 38
  },
  {
   "cell_type": "code",
   "outputs": [
    {
     "data": {
      "text/plain": "<AxesSubplot:>"
     },
     "execution_count": 39,
     "metadata": {},
     "output_type": "execute_result"
    },
    {
     "data": {
      "text/plain": "<Figure size 640x480 with 1 Axes>",
      "image/png": "[encoded data removed]"
     },
     "metadata": {},
     "output_type": "display_data"
    }
   ],
   "source": [
    "final_animations_index['repeat'].hist(bins=20)"
   ],
   "metadata": {
    "collapsed": false,
    "ExecuteTime": {
     "end_time": "2024-02-25T15:42:47.849709935Z",
     "start_time": "2024-02-25T15:42:47.665885959Z"
    }
   },
   "id": "a11ad629e9e360a3",
   "execution_count": 39
  },
  {
   "cell_type": "code",
   "outputs": [
    {
     "data": {
      "text/plain": "<Figure size 640x480 with 1 Axes>",
      "image/png": "[encoded data removed]"
     },
     "metadata": {},
     "output_type": "display_data"
    }
   ],
   "source": [
    "import pandas as pd\n",
    "import matplotlib.pyplot as plt\n",
    "\n",
    "# Extract the two columns for the scatter plot\n",
    "x = final_animations_index['repeat']\n",
    "y = final_animations_index['animation_length']\n",
    "\n",
    "# Create a scatter plot\n",
    "plt.scatter(x, y)\n",
    "\n",
    "# Add labels and a title\n",
    "plt.xlabel('Oversampling')\n",
    "plt.ylabel('Animation Length')\n",
    "plt.title('Scatter Plot')\n",
    "\n",
    "# Show the plot\n",
    "plt.show()"
   ],
   "metadata": {
    "collapsed": false,
    "ExecuteTime": {
     "end_time": "2024-02-25T15:42:48.064780656Z",
     "start_time": "2024-02-25T15:42:47.836443236Z"
    }
   },
   "id": "932e13e2198bf25d",
   "execution_count": 40
  },
  {
   "cell_type": "code",
   "outputs": [
    {
     "data": {
      "text/plain": "    filename                 file  animation_length  a1  a2  a3  a4  a5  a6  \\\n860   logo_2   logo_2_animation_0                 3   0   0   0   1   1   1   \n861   logo_2   logo_2_animation_1                 1   0   0   0   0   1   0   \n862   logo_2  logo_2_animation_14                 4   1   1   0   1   1   0   \n863   logo_2  logo_2_animation_15                 2   0   2   0   0   0   0   \n864   logo_2   logo_2_animation_3                 2   0   0   0   0   1   1   \n865   logo_2   logo_2_animation_4                 4   1   0   1   1   1   0   \n866   logo_2   logo_2_animation_8                 3   0   0   0   2   0   1   \n867   logo_2   logo_2_animation_9                 2   0   1   1   0   0   0   \n\n     a0  repeat  \n860   1       1  \n861   1       1  \n862   1       1  \n863   1       1  \n864   1       1  \n865   1       1  \n866   1       1  \n867   1       4  ",
      "text/html": "<div>\n<style scoped>\n    .dataframe tbody tr th:only-of-type {\n        vertical-align: middle;\n    }\n\n    .dataframe tbody tr th {\n        vertical-align: top;\n    }\n\n    .dataframe thead th {\n        text-align: right;\n    }\n</style>\n<table border=\"1\" class=\"dataframe\">\n  <thead>\n    <tr style=\"text-align: right;\">\n      <th></th>\n      <th>filename</th>\n      <th>file</th>\n      <th>animation_length</th>\n      <th>a1</th>\n      <th>a2</th>\n      <th>a3</th>\n      <th>a4</th>\n      <th>a5</th>\n      <th>a6</th>\n      <th>a0</th>\n      <th>repeat</th>\n    </tr>\n  </thead>\n  <tbody>\n    <tr>\n      <th>860</th>\n      <td>logo_2</td>\n      <td>logo_2_animation_0</td>\n      <td>3</td>\n      <td>0</td>\n      <td>0</td>\n      <td>0</td>\n      <td>1</td>\n      <td>1</td>\n      <td>1</td>\n      <td>1</td>\n      <td>1</td>\n    </tr>\n    <tr>\n      <th>861</th>\n      <td>logo_2</td>\n      <td>logo_2_animation_1</td>\n      <td>1</td>\n      <td>0</td>\n      <td>0</td>\n      <td>0</td>\n      <td>0</td>\n      <td>1</td>\n      <td>0</td>\n      <td>1</td>\n      <td>1</td>\n    </tr>\n    <tr>\n      <th>862</th>\n      <td>logo_2</td>\n      <td>logo_2_animation_14</td>\n      <td>4</td>\n      <td>1</td>\n      <td>1</td>\n      <td>0</td>\n      <td>1</td>\n      <td>1</td>\n      <td>0</td>\n      <td>1</td>\n      <td>1</td>\n    </tr>\n    <tr>\n      <th>863</th>\n      <td>logo_2</td>\n      <td>logo_2_animation_15</td>\n      <td>2</td>\n      <td>0</td>\n      <td>2</td>\n      <td>0</td>\n      <td>0</td>\n      <td>0</td>\n      <td>0</td>\n      <td>1</td>\n      <td>1</td>\n    </tr>\n    <tr>\n      <th>864</th>\n      <td>logo_2</td>\n      <td>logo_2_animation_3</td>\n      <td>2</td>\n      <td>0</td>\n      <td>0</td>\n      <td>0</td>\n      <td>0</td>\n      <td>1</td>\n      <td>1</td>\n      <td>1</td>\n      <td>1</td>\n    </tr>\n    <tr>\n      <th>865</th>\n      <td>logo_2</td>\n      <td>logo_2_animation_4</td>\n      <td>4</td>\n      <td>1</td>\n      <td>0</td>\n      <td>1</td>\n      <td>1</td>\n      <td>1</td>\n      <td>0</td>\n      <td>1</td>\n      <td>1</td>\n    </tr>\n    <tr>\n      <th>866</th>\n      <td>logo_2</td>\n      <td>logo_2_animation_8</td>\n      <td>3</td>\n      <td>0</td>\n      <td>0</td>\n      <td>0</td>\n      <td>2</td>\n      <td>0</td>\n      <td>1</td>\n      <td>1</td>\n      <td>1</td>\n    </tr>\n    <tr>\n      <th>867</th>\n      <td>logo_2</td>\n      <td>logo_2_animation_9</td>\n      <td>2</td>\n      <td>0</td>\n      <td>1</td>\n      <td>1</td>\n      <td>0</td>\n      <td>0</td>\n      <td>0</td>\n      <td>1</td>\n      <td>4</td>\n    </tr>\n  </tbody>\n</table>\n</div>"
     },
     "execution_count": 41,
     "metadata": {},
     "output_type": "execute_result"
    }
   ],
   "source": [
    "final_animations_index[final_animations_index['filename'] == 'logo_2']"
   ],
   "metadata": {
    "collapsed": false,
    "ExecuteTime": {
     "end_time": "2024-02-25T15:42:48.079552840Z",
     "start_time": "2024-02-25T15:42:48.073364914Z"
    }
   },
   "id": "80fb86807486fe13",
   "execution_count": 41
  },
  {
   "cell_type": "markdown",
   "source": [
    "### Merge logo stats"
   ],
   "metadata": {
    "collapsed": false
   },
   "id": "ea35408aba08cfb2"
  },
  {
   "cell_type": "code",
   "outputs": [
    {
     "data": {
      "text/plain": "   filename  count count_category\n0    logo_0     10     Quantile 1\n1    logo_1      8     Quantile 0\n2   logo_10     10     Quantile 1\n3  logo_100     22     Quantile 9\n4  logo_101     27    Quantile 14",
      "text/html": "<div>\n<style scoped>\n    .dataframe tbody tr th:only-of-type {\n        vertical-align: middle;\n    }\n\n    .dataframe tbody tr th {\n        vertical-align: top;\n    }\n\n    .dataframe thead th {\n        text-align: right;\n    }\n</style>\n<table border=\"1\" class=\"dataframe\">\n  <thead>\n    <tr style=\"text-align: right;\">\n      <th></th>\n      <th>filename</th>\n      <th>count</th>\n      <th>count_category</th>\n    </tr>\n  </thead>\n  <tbody>\n    <tr>\n      <th>0</th>\n      <td>logo_0</td>\n      <td>10</td>\n      <td>Quantile 1</td>\n    </tr>\n    <tr>\n      <th>1</th>\n      <td>logo_1</td>\n      <td>8</td>\n      <td>Quantile 0</td>\n    </tr>\n    <tr>\n      <th>2</th>\n      <td>logo_10</td>\n      <td>10</td>\n      <td>Quantile 1</td>\n    </tr>\n    <tr>\n      <th>3</th>\n      <td>logo_100</td>\n      <td>22</td>\n      <td>Quantile 9</td>\n    </tr>\n    <tr>\n      <th>4</th>\n      <td>logo_101</td>\n      <td>27</td>\n      <td>Quantile 14</td>\n    </tr>\n  </tbody>\n</table>\n</div>"
     },
     "execution_count": 42,
     "metadata": {},
     "output_type": "execute_result"
    }
   ],
   "source": [
    "logos.head()"
   ],
   "metadata": {
    "collapsed": false,
    "ExecuteTime": {
     "end_time": "2024-02-25T15:42:48.170517361Z",
     "start_time": "2024-02-25T15:42:48.078846046Z"
    }
   },
   "id": "fd3b3aef02014751",
   "execution_count": 42
  },
  {
   "cell_type": "code",
   "outputs": [
    {
     "data": {
      "text/plain": "     filename                 file  animation_length  a1  a2  a3  a4  a5  a6  \\\n0      logo_0   logo_0_animation_0                 5   0   0   1   1   2   1   \n1      logo_0  logo_0_animation_13                 5   0   1   1   0   2   1   \n2      logo_0  logo_0_animation_14                 4   1   1   0   1   1   0   \n3      logo_0  logo_0_animation_15                 2   0   2   0   0   0   0   \n4      logo_0   logo_0_animation_4                 6   1   1   0   1   2   1   \n...       ...                  ...               ...  ..  ..  ..  ..  ..  ..   \n3451  logo_99  logo_99_animation_4                 3   0   1   0   1   1   0   \n3452  logo_99  logo_99_animation_5                 3   0   0   0   1   0   2   \n3453  logo_99  logo_99_animation_6                 3   1   1   0   1   0   0   \n3454  logo_99  logo_99_animation_7                 3   0   0   0   1   2   0   \n3455  logo_99  logo_99_animation_8                 3   1   0   0   1   0   1   \n\n      a0  repeat  num_paths  \n0      1       1         10  \n1      1       1         10  \n2      1       1         10  \n3      1       1         10  \n4      1       1         10  \n...   ..     ...        ...  \n3451   1       1         24  \n3452   1       1         24  \n3453   1       3         24  \n3454   1       1         24  \n3455   1       3         24  \n\n[3456 rows x 12 columns]",
      "text/html": "<div>\n<style scoped>\n    .dataframe tbody tr th:only-of-type {\n        vertical-align: middle;\n    }\n\n    .dataframe tbody tr th {\n        vertical-align: top;\n    }\n\n    .dataframe thead th {\n        text-align: right;\n    }\n</style>\n<table border=\"1\" class=\"dataframe\">\n  <thead>\n    <tr style=\"text-align: right;\">\n      <th></th>\n      <th>filename</th>\n      <th>file</th>\n      <th>animation_length</th>\n      <th>a1</th>\n      <th>a2</th>\n      <th>a3</th>\n      <th>a4</th>\n      <th>a5</th>\n      <th>a6</th>\n      <th>a0</th>\n      <th>repeat</th>\n      <th>num_paths</th>\n    </tr>\n  </thead>\n  <tbody>\n    <tr>\n      <th>0</th>\n      <td>logo_0</td>\n      <td>logo_0_animation_0</td>\n      <td>5</td>\n      <td>0</td>\n      <td>0</td>\n      <td>1</td>\n      <td>1</td>\n      <td>2</td>\n      <td>1</td>\n      <td>1</td>\n      <td>1</td>\n      <td>10</td>\n    </tr>\n    <tr>\n      <th>1</th>\n      <td>logo_0</td>\n      <td>logo_0_animation_13</td>\n      <td>5</td>\n      <td>0</td>\n      <td>1</td>\n      <td>1</td>\n      <td>0</td>\n      <td>2</td>\n      <td>1</td>\n      <td>1</td>\n      <td>1</td>\n      <td>10</td>\n    </tr>\n    <tr>\n      <th>2</th>\n      <td>logo_0</td>\n      <td>logo_0_animation_14</td>\n      <td>4</td>\n      <td>1</td>\n      <td>1</td>\n      <td>0</td>\n      <td>1</td>\n      <td>1</td>\n      <td>0</td>\n      <td>1</td>\n      <td>1</td>\n      <td>10</td>\n    </tr>\n    <tr>\n      <th>3</th>\n      <td>logo_0</td>\n      <td>logo_0_animation_15</td>\n      <td>2</td>\n      <td>0</td>\n      <td>2</td>\n      <td>0</td>\n      <td>0</td>\n      <td>0</td>\n      <td>0</td>\n      <td>1</td>\n      <td>1</td>\n      <td>10</td>\n    </tr>\n    <tr>\n      <th>4</th>\n      <td>logo_0</td>\n      <td>logo_0_animation_4</td>\n      <td>6</td>\n      <td>1</td>\n      <td>1</td>\n      <td>0</td>\n      <td>1</td>\n      <td>2</td>\n      <td>1</td>\n      <td>1</td>\n      <td>1</td>\n      <td>10</td>\n    </tr>\n    <tr>\n      <th>...</th>\n      <td>...</td>\n      <td>...</td>\n      <td>...</td>\n      <td>...</td>\n      <td>...</td>\n      <td>...</td>\n      <td>...</td>\n      <td>...</td>\n      <td>...</td>\n      <td>...</td>\n      <td>...</td>\n      <td>...</td>\n    </tr>\n    <tr>\n      <th>3451</th>\n      <td>logo_99</td>\n      <td>logo_99_animation_4</td>\n      <td>3</td>\n      <td>0</td>\n      <td>1</td>\n      <td>0</td>\n      <td>1</td>\n      <td>1</td>\n      <td>0</td>\n      <td>1</td>\n      <td>1</td>\n      <td>24</td>\n    </tr>\n    <tr>\n      <th>3452</th>\n      <td>logo_99</td>\n      <td>logo_99_animation_5</td>\n      <td>3</td>\n      <td>0</td>\n      <td>0</td>\n      <td>0</td>\n      <td>1</td>\n      <td>0</td>\n      <td>2</td>\n      <td>1</td>\n      <td>1</td>\n      <td>24</td>\n    </tr>\n    <tr>\n      <th>3453</th>\n      <td>logo_99</td>\n      <td>logo_99_animation_6</td>\n      <td>3</td>\n      <td>1</td>\n      <td>1</td>\n      <td>0</td>\n      <td>1</td>\n      <td>0</td>\n      <td>0</td>\n      <td>1</td>\n      <td>3</td>\n      <td>24</td>\n    </tr>\n    <tr>\n      <th>3454</th>\n      <td>logo_99</td>\n      <td>logo_99_animation_7</td>\n      <td>3</td>\n      <td>0</td>\n      <td>0</td>\n      <td>0</td>\n      <td>1</td>\n      <td>2</td>\n      <td>0</td>\n      <td>1</td>\n      <td>1</td>\n      <td>24</td>\n    </tr>\n    <tr>\n      <th>3455</th>\n      <td>logo_99</td>\n      <td>logo_99_animation_8</td>\n      <td>3</td>\n      <td>1</td>\n      <td>0</td>\n      <td>0</td>\n      <td>1</td>\n      <td>0</td>\n      <td>1</td>\n      <td>1</td>\n      <td>3</td>\n      <td>24</td>\n    </tr>\n  </tbody>\n</table>\n<p>3456 rows × 12 columns</p>\n</div>"
     },
     "execution_count": 43,
     "metadata": {},
     "output_type": "execute_result"
    }
   ],
   "source": [
    "final_animations_index = final_animations_index.merge(logos[[\"filename\",\"count\"]], on='filename', how='left')\n",
    "final_animations_index.rename(columns={'count': 'num_paths'}, inplace=True)\n",
    "final_animations_index"
   ],
   "metadata": {
    "collapsed": false,
    "ExecuteTime": {
     "end_time": "2024-02-25T15:42:48.205967526Z",
     "start_time": "2024-02-25T15:42:48.100418557Z"
    }
   },
   "id": "69e7def819790306",
   "execution_count": 43
  },
  {
   "cell_type": "markdown",
   "source": [
    "### Plot: Number of Paths vs Animation Length"
   ],
   "metadata": {
    "collapsed": false
   },
   "id": "92d23e3b8d8e26"
  },
  {
   "cell_type": "code",
   "outputs": [
    {
     "data": {
      "text/plain": "<Figure size 640x480 with 1 Axes>",
      "image/png": "[encoded data removed]"
     },
     "metadata": {},
     "output_type": "display_data"
    }
   ],
   "source": [
    "import pandas as pd\n",
    "import matplotlib.pyplot as plt\n",
    "\n",
    "# Extract the two columns for the scatter plot\n",
    "x = final_animations_index['num_paths']\n",
    "y = final_animations_index['animation_length']\n",
    "\n",
    "# Create a scatter plot\n",
    "plt.scatter(x, y)\n",
    "\n",
    "# Add labels and a title\n",
    "plt.xlabel('Number of Paths')\n",
    "plt.ylabel('Animation Length')\n",
    "plt.title('Scatter Plot')\n",
    "\n",
    "# Show the plot\n",
    "plt.show()"
   ],
   "metadata": {
    "collapsed": false,
    "ExecuteTime": {
     "end_time": "2024-02-25T15:42:48.536240535Z",
     "start_time": "2024-02-25T15:42:48.149581255Z"
    }
   },
   "id": "c1ca6d701bd07713",
   "execution_count": 44
  },
  {
   "cell_type": "markdown",
   "source": [
    "## Bucketing\n",
    "For batching the data later on, build buckets to group animations with similar length characteristics"
   ],
   "metadata": {
    "collapsed": false
   },
   "id": "78f3f68a4d6a18a0"
  },
  {
   "cell_type": "code",
   "outputs": [],
   "source": [
    "# from dataset_helper import generate_buckets_2D\n",
    "# generate_buckets_2D(final_animations_index,\n",
    "#                  'count',\n",
    "#                  'animation_length',\n",
    "#                  [0.2, 0.4, 0.6, 0.8, 1],\n",
    "#                  [0.1, 0.2, 0.3, 0.4, 0.5, 0.6, 0.7, 0.8, 0.9, 1])"
   ],
   "metadata": {
    "collapsed": false,
    "ExecuteTime": {
     "end_time": "2024-02-25T15:42:48.540303276Z",
     "start_time": "2024-02-25T15:42:48.355232520Z"
    }
   },
   "id": "75fcf5fb0173ddc8",
   "execution_count": 45
  },
  {
   "cell_type": "markdown",
   "source": [
    "## Build Input Sequences Dictionary"
   ],
   "metadata": {
    "collapsed": false
   },
   "id": "a17d5e8dfdf0ccad"
  },
  {
   "cell_type": "code",
   "outputs": [],
   "source": [
    "def build_input_sequences_dict(sequences: pd.DataFrame, used_paths: pd.DataFrame, is_used_path_filtering = False, keep_unused=False):\n",
    "    initial_length = len(sequences)\n",
    "    used_paths['animation_id'] = used_paths['animation_id'].astype(str)\n",
    "    \n",
    "    if is_used_path_filtering:\n",
    "        if keep_unused:\n",
    "            # If keeping unused paths, perform a left merge and then filter where used paths are NaN\n",
    "            sequences = pd.merge(sequences, used_paths, on=['filename', 'animation_id'], how='left', indicator=True)\n",
    "            sequences = sequences[sequences['_merge'] == 'left_only'].drop(columns=['_merge']).copy()\n",
    "            print(f\"Filtering of input sequences to keep only unused paths. Reduction from {initial_length} to {len(sequences)} paths.\")\n",
    "        else:\n",
    "            # If not keeping unused paths, perform an inner merge to keep only used paths\n",
    "            sequences = pd.merge(sequences, used_paths, on=['filename', 'animation_id']).copy()\n",
    "            print(f\"Filtering of input sequences on only used paths. Reduction from {initial_length} to {len(sequences)} paths.\")\n",
    "\n",
    "    dict = {}\n",
    "    for logo in sequences[\"filename\"].unique():\n",
    "        dict[logo] = sequences[sequences[\"filename\"]==logo]\n",
    "    \n",
    "    return dict"
   ],
   "metadata": {
    "collapsed": false,
    "ExecuteTime": {
     "end_time": "2024-02-25T15:42:48.684964635Z",
     "start_time": "2024-02-25T15:42:48.363335041Z"
    }
   },
   "id": "780998277f9d4711",
   "execution_count": 46
  },
  {
   "cell_type": "code",
   "outputs": [
    {
     "name": "stdout",
     "output_type": "stream",
     "text": [
      "Filtering of input sequences on only used paths. Reduction from 10809 to 1368 paths.\n"
     ]
    },
    {
     "data": {
      "text/plain": "     filename animation_id         0         1         2         3         4  \\\n1203  logo_58            0  0.004191  0.171633 -0.018381  0.748444 -1.044739   \n1204  logo_58            6  0.293771 -1.439355  1.039430 -0.695287 -0.298533   \n1205  logo_58            4  0.284717 -0.542166  1.165785 -0.165110 -0.862798   \n1207  logo_58            9  0.715510 -1.223370  1.123417  1.002407  0.163753   \n\n             5         6         7  ...       246       247       248  \\\n1203  0.953102  0.540252 -0.270049  ... -0.098905 -2.787906 -1.285430   \n1204 -0.400185 -1.761774 -0.891614  ... -3.054226 -3.460104  0.292588   \n1205 -0.240304 -1.127283 -0.600646  ... -1.999305 -3.452564 -0.160504   \n1207  1.648535 -0.112014 -0.639295  ...  0.802521 -0.508118 -0.696729   \n\n           249       250       251       252       253       254       255  \n1203  1.339247  0.996667 -1.182158 -1.182036  0.043877  1.519992  0.518400  \n1204  0.068690  0.486753 -1.571588 -1.116157  0.483256 -0.600954  0.783962  \n1205  0.304545  0.521432 -1.635403 -1.385547 -0.008391  0.349376  1.075091  \n1207  1.346594  0.019541 -0.485907 -0.585498 -0.670413  0.892107 -0.760658  \n\n[4 rows x 258 columns]",
      "text/html": "<div>\n<style scoped>\n    .dataframe tbody tr th:only-of-type {\n        vertical-align: middle;\n    }\n\n    .dataframe tbody tr th {\n        vertical-align: top;\n    }\n\n    .dataframe thead th {\n        text-align: right;\n    }\n</style>\n<table border=\"1\" class=\"dataframe\">\n  <thead>\n    <tr style=\"text-align: right;\">\n      <th></th>\n      <th>filename</th>\n      <th>animation_id</th>\n      <th>0</th>\n      <th>1</th>\n      <th>2</th>\n      <th>3</th>\n      <th>4</th>\n      <th>5</th>\n      <th>6</th>\n      <th>7</th>\n      <th>...</th>\n      <th>246</th>\n      <th>247</th>\n      <th>248</th>\n      <th>249</th>\n      <th>250</th>\n      <th>251</th>\n      <th>252</th>\n      <th>253</th>\n      <th>254</th>\n      <th>255</th>\n    </tr>\n  </thead>\n  <tbody>\n    <tr>\n      <th>1203</th>\n      <td>logo_58</td>\n      <td>0</td>\n      <td>0.004191</td>\n      <td>0.171633</td>\n      <td>-0.018381</td>\n      <td>0.748444</td>\n      <td>-1.044739</td>\n      <td>0.953102</td>\n      <td>0.540252</td>\n      <td>-0.270049</td>\n      <td>...</td>\n      <td>-0.098905</td>\n      <td>-2.787906</td>\n      <td>-1.285430</td>\n      <td>1.339247</td>\n      <td>0.996667</td>\n      <td>-1.182158</td>\n      <td>-1.182036</td>\n      <td>0.043877</td>\n      <td>1.519992</td>\n      <td>0.518400</td>\n    </tr>\n    <tr>\n      <th>1204</th>\n      <td>logo_58</td>\n      <td>6</td>\n      <td>0.293771</td>\n      <td>-1.439355</td>\n      <td>1.039430</td>\n      <td>-0.695287</td>\n      <td>-0.298533</td>\n      <td>-0.400185</td>\n      <td>-1.761774</td>\n      <td>-0.891614</td>\n      <td>...</td>\n      <td>-3.054226</td>\n      <td>-3.460104</td>\n      <td>0.292588</td>\n      <td>0.068690</td>\n      <td>0.486753</td>\n      <td>-1.571588</td>\n      <td>-1.116157</td>\n      <td>0.483256</td>\n      <td>-0.600954</td>\n      <td>0.783962</td>\n    </tr>\n    <tr>\n      <th>1205</th>\n      <td>logo_58</td>\n      <td>4</td>\n      <td>0.284717</td>\n      <td>-0.542166</td>\n      <td>1.165785</td>\n      <td>-0.165110</td>\n      <td>-0.862798</td>\n      <td>-0.240304</td>\n      <td>-1.127283</td>\n      <td>-0.600646</td>\n      <td>...</td>\n      <td>-1.999305</td>\n      <td>-3.452564</td>\n      <td>-0.160504</td>\n      <td>0.304545</td>\n      <td>0.521432</td>\n      <td>-1.635403</td>\n      <td>-1.385547</td>\n      <td>-0.008391</td>\n      <td>0.349376</td>\n      <td>1.075091</td>\n    </tr>\n    <tr>\n      <th>1207</th>\n      <td>logo_58</td>\n      <td>9</td>\n      <td>0.715510</td>\n      <td>-1.223370</td>\n      <td>1.123417</td>\n      <td>1.002407</td>\n      <td>0.163753</td>\n      <td>1.648535</td>\n      <td>-0.112014</td>\n      <td>-0.639295</td>\n      <td>...</td>\n      <td>0.802521</td>\n      <td>-0.508118</td>\n      <td>-0.696729</td>\n      <td>1.346594</td>\n      <td>0.019541</td>\n      <td>-0.485907</td>\n      <td>-0.585498</td>\n      <td>-0.670413</td>\n      <td>0.892107</td>\n      <td>-0.760658</td>\n    </tr>\n  </tbody>\n</table>\n<p>4 rows × 258 columns</p>\n</div>"
     },
     "execution_count": 47,
     "metadata": {},
     "output_type": "execute_result"
    }
   ],
   "source": [
    "input_sequences_dict_used = build_input_sequences_dict(input_sequences, used_paths, is_used_path_filtering=True)\n",
    "input_sequences_dict_used[logos_train[0]]"
   ],
   "metadata": {
    "collapsed": false,
    "ExecuteTime": {
     "end_time": "2024-02-25T15:42:48.907724098Z",
     "start_time": "2024-02-25T15:42:48.381008119Z"
    }
   },
   "id": "943e35dc5224463f",
   "execution_count": 47
  },
  {
   "cell_type": "code",
   "outputs": [
    {
     "name": "stdout",
     "output_type": "stream",
     "text": [
      "Filtering of input sequences to keep only unused paths. Reduction from 10809 to 9441 paths.\n"
     ]
    },
    {
     "data": {
      "text/plain": "     filename animation_id         0         1         2         3         4  \\\n9584  logo_58            2  0.284849 -1.443481  0.894656  0.288777 -0.119204   \n9585  logo_58            1  0.260487 -1.116527  0.785492  0.563341 -0.210848   \n9588  logo_58            3  0.413931 -1.237834  0.630103  0.121826 -0.473777   \n9591  logo_58            5  0.520413 -2.291315  0.954445 -0.354854  0.457764   \n9592  logo_58            7  0.274295 -2.314953  0.837563 -0.132603  0.673548   \n9593  logo_58            8  0.024264 -1.966241  1.267918 -0.530434  0.357375   \n\n             5         6         7  ...       246       247       248  \\\n9584  0.597970 -1.347018 -0.562408  ... -1.509393 -3.375059 -0.417338   \n9585  0.852614 -0.864086 -0.417955  ... -0.799908 -2.934812 -0.615855   \n9588  0.910343 -1.188808 -0.649567  ... -1.292685 -3.524250 -0.731151   \n9591  0.122510 -2.555781 -0.980532  ... -3.028167 -3.422288  0.270729   \n9592 -0.018834 -1.767771 -1.240576  ... -2.335364 -2.583277  0.259264   \n9593 -1.048408 -2.659886 -0.793704  ... -3.687108 -2.785984  0.456188   \n\n           249       250       251       252       253       254       255  \n9584  2.140346  1.284125 -1.140110 -1.019368 -0.478531  0.627703  0.787182  \n9585  2.294054  1.309447 -0.943090 -0.945063 -0.582304  1.024145  0.667737  \n9588  1.370453  1.139083 -1.346588 -1.435273  0.146662  0.247259  0.509319  \n9591  1.153242  1.133680 -1.124239 -1.019923  0.369897 -0.859145  0.708799  \n9592  0.280770  0.304752 -1.219665 -0.217151  0.777639 -1.568387  0.225487  \n9593 -0.294962  0.475424 -1.198858 -0.767279  0.671654 -0.935195  1.098485  \n\n[6 rows x 258 columns]",
      "text/html": "<div>\n<style scoped>\n    .dataframe tbody tr th:only-of-type {\n        vertical-align: middle;\n    }\n\n    .dataframe tbody tr th {\n        vertical-align: top;\n    }\n\n    .dataframe thead th {\n        text-align: right;\n    }\n</style>\n<table border=\"1\" class=\"dataframe\">\n  <thead>\n    <tr style=\"text-align: right;\">\n      <th></th>\n      <th>filename</th>\n      <th>animation_id</th>\n      <th>0</th>\n      <th>1</th>\n      <th>2</th>\n      <th>3</th>\n      <th>4</th>\n      <th>5</th>\n      <th>6</th>\n      <th>7</th>\n      <th>...</th>\n      <th>246</th>\n      <th>247</th>\n      <th>248</th>\n      <th>249</th>\n      <th>250</th>\n      <th>251</th>\n      <th>252</th>\n      <th>253</th>\n      <th>254</th>\n      <th>255</th>\n    </tr>\n  </thead>\n  <tbody>\n    <tr>\n      <th>9584</th>\n      <td>logo_58</td>\n      <td>2</td>\n      <td>0.284849</td>\n      <td>-1.443481</td>\n      <td>0.894656</td>\n      <td>0.288777</td>\n      <td>-0.119204</td>\n      <td>0.597970</td>\n      <td>-1.347018</td>\n      <td>-0.562408</td>\n      <td>...</td>\n      <td>-1.509393</td>\n      <td>-3.375059</td>\n      <td>-0.417338</td>\n      <td>2.140346</td>\n      <td>1.284125</td>\n      <td>-1.140110</td>\n      <td>-1.019368</td>\n      <td>-0.478531</td>\n      <td>0.627703</td>\n      <td>0.787182</td>\n    </tr>\n    <tr>\n      <th>9585</th>\n      <td>logo_58</td>\n      <td>1</td>\n      <td>0.260487</td>\n      <td>-1.116527</td>\n      <td>0.785492</td>\n      <td>0.563341</td>\n      <td>-0.210848</td>\n      <td>0.852614</td>\n      <td>-0.864086</td>\n      <td>-0.417955</td>\n      <td>...</td>\n      <td>-0.799908</td>\n      <td>-2.934812</td>\n      <td>-0.615855</td>\n      <td>2.294054</td>\n      <td>1.309447</td>\n      <td>-0.943090</td>\n      <td>-0.945063</td>\n      <td>-0.582304</td>\n      <td>1.024145</td>\n      <td>0.667737</td>\n    </tr>\n    <tr>\n      <th>9588</th>\n      <td>logo_58</td>\n      <td>3</td>\n      <td>0.413931</td>\n      <td>-1.237834</td>\n      <td>0.630103</td>\n      <td>0.121826</td>\n      <td>-0.473777</td>\n      <td>0.910343</td>\n      <td>-1.188808</td>\n      <td>-0.649567</td>\n      <td>...</td>\n      <td>-1.292685</td>\n      <td>-3.524250</td>\n      <td>-0.731151</td>\n      <td>1.370453</td>\n      <td>1.139083</td>\n      <td>-1.346588</td>\n      <td>-1.435273</td>\n      <td>0.146662</td>\n      <td>0.247259</td>\n      <td>0.509319</td>\n    </tr>\n    <tr>\n      <th>9591</th>\n      <td>logo_58</td>\n      <td>5</td>\n      <td>0.520413</td>\n      <td>-2.291315</td>\n      <td>0.954445</td>\n      <td>-0.354854</td>\n      <td>0.457764</td>\n      <td>0.122510</td>\n      <td>-2.555781</td>\n      <td>-0.980532</td>\n      <td>...</td>\n      <td>-3.028167</td>\n      <td>-3.422288</td>\n      <td>0.270729</td>\n      <td>1.153242</td>\n      <td>1.133680</td>\n      <td>-1.124239</td>\n      <td>-1.019923</td>\n      <td>0.369897</td>\n      <td>-0.859145</td>\n      <td>0.708799</td>\n    </tr>\n    <tr>\n      <th>9592</th>\n      <td>logo_58</td>\n      <td>7</td>\n      <td>0.274295</td>\n      <td>-2.314953</td>\n      <td>0.837563</td>\n      <td>-0.132603</td>\n      <td>0.673548</td>\n      <td>-0.018834</td>\n      <td>-1.767771</td>\n      <td>-1.240576</td>\n      <td>...</td>\n      <td>-2.335364</td>\n      <td>-2.583277</td>\n      <td>0.259264</td>\n      <td>0.280770</td>\n      <td>0.304752</td>\n      <td>-1.219665</td>\n      <td>-0.217151</td>\n      <td>0.777639</td>\n      <td>-1.568387</td>\n      <td>0.225487</td>\n    </tr>\n    <tr>\n      <th>9593</th>\n      <td>logo_58</td>\n      <td>8</td>\n      <td>0.024264</td>\n      <td>-1.966241</td>\n      <td>1.267918</td>\n      <td>-0.530434</td>\n      <td>0.357375</td>\n      <td>-1.048408</td>\n      <td>-2.659886</td>\n      <td>-0.793704</td>\n      <td>...</td>\n      <td>-3.687108</td>\n      <td>-2.785984</td>\n      <td>0.456188</td>\n      <td>-0.294962</td>\n      <td>0.475424</td>\n      <td>-1.198858</td>\n      <td>-0.767279</td>\n      <td>0.671654</td>\n      <td>-0.935195</td>\n      <td>1.098485</td>\n    </tr>\n  </tbody>\n</table>\n<p>6 rows × 258 columns</p>\n</div>"
     },
     "execution_count": 48,
     "metadata": {},
     "output_type": "execute_result"
    }
   ],
   "source": [
    "input_sequences_dict_unused = build_input_sequences_dict(input_sequences, used_paths, is_used_path_filtering=True, keep_unused=True)\n",
    "input_sequences_dict_unused[logos_train[0]]"
   ],
   "metadata": {
    "collapsed": false,
    "ExecuteTime": {
     "end_time": "2024-02-25T15:42:49.588231313Z",
     "start_time": "2024-02-25T15:42:48.772122199Z"
    }
   },
   "id": "1b8b833b29bbb9f7",
   "execution_count": 48
  },
  {
   "cell_type": "markdown",
   "source": [
    "## Build Output Sequence (Embedded Paths with Animation Vector)"
   ],
   "metadata": {
    "collapsed": false
   },
   "id": "d5c4d172ac435313"
  },
  {
   "cell_type": "code",
   "outputs": [],
   "source": [
    "# Merge Dataframes\n",
    "output_sequence = pd.merge(best_output, embeddings, on=['filename', 'animation_id'], how='inner')\n",
    "animation_vectors = pd.DataFrame(output_sequence[\"model_output\"].to_list(), columns=[\"a1\",\"a2\",\"a3\",\"a4\",\"a5\",\"a6\",\"a7\",\"a8\",\"a9\",\"a10\",\"a11\",\"a12\"])\n",
    "output_sequence.drop(['animation_id', 'model_output', 'label', 'rating', 'average_rating'], inplace=True, axis=1)\n",
    "output_sequence['a0'] = 0 # EOS Feature in One-hot Encoding\n",
    "output_sequence = pd.merge(output_sequence, animation_vectors, left_index=True, right_index=True)"
   ],
   "metadata": {
    "collapsed": false,
    "ExecuteTime": {
     "end_time": "2024-02-25T15:42:49.783857618Z",
     "start_time": "2024-02-25T15:42:49.591157575Z"
    }
   },
   "id": "d18f41c9c48fadaa",
   "execution_count": 49
  },
  {
   "cell_type": "code",
   "outputs": [],
   "source": [
    "# Move column 'a13' to the back\n",
    "column_to_move = 'a13'\n",
    "new_order = [col for col in output_sequence.columns if col != column_to_move]\n",
    "new_order.append(column_to_move)\n",
    "output_sequence = output_sequence[new_order]"
   ],
   "metadata": {
    "collapsed": false,
    "ExecuteTime": {
     "end_time": "2024-02-25T15:42:49.786744365Z",
     "start_time": "2024-02-25T15:42:49.689137710Z"
    }
   },
   "id": "f784f4c91bdacac9",
   "execution_count": 50
  },
  {
   "cell_type": "code",
   "outputs": [
    {
     "data": {
      "text/plain": "                   file  filename         0         1         2         3  \\\n0  logo_316_animation_0  logo_316 -0.611078  0.325208 -0.712887  3.094918   \n1  logo_316_animation_1  logo_316 -0.611078  0.325208 -0.712887  3.094918   \n2  logo_316_animation_4  logo_316 -0.611078  0.325208 -0.712887  3.094918   \n3  logo_316_animation_7  logo_316 -0.611078  0.325208 -0.712887  3.094918   \n4  logo_316_animation_8  logo_316 -0.611078  0.325208 -0.712887  3.094918   \n\n          4         5         6         7  ...  a4  a5  a6        a7  \\\n0 -0.679966  1.275185  0.480179 -0.602657  ...   1   0   0 -1.000000   \n1 -0.679966  1.275185  0.480179 -0.602657  ...   0   0   0  0.134364   \n2 -0.679966  1.275185  0.480179 -0.602657  ...   0   1   0 -1.000000   \n3 -0.679966  1.275185  0.480179 -0.602657  ...   0   0   0 -1.000000   \n4 -0.679966  1.275185  0.480179 -0.602657  ...   1   0   0 -1.000000   \n\n         a8   a9       a10       a11       a12   a13  \n0 -1.000000 -1.0 -1.000000  0.844422  0.757954  0.25  \n1  0.847434 -1.0 -1.000000 -1.000000 -1.000000  0.25  \n2 -1.000000 -1.0 -1.000000 -1.000000 -1.000000  0.50  \n3 -1.000000 -1.0  0.323833 -1.000000 -1.000000  0.25  \n4 -1.000000 -1.0 -1.000000  0.226706  0.962295  0.50  \n\n[5 rows x 272 columns]",
      "text/html": "<div>\n<style scoped>\n    .dataframe tbody tr th:only-of-type {\n        vertical-align: middle;\n    }\n\n    .dataframe tbody tr th {\n        vertical-align: top;\n    }\n\n    .dataframe thead th {\n        text-align: right;\n    }\n</style>\n<table border=\"1\" class=\"dataframe\">\n  <thead>\n    <tr style=\"text-align: right;\">\n      <th></th>\n      <th>file</th>\n      <th>filename</th>\n      <th>0</th>\n      <th>1</th>\n      <th>2</th>\n      <th>3</th>\n      <th>4</th>\n      <th>5</th>\n      <th>6</th>\n      <th>7</th>\n      <th>...</th>\n      <th>a4</th>\n      <th>a5</th>\n      <th>a6</th>\n      <th>a7</th>\n      <th>a8</th>\n      <th>a9</th>\n      <th>a10</th>\n      <th>a11</th>\n      <th>a12</th>\n      <th>a13</th>\n    </tr>\n  </thead>\n  <tbody>\n    <tr>\n      <th>0</th>\n      <td>logo_316_animation_0</td>\n      <td>logo_316</td>\n      <td>-0.611078</td>\n      <td>0.325208</td>\n      <td>-0.712887</td>\n      <td>3.094918</td>\n      <td>-0.679966</td>\n      <td>1.275185</td>\n      <td>0.480179</td>\n      <td>-0.602657</td>\n      <td>...</td>\n      <td>1</td>\n      <td>0</td>\n      <td>0</td>\n      <td>-1.000000</td>\n      <td>-1.000000</td>\n      <td>-1.0</td>\n      <td>-1.000000</td>\n      <td>0.844422</td>\n      <td>0.757954</td>\n      <td>0.25</td>\n    </tr>\n    <tr>\n      <th>1</th>\n      <td>logo_316_animation_1</td>\n      <td>logo_316</td>\n      <td>-0.611078</td>\n      <td>0.325208</td>\n      <td>-0.712887</td>\n      <td>3.094918</td>\n      <td>-0.679966</td>\n      <td>1.275185</td>\n      <td>0.480179</td>\n      <td>-0.602657</td>\n      <td>...</td>\n      <td>0</td>\n      <td>0</td>\n      <td>0</td>\n      <td>0.134364</td>\n      <td>0.847434</td>\n      <td>-1.0</td>\n      <td>-1.000000</td>\n      <td>-1.000000</td>\n      <td>-1.000000</td>\n      <td>0.25</td>\n    </tr>\n    <tr>\n      <th>2</th>\n      <td>logo_316_animation_4</td>\n      <td>logo_316</td>\n      <td>-0.611078</td>\n      <td>0.325208</td>\n      <td>-0.712887</td>\n      <td>3.094918</td>\n      <td>-0.679966</td>\n      <td>1.275185</td>\n      <td>0.480179</td>\n      <td>-0.602657</td>\n      <td>...</td>\n      <td>0</td>\n      <td>1</td>\n      <td>0</td>\n      <td>-1.000000</td>\n      <td>-1.000000</td>\n      <td>-1.0</td>\n      <td>-1.000000</td>\n      <td>-1.000000</td>\n      <td>-1.000000</td>\n      <td>0.50</td>\n    </tr>\n    <tr>\n      <th>3</th>\n      <td>logo_316_animation_7</td>\n      <td>logo_316</td>\n      <td>-0.611078</td>\n      <td>0.325208</td>\n      <td>-0.712887</td>\n      <td>3.094918</td>\n      <td>-0.679966</td>\n      <td>1.275185</td>\n      <td>0.480179</td>\n      <td>-0.602657</td>\n      <td>...</td>\n      <td>0</td>\n      <td>0</td>\n      <td>0</td>\n      <td>-1.000000</td>\n      <td>-1.000000</td>\n      <td>-1.0</td>\n      <td>0.323833</td>\n      <td>-1.000000</td>\n      <td>-1.000000</td>\n      <td>0.25</td>\n    </tr>\n    <tr>\n      <th>4</th>\n      <td>logo_316_animation_8</td>\n      <td>logo_316</td>\n      <td>-0.611078</td>\n      <td>0.325208</td>\n      <td>-0.712887</td>\n      <td>3.094918</td>\n      <td>-0.679966</td>\n      <td>1.275185</td>\n      <td>0.480179</td>\n      <td>-0.602657</td>\n      <td>...</td>\n      <td>1</td>\n      <td>0</td>\n      <td>0</td>\n      <td>-1.000000</td>\n      <td>-1.000000</td>\n      <td>-1.0</td>\n      <td>-1.000000</td>\n      <td>0.226706</td>\n      <td>0.962295</td>\n      <td>0.50</td>\n    </tr>\n  </tbody>\n</table>\n<p>5 rows × 272 columns</p>\n</div>"
     },
     "execution_count": 51,
     "metadata": {},
     "output_type": "execute_result"
    }
   ],
   "source": [
    "output_sequence.head()"
   ],
   "metadata": {
    "collapsed": false,
    "ExecuteTime": {
     "end_time": "2024-02-25T15:42:49.926882566Z",
     "start_time": "2024-02-25T15:42:49.703343479Z"
    }
   },
   "id": "537e9ae98abafa69",
   "execution_count": 51
  },
  {
   "cell_type": "markdown",
   "source": [
    "## Main Iteration over all samples"
   ],
   "metadata": {
    "collapsed": false
   },
   "id": "64ab015708e37e45"
  },
  {
   "cell_type": "code",
   "outputs": [
    {
     "ename": "TypeError",
     "evalue": "'type' object is not subscriptable",
     "output_type": "error",
     "traceback": [
      "\u001B[0;31m---------------------------------------------------------------------------\u001B[0m",
      "\u001B[0;31mTypeError\u001B[0m                                 Traceback (most recent call last)",
      "\u001B[0;32m<ipython-input-52-e13312731bd0>\u001B[0m in \u001B[0;36m<module>\u001B[0;34m\u001B[0m\n\u001B[0;32m----> 1\u001B[0;31m \u001B[0;32mfrom\u001B[0m \u001B[0mdataset_helper\u001B[0m \u001B[0;32mimport\u001B[0m \u001B[0mgenerate_dataset\u001B[0m\u001B[0;34m\u001B[0m\u001B[0;34m\u001B[0m\u001B[0m\n\u001B[0m\u001B[1;32m      2\u001B[0m \u001B[0;34m\u001B[0m\u001B[0m\n\u001B[1;32m      3\u001B[0m dataset = generate_dataset(final_animations_index,\n\u001B[1;32m      4\u001B[0m                            \u001B[0minput_sequences_dict_used\u001B[0m\u001B[0;34m,\u001B[0m\u001B[0;34m\u001B[0m\u001B[0;34m\u001B[0m\u001B[0m\n\u001B[1;32m      5\u001B[0m                            \u001B[0minput_sequences_dict_unused\u001B[0m\u001B[0;34m,\u001B[0m\u001B[0;34m\u001B[0m\u001B[0;34m\u001B[0m\u001B[0m\n",
      "\u001B[0;32m~/AnimateSVG/animate_svg_v2/dataset_helper.py\u001B[0m in \u001B[0;36m<module>\u001B[0;34m\u001B[0m\n\u001B[1;32m     20\u001B[0m \u001B[0;34m\u001B[0m\u001B[0m\n\u001B[1;32m     21\u001B[0m \u001B[0;34m\u001B[0m\u001B[0m\n\u001B[0;32m---> 22\u001B[0;31m \u001B[0;32mdef\u001B[0m \u001B[0munpack_embedding\u001B[0m\u001B[0;34m(\u001B[0m\u001B[0membedding\u001B[0m\u001B[0;34m:\u001B[0m \u001B[0mtorch\u001B[0m\u001B[0;34m.\u001B[0m\u001B[0mTensor\u001B[0m\u001B[0;34m,\u001B[0m \u001B[0mdim\u001B[0m\u001B[0;34m=\u001B[0m\u001B[0;36m0\u001B[0m\u001B[0;34m,\u001B[0m \u001B[0mdevice\u001B[0m\u001B[0;34m=\u001B[0m\u001B[0;34m\"cpu\"\u001B[0m\u001B[0;34m)\u001B[0m \u001B[0;34m->\u001B[0m \u001B[0mtuple\u001B[0m\u001B[0;34m[\u001B[0m\u001B[0mtorch\u001B[0m\u001B[0;34m.\u001B[0m\u001B[0mTensor\u001B[0m\u001B[0;34m,\u001B[0m \u001B[0mtorch\u001B[0m\u001B[0;34m.\u001B[0m\u001B[0mTensor\u001B[0m\u001B[0;34m,\u001B[0m \u001B[0mtorch\u001B[0m\u001B[0;34m.\u001B[0m\u001B[0mTensor\u001B[0m\u001B[0;34m]\u001B[0m\u001B[0;34m:\u001B[0m\u001B[0;34m\u001B[0m\u001B[0;34m\u001B[0m\u001B[0m\n\u001B[0m\u001B[1;32m     23\u001B[0m     \"\"\"\n\u001B[1;32m     24\u001B[0m     \u001B[0mArgs\u001B[0m\u001B[0;34m:\u001B[0m\u001B[0;34m\u001B[0m\u001B[0;34m\u001B[0m\u001B[0m\n",
      "\u001B[0;31mTypeError\u001B[0m: 'type' object is not subscriptable"
     ]
    }
   ],
   "source": [
    "from dataset_helper import generate_dataset\n",
    "\n",
    "dataset = generate_dataset(final_animations_index,\n",
    "                           input_sequences_dict_used,\n",
    "                           input_sequences_dict_unused,\n",
    "                           output_sequence,\n",
    "                           {\"train\": logos_train, \"test\": logos_test},\n",
    "                           sequence_length_input=8, # low as filtered\n",
    "                           sequence_length_output=10, # input + SOS / EOS\n",
    "                           )\n",
    "# Executed in 1 minute with shortened padding ~Cornelius"
   ],
   "metadata": {
    "collapsed": false,
    "ExecuteTime": {
     "end_time": "2024-02-25T15:42:50.079993431Z",
     "start_time": "2024-02-25T15:42:49.738737774Z"
    }
   },
   "id": "9d24882ae1dbd062",
   "execution_count": 52
  },
  {
   "cell_type": "markdown",
   "source": [
    "## Result"
   ],
   "metadata": {
    "collapsed": false
   },
   "id": "7feefc1437db2296"
  },
  {
   "cell_type": "code",
   "outputs": [],
   "source": [
    "torch.save(dataset[\"train\"][\"input\"], 'data/prototype_dataset/train_sequence_input.pt')\n",
    "torch.save(dataset[\"train\"][\"output\"], 'data/prototype_dataset/train_sequence_output.pt')\n",
    "torch.save(dataset[\"test\"][\"input\"], 'data/prototype_dataset/test_sequence_input.pt')\n",
    "torch.save(dataset[\"test\"][\"output\"], 'data/prototype_dataset/test_sequence_output.pt')"
   ],
   "metadata": {
    "collapsed": false,
    "ExecuteTime": {
     "start_time": "2024-02-25T15:42:50.015451640Z"
    }
   },
   "id": "406980343f8a8e3b",
   "execution_count": null
  },
  {
   "cell_type": "code",
   "outputs": [],
   "source": [
    "print(dataset[\"train\"][\"input\"].size())\n",
    "print(dataset[\"train\"][\"output\"].size())\n",
    "print(dataset[\"test\"][\"input\"].size())\n",
    "print(dataset[\"test\"][\"output\"].size())"
   ],
   "metadata": {
    "collapsed": false,
    "ExecuteTime": {
     "start_time": "2024-02-25T15:42:50.018498094Z"
    }
   },
   "id": "30808dff14160db9",
   "execution_count": null
  }
 ],
 "metadata": {
  "kernelspec": {
   "display_name": "Python 3",
   "language": "python",
   "name": "python3"
  },
  "language_info": {
   "codemirror_mode": {
    "name": "ipython",
    "version": 2
   },
   "file_extension": ".py",
   "mimetype": "text/x-python",
   "name": "python",
   "nbconvert_exporter": "python",
   "pygments_lexer": "ipython2",
   "version": "2.7.6"
  }
 },
 "nbformat": 4,
 "nbformat_minor": 5
}
