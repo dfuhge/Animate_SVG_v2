{
  "nbformat": 4,
  "nbformat_minor": 0,
  "metadata": {
    "colab": {
      "provenance": [],
      "gpuType": "T4"
    },
    "kernelspec": {
      "name": "python3",
      "display_name": "Python 3"
    },
    "language_info": {
      "name": "python"
    },
    "accelerator": "GPU"
  },
  "cells": [
    {
      "cell_type": "code",
      "source": [
        "import zipfile\n",
        "import torch\n",
        "import torch.nn as nn\n",
        "import torch.nn.functional as F\n",
        "import math\n",
        "import torch.optim as optim\n",
        "from torch.utils.data import DataLoader, TensorDataset,random_split\n",
        "import optuna\n",
        "import matplotlib.pyplot as plt"
      ],
      "metadata": {
        "id": "OFnlLu9Med-c"
      },
      "execution_count": 1,
      "outputs": []
    },
    {
      "cell_type": "markdown",
      "source": [
        "## Importing the tensors"
      ],
      "metadata": {
        "id": "2hhbgWE9BFrg"
      }
    },
    {
      "cell_type": "code",
      "execution_count": 2,
      "metadata": {
        "colab": {
          "base_uri": "https://localhost:8080/"
        },
        "id": "Nh306WpmWpef",
        "outputId": "020bfe2d-f640-41fe-a9ea-c63c8f3196c2"
      },
      "outputs": [
        {
          "output_type": "stream",
          "name": "stderr",
          "text": [
            "<ipython-input-2-721d7d9b1dcb>:4: UserWarning: To copy construct from a tensor, it is recommended to use sourceTensor.clone().detach() or sourceTensor.clone().detach().requires_grad_(True), rather than torch.tensor(sourceTensor).\n",
            "  inp_train = torch.tensor(torch.load('/content/target_train.txt'))\n",
            "<ipython-input-2-721d7d9b1dcb>:5: UserWarning: To copy construct from a tensor, it is recommended to use sourceTensor.clone().detach() or sourceTensor.clone().detach().requires_grad_(True), rather than torch.tensor(sourceTensor).\n",
            "  target_train = torch.tensor(torch.load('/content/target_train.txt'))\n",
            "<ipython-input-2-721d7d9b1dcb>:8: UserWarning: To copy construct from a tensor, it is recommended to use sourceTensor.clone().detach() or sourceTensor.clone().detach().requires_grad_(True), rather than torch.tensor(sourceTensor).\n",
            "  inp_val = torch.tensor(torch.load('/content/inp_val.txt'))\n",
            "<ipython-input-2-721d7d9b1dcb>:9: UserWarning: To copy construct from a tensor, it is recommended to use sourceTensor.clone().detach() or sourceTensor.clone().detach().requires_grad_(True), rather than torch.tensor(sourceTensor).\n",
            "  target_val = torch.tensor(torch.load('/content/target_val.txt'))\n",
            "<ipython-input-2-721d7d9b1dcb>:12: UserWarning: To copy construct from a tensor, it is recommended to use sourceTensor.clone().detach() or sourceTensor.clone().detach().requires_grad_(True), rather than torch.tensor(sourceTensor).\n",
            "  inp_test = torch.tensor(torch.load('/content/inp_test.txt'))\n",
            "<ipython-input-2-721d7d9b1dcb>:13: UserWarning: To copy construct from a tensor, it is recommended to use sourceTensor.clone().detach() or sourceTensor.clone().detach().requires_grad_(True), rather than torch.tensor(sourceTensor).\n",
            "  target_test = torch.tensor(torch.load('/content/target_test.txt'))\n"
          ]
        }
      ],
      "source": [
        "import torch\n",
        "\n",
        "# Load training data\n",
        "inp_train = torch.tensor(torch.load('/content/target_train.txt'))\n",
        "target_train = torch.tensor(torch.load('/content/target_train.txt'))\n",
        "\n",
        "# Load validation data\n",
        "inp_val = torch.tensor(torch.load('/content/inp_val.txt'))\n",
        "target_val = torch.tensor(torch.load('/content/target_val.txt'))\n",
        "\n",
        "# Load test data\n",
        "inp_test = torch.tensor(torch.load('/content/inp_test.txt'))\n",
        "target_test = torch.tensor(torch.load('/content/target_test.txt'))\n"
      ]
    },
    {
      "cell_type": "code",
      "source": [
        "torch.__version__\n",
        "torch.cuda.is_available()\n",
        "device = torch.device(\"cuda:0\" if torch.cuda.is_available() else \"cpu\")\n",
        "#device = \"cpu\"\n",
        "print(device)"
      ],
      "metadata": {
        "colab": {
          "base_uri": "https://localhost:8080/"
        },
        "id": "1LTrKKJqbssy",
        "outputId": "4b60ac85-0c07-4cc5-9db3-9b18121c5b23"
      },
      "execution_count": 4,
      "outputs": [
        {
          "output_type": "stream",
          "name": "stdout",
          "text": [
            "cuda:0\n"
          ]
        }
      ]
    },
    {
      "cell_type": "code",
      "source": [
        "# Create DataLoader for training set\n",
        "train_dataloader = DataLoader(TensorDataset(inp_train.float(), target_train.float()), batch_size=30, shuffle=True, drop_last=True)\n",
        "\n",
        "# Create DataLoader for validation set\n",
        "val_dataloader = DataLoader(TensorDataset(inp_val.float(), target_val.float()), batch_size=30, shuffle=True, drop_last=True)"
      ],
      "metadata": {
        "id": "dnnNFVDMfFwm"
      },
      "execution_count": 7,
      "outputs": []
    },
    {
      "cell_type": "markdown",
      "source": [
        "## Creating the transformer for the reward function"
      ],
      "metadata": {
        "id": "cEbBZfm8BRAd"
      }
    },
    {
      "cell_type": "code",
      "source": [
        "class PositionalEncoding(nn.Module):\n",
        "    def __init__(self, dim_model, dropout_p, max_len):\n",
        "        super().__init__()\n",
        "        # Modified version from: https://pytorch.org/tutorials/beginner/transformer_tutorial.html\n",
        "        # max_len determines how far the position can have an effect on a token (window)\n",
        "\n",
        "        # Info\n",
        "        self.dropout = nn.Dropout(dropout_p)\n",
        "\n",
        "        # Encoding - From formula\n",
        "        pos_encoding = torch.zeros(max_len, dim_model)\n",
        "        positions_list = torch.arange(0, max_len, dtype=torch.float).view(-1, 1) # 0, 1, 2, 3, 4, 5\n",
        "        division_term = torch.exp(torch.arange(0, dim_model, 2).float() * (-math.log(10000.0)) / dim_model) # 1000^(2i/dim_model)\n",
        "\n",
        "        # PE(pos, 2i) = sin(pos/1000^(2i/dim_model))\n",
        "        pos_encoding[:, 0::2] = torch.sin(positions_list * division_term)\n",
        "\n",
        "        # PE(pos, 2i + 1) = cos(pos/1000^(2i/dim_model))\n",
        "        pos_encoding[:, 1::2] = torch.cos(positions_list * division_term)\n",
        "\n",
        "        # Saving buffer (same as parameter without gradients needed)\n",
        "        pos_encoding = pos_encoding.unsqueeze(0).transpose(0, 1)\n",
        "        self.register_buffer(\"pos_encoding\",pos_encoding)\n",
        "\n",
        "    def forward(self, token_embedding: torch.tensor) -> torch.tensor:\n",
        "        # Residual connection + pos encoding\n",
        "        return self.dropout(token_embedding + self.pos_encoding[:token_embedding.size(0), :])"
      ],
      "metadata": {
        "id": "iz2BtiR9h8eY"
      },
      "execution_count": 8,
      "outputs": []
    },
    {
      "cell_type": "code",
      "source": [
        "class Transformer(nn.Module):\n",
        "    \"\"\"\n",
        "    Model from \"A detailed guide to Pytorch's nn.Transformer() module.\", by\n",
        "    Daniel Melchor: https://medium.com/@danielmelchor/a-detailed-guide-to-pytorchs-nn-transformer-module-c80afbc9ffb1\n",
        "    \"\"\"\n",
        "    # Constructor\n",
        "    def __init__(\n",
        "        self,\n",
        "        num_tokens,\n",
        "        dim_model,\n",
        "        num_heads,\n",
        "        num_encoder_layers,\n",
        "        num_decoder_layers,\n",
        "        dropout_p,\n",
        "    ):\n",
        "        super().__init__()\n",
        "\n",
        "        # INFO\n",
        "        self.model_type = \"Transformer\"\n",
        "        self.dim_model = dim_model\n",
        "\n",
        "        # for get_params\n",
        "        self.num_tokens = num_tokens\n",
        "        self.num_heads = num_heads\n",
        "        self.num_encoder_layers = num_encoder_layers\n",
        "        self.num_decoder_layers = num_decoder_layers\n",
        "        self.dropout_p = dropout_p\n",
        "\n",
        "        # LAYERS\n",
        "        self.positional_encoder = PositionalEncoding(\n",
        "            dim_model=dim_model, dropout_p=dropout_p, max_len=200\n",
        "        )\n",
        "        self.embedding = nn.Embedding(num_tokens, dim_model)\n",
        "        self.transformer = nn.Transformer(\n",
        "            d_model=dim_model,\n",
        "            nhead=num_heads,\n",
        "            num_encoder_layers=num_encoder_layers,\n",
        "            num_decoder_layers=num_decoder_layers,\n",
        "            dropout=dropout_p,\n",
        "            batch_first=True\n",
        "        )\n",
        "        self.out = nn.Linear(dim_model, num_tokens)\n",
        "\n",
        "    def forward(self, src, tgt, tgt_mask=None, src_pad_mask=None, tgt_pad_mask=None, batch_first=True):\n",
        "        # Src size must be (batch_size, src sequence length)\n",
        "        # Tgt size must be (batch_size, tgt sequence length)\n",
        "\n",
        "        # Embedding + positional encoding - Out size = (batch_size, sequence length, dim_model)\n",
        "        #src = self.embedding(src) * math.sqrt(self.dim_model)\n",
        "            #tgt = self.embedding(tgt) * math.sqrt(self.dim_model)\n",
        "        src = self.positional_encoder(src)\n",
        "        tgt = self.positional_encoder(tgt)\n",
        "\n",
        "        # Transformer blocks - Out size = (sequence length, batch_size, num_tokens)\n",
        "        #print(src.shape, tgt.shape)\n",
        "        #transformer_out = self.transformer(src, tgt, tgt_mask=tgt_mask, src_key_padding_mask=src_pad_mask, tgt_key_padding_mask=tgt_pad_mask)\n",
        "        transformer_out = self.transformer(src, tgt, src_key_padding_mask=src_pad_mask)\n",
        "\n",
        "        out = self.out(transformer_out)\n",
        "\n",
        "        return out\n",
        "\n",
        "    def get_tgt_mask(self, size) -> torch.tensor:\n",
        "        # Generates a squeare matrix where the each row allows one word more to be seen\n",
        "        mask = torch.tril(torch.ones(size, size) == 1) # Lower triangular matrix\n",
        "        mask = mask.float()\n",
        "        mask = mask.masked_fill(mask == 0, float('-inf')) # Convert zeros to -inf\n",
        "        mask = mask.masked_fill(mask == 1, float(0.0)) # Convert ones to 0\n",
        "\n",
        "        # EX for size=5:\n",
        "        # [[0., -inf, -inf, -inf, -inf],\n",
        "        #  [0.,   0., -inf, -inf, -inf],\n",
        "        #  [0.,   0.,   0., -inf, -inf],\n",
        "        #  [0.,   0.,   0.,   0., -inf],\n",
        "        #  [0.,   0.,   0.,   0.,   0.]]\n",
        "\n",
        "        return mask\n",
        "    def create_pad_mask(self, matrix: torch.tensor, pad_token: int) -> torch.tensor:\n",
        "        # If matrix = [1,2,3,0,0,0] where pad_token=0, the result mask is\n",
        "        # [False, False, False, True, True, True]\n",
        "        mask = []\n",
        "        pad_token = 500\n",
        "        #print(matrix)\n",
        "        for i in range(0, matrix.size(0)):\n",
        "            seq = []\n",
        "            for j in range(0, matrix.size(1)):\n",
        "                if matrix[i,j,0] == pad_token:\n",
        "                    seq.append(True)\n",
        "                else:\n",
        "                    seq.append(False)\n",
        "            mask.append(seq)\n",
        "        result = torch.tensor(mask)\n",
        "        #print(matrix, result, result.shape)\n",
        "        return result"
      ],
      "metadata": {
        "id": "sXcDCLgJiBvV"
      },
      "execution_count": 9,
      "outputs": []
    },
    {
      "cell_type": "code",
      "source": [
        "class CustomLoss(nn.Module):\n",
        "    def __init__(self):\n",
        "        super(CustomLoss, self).__init__()\n",
        "\n",
        "    def forward(self, inputs, targets):\n",
        "        #typeLoss = nn.CrossEntropyLoss()\n",
        "        ParameterLoss = nn.MSELoss()\n",
        "\n",
        "        #loss = 0.5 * typeLoss(inputs[:,:,:6], targets[:,:,:6]) + 0.5 * ParameterLoss(inputs[:,:,6:12], targets[:,:,6:12])\n",
        "        #print(inputs[:,:,:6], inputs[:,:,:6].shape, targets[:,:,6:12], targets[:,:,6:12].shape)\n",
        "\n",
        "        loss = ParameterLoss(inputs[:,:,:1], targets[:,:,:1])\n",
        "\n",
        "        return loss"
      ],
      "metadata": {
        "id": "DTVukW95iFOx"
      },
      "execution_count": 10,
      "outputs": []
    },
    {
      "cell_type": "code",
      "source": [
        "def train_loop(model, opt, loss_fn, dataloader):\n",
        "    \"\"\"\n",
        "    Method from \"A detailed guide to Pytorch's nn.Transformer() module.\", by\n",
        "    Daniel Melchor: https://medium.com/@danielmelchor/a-detailed-guide-to-pytorchs-nn-transformer-module-c80afbc9ffb1\n",
        "    \"\"\"\n",
        "\n",
        "    model.train()\n",
        "    total_loss = 0\n",
        "\n",
        "    for batch in dataloader:\n",
        "        X, y = batch[0], batch[1]\n",
        "        X, y = torch.tensor(X).to(device), torch.tensor(y).to(device)\n",
        "\n",
        "        opt.zero_grad()\n",
        "\n",
        "        #tgt_mask = model.get_tgt_mask(sequence_length).to(device)\n",
        "        pad_mask_src = model.create_pad_mask(X, 500).to(device)\n",
        "        #pad_mask_tgt = model.create_pad_mask(y, 10).to(device)\n",
        "\n",
        "        # Standard training except we pass in y_input and tgt_mask\n",
        "        #print(X.shape, y.shape)\n",
        "        pred = model(X, y, src_pad_mask=pad_mask_src)\n",
        "\n",
        "        #print('Predictions: ',pred[:,:,:1])\n",
        "\n",
        "        # Permute pred to have batch size first again\n",
        "        #pred = pred.permute(1, 2, 0)\n",
        "        loss = loss_fn(pred, y)\n",
        "\n",
        "        loss.backward()\n",
        "        opt.step()\n",
        "\n",
        "        total_loss += loss.detach().item()\n",
        "\n",
        "    return total_loss / len(dataloader)"
      ],
      "metadata": {
        "id": "yehUfRsDiINI"
      },
      "execution_count": 11,
      "outputs": []
    },
    {
      "cell_type": "code",
      "source": [
        "def validation_loop(model, loss_fn, dataloader):\n",
        "    \"\"\"\n",
        "    Method from \"A detailed guide to Pytorch's nn.Transformer() module.\", by\n",
        "    Daniel Melchor: https://medium.com/@danielmelchor/a-detailed-guide-to-pytorchs-nn-transformer-module-c80afbc9ffb1\n",
        "    \"\"\"\n",
        "\n",
        "    model.eval()\n",
        "    total_loss = 0\n",
        "\n",
        "    with torch.no_grad():\n",
        "        for batch in dataloader:\n",
        "            X, y = batch[0], batch[1]\n",
        "            X, y = torch.tensor(X, device=device), torch.tensor(y, device=device)\n",
        "\n",
        "            #tgt_mask = model.get_tgt_mask(sequence_length).to(device)\n",
        "            pad_mask_src = model.create_pad_mask(X, 500).to(device)\n",
        "            #pad_mask_tgt = model.create_pad_mask(y, 10).to(device)\n",
        "\n",
        "            # Standard training except we pass in y_input and src_mask\n",
        "            #print(\"val \", X.shape, y.shape, X.dtype, y.dtype)\n",
        "            #pred = model(X, y, tgt_mask, src_pad_mask=pad_mask_src, tgt_pad_mask=pad_mask_tgt)\n",
        "            pred = model(X, y, src_pad_mask=pad_mask_src)\n",
        "\n",
        "\n",
        "            # Permute pred to have batch size first again\n",
        "            #pred = pred.permute(1, 2, 0)\n",
        "            loss = loss_fn(pred, y)\n",
        "            total_loss += loss.detach().item()\n",
        "\n",
        "    return total_loss / len(dataloader)"
      ],
      "metadata": {
        "id": "L3RVcN4diLqQ"
      },
      "execution_count": 12,
      "outputs": []
    },
    {
      "cell_type": "markdown",
      "source": [
        "## Hyperparameter tuning"
      ],
      "metadata": {
        "id": "sifsOCnrBh1z"
      }
    },
    {
      "cell_type": "code",
      "source": [
        "from transformer_for_reward_function import Transformer, CustomLoss\n",
        "\n",
        "MAX_EPOCHS = 20\n",
        "loss_function = CustomLoss()\n",
        "\n",
        "def objective(trial):\n",
        "    # Define the hyperparameter search space\n",
        "    learning_rate = trial.suggest_float('learning_rate', 1e-4, 1e-2, log=True)\n",
        "    num_encoder_layers = trial.suggest_categorical('num_encoder_layers', [2, 4, 6, 8])\n",
        "    num_decoder_layers = trial.suggest_categorical('num_decoder_layers', [4, 6, 8,10])\n",
        "    # batch_size = trial.suggest_categorical('batch_size', [64])\n",
        "    num_heads = trial.suggest_categorical('num_heads', [2,3,6,47])\n",
        "    dropout = trial.suggest_float('dropout', 0.1, 0.3)\n",
        "    #use_positional_encoder = trial.suggest_categorical('pos_encoder_max_len', [True, False])\n",
        "\n",
        "    print(f'Parameters selected')\n",
        "    #print(f'num_encoder_layers; num_decoder_layers; learning_rate; num_heads; use_positional_encoder; dropout')\n",
        "    print(f'num_encoder_layers; num_decoder_layers; learning_rate; num_heads; dropout')\n",
        "    #print(f'{num_encoder_layers}; {num_decoder_layers}; {learning_rate}; {num_heads}; {use_positional_encoder}; {dropout}'.replace('.', ','))\n",
        "    print(f'{num_encoder_layers}; {num_decoder_layers}; {learning_rate}; {num_heads}; {dropout}'.replace('.', ','))\n",
        "\n",
        "    # Instantiate the model with suggested hyperparameters\n",
        "    model = Transformer(\n",
        "        dim_model=282,\n",
        "        num_heads=num_heads,\n",
        "        num_encoder_layers=num_encoder_layers,\n",
        "        num_decoder_layers=num_decoder_layers,\n",
        "        dropout_p=dropout,\n",
        "        num_tokens= inp_train.size()[1],\n",
        "        #use_positional_encoder=use_positional_encoder\n",
        "    ).to(device)\n",
        "\n",
        "    optimizer = torch.optim.Adam(model.parameters(), lr=learning_rate)\n",
        "    train_loss_list, validation_loss_list = [], []\n",
        "\n",
        "    validation_loss = -1\n",
        "    # Training loop with early stopping, validation, etc.\n",
        "    for epoch in range(MAX_EPOCHS):\n",
        "        print(f' =========== EPOCH {epoch} ===========')\n",
        "\n",
        "        train_loss = train_loop(model, optimizer, loss_function, train_dataloader)\n",
        "        train_loss_list += [train_loss]\n",
        "\n",
        "        validation_loss = validation_loop(model, loss_function, val_dataloader)\n",
        "        validation_loss_list += [validation_loss]\n",
        "\n",
        "        print(f'Train Loss: {train_loss:.4f}, Validation Loss: {validation_loss:.4f}')\n",
        "\n",
        "        # Report the validation loss to Optuna\n",
        "        trial.report(validation_loss, epoch)\n",
        "\n",
        "        # Implement early stopping logic\n",
        "        if trial.should_prune():\n",
        "            raise optuna.exceptions.TrialPruned()\n",
        "\n",
        "    print(f'Best validation loss: {validation_loss}')\n",
        "    #print(f'num_encoder_layers; num_decoder_layers; learning_rate; num_heads; use_positional_encoder; dropout;')\n",
        "    print(f'num_encoder_layers; num_decoder_layers; learning_rate; num_heads; dropout;')\n",
        "    #print(f'{num_encoder_layers}; {num_decoder_layers}; {learning_rate:.8f}; {num_heads}; {use_positional_encoder}; {dropout:.8f}; Validation; '.replace('.', ','),\n",
        "          #\"; \".join([str(f\"{loss:.4f}\").replace('.', ',') for loss in validation_loss_list]))\n",
        "\n",
        "    print(f'{num_encoder_layers}; {num_decoder_layers}; {learning_rate:.8f}; {num_heads}; {dropout:.8f}; Validation; '.replace('.', ','),\n",
        "          \"; \".join([str(f\"{loss:.4f}\").replace('.', ',') for loss in validation_loss_list]))\n",
        "    print(f' ; ; ; ; ; Train; ',\n",
        "          \"; \".join([str(f\"{loss:.4f}\").replace('.', ',') for loss in train_loss_list]))\n",
        "\n",
        "    return validation_loss"
      ],
      "metadata": {
        "id": "xsnBDDPJcY1I"
      },
      "execution_count": 13,
      "outputs": []
    },
    {
      "cell_type": "code",
      "source": [
        "my_study = optuna.create_study(\n",
        "    direction='minimize',\n",
        "    study_name='for_reward_5', # IMPORTANT: Chance Name when new Dataset\n",
        "    storage='sqlite:///animate_svg_optuna.db',\n",
        "    load_if_exists=True\n",
        ")"
      ],
      "metadata": {
        "colab": {
          "base_uri": "https://localhost:8080/"
        },
        "id": "7wRSnxwQfPRf",
        "outputId": "c61e8fa9-593a-4892-a442-dcc644d087ff"
      },
      "execution_count": 29,
      "outputs": [
        {
          "output_type": "stream",
          "name": "stderr",
          "text": [
            "[I 2024-03-16 19:38:32,356] A new study created in RDB with name: for_reward_5\n"
          ]
        }
      ]
    },
    {
      "cell_type": "code",
      "source": [
        "device = torch.device(\"cuda:0\" if torch.cuda.is_available() else \"cpu\")\n",
        "my_study.optimize(objective, n_trials=80)"
      ],
      "metadata": {
        "colab": {
          "base_uri": "https://localhost:8080/"
        },
        "id": "3DnppOPZfdcu",
        "outputId": "8168a7b4-208c-40a3-88f4-cda0c5b83f22"
      },
      "execution_count": 30,
      "outputs": [
        {
          "output_type": "stream",
          "name": "stdout",
          "text": [
            "Parameters selected\n",
            "num_encoder_layers; num_decoder_layers; learning_rate; num_heads; dropout\n",
            "2; 6; 0,0003412000262445707; 2; 0,252150842191467\n",
            " =========== EPOCH 0 ===========\n"
          ]
        },
        {
          "output_type": "stream",
          "name": "stderr",
          "text": [
            "<ipython-input-11-b24b9f5ee9ad>:12: UserWarning:\n",
            "\n",
            "To copy construct from a tensor, it is recommended to use sourceTensor.clone().detach() or sourceTensor.clone().detach().requires_grad_(True), rather than torch.tensor(sourceTensor).\n",
            "\n",
            "<ipython-input-12-72c90ba90ff0>:13: UserWarning:\n",
            "\n",
            "To copy construct from a tensor, it is recommended to use sourceTensor.clone().detach() or sourceTensor.clone().detach().requires_grad_(True), rather than torch.tensor(sourceTensor).\n",
            "\n"
          ]
        },
        {
          "output_type": "stream",
          "name": "stdout",
          "text": [
            "Train Loss: 1.3622, Validation Loss: 1.2570\n",
            " =========== EPOCH 1 ===========\n",
            "Train Loss: 0.8670, Validation Loss: 0.7767\n",
            " =========== EPOCH 2 ===========\n",
            "Train Loss: 0.7678, Validation Loss: 2.5720\n",
            " =========== EPOCH 3 ===========\n",
            "Train Loss: 0.7354, Validation Loss: 2.3863\n",
            " =========== EPOCH 4 ===========\n",
            "Train Loss: 0.8116, Validation Loss: 1.0347\n",
            " =========== EPOCH 5 ===========\n",
            "Train Loss: 0.7914, Validation Loss: 1.5968\n",
            " =========== EPOCH 6 ===========\n",
            "Train Loss: 0.7273, Validation Loss: 1.6256\n",
            " =========== EPOCH 7 ===========\n",
            "Train Loss: 0.7826, Validation Loss: 1.7730\n",
            " =========== EPOCH 8 ===========\n",
            "Train Loss: 0.7444, Validation Loss: 1.4892\n",
            " =========== EPOCH 9 ===========\n",
            "Train Loss: 0.7120, Validation Loss: 1.4149\n",
            " =========== EPOCH 10 ===========\n",
            "Train Loss: 0.7723, Validation Loss: 1.3960\n",
            " =========== EPOCH 11 ===========\n",
            "Train Loss: 0.6941, Validation Loss: 1.4305\n",
            " =========== EPOCH 12 ===========\n",
            "Train Loss: 0.7143, Validation Loss: 2.2280\n",
            " =========== EPOCH 13 ===========\n",
            "Train Loss: 0.6966, Validation Loss: 1.8061\n",
            " =========== EPOCH 14 ===========\n",
            "Train Loss: 0.6954, Validation Loss: 1.5385\n",
            " =========== EPOCH 15 ===========\n",
            "Train Loss: 0.7254, Validation Loss: 1.4284\n",
            " =========== EPOCH 16 ===========\n",
            "Train Loss: 0.7361, Validation Loss: 1.4344\n",
            " =========== EPOCH 17 ===========\n",
            "Train Loss: 0.7085, Validation Loss: 1.4163\n",
            " =========== EPOCH 18 ===========\n",
            "Train Loss: 0.7159, Validation Loss: 1.5390\n",
            " =========== EPOCH 19 ===========\n"
          ]
        },
        {
          "output_type": "stream",
          "name": "stderr",
          "text": [
            "[I 2024-03-16 19:40:08,651] Trial 0 finished with value: 1.475909662246704 and parameters: {'learning_rate': 0.0003412000262445707, 'num_encoder_layers': 2, 'num_decoder_layers': 6, 'num_heads': 2, 'dropout': 0.252150842191467}. Best is trial 0 with value: 1.475909662246704.\n"
          ]
        },
        {
          "output_type": "stream",
          "name": "stdout",
          "text": [
            "Train Loss: 0.7232, Validation Loss: 1.4759\n",
            "Best validation loss: 1.475909662246704\n",
            "num_encoder_layers; num_decoder_layers; learning_rate; num_heads; dropout;\n",
            "2; 6; 0,00034120; 2; 0,25215084; Validation;  1,2570; 0,7767; 2,5720; 2,3863; 1,0347; 1,5968; 1,6256; 1,7730; 1,4892; 1,4149; 1,3960; 1,4305; 2,2280; 1,8061; 1,5385; 1,4284; 1,4344; 1,4163; 1,5390; 1,4759\n",
            " ; ; ; ; ; Train;  1,3622; 0,8670; 0,7678; 0,7354; 0,8116; 0,7914; 0,7273; 0,7826; 0,7444; 0,7120; 0,7723; 0,6941; 0,7143; 0,6966; 0,6954; 0,7254; 0,7361; 0,7085; 0,7159; 0,7232\n",
            "Parameters selected\n",
            "num_encoder_layers; num_decoder_layers; learning_rate; num_heads; dropout\n",
            "6; 10; 0,00020693010160242341; 47; 0,151433804306645\n",
            " =========== EPOCH 0 ===========\n",
            "Train Loss: 1.5134, Validation Loss: 1.8312\n",
            " =========== EPOCH 1 ===========\n",
            "Train Loss: 0.6550, Validation Loss: 1.9108\n",
            " =========== EPOCH 2 ===========\n",
            "Train Loss: 0.6201, Validation Loss: 2.4995\n",
            " =========== EPOCH 3 ===========\n",
            "Train Loss: 0.5431, Validation Loss: 2.4908\n",
            " =========== EPOCH 4 ===========\n",
            "Train Loss: 0.5503, Validation Loss: 1.7092\n",
            " =========== EPOCH 5 ===========\n",
            "Train Loss: 0.5151, Validation Loss: 2.4695\n",
            " =========== EPOCH 6 ===========\n",
            "Train Loss: 0.5496, Validation Loss: 2.5353\n",
            " =========== EPOCH 7 ===========\n",
            "Train Loss: 0.4979, Validation Loss: 1.8273\n",
            " =========== EPOCH 8 ===========\n",
            "Train Loss: 0.5191, Validation Loss: 2.1279\n",
            " =========== EPOCH 9 ===========\n",
            "Train Loss: 0.5140, Validation Loss: 2.3083\n",
            " =========== EPOCH 10 ===========\n",
            "Train Loss: 0.4992, Validation Loss: 2.1504\n",
            " =========== EPOCH 11 ===========\n",
            "Train Loss: 0.5128, Validation Loss: 1.6302\n",
            " =========== EPOCH 12 ===========\n",
            "Train Loss: 0.5431, Validation Loss: 2.1081\n",
            " =========== EPOCH 13 ===========\n",
            "Train Loss: 0.4532, Validation Loss: 2.2522\n",
            " =========== EPOCH 14 ===========\n",
            "Train Loss: 0.5703, Validation Loss: 1.9432\n",
            " =========== EPOCH 15 ===========\n",
            "Train Loss: 0.5344, Validation Loss: 2.0722\n",
            " =========== EPOCH 16 ===========\n",
            "Train Loss: 0.4706, Validation Loss: 2.4537\n",
            " =========== EPOCH 17 ===========\n",
            "Train Loss: 0.4970, Validation Loss: 1.8656\n",
            " =========== EPOCH 18 ===========\n",
            "Train Loss: 0.4799, Validation Loss: 2.2483\n",
            " =========== EPOCH 19 ===========\n"
          ]
        },
        {
          "output_type": "stream",
          "name": "stderr",
          "text": [
            "[I 2024-03-16 19:42:28,453] Trial 1 finished with value: 2.395620171229045 and parameters: {'learning_rate': 0.00020693010160242341, 'num_encoder_layers': 6, 'num_decoder_layers': 10, 'num_heads': 47, 'dropout': 0.151433804306645}. Best is trial 0 with value: 1.475909662246704.\n"
          ]
        },
        {
          "output_type": "stream",
          "name": "stdout",
          "text": [
            "Train Loss: 0.5413, Validation Loss: 2.3956\n",
            "Best validation loss: 2.395620171229045\n",
            "num_encoder_layers; num_decoder_layers; learning_rate; num_heads; dropout;\n",
            "6; 10; 0,00020693; 47; 0,15143380; Validation;  1,8312; 1,9108; 2,4995; 2,4908; 1,7092; 2,4695; 2,5353; 1,8273; 2,1279; 2,3083; 2,1504; 1,6302; 2,1081; 2,2522; 1,9432; 2,0722; 2,4537; 1,8656; 2,2483; 2,3956\n",
            " ; ; ; ; ; Train;  1,5134; 0,6550; 0,6201; 0,5431; 0,5503; 0,5151; 0,5496; 0,4979; 0,5191; 0,5140; 0,4992; 0,5128; 0,5431; 0,4532; 0,5703; 0,5344; 0,4706; 0,4970; 0,4799; 0,5413\n",
            "Parameters selected\n",
            "num_encoder_layers; num_decoder_layers; learning_rate; num_heads; dropout\n",
            "6; 4; 0,0001079850674085742; 47; 0,14797772933311013\n",
            " =========== EPOCH 0 ===========\n",
            "Train Loss: 1.1525, Validation Loss: 1.0311\n",
            " =========== EPOCH 1 ===========\n",
            "Train Loss: 0.4705, Validation Loss: 0.4684\n",
            " =========== EPOCH 2 ===========\n",
            "Train Loss: 0.3539, Validation Loss: 0.4153\n",
            " =========== EPOCH 3 ===========\n",
            "Train Loss: 0.3360, Validation Loss: 0.4135\n",
            " =========== EPOCH 4 ===========\n",
            "Train Loss: 0.2428, Validation Loss: 0.3617\n",
            " =========== EPOCH 5 ===========\n",
            "Train Loss: 0.3001, Validation Loss: 0.7987\n",
            " =========== EPOCH 6 ===========\n",
            "Train Loss: 0.2230, Validation Loss: 0.4205\n",
            " =========== EPOCH 7 ===========\n",
            "Train Loss: 0.2234, Validation Loss: 0.3817\n",
            " =========== EPOCH 8 ===========\n",
            "Train Loss: 0.1875, Validation Loss: 0.1930\n",
            " =========== EPOCH 9 ===========\n",
            "Train Loss: 0.2100, Validation Loss: 0.2128\n",
            " =========== EPOCH 10 ===========\n",
            "Train Loss: 0.1804, Validation Loss: 0.2631\n",
            " =========== EPOCH 11 ===========\n",
            "Train Loss: 0.1827, Validation Loss: 0.2259\n",
            " =========== EPOCH 12 ===========\n",
            "Train Loss: 0.1896, Validation Loss: 0.3763\n",
            " =========== EPOCH 13 ===========\n",
            "Train Loss: 0.1826, Validation Loss: 0.2060\n",
            " =========== EPOCH 14 ===========\n",
            "Train Loss: 0.1728, Validation Loss: 0.3249\n",
            " =========== EPOCH 15 ===========\n",
            "Train Loss: 0.1519, Validation Loss: 0.1398\n",
            " =========== EPOCH 16 ===========\n",
            "Train Loss: 0.1770, Validation Loss: 0.1020\n",
            " =========== EPOCH 17 ===========\n",
            "Train Loss: 0.1944, Validation Loss: 0.1759\n",
            " =========== EPOCH 18 ===========\n",
            "Train Loss: 0.1713, Validation Loss: 0.1430\n",
            " =========== EPOCH 19 ===========\n"
          ]
        },
        {
          "output_type": "stream",
          "name": "stderr",
          "text": [
            "[I 2024-03-16 19:44:04,677] Trial 2 finished with value: 0.20615317126115162 and parameters: {'learning_rate': 0.0001079850674085742, 'num_encoder_layers': 6, 'num_decoder_layers': 4, 'num_heads': 47, 'dropout': 0.14797772933311013}. Best is trial 2 with value: 0.20615317126115162.\n"
          ]
        },
        {
          "output_type": "stream",
          "name": "stdout",
          "text": [
            "Train Loss: 0.1285, Validation Loss: 0.2062\n",
            "Best validation loss: 0.20615317126115162\n",
            "num_encoder_layers; num_decoder_layers; learning_rate; num_heads; dropout;\n",
            "6; 4; 0,00010799; 47; 0,14797773; Validation;  1,0311; 0,4684; 0,4153; 0,4135; 0,3617; 0,7987; 0,4205; 0,3817; 0,1930; 0,2128; 0,2631; 0,2259; 0,3763; 0,2060; 0,3249; 0,1398; 0,1020; 0,1759; 0,1430; 0,2062\n",
            " ; ; ; ; ; Train;  1,1525; 0,4705; 0,3539; 0,3360; 0,2428; 0,3001; 0,2230; 0,2234; 0,1875; 0,2100; 0,1804; 0,1827; 0,1896; 0,1826; 0,1728; 0,1519; 0,1770; 0,1944; 0,1713; 0,1285\n",
            "Parameters selected\n",
            "num_encoder_layers; num_decoder_layers; learning_rate; num_heads; dropout\n",
            "8; 8; 0,004462049532792837; 47; 0,22594188504945548\n",
            " =========== EPOCH 0 ===========\n",
            "Train Loss: 2.1672, Validation Loss: 1.5655\n",
            " =========== EPOCH 1 ===========\n",
            "Train Loss: 1.5040, Validation Loss: 1.5297\n",
            " =========== EPOCH 2 ===========\n",
            "Train Loss: 1.5188, Validation Loss: 1.5741\n",
            " =========== EPOCH 3 ===========\n",
            "Train Loss: 1.5286, Validation Loss: 1.4781\n",
            " =========== EPOCH 4 ===========\n",
            "Train Loss: 1.5605, Validation Loss: 1.5488\n",
            " =========== EPOCH 5 ===========\n",
            "Train Loss: 1.5298, Validation Loss: 1.5505\n",
            " =========== EPOCH 6 ===========\n",
            "Train Loss: 1.4993, Validation Loss: 1.9791\n",
            " =========== EPOCH 7 ===========\n",
            "Train Loss: 1.5147, Validation Loss: 1.4797\n",
            " =========== EPOCH 8 ===========\n",
            "Train Loss: 1.5347, Validation Loss: 1.5793\n",
            " =========== EPOCH 9 ===========\n",
            "Train Loss: 1.5091, Validation Loss: 1.6810\n",
            " =========== EPOCH 10 ===========\n",
            "Train Loss: 1.5084, Validation Loss: 1.6436\n",
            " =========== EPOCH 11 ===========\n",
            "Train Loss: 1.5153, Validation Loss: 1.6661\n",
            " =========== EPOCH 12 ===========\n",
            "Train Loss: 1.5035, Validation Loss: 1.7239\n",
            " =========== EPOCH 13 ===========\n",
            "Train Loss: 1.5143, Validation Loss: 1.4646\n",
            " =========== EPOCH 14 ===========\n",
            "Train Loss: 1.4995, Validation Loss: 1.5032\n",
            " =========== EPOCH 15 ===========\n",
            "Train Loss: 1.4913, Validation Loss: 1.5561\n",
            " =========== EPOCH 16 ===========\n",
            "Train Loss: 1.5132, Validation Loss: 1.5356\n",
            " =========== EPOCH 17 ===========\n",
            "Train Loss: 1.5065, Validation Loss: 1.6001\n",
            " =========== EPOCH 18 ===========\n",
            "Train Loss: 1.5049, Validation Loss: 1.4754\n",
            " =========== EPOCH 19 ===========\n"
          ]
        },
        {
          "output_type": "stream",
          "name": "stderr",
          "text": [
            "[I 2024-03-16 19:46:20,861] Trial 3 finished with value: 1.509256410598755 and parameters: {'learning_rate': 0.004462049532792837, 'num_encoder_layers': 8, 'num_decoder_layers': 8, 'num_heads': 47, 'dropout': 0.22594188504945548}. Best is trial 2 with value: 0.20615317126115162.\n"
          ]
        },
        {
          "output_type": "stream",
          "name": "stdout",
          "text": [
            "Train Loss: 1.4869, Validation Loss: 1.5093\n",
            "Best validation loss: 1.509256410598755\n",
            "num_encoder_layers; num_decoder_layers; learning_rate; num_heads; dropout;\n",
            "8; 8; 0,00446205; 47; 0,22594189; Validation;  1,5655; 1,5297; 1,5741; 1,4781; 1,5488; 1,5505; 1,9791; 1,4797; 1,5793; 1,6810; 1,6436; 1,6661; 1,7239; 1,4646; 1,5032; 1,5561; 1,5356; 1,6001; 1,4754; 1,5093\n",
            " ; ; ; ; ; Train;  2,1672; 1,5040; 1,5188; 1,5286; 1,5605; 1,5298; 1,4993; 1,5147; 1,5347; 1,5091; 1,5084; 1,5153; 1,5035; 1,5143; 1,4995; 1,4913; 1,5132; 1,5065; 1,5049; 1,4869\n",
            "Parameters selected\n",
            "num_encoder_layers; num_decoder_layers; learning_rate; num_heads; dropout\n",
            "6; 6; 0,00017925927728900643; 47; 0,18455880396778643\n",
            " =========== EPOCH 0 ===========\n",
            "Train Loss: 1.2877, Validation Loss: 1.4564\n",
            " =========== EPOCH 1 ===========\n",
            "Train Loss: 0.6100, Validation Loss: 0.5320\n",
            " =========== EPOCH 2 ===========\n",
            "Train Loss: 0.4744, Validation Loss: 1.5244\n",
            " =========== EPOCH 3 ===========\n",
            "Train Loss: 0.4022, Validation Loss: 0.8552\n",
            " =========== EPOCH 4 ===========\n",
            "Train Loss: 0.3630, Validation Loss: 0.4731\n",
            " =========== EPOCH 5 ===========\n",
            "Train Loss: 0.2545, Validation Loss: 0.3457\n",
            " =========== EPOCH 6 ===========\n",
            "Train Loss: 0.3119, Validation Loss: 0.5120\n",
            " =========== EPOCH 7 ===========\n",
            "Train Loss: 0.3089, Validation Loss: 0.5671\n",
            " =========== EPOCH 8 ===========\n",
            "Train Loss: 0.2545, Validation Loss: 0.7209\n",
            " =========== EPOCH 9 ===========\n",
            "Train Loss: 0.2614, Validation Loss: 0.3689\n",
            " =========== EPOCH 10 ===========\n",
            "Train Loss: 0.2614, Validation Loss: 0.3684\n",
            " =========== EPOCH 11 ===========\n",
            "Train Loss: 0.2584, Validation Loss: 0.2038\n",
            " =========== EPOCH 12 ===========\n",
            "Train Loss: 0.2893, Validation Loss: 0.3124\n",
            " =========== EPOCH 13 ===========\n",
            "Train Loss: 0.2462, Validation Loss: 0.1485\n",
            " =========== EPOCH 14 ===========\n",
            "Train Loss: 0.2141, Validation Loss: 0.2716\n",
            " =========== EPOCH 15 ===========\n",
            "Train Loss: 0.2186, Validation Loss: 0.2648\n",
            " =========== EPOCH 16 ===========\n",
            "Train Loss: 0.2238, Validation Loss: 0.1549\n",
            " =========== EPOCH 17 ===========\n",
            "Train Loss: 0.2245, Validation Loss: 0.2577\n",
            " =========== EPOCH 18 ===========\n",
            "Train Loss: 0.2124, Validation Loss: 0.1825\n",
            " =========== EPOCH 19 ===========\n"
          ]
        },
        {
          "output_type": "stream",
          "name": "stderr",
          "text": [
            "[I 2024-03-16 19:48:11,587] Trial 4 finished with value: 0.1414381007353465 and parameters: {'learning_rate': 0.00017925927728900643, 'num_encoder_layers': 6, 'num_decoder_layers': 6, 'num_heads': 47, 'dropout': 0.18455880396778643}. Best is trial 4 with value: 0.1414381007353465.\n"
          ]
        },
        {
          "output_type": "stream",
          "name": "stdout",
          "text": [
            "Train Loss: 0.2374, Validation Loss: 0.1414\n",
            "Best validation loss: 0.1414381007353465\n",
            "num_encoder_layers; num_decoder_layers; learning_rate; num_heads; dropout;\n",
            "6; 6; 0,00017926; 47; 0,18455880; Validation;  1,4564; 0,5320; 1,5244; 0,8552; 0,4731; 0,3457; 0,5120; 0,5671; 0,7209; 0,3689; 0,3684; 0,2038; 0,3124; 0,1485; 0,2716; 0,2648; 0,1549; 0,2577; 0,1825; 0,1414\n",
            " ; ; ; ; ; Train;  1,2877; 0,6100; 0,4744; 0,4022; 0,3630; 0,2545; 0,3119; 0,3089; 0,2545; 0,2614; 0,2614; 0,2584; 0,2893; 0,2462; 0,2141; 0,2186; 0,2238; 0,2245; 0,2124; 0,2374\n",
            "Parameters selected\n",
            "num_encoder_layers; num_decoder_layers; learning_rate; num_heads; dropout\n",
            "8; 4; 0,0001509836009130835; 6; 0,14342623450495753\n",
            " =========== EPOCH 0 ===========\n",
            "Train Loss: 1.1819, Validation Loss: 0.5758\n",
            " =========== EPOCH 1 ===========\n",
            "Train Loss: 0.4714, Validation Loss: 0.7811\n",
            " =========== EPOCH 2 ===========\n",
            "Train Loss: 0.3039, Validation Loss: 0.6811\n",
            " =========== EPOCH 3 ===========\n",
            "Train Loss: 0.2884, Validation Loss: 0.7184\n",
            " =========== EPOCH 4 ===========\n",
            "Train Loss: 0.2441, Validation Loss: 0.6889\n",
            " =========== EPOCH 5 ===========\n",
            "Train Loss: 0.2173, Validation Loss: 0.6275\n",
            " =========== EPOCH 6 ===========\n",
            "Train Loss: 0.1790, Validation Loss: 0.3012\n",
            " =========== EPOCH 7 ===========\n",
            "Train Loss: 0.2206, Validation Loss: 0.7892\n",
            " =========== EPOCH 8 ===========\n",
            "Train Loss: 0.2040, Validation Loss: 0.5588\n",
            " =========== EPOCH 9 ===========\n",
            "Train Loss: 0.2006, Validation Loss: 0.5212\n",
            " =========== EPOCH 10 ===========\n",
            "Train Loss: 0.1653, Validation Loss: 0.4504\n",
            " =========== EPOCH 11 ===========\n",
            "Train Loss: 0.1590, Validation Loss: 0.4384\n",
            " =========== EPOCH 12 ===========\n",
            "Train Loss: 0.1729, Validation Loss: 0.5361\n",
            " =========== EPOCH 13 ===========\n",
            "Train Loss: 0.1701, Validation Loss: 0.2983\n",
            " =========== EPOCH 14 ===========\n",
            "Train Loss: 0.1596, Validation Loss: 0.2018\n",
            " =========== EPOCH 15 ===========\n",
            "Train Loss: 0.1230, Validation Loss: 0.3068\n",
            " =========== EPOCH 16 ===========\n",
            "Train Loss: 0.1475, Validation Loss: 0.5430\n",
            " =========== EPOCH 17 ===========\n",
            "Train Loss: 0.1400, Validation Loss: 0.2680\n",
            " =========== EPOCH 18 ===========\n",
            "Train Loss: 0.1481, Validation Loss: 0.4198\n",
            " =========== EPOCH 19 ===========\n"
          ]
        },
        {
          "output_type": "stream",
          "name": "stderr",
          "text": [
            "[I 2024-03-16 19:49:53,320] Trial 5 finished with value: 0.40734439094861347 and parameters: {'learning_rate': 0.0001509836009130835, 'num_encoder_layers': 8, 'num_decoder_layers': 4, 'num_heads': 6, 'dropout': 0.14342623450495753}. Best is trial 4 with value: 0.1414381007353465.\n"
          ]
        },
        {
          "output_type": "stream",
          "name": "stdout",
          "text": [
            "Train Loss: 0.1748, Validation Loss: 0.4073\n",
            "Best validation loss: 0.40734439094861347\n",
            "num_encoder_layers; num_decoder_layers; learning_rate; num_heads; dropout;\n",
            "8; 4; 0,00015098; 6; 0,14342623; Validation;  0,5758; 0,7811; 0,6811; 0,7184; 0,6889; 0,6275; 0,3012; 0,7892; 0,5588; 0,5212; 0,4504; 0,4384; 0,5361; 0,2983; 0,2018; 0,3068; 0,5430; 0,2680; 0,4198; 0,4073\n",
            " ; ; ; ; ; Train;  1,1819; 0,4714; 0,3039; 0,2884; 0,2441; 0,2173; 0,1790; 0,2206; 0,2040; 0,2006; 0,1653; 0,1590; 0,1729; 0,1701; 0,1596; 0,1230; 0,1475; 0,1400; 0,1481; 0,1748\n",
            "Parameters selected\n",
            "num_encoder_layers; num_decoder_layers; learning_rate; num_heads; dropout\n",
            "2; 10; 0,002008607886467333; 6; 0,12946305509408426\n",
            " =========== EPOCH 0 ===========\n"
          ]
        },
        {
          "output_type": "stream",
          "name": "stderr",
          "text": [
            "[I 2024-03-16 19:49:59,754] Trial 6 pruned. \n"
          ]
        },
        {
          "output_type": "stream",
          "name": "stdout",
          "text": [
            "Train Loss: 2.0553, Validation Loss: 1.4873\n",
            "Parameters selected\n",
            "num_encoder_layers; num_decoder_layers; learning_rate; num_heads; dropout\n",
            "2; 4; 0,00016875550640324543; 47; 0,15335278736000987\n",
            " =========== EPOCH 0 ===========\n",
            "Train Loss: 1.0118, Validation Loss: 0.5507\n",
            " =========== EPOCH 1 ===========\n",
            "Train Loss: 0.5111, Validation Loss: 0.4327\n",
            " =========== EPOCH 2 ===========\n",
            "Train Loss: 0.3679, Validation Loss: 0.8187\n",
            " =========== EPOCH 3 ===========\n",
            "Train Loss: 0.2787, Validation Loss: 0.3412\n",
            " =========== EPOCH 4 ===========\n",
            "Train Loss: 0.2510, Validation Loss: 0.5193\n",
            " =========== EPOCH 5 ===========\n",
            "Train Loss: 0.2487, Validation Loss: 0.4773\n",
            " =========== EPOCH 6 ===========\n",
            "Train Loss: 0.2094, Validation Loss: 0.4931\n",
            " =========== EPOCH 7 ===========\n",
            "Train Loss: 0.1932, Validation Loss: 0.4284\n",
            " =========== EPOCH 8 ===========\n",
            "Train Loss: 0.1659, Validation Loss: 0.4117\n",
            " =========== EPOCH 9 ===========\n",
            "Train Loss: 0.1952, Validation Loss: 0.3225\n",
            " =========== EPOCH 10 ===========\n",
            "Train Loss: 0.1998, Validation Loss: 0.2131\n",
            " =========== EPOCH 11 ===========\n",
            "Train Loss: 0.1782, Validation Loss: 0.3418\n",
            " =========== EPOCH 12 ===========\n",
            "Train Loss: 0.1742, Validation Loss: 0.4444\n",
            " =========== EPOCH 13 ===========\n",
            "Train Loss: 0.1570, Validation Loss: 0.4775\n",
            " =========== EPOCH 14 ===========\n",
            "Train Loss: 0.1727, Validation Loss: 0.2948\n",
            " =========== EPOCH 15 ===========\n",
            "Train Loss: 0.1422, Validation Loss: 0.2308\n",
            " =========== EPOCH 16 ===========\n",
            "Train Loss: 0.1672, Validation Loss: 0.1135\n",
            " =========== EPOCH 17 ===========\n",
            "Train Loss: 0.1605, Validation Loss: 0.1989\n",
            " =========== EPOCH 18 ===========\n",
            "Train Loss: 0.1292, Validation Loss: 0.1256\n",
            " =========== EPOCH 19 ===========\n"
          ]
        },
        {
          "output_type": "stream",
          "name": "stderr",
          "text": [
            "[I 2024-03-16 19:51:15,461] Trial 7 finished with value: 0.1954104095697403 and parameters: {'learning_rate': 0.00016875550640324543, 'num_encoder_layers': 2, 'num_decoder_layers': 4, 'num_heads': 47, 'dropout': 0.15335278736000987}. Best is trial 4 with value: 0.1414381007353465.\n"
          ]
        },
        {
          "output_type": "stream",
          "name": "stdout",
          "text": [
            "Train Loss: 0.1901, Validation Loss: 0.1954\n",
            "Best validation loss: 0.1954104095697403\n",
            "num_encoder_layers; num_decoder_layers; learning_rate; num_heads; dropout;\n",
            "2; 4; 0,00016876; 47; 0,15335279; Validation;  0,5507; 0,4327; 0,8187; 0,3412; 0,5193; 0,4773; 0,4931; 0,4284; 0,4117; 0,3225; 0,2131; 0,3418; 0,4444; 0,4775; 0,2948; 0,2308; 0,1135; 0,1989; 0,1256; 0,1954\n",
            " ; ; ; ; ; Train;  1,0118; 0,5111; 0,3679; 0,2787; 0,2510; 0,2487; 0,2094; 0,1932; 0,1659; 0,1952; 0,1998; 0,1782; 0,1742; 0,1570; 0,1727; 0,1422; 0,1672; 0,1605; 0,1292; 0,1901\n",
            "Parameters selected\n",
            "num_encoder_layers; num_decoder_layers; learning_rate; num_heads; dropout\n",
            "8; 10; 0,00020346825800147844; 2; 0,25192628035672265\n",
            " =========== EPOCH 0 ===========\n"
          ]
        },
        {
          "output_type": "stream",
          "name": "stderr",
          "text": [
            "[I 2024-03-16 19:51:23,467] Trial 8 pruned. \n"
          ]
        },
        {
          "output_type": "stream",
          "name": "stdout",
          "text": [
            "Train Loss: 1.6960, Validation Loss: 1.5881\n",
            "Parameters selected\n",
            "num_encoder_layers; num_decoder_layers; learning_rate; num_heads; dropout\n",
            "4; 4; 0,00016495148714808894; 47; 0,10288657063012561\n",
            " =========== EPOCH 0 ===========\n"
          ]
        },
        {
          "output_type": "stream",
          "name": "stderr",
          "text": [
            "[I 2024-03-16 19:51:27,826] Trial 9 pruned. \n"
          ]
        },
        {
          "output_type": "stream",
          "name": "stdout",
          "text": [
            "Train Loss: 1.1274, Validation Loss: 1.5244\n",
            "Parameters selected\n",
            "num_encoder_layers; num_decoder_layers; learning_rate; num_heads; dropout\n",
            "6; 6; 0,0006322324732840011; 3; 0,2998577797345076\n",
            " =========== EPOCH 0 ===========\n"
          ]
        },
        {
          "output_type": "stream",
          "name": "stderr",
          "text": [
            "[I 2024-03-16 19:51:34,063] Trial 10 pruned. \n"
          ]
        },
        {
          "output_type": "stream",
          "name": "stdout",
          "text": [
            "Train Loss: 1.7776, Validation Loss: 1.5377\n",
            "Parameters selected\n",
            "num_encoder_layers; num_decoder_layers; learning_rate; num_heads; dropout\n",
            "2; 6; 0,0005913760616849062; 47; 0,19818373023474972\n",
            " =========== EPOCH 0 ===========\n"
          ]
        },
        {
          "output_type": "stream",
          "name": "stderr",
          "text": [
            "[I 2024-03-16 19:51:38,583] Trial 11 pruned. \n"
          ]
        },
        {
          "output_type": "stream",
          "name": "stdout",
          "text": [
            "Train Loss: 1.8391, Validation Loss: 1.4657\n",
            "Parameters selected\n",
            "num_encoder_layers; num_decoder_layers; learning_rate; num_heads; dropout\n",
            "4; 8; 0,0009504964268619431; 3; 0,18538114546375922\n",
            " =========== EPOCH 0 ===========\n"
          ]
        },
        {
          "output_type": "stream",
          "name": "stderr",
          "text": [
            "[I 2024-03-16 19:51:44,819] Trial 12 pruned. \n"
          ]
        },
        {
          "output_type": "stream",
          "name": "stdout",
          "text": [
            "Train Loss: 1.9619, Validation Loss: 1.5284\n",
            "Parameters selected\n",
            "num_encoder_layers; num_decoder_layers; learning_rate; num_heads; dropout\n",
            "2; 6; 0,0003664468933671111; 47; 0,1754120338198971\n",
            " =========== EPOCH 0 ===========\n"
          ]
        },
        {
          "output_type": "stream",
          "name": "stderr",
          "text": [
            "[I 2024-03-16 19:51:49,356] Trial 13 pruned. \n"
          ]
        },
        {
          "output_type": "stream",
          "name": "stdout",
          "text": [
            "Train Loss: 1.5570, Validation Loss: 2.0060\n",
            "Parameters selected\n",
            "num_encoder_layers; num_decoder_layers; learning_rate; num_heads; dropout\n",
            "6; 4; 0,0022512275236127137; 47; 0,21807448913025526\n",
            " =========== EPOCH 0 ===========\n"
          ]
        },
        {
          "output_type": "stream",
          "name": "stderr",
          "text": [
            "[I 2024-03-16 19:51:54,293] Trial 14 pruned. \n"
          ]
        },
        {
          "output_type": "stream",
          "name": "stdout",
          "text": [
            "Train Loss: 2.1902, Validation Loss: 1.5421\n",
            "Parameters selected\n",
            "num_encoder_layers; num_decoder_layers; learning_rate; num_heads; dropout\n",
            "2; 6; 0,00010199604380594386; 47; 0,16681845386797406\n",
            " =========== EPOCH 0 ===========\n"
          ]
        },
        {
          "output_type": "stream",
          "name": "stderr",
          "text": [
            "[I 2024-03-16 19:51:59,187] Trial 15 pruned. \n"
          ]
        },
        {
          "output_type": "stream",
          "name": "stdout",
          "text": [
            "Train Loss: 1.0939, Validation Loss: 2.0580\n",
            "Parameters selected\n",
            "num_encoder_layers; num_decoder_layers; learning_rate; num_heads; dropout\n",
            "6; 4; 0,0003456563907627854; 2; 0,12461802758104365\n",
            " =========== EPOCH 0 ===========\n"
          ]
        },
        {
          "output_type": "stream",
          "name": "stderr",
          "text": [
            "[I 2024-03-16 19:52:03,845] Trial 16 pruned. \n"
          ]
        },
        {
          "output_type": "stream",
          "name": "stdout",
          "text": [
            "Train Loss: 1.7765, Validation Loss: 1.4554\n",
            "Parameters selected\n",
            "num_encoder_layers; num_decoder_layers; learning_rate; num_heads; dropout\n",
            "4; 8; 0,007614387462021869; 6; 0,10213609645436314\n",
            " =========== EPOCH 0 ===========\n"
          ]
        },
        {
          "output_type": "stream",
          "name": "stderr",
          "text": [
            "[I 2024-03-16 19:52:09,890] Trial 17 pruned. \n"
          ]
        },
        {
          "output_type": "stream",
          "name": "stdout",
          "text": [
            "Train Loss: 2.3089, Validation Loss: 1.5122\n",
            "Parameters selected\n",
            "num_encoder_layers; num_decoder_layers; learning_rate; num_heads; dropout\n",
            "2; 6; 0,0016661546218101468; 3; 0,21882469417254105\n",
            " =========== EPOCH 0 ===========\n"
          ]
        },
        {
          "output_type": "stream",
          "name": "stderr",
          "text": [
            "[I 2024-03-16 19:52:14,342] Trial 18 pruned. \n"
          ]
        },
        {
          "output_type": "stream",
          "name": "stdout",
          "text": [
            "Train Loss: 2.1375, Validation Loss: 1.4931\n",
            "Parameters selected\n",
            "num_encoder_layers; num_decoder_layers; learning_rate; num_heads; dropout\n",
            "6; 4; 0,00027531860299773116; 47; 0,19115071432225827\n",
            " =========== EPOCH 0 ===========\n"
          ]
        },
        {
          "output_type": "stream",
          "name": "stderr",
          "text": [
            "[I 2024-03-16 19:52:19,787] Trial 19 pruned. \n"
          ]
        },
        {
          "output_type": "stream",
          "name": "stdout",
          "text": [
            "Train Loss: 1.6005, Validation Loss: 2.3450\n",
            "Parameters selected\n",
            "num_encoder_layers; num_decoder_layers; learning_rate; num_heads; dropout\n",
            "2; 4; 0,0005658436199265017; 47; 0,1669647843243653\n",
            " =========== EPOCH 0 ===========\n"
          ]
        },
        {
          "output_type": "stream",
          "name": "stderr",
          "text": [
            "[I 2024-03-16 19:52:23,564] Trial 20 pruned. \n"
          ]
        },
        {
          "output_type": "stream",
          "name": "stdout",
          "text": [
            "Train Loss: 1.7769, Validation Loss: 1.9311\n",
            "Parameters selected\n",
            "num_encoder_layers; num_decoder_layers; learning_rate; num_heads; dropout\n",
            "6; 4; 0,00010431516576428127; 47; 0,15364276868953763\n",
            " =========== EPOCH 0 ===========\n",
            "Train Loss: 1.1308, Validation Loss: 1.0049\n",
            " =========== EPOCH 1 ===========\n",
            "Train Loss: 0.4943, Validation Loss: 0.3583\n",
            " =========== EPOCH 2 ===========\n",
            "Train Loss: 0.3494, Validation Loss: 0.3797\n",
            " =========== EPOCH 3 ===========\n",
            "Train Loss: 0.2856, Validation Loss: 0.3892\n",
            " =========== EPOCH 4 ===========\n",
            "Train Loss: 0.3133, Validation Loss: 0.2959\n",
            " =========== EPOCH 5 ===========\n",
            "Train Loss: 0.2520, Validation Loss: 0.3757\n",
            " =========== EPOCH 6 ===========\n",
            "Train Loss: 0.2360, Validation Loss: 0.2775\n",
            " =========== EPOCH 7 ===========\n",
            "Train Loss: 0.2353, Validation Loss: 0.3409\n",
            " =========== EPOCH 8 ===========\n",
            "Train Loss: 0.2438, Validation Loss: 0.4434\n",
            " =========== EPOCH 9 ===========\n",
            "Train Loss: 0.2342, Validation Loss: 0.3956\n",
            " =========== EPOCH 10 ===========\n",
            "Train Loss: 0.1775, Validation Loss: 0.2757\n",
            " =========== EPOCH 11 ===========\n",
            "Train Loss: 0.1782, Validation Loss: 0.3688\n",
            " =========== EPOCH 12 ===========\n",
            "Train Loss: 0.1800, Validation Loss: 0.3014\n",
            " =========== EPOCH 13 ===========\n",
            "Train Loss: 0.2071, Validation Loss: 0.3118\n",
            " =========== EPOCH 14 ===========\n",
            "Train Loss: 0.1723, Validation Loss: 0.2399\n",
            " =========== EPOCH 15 ===========\n",
            "Train Loss: 0.2014, Validation Loss: 0.2578\n",
            " =========== EPOCH 16 ===========\n",
            "Train Loss: 0.1484, Validation Loss: 0.1905\n",
            " =========== EPOCH 17 ===========\n",
            "Train Loss: 0.1716, Validation Loss: 0.2215\n",
            " =========== EPOCH 18 ===========\n",
            "Train Loss: 0.1728, Validation Loss: 0.1490\n",
            " =========== EPOCH 19 ===========\n"
          ]
        },
        {
          "output_type": "stream",
          "name": "stderr",
          "text": [
            "[I 2024-03-16 19:54:00,672] Trial 21 finished with value: 0.17390699982643126 and parameters: {'learning_rate': 0.00010431516576428127, 'num_encoder_layers': 6, 'num_decoder_layers': 4, 'num_heads': 47, 'dropout': 0.15364276868953763}. Best is trial 4 with value: 0.1414381007353465.\n"
          ]
        },
        {
          "output_type": "stream",
          "name": "stdout",
          "text": [
            "Train Loss: 0.1656, Validation Loss: 0.1739\n",
            "Best validation loss: 0.17390699982643126\n",
            "num_encoder_layers; num_decoder_layers; learning_rate; num_heads; dropout;\n",
            "6; 4; 0,00010432; 47; 0,15364277; Validation;  1,0049; 0,3583; 0,3797; 0,3892; 0,2959; 0,3757; 0,2775; 0,3409; 0,4434; 0,3956; 0,2757; 0,3688; 0,3014; 0,3118; 0,2399; 0,2578; 0,1905; 0,2215; 0,1490; 0,1739\n",
            " ; ; ; ; ; Train;  1,1308; 0,4943; 0,3494; 0,2856; 0,3133; 0,2520; 0,2360; 0,2353; 0,2438; 0,2342; 0,1775; 0,1782; 0,1800; 0,2071; 0,1723; 0,2014; 0,1484; 0,1716; 0,1728; 0,1656\n",
            "Parameters selected\n",
            "num_encoder_layers; num_decoder_layers; learning_rate; num_heads; dropout\n",
            "6; 4; 0,00012690506691674495; 47; 0,16024928470669816\n",
            " =========== EPOCH 0 ===========\n"
          ]
        },
        {
          "output_type": "stream",
          "name": "stderr",
          "text": [
            "[I 2024-03-16 19:54:05,744] Trial 22 pruned. \n"
          ]
        },
        {
          "output_type": "stream",
          "name": "stdout",
          "text": [
            "Train Loss: 1.0638, Validation Loss: 1.3764\n",
            "Parameters selected\n",
            "num_encoder_layers; num_decoder_layers; learning_rate; num_heads; dropout\n",
            "6; 4; 0,00021832185907605796; 47; 0,13000936077865372\n",
            " =========== EPOCH 0 ===========\n"
          ]
        },
        {
          "output_type": "stream",
          "name": "stderr",
          "text": [
            "[I 2024-03-16 19:54:11,037] Trial 23 pruned. \n"
          ]
        },
        {
          "output_type": "stream",
          "name": "stdout",
          "text": [
            "Train Loss: 1.5171, Validation Loss: 2.3227\n",
            "Parameters selected\n",
            "num_encoder_layers; num_decoder_layers; learning_rate; num_heads; dropout\n",
            "6; 4; 0,0001480741607408916; 47; 0,18308444136434632\n",
            " =========== EPOCH 0 ===========\n",
            "Train Loss: 1.2326, Validation Loss: 0.3861\n",
            " =========== EPOCH 1 ===========\n",
            "Train Loss: 0.5499, Validation Loss: 0.3257\n",
            " =========== EPOCH 2 ===========\n",
            "Train Loss: 0.4266, Validation Loss: 0.4693\n",
            " =========== EPOCH 3 ===========\n",
            "Train Loss: 0.3496, Validation Loss: 0.2982\n",
            " =========== EPOCH 4 ===========\n",
            "Train Loss: 0.2980, Validation Loss: 0.6123\n",
            " =========== EPOCH 5 ===========\n",
            "Train Loss: 0.3140, Validation Loss: 0.5536\n",
            " =========== EPOCH 6 ===========\n",
            "Train Loss: 0.2444, Validation Loss: 0.1280\n",
            " =========== EPOCH 7 ===========\n",
            "Train Loss: 0.3044, Validation Loss: 0.7407\n",
            " =========== EPOCH 8 ===========\n",
            "Train Loss: 0.2572, Validation Loss: 0.3233\n",
            " =========== EPOCH 9 ===========\n",
            "Train Loss: 0.2888, Validation Loss: 0.5459\n",
            " =========== EPOCH 10 ===========\n",
            "Train Loss: 0.2365, Validation Loss: 0.4032\n",
            " =========== EPOCH 11 ===========\n",
            "Train Loss: 0.2453, Validation Loss: 0.1402\n",
            " =========== EPOCH 12 ===========\n",
            "Train Loss: 0.2074, Validation Loss: 0.4530\n",
            " =========== EPOCH 13 ===========\n",
            "Train Loss: 0.2207, Validation Loss: 0.3268\n",
            " =========== EPOCH 14 ===========\n",
            "Train Loss: 0.2469, Validation Loss: 0.2617\n",
            " =========== EPOCH 15 ===========\n",
            "Train Loss: 0.1945, Validation Loss: 0.3260\n",
            " =========== EPOCH 16 ===========\n",
            "Train Loss: 0.2188, Validation Loss: 0.4590\n",
            " =========== EPOCH 17 ===========\n",
            "Train Loss: 0.2057, Validation Loss: 0.2961\n",
            " =========== EPOCH 18 ===========\n",
            "Train Loss: 0.1788, Validation Loss: 0.2293\n",
            " =========== EPOCH 19 ===========\n"
          ]
        },
        {
          "output_type": "stream",
          "name": "stderr",
          "text": [
            "[I 2024-03-16 19:55:48,259] Trial 24 finished with value: 0.2621426304181417 and parameters: {'learning_rate': 0.0001480741607408916, 'num_encoder_layers': 6, 'num_decoder_layers': 4, 'num_heads': 47, 'dropout': 0.18308444136434632}. Best is trial 4 with value: 0.1414381007353465.\n"
          ]
        },
        {
          "output_type": "stream",
          "name": "stdout",
          "text": [
            "Train Loss: 0.1815, Validation Loss: 0.2621\n",
            "Best validation loss: 0.2621426304181417\n",
            "num_encoder_layers; num_decoder_layers; learning_rate; num_heads; dropout;\n",
            "6; 4; 0,00014807; 47; 0,18308444; Validation;  0,3861; 0,3257; 0,4693; 0,2982; 0,6123; 0,5536; 0,1280; 0,7407; 0,3233; 0,5459; 0,4032; 0,1402; 0,4530; 0,3268; 0,2617; 0,3260; 0,4590; 0,2961; 0,2293; 0,2621\n",
            " ; ; ; ; ; Train;  1,2326; 0,5499; 0,4266; 0,3496; 0,2980; 0,3140; 0,2444; 0,3044; 0,2572; 0,2888; 0,2365; 0,2453; 0,2074; 0,2207; 0,2469; 0,1945; 0,2188; 0,2057; 0,1788; 0,1815\n",
            "Parameters selected\n",
            "num_encoder_layers; num_decoder_layers; learning_rate; num_heads; dropout\n",
            "6; 6; 0,0002438682317782633; 47; 0,20650175591781877\n",
            " =========== EPOCH 0 ===========\n"
          ]
        },
        {
          "output_type": "stream",
          "name": "stderr",
          "text": [
            "[I 2024-03-16 19:55:54,502] Trial 25 pruned. \n"
          ]
        },
        {
          "output_type": "stream",
          "name": "stdout",
          "text": [
            "Train Loss: 1.7796, Validation Loss: 1.4957\n",
            "Parameters selected\n",
            "num_encoder_layers; num_decoder_layers; learning_rate; num_heads; dropout\n",
            "8; 8; 0,000438352838091796; 3; 0,13994574898454004\n",
            " =========== EPOCH 0 ===========\n"
          ]
        },
        {
          "output_type": "stream",
          "name": "stderr",
          "text": [
            "[I 2024-03-16 19:56:01,276] Trial 26 pruned. \n"
          ]
        },
        {
          "output_type": "stream",
          "name": "stdout",
          "text": [
            "Train Loss: 1.7847, Validation Loss: 1.4972\n",
            "Parameters selected\n",
            "num_encoder_layers; num_decoder_layers; learning_rate; num_heads; dropout\n",
            "4; 10; 0,0012000880029978795; 2; 0,11271517126309243\n",
            " =========== EPOCH 0 ===========\n"
          ]
        },
        {
          "output_type": "stream",
          "name": "stderr",
          "text": [
            "[I 2024-03-16 19:56:08,208] Trial 27 pruned. \n"
          ]
        },
        {
          "output_type": "stream",
          "name": "stdout",
          "text": [
            "Train Loss: 2.1954, Validation Loss: 1.4780\n",
            "Parameters selected\n",
            "num_encoder_layers; num_decoder_layers; learning_rate; num_heads; dropout\n",
            "6; 4; 0,0001658571471475819; 6; 0,23699101255672939\n",
            " =========== EPOCH 0 ===========\n"
          ]
        },
        {
          "output_type": "stream",
          "name": "stderr",
          "text": [
            "[I 2024-03-16 19:56:12,868] Trial 28 pruned. \n"
          ]
        },
        {
          "output_type": "stream",
          "name": "stdout",
          "text": [
            "Train Loss: 1.2592, Validation Loss: 1.0674\n",
            "Parameters selected\n",
            "num_encoder_layers; num_decoder_layers; learning_rate; num_heads; dropout\n",
            "2; 6; 0,00029643303266618315; 2; 0,29029158395502863\n",
            " =========== EPOCH 0 ===========\n"
          ]
        },
        {
          "output_type": "stream",
          "name": "stderr",
          "text": [
            "[I 2024-03-16 19:56:17,884] Trial 29 pruned. \n"
          ]
        },
        {
          "output_type": "stream",
          "name": "stdout",
          "text": [
            "Train Loss: 1.4359, Validation Loss: 1.3519\n",
            "Parameters selected\n",
            "num_encoder_layers; num_decoder_layers; learning_rate; num_heads; dropout\n",
            "2; 6; 0,00010741061549235614; 47; 0,1576852744169235\n",
            " =========== EPOCH 0 ===========\n"
          ]
        },
        {
          "output_type": "stream",
          "name": "stderr",
          "text": [
            "[I 2024-03-16 19:56:22,558] Trial 30 pruned. \n"
          ]
        },
        {
          "output_type": "stream",
          "name": "stdout",
          "text": [
            "Train Loss: 1.0832, Validation Loss: 1.1357\n",
            "Parameters selected\n",
            "num_encoder_layers; num_decoder_layers; learning_rate; num_heads; dropout\n",
            "6; 4; 0,00010174690857123897; 47; 0,14931320358686934\n",
            " =========== EPOCH 0 ===========\n",
            "Train Loss: 1.0708, Validation Loss: 0.9829\n",
            " =========== EPOCH 1 ===========\n",
            "Train Loss: 0.5184, Validation Loss: 0.5134\n",
            " =========== EPOCH 2 ===========\n",
            "Train Loss: 0.4179, Validation Loss: 0.4222\n",
            " =========== EPOCH 3 ===========\n",
            "Train Loss: 0.3071, Validation Loss: 0.4176\n",
            " =========== EPOCH 4 ===========\n",
            "Train Loss: 0.2455, Validation Loss: 0.4358\n",
            " =========== EPOCH 5 ===========\n",
            "Train Loss: 0.2324, Validation Loss: 1.3590\n",
            " =========== EPOCH 6 ===========\n",
            "Train Loss: 0.2540, Validation Loss: 0.2521\n",
            " =========== EPOCH 7 ===========\n",
            "Train Loss: 0.2407, Validation Loss: 0.5096\n",
            " =========== EPOCH 8 ===========\n",
            "Train Loss: 0.2331, Validation Loss: 0.4134\n",
            " =========== EPOCH 9 ===========\n",
            "Train Loss: 0.2178, Validation Loss: 0.4797\n",
            " =========== EPOCH 10 ===========\n",
            "Train Loss: 0.1983, Validation Loss: 0.4446\n",
            " =========== EPOCH 11 ===========\n",
            "Train Loss: 0.2014, Validation Loss: 0.4265\n",
            " =========== EPOCH 12 ===========\n",
            "Train Loss: 0.1782, Validation Loss: 0.5176\n",
            " =========== EPOCH 13 ===========\n",
            "Train Loss: 0.2011, Validation Loss: 0.3295\n",
            " =========== EPOCH 14 ===========\n",
            "Train Loss: 0.1932, Validation Loss: 0.2960\n",
            " =========== EPOCH 15 ===========\n",
            "Train Loss: 0.1464, Validation Loss: 0.3559\n",
            " =========== EPOCH 16 ===========\n",
            "Train Loss: 0.1877, Validation Loss: 0.3241\n",
            " =========== EPOCH 17 ===========\n",
            "Train Loss: 0.1524, Validation Loss: 0.2815\n",
            " =========== EPOCH 18 ===========\n",
            "Train Loss: 0.1737, Validation Loss: 0.1835\n",
            " =========== EPOCH 19 ===========\n"
          ]
        },
        {
          "output_type": "stream",
          "name": "stderr",
          "text": [
            "[I 2024-03-16 19:58:00,083] Trial 31 finished with value: 0.2435350348552068 and parameters: {'learning_rate': 0.00010174690857123897, 'num_encoder_layers': 6, 'num_decoder_layers': 4, 'num_heads': 47, 'dropout': 0.14931320358686934}. Best is trial 4 with value: 0.1414381007353465.\n"
          ]
        },
        {
          "output_type": "stream",
          "name": "stdout",
          "text": [
            "Train Loss: 0.1550, Validation Loss: 0.2435\n",
            "Best validation loss: 0.2435350348552068\n",
            "num_encoder_layers; num_decoder_layers; learning_rate; num_heads; dropout;\n",
            "6; 4; 0,00010175; 47; 0,14931320; Validation;  0,9829; 0,5134; 0,4222; 0,4176; 0,4358; 1,3590; 0,2521; 0,5096; 0,4134; 0,4797; 0,4446; 0,4265; 0,5176; 0,3295; 0,2960; 0,3559; 0,3241; 0,2815; 0,1835; 0,2435\n",
            " ; ; ; ; ; Train;  1,0708; 0,5184; 0,4179; 0,3071; 0,2455; 0,2324; 0,2540; 0,2407; 0,2331; 0,2178; 0,1983; 0,2014; 0,1782; 0,2011; 0,1932; 0,1464; 0,1877; 0,1524; 0,1737; 0,1550\n",
            "Parameters selected\n",
            "num_encoder_layers; num_decoder_layers; learning_rate; num_heads; dropout\n",
            "6; 4; 0,00018529379654021397; 47; 0,1368377015773147\n",
            " =========== EPOCH 0 ===========\n"
          ]
        },
        {
          "output_type": "stream",
          "name": "stderr",
          "text": [
            "[I 2024-03-16 19:58:05,523] Trial 32 pruned. \n"
          ]
        },
        {
          "output_type": "stream",
          "name": "stdout",
          "text": [
            "Train Loss: 1.3566, Validation Loss: 1.6040\n",
            "Parameters selected\n",
            "num_encoder_layers; num_decoder_layers; learning_rate; num_heads; dropout\n",
            "6; 4; 0,00013348843050182193; 47; 0,17632035555309428\n",
            " =========== EPOCH 0 ===========\n",
            "Train Loss: 1.3223, Validation Loss: 0.9022\n",
            " =========== EPOCH 1 ===========\n"
          ]
        },
        {
          "output_type": "stream",
          "name": "stderr",
          "text": [
            "[I 2024-03-16 19:58:15,069] Trial 33 pruned. \n"
          ]
        },
        {
          "output_type": "stream",
          "name": "stdout",
          "text": [
            "Train Loss: 0.5653, Validation Loss: 0.6193\n",
            "Parameters selected\n",
            "num_encoder_layers; num_decoder_layers; learning_rate; num_heads; dropout\n",
            "6; 4; 0,00013025716595787198; 47; 0,15133121872403116\n",
            " =========== EPOCH 0 ===========\n"
          ]
        },
        {
          "output_type": "stream",
          "name": "stderr",
          "text": [
            "[I 2024-03-16 19:58:20,522] Trial 34 pruned. \n"
          ]
        },
        {
          "output_type": "stream",
          "name": "stdout",
          "text": [
            "Train Loss: 1.2453, Validation Loss: 1.0648\n",
            "Parameters selected\n",
            "num_encoder_layers; num_decoder_layers; learning_rate; num_heads; dropout\n",
            "8; 10; 0,00020189300631419396; 47; 0,1720712398677115\n",
            " =========== EPOCH 0 ===========\n"
          ]
        },
        {
          "output_type": "stream",
          "name": "stderr",
          "text": [
            "[I 2024-03-16 19:58:28,602] Trial 35 pruned. \n"
          ]
        },
        {
          "output_type": "stream",
          "name": "stdout",
          "text": [
            "Train Loss: 1.6686, Validation Loss: 2.0090\n",
            "Parameters selected\n",
            "num_encoder_layers; num_decoder_layers; learning_rate; num_heads; dropout\n",
            "6; 4; 0,003832322124200008; 6; 0,1250604927113935\n",
            " =========== EPOCH 0 ===========\n"
          ]
        },
        {
          "output_type": "stream",
          "name": "stderr",
          "text": [
            "[I 2024-03-16 19:58:33,280] Trial 36 pruned. \n"
          ]
        },
        {
          "output_type": "stream",
          "name": "stdout",
          "text": [
            "Train Loss: 2.2728, Validation Loss: 1.6179\n",
            "Parameters selected\n",
            "num_encoder_layers; num_decoder_layers; learning_rate; num_heads; dropout\n",
            "6; 8; 0,0002519657508154955; 47; 0,20095609063579922\n",
            " =========== EPOCH 0 ===========\n"
          ]
        },
        {
          "output_type": "stream",
          "name": "stderr",
          "text": [
            "[I 2024-03-16 19:58:39,883] Trial 37 pruned. \n"
          ]
        },
        {
          "output_type": "stream",
          "name": "stdout",
          "text": [
            "Train Loss: 1.5161, Validation Loss: 2.1030\n",
            "Parameters selected\n",
            "num_encoder_layers; num_decoder_layers; learning_rate; num_heads; dropout\n",
            "8; 10; 0,0004397776722402249; 47; 0,11680316770212792\n",
            " =========== EPOCH 0 ===========\n"
          ]
        },
        {
          "output_type": "stream",
          "name": "stderr",
          "text": [
            "[I 2024-03-16 19:58:47,838] Trial 38 pruned. \n"
          ]
        },
        {
          "output_type": "stream",
          "name": "stdout",
          "text": [
            "Train Loss: 1.8190, Validation Loss: 1.5931\n",
            "Parameters selected\n",
            "num_encoder_layers; num_decoder_layers; learning_rate; num_heads; dropout\n",
            "6; 4; 0,00016576889165625114; 2; 0,1477069362746623\n",
            " =========== EPOCH 0 ===========\n",
            "Train Loss: 1.2388, Validation Loss: 0.4809\n",
            " =========== EPOCH 1 ===========\n",
            "Train Loss: 0.5892, Validation Loss: 0.3652\n",
            " =========== EPOCH 2 ===========\n",
            "Train Loss: 0.3545, Validation Loss: 0.6782\n",
            " =========== EPOCH 3 ===========\n",
            "Train Loss: 0.2489, Validation Loss: 0.6353\n",
            " =========== EPOCH 4 ===========\n",
            "Train Loss: 0.2935, Validation Loss: 0.3501\n",
            " =========== EPOCH 5 ===========\n",
            "Train Loss: 0.2086, Validation Loss: 0.4515\n",
            " =========== EPOCH 6 ===========\n",
            "Train Loss: 0.2251, Validation Loss: 0.2257\n",
            " =========== EPOCH 7 ===========\n",
            "Train Loss: 0.1968, Validation Loss: 0.2148\n",
            " =========== EPOCH 8 ===========\n",
            "Train Loss: 0.1985, Validation Loss: 0.2820\n",
            " =========== EPOCH 9 ===========\n",
            "Train Loss: 0.2147, Validation Loss: 0.1941\n",
            " =========== EPOCH 10 ===========\n",
            "Train Loss: 0.1733, Validation Loss: 0.3243\n",
            " =========== EPOCH 11 ===========\n",
            "Train Loss: 0.1800, Validation Loss: 0.2315\n",
            " =========== EPOCH 12 ===========\n",
            "Train Loss: 0.1865, Validation Loss: 0.2357\n",
            " =========== EPOCH 13 ===========\n",
            "Train Loss: 0.1535, Validation Loss: 0.4709\n",
            " =========== EPOCH 14 ===========\n",
            "Train Loss: 0.2048, Validation Loss: 0.1268\n",
            " =========== EPOCH 15 ===========\n",
            "Train Loss: 0.1834, Validation Loss: 0.3644\n",
            " =========== EPOCH 16 ===========\n",
            "Train Loss: 0.1723, Validation Loss: 0.3576\n",
            " =========== EPOCH 17 ===========\n",
            "Train Loss: 0.1331, Validation Loss: 0.2257\n",
            " =========== EPOCH 18 ===========\n",
            "Train Loss: 0.1576, Validation Loss: 0.1933\n",
            " =========== EPOCH 19 ===========\n"
          ]
        },
        {
          "output_type": "stream",
          "name": "stderr",
          "text": [
            "[I 2024-03-16 20:00:20,431] Trial 39 finished with value: 0.34057660897572833 and parameters: {'learning_rate': 0.00016576889165625114, 'num_encoder_layers': 6, 'num_decoder_layers': 4, 'num_heads': 2, 'dropout': 0.1477069362746623}. Best is trial 4 with value: 0.1414381007353465.\n"
          ]
        },
        {
          "output_type": "stream",
          "name": "stdout",
          "text": [
            "Train Loss: 0.1493, Validation Loss: 0.3406\n",
            "Best validation loss: 0.34057660897572833\n",
            "num_encoder_layers; num_decoder_layers; learning_rate; num_heads; dropout;\n",
            "6; 4; 0,00016577; 2; 0,14770694; Validation;  0,4809; 0,3652; 0,6782; 0,6353; 0,3501; 0,4515; 0,2257; 0,2148; 0,2820; 0,1941; 0,3243; 0,2315; 0,2357; 0,4709; 0,1268; 0,3644; 0,3576; 0,2257; 0,1933; 0,3406\n",
            " ; ; ; ; ; Train;  1,2388; 0,5892; 0,3545; 0,2489; 0,2935; 0,2086; 0,2251; 0,1968; 0,1985; 0,2147; 0,1733; 0,1800; 0,1865; 0,1535; 0,2048; 0,1834; 0,1723; 0,1331; 0,1576; 0,1493\n",
            "Parameters selected\n",
            "num_encoder_layers; num_decoder_layers; learning_rate; num_heads; dropout\n",
            "4; 4; 0,0001222586562674428; 3; 0,1612440587506075\n",
            " =========== EPOCH 0 ===========\n"
          ]
        },
        {
          "output_type": "stream",
          "name": "stderr",
          "text": [
            "[I 2024-03-16 20:00:24,775] Trial 40 pruned. \n"
          ]
        },
        {
          "output_type": "stream",
          "name": "stdout",
          "text": [
            "Train Loss: 1.0175, Validation Loss: 1.9485\n",
            "Parameters selected\n",
            "num_encoder_layers; num_decoder_layers; learning_rate; num_heads; dropout\n",
            "6; 4; 0,00011036907009317642; 47; 0,14428966985655498\n",
            " =========== EPOCH 0 ===========\n",
            "Train Loss: 1.1745, Validation Loss: 0.6327\n",
            " =========== EPOCH 1 ===========\n"
          ]
        },
        {
          "output_type": "stream",
          "name": "stderr",
          "text": [
            "[I 2024-03-16 20:00:34,946] Trial 41 pruned. \n"
          ]
        },
        {
          "output_type": "stream",
          "name": "stdout",
          "text": [
            "Train Loss: 0.4606, Validation Loss: 0.5397\n",
            "Parameters selected\n",
            "num_encoder_layers; num_decoder_layers; learning_rate; num_heads; dropout\n",
            "6; 4; 0,00010478517114412029; 47; 0,1535177703462687\n",
            " =========== EPOCH 0 ===========\n",
            "Train Loss: 0.9788, Validation Loss: 0.7538\n",
            " =========== EPOCH 1 ===========\n",
            "Train Loss: 0.5187, Validation Loss: 0.3200\n",
            " =========== EPOCH 2 ===========\n",
            "Train Loss: 0.4636, Validation Loss: 0.7218\n",
            " =========== EPOCH 3 ===========\n",
            "Train Loss: 0.3114, Validation Loss: 0.5987\n",
            " =========== EPOCH 4 ===========\n",
            "Train Loss: 0.2711, Validation Loss: 0.3561\n",
            " =========== EPOCH 5 ===========\n",
            "Train Loss: 0.2771, Validation Loss: 0.5347\n",
            " =========== EPOCH 6 ===========\n",
            "Train Loss: 0.2415, Validation Loss: 0.3612\n",
            " =========== EPOCH 7 ===========\n",
            "Train Loss: 0.2771, Validation Loss: 0.3626\n",
            " =========== EPOCH 8 ===========\n",
            "Train Loss: 0.1992, Validation Loss: 0.3885\n",
            " =========== EPOCH 9 ===========\n",
            "Train Loss: 0.2303, Validation Loss: 0.3275\n",
            " =========== EPOCH 10 ===========\n",
            "Train Loss: 0.1873, Validation Loss: 0.2790\n",
            " =========== EPOCH 11 ===========\n",
            "Train Loss: 0.2009, Validation Loss: 0.4443\n",
            " =========== EPOCH 12 ===========\n",
            "Train Loss: 0.1932, Validation Loss: 0.2176\n",
            " =========== EPOCH 13 ===========\n",
            "Train Loss: 0.2082, Validation Loss: 0.1700\n",
            " =========== EPOCH 14 ===========\n",
            "Train Loss: 0.1859, Validation Loss: 0.3098\n",
            " =========== EPOCH 15 ===========\n",
            "Train Loss: 0.1865, Validation Loss: 0.2276\n",
            " =========== EPOCH 16 ===========\n",
            "Train Loss: 0.1752, Validation Loss: 0.2046\n",
            " =========== EPOCH 17 ===========\n",
            "Train Loss: 0.1462, Validation Loss: 0.3704\n",
            " =========== EPOCH 18 ===========\n",
            "Train Loss: 0.1749, Validation Loss: 0.2136\n",
            " =========== EPOCH 19 ===========\n"
          ]
        },
        {
          "output_type": "stream",
          "name": "stderr",
          "text": [
            "[I 2024-03-16 20:02:12,863] Trial 42 finished with value: 0.2295755475759506 and parameters: {'learning_rate': 0.00010478517114412029, 'num_encoder_layers': 6, 'num_decoder_layers': 4, 'num_heads': 47, 'dropout': 0.1535177703462687}. Best is trial 4 with value: 0.1414381007353465.\n"
          ]
        },
        {
          "output_type": "stream",
          "name": "stdout",
          "text": [
            "Train Loss: 0.2037, Validation Loss: 0.2296\n",
            "Best validation loss: 0.2295755475759506\n",
            "num_encoder_layers; num_decoder_layers; learning_rate; num_heads; dropout;\n",
            "6; 4; 0,00010479; 47; 0,15351777; Validation;  0,7538; 0,3200; 0,7218; 0,5987; 0,3561; 0,5347; 0,3612; 0,3626; 0,3885; 0,3275; 0,2790; 0,4443; 0,2176; 0,1700; 0,3098; 0,2276; 0,2046; 0,3704; 0,2136; 0,2296\n",
            " ; ; ; ; ; Train;  0,9788; 0,5187; 0,4636; 0,3114; 0,2711; 0,2771; 0,2415; 0,2771; 0,1992; 0,2303; 0,1873; 0,2009; 0,1932; 0,2082; 0,1859; 0,1865; 0,1752; 0,1462; 0,1749; 0,2037\n",
            "Parameters selected\n",
            "num_encoder_layers; num_decoder_layers; learning_rate; num_heads; dropout\n",
            "6; 4; 0,00015218983543273157; 47; 0,13429932392074828\n",
            " =========== EPOCH 0 ===========\n",
            "Train Loss: 1.1557, Validation Loss: 0.9595\n",
            " =========== EPOCH 1 ===========\n",
            "Train Loss: 0.4203, Validation Loss: 0.3215\n",
            " =========== EPOCH 2 ===========\n",
            "Train Loss: 0.2803, Validation Loss: 0.3227\n",
            " =========== EPOCH 3 ===========\n",
            "Train Loss: 0.2362, Validation Loss: 0.2323\n",
            " =========== EPOCH 4 ===========\n",
            "Train Loss: 0.2354, Validation Loss: 0.4273\n",
            " =========== EPOCH 5 ===========\n",
            "Train Loss: 0.1997, Validation Loss: 0.3173\n",
            " =========== EPOCH 6 ===========\n",
            "Train Loss: 0.2005, Validation Loss: 0.2296\n",
            " =========== EPOCH 7 ===========\n",
            "Train Loss: 0.1906, Validation Loss: 0.2621\n",
            " =========== EPOCH 8 ===========\n",
            "Train Loss: 0.1655, Validation Loss: 0.1814\n",
            " =========== EPOCH 9 ===========\n",
            "Train Loss: 0.1484, Validation Loss: 0.2687\n",
            " =========== EPOCH 10 ===========\n",
            "Train Loss: 0.1589, Validation Loss: 0.1561\n",
            " =========== EPOCH 11 ===========\n",
            "Train Loss: 0.1559, Validation Loss: 0.1533\n",
            " =========== EPOCH 12 ===========\n",
            "Train Loss: 0.1676, Validation Loss: 0.2979\n",
            " =========== EPOCH 13 ===========\n",
            "Train Loss: 0.1517, Validation Loss: 0.3389\n",
            " =========== EPOCH 14 ===========\n",
            "Train Loss: 0.1412, Validation Loss: 0.2278\n",
            " =========== EPOCH 15 ===========\n",
            "Train Loss: 0.1357, Validation Loss: 0.2363\n",
            " =========== EPOCH 16 ===========\n",
            "Train Loss: 0.1431, Validation Loss: 0.1218\n",
            " =========== EPOCH 17 ===========\n",
            "Train Loss: 0.1102, Validation Loss: 0.1947\n",
            " =========== EPOCH 18 ===========\n",
            "Train Loss: 0.1166, Validation Loss: 0.1712\n",
            " =========== EPOCH 19 ===========\n"
          ]
        },
        {
          "output_type": "stream",
          "name": "stderr",
          "text": [
            "[I 2024-03-16 20:03:51,110] Trial 43 finished with value: 0.25970935622851055 and parameters: {'learning_rate': 0.00015218983543273157, 'num_encoder_layers': 6, 'num_decoder_layers': 4, 'num_heads': 47, 'dropout': 0.13429932392074828}. Best is trial 4 with value: 0.1414381007353465.\n"
          ]
        },
        {
          "output_type": "stream",
          "name": "stdout",
          "text": [
            "Train Loss: 0.1137, Validation Loss: 0.2597\n",
            "Best validation loss: 0.25970935622851055\n",
            "num_encoder_layers; num_decoder_layers; learning_rate; num_heads; dropout;\n",
            "6; 4; 0,00015219; 47; 0,13429932; Validation;  0,9595; 0,3215; 0,3227; 0,2323; 0,4273; 0,3173; 0,2296; 0,2621; 0,1814; 0,2687; 0,1561; 0,1533; 0,2979; 0,3389; 0,2278; 0,2363; 0,1218; 0,1947; 0,1712; 0,2597\n",
            " ; ; ; ; ; Train;  1,1557; 0,4203; 0,2803; 0,2362; 0,2354; 0,1997; 0,2005; 0,1906; 0,1655; 0,1484; 0,1589; 0,1559; 0,1676; 0,1517; 0,1412; 0,1357; 0,1431; 0,1102; 0,1166; 0,1137\n",
            "Parameters selected\n",
            "num_encoder_layers; num_decoder_layers; learning_rate; num_heads; dropout\n",
            "2; 6; 0,00019328778496063777; 47; 0,18331780018976995\n",
            " =========== EPOCH 0 ===========\n"
          ]
        },
        {
          "output_type": "stream",
          "name": "stderr",
          "text": [
            "[I 2024-03-16 20:03:55,646] Trial 44 pruned. \n"
          ]
        },
        {
          "output_type": "stream",
          "name": "stdout",
          "text": [
            "Train Loss: 1.0794, Validation Loss: 2.1196\n",
            "Parameters selected\n",
            "num_encoder_layers; num_decoder_layers; learning_rate; num_heads; dropout\n",
            "6; 4; 0,00014061819744786545; 47; 0,15718153820541894\n",
            " =========== EPOCH 0 ===========\n",
            "Train Loss: 1.1755, Validation Loss: 0.5872\n",
            " =========== EPOCH 1 ===========\n"
          ]
        },
        {
          "output_type": "stream",
          "name": "stderr",
          "text": [
            "[I 2024-03-16 20:04:05,852] Trial 45 pruned. \n"
          ]
        },
        {
          "output_type": "stream",
          "name": "stdout",
          "text": [
            "Train Loss: 0.4929, Validation Loss: 0.7485\n",
            "Parameters selected\n",
            "num_encoder_layers; num_decoder_layers; learning_rate; num_heads; dropout\n",
            "6; 4; 0,0001017287618105267; 47; 0,19334668977023817\n",
            " =========== EPOCH 0 ===========\n",
            "Train Loss: 1.3097, Validation Loss: 0.8585\n",
            " =========== EPOCH 1 ===========\n"
          ]
        },
        {
          "output_type": "stream",
          "name": "stderr",
          "text": [
            "[I 2024-03-16 20:04:15,958] Trial 46 pruned. \n"
          ]
        },
        {
          "output_type": "stream",
          "name": "stdout",
          "text": [
            "Train Loss: 0.6605, Validation Loss: 0.6215\n",
            "Parameters selected\n",
            "num_encoder_layers; num_decoder_layers; learning_rate; num_heads; dropout\n",
            "2; 6; 0,0008076287984957857; 6; 0,11632676518831041\n",
            " =========== EPOCH 0 ===========\n"
          ]
        },
        {
          "output_type": "stream",
          "name": "stderr",
          "text": [
            "[I 2024-03-16 20:04:20,573] Trial 47 pruned. \n"
          ]
        },
        {
          "output_type": "stream",
          "name": "stdout",
          "text": [
            "Train Loss: 1.9070, Validation Loss: 1.5722\n",
            "Parameters selected\n",
            "num_encoder_layers; num_decoder_layers; learning_rate; num_heads; dropout\n",
            "8; 8; 0,00029955986474757224; 47; 0,17374781233913583\n",
            " =========== EPOCH 0 ===========\n"
          ]
        },
        {
          "output_type": "stream",
          "name": "stderr",
          "text": [
            "[I 2024-03-16 20:04:28,030] Trial 48 pruned. \n"
          ]
        },
        {
          "output_type": "stream",
          "name": "stdout",
          "text": [
            "Train Loss: 1.7349, Validation Loss: 1.7690\n",
            "Parameters selected\n",
            "num_encoder_layers; num_decoder_layers; learning_rate; num_heads; dropout\n",
            "4; 10; 0,0002291442151495037; 47; 0,20819666472312937\n",
            " =========== EPOCH 0 ===========\n"
          ]
        },
        {
          "output_type": "stream",
          "name": "stderr",
          "text": [
            "[I 2024-03-16 20:04:34,679] Trial 49 pruned. \n"
          ]
        },
        {
          "output_type": "stream",
          "name": "stdout",
          "text": [
            "Train Loss: 1.3544, Validation Loss: 1.9710\n",
            "Parameters selected\n",
            "num_encoder_layers; num_decoder_layers; learning_rate; num_heads; dropout\n",
            "6; 4; 0,00019015029465895917; 3; 0,16726914908335297\n",
            " =========== EPOCH 0 ===========\n",
            "Train Loss: 1.3186, Validation Loss: 0.8170\n",
            " =========== EPOCH 1 ===========\n"
          ]
        },
        {
          "output_type": "stream",
          "name": "stderr",
          "text": [
            "[I 2024-03-16 20:04:44,767] Trial 50 pruned. \n"
          ]
        },
        {
          "output_type": "stream",
          "name": "stdout",
          "text": [
            "Train Loss: 0.4614, Validation Loss: 0.6569\n",
            "Parameters selected\n",
            "num_encoder_layers; num_decoder_layers; learning_rate; num_heads; dropout\n",
            "6; 4; 0,00010181572802440769; 47; 0,15067862647752878\n",
            " =========== EPOCH 0 ===========\n"
          ]
        },
        {
          "output_type": "stream",
          "name": "stderr",
          "text": [
            "[I 2024-03-16 20:04:50,155] Trial 51 pruned. \n"
          ]
        },
        {
          "output_type": "stream",
          "name": "stdout",
          "text": [
            "Train Loss: 1.1066, Validation Loss: 1.6090\n",
            "Parameters selected\n",
            "num_encoder_layers; num_decoder_layers; learning_rate; num_heads; dropout\n",
            "6; 4; 0,0001263172033380869; 47; 0,1540547168267567\n",
            " =========== EPOCH 0 ===========\n"
          ]
        },
        {
          "output_type": "stream",
          "name": "stderr",
          "text": [
            "[I 2024-03-16 20:04:55,093] Trial 52 pruned. \n"
          ]
        },
        {
          "output_type": "stream",
          "name": "stdout",
          "text": [
            "Train Loss: 1.1468, Validation Loss: 1.0277\n",
            "Parameters selected\n",
            "num_encoder_layers; num_decoder_layers; learning_rate; num_heads; dropout\n",
            "6; 4; 0,0001705765286827313; 47; 0,1376763781675563\n",
            " =========== EPOCH 0 ===========\n"
          ]
        },
        {
          "output_type": "stream",
          "name": "stderr",
          "text": [
            "[I 2024-03-16 20:05:00,053] Trial 53 pruned. \n"
          ]
        },
        {
          "output_type": "stream",
          "name": "stdout",
          "text": [
            "Train Loss: 1.1553, Validation Loss: 1.0604\n",
            "Parameters selected\n",
            "num_encoder_layers; num_decoder_layers; learning_rate; num_heads; dropout\n",
            "6; 4; 0,00012115893480487151; 47; 0,1451243749575431\n",
            " =========== EPOCH 0 ===========\n",
            "Train Loss: 1.2950, Validation Loss: 0.7372\n",
            " =========== EPOCH 1 ===========\n",
            "Train Loss: 0.5166, Validation Loss: 0.2484\n",
            " =========== EPOCH 2 ===========\n",
            "Train Loss: 0.2956, Validation Loss: 1.0014\n",
            " =========== EPOCH 3 ===========\n",
            "Train Loss: 0.2777, Validation Loss: 0.4173\n",
            " =========== EPOCH 4 ===========\n",
            "Train Loss: 0.2462, Validation Loss: 0.3230\n",
            " =========== EPOCH 5 ===========\n",
            "Train Loss: 0.2142, Validation Loss: 0.3904\n",
            " =========== EPOCH 6 ===========\n",
            "Train Loss: 0.2339, Validation Loss: 0.2547\n",
            " =========== EPOCH 7 ===========\n",
            "Train Loss: 0.2019, Validation Loss: 0.2939\n",
            " =========== EPOCH 8 ===========\n",
            "Train Loss: 0.2305, Validation Loss: 0.4074\n",
            " =========== EPOCH 9 ===========\n",
            "Train Loss: 0.2068, Validation Loss: 0.2586\n",
            " =========== EPOCH 10 ===========\n",
            "Train Loss: 0.1843, Validation Loss: 0.2158\n",
            " =========== EPOCH 11 ===========\n",
            "Train Loss: 0.1825, Validation Loss: 0.2896\n",
            " =========== EPOCH 12 ===========\n",
            "Train Loss: 0.1769, Validation Loss: 0.1956\n",
            " =========== EPOCH 13 ===========\n",
            "Train Loss: 0.1763, Validation Loss: 0.1633\n",
            " =========== EPOCH 14 ===========\n",
            "Train Loss: 0.1460, Validation Loss: 0.2095\n",
            " =========== EPOCH 15 ===========\n",
            "Train Loss: 0.1333, Validation Loss: 0.1314\n",
            " =========== EPOCH 16 ===========\n",
            "Train Loss: 0.1674, Validation Loss: 0.1541\n",
            " =========== EPOCH 17 ===========\n",
            "Train Loss: 0.1807, Validation Loss: 0.3239\n",
            " =========== EPOCH 18 ===========\n",
            "Train Loss: 0.1399, Validation Loss: 0.2835\n",
            " =========== EPOCH 19 ===========\n"
          ]
        },
        {
          "output_type": "stream",
          "name": "stderr",
          "text": [
            "[I 2024-03-16 20:06:37,642] Trial 54 finished with value: 0.2636934598286947 and parameters: {'learning_rate': 0.00012115893480487151, 'num_encoder_layers': 6, 'num_decoder_layers': 4, 'num_heads': 47, 'dropout': 0.1451243749575431}. Best is trial 4 with value: 0.1414381007353465.\n"
          ]
        },
        {
          "output_type": "stream",
          "name": "stdout",
          "text": [
            "Train Loss: 0.1580, Validation Loss: 0.2637\n",
            "Best validation loss: 0.2636934598286947\n",
            "num_encoder_layers; num_decoder_layers; learning_rate; num_heads; dropout;\n",
            "6; 4; 0,00012116; 47; 0,14512437; Validation;  0,7372; 0,2484; 1,0014; 0,4173; 0,3230; 0,3904; 0,2547; 0,2939; 0,4074; 0,2586; 0,2158; 0,2896; 0,1956; 0,1633; 0,2095; 0,1314; 0,1541; 0,3239; 0,2835; 0,2637\n",
            " ; ; ; ; ; Train;  1,2950; 0,5166; 0,2956; 0,2777; 0,2462; 0,2142; 0,2339; 0,2019; 0,2305; 0,2068; 0,1843; 0,1825; 0,1769; 0,1763; 0,1460; 0,1333; 0,1674; 0,1807; 0,1399; 0,1580\n",
            "Parameters selected\n",
            "num_encoder_layers; num_decoder_layers; learning_rate; num_heads; dropout\n",
            "2; 4; 0,00015038310976366035; 47; 0,1659234714514859\n",
            " =========== EPOCH 0 ===========\n"
          ]
        },
        {
          "output_type": "stream",
          "name": "stderr",
          "text": [
            "[I 2024-03-16 20:06:41,423] Trial 55 pruned. \n"
          ]
        },
        {
          "output_type": "stream",
          "name": "stdout",
          "text": [
            "Train Loss: 1.1582, Validation Loss: 1.1591\n",
            "Parameters selected\n",
            "num_encoder_layers; num_decoder_layers; learning_rate; num_heads; dropout\n",
            "6; 6; 0,00010031595668462718; 47; 0,1295767492292847\n",
            " =========== EPOCH 0 ===========\n"
          ]
        },
        {
          "output_type": "stream",
          "name": "stderr",
          "text": [
            "[I 2024-03-16 20:06:47,084] Trial 56 pruned. \n"
          ]
        },
        {
          "output_type": "stream",
          "name": "stdout",
          "text": [
            "Train Loss: 1.0004, Validation Loss: 1.0804\n",
            "Parameters selected\n",
            "num_encoder_layers; num_decoder_layers; learning_rate; num_heads; dropout\n",
            "6; 4; 0,0004216091158386748; 2; 0,1782558294580964\n",
            " =========== EPOCH 0 ===========\n"
          ]
        },
        {
          "output_type": "stream",
          "name": "stderr",
          "text": [
            "[I 2024-03-16 20:06:52,294] Trial 57 pruned. \n"
          ]
        },
        {
          "output_type": "stream",
          "name": "stdout",
          "text": [
            "Train Loss: 1.8190, Validation Loss: 1.5783\n",
            "Parameters selected\n",
            "num_encoder_layers; num_decoder_layers; learning_rate; num_heads; dropout\n",
            "6; 4; 0,00022139414919139324; 47; 0,10856165628373174\n",
            " =========== EPOCH 0 ===========\n"
          ]
        },
        {
          "output_type": "stream",
          "name": "stderr",
          "text": [
            "[I 2024-03-16 20:06:57,223] Trial 58 pruned. \n"
          ]
        },
        {
          "output_type": "stream",
          "name": "stdout",
          "text": [
            "Train Loss: 1.7759, Validation Loss: 1.6633\n",
            "Parameters selected\n",
            "num_encoder_layers; num_decoder_layers; learning_rate; num_heads; dropout\n",
            "2; 8; 0,00011833680470745883; 6; 0,12321478420460527\n",
            " =========== EPOCH 0 ===========\n",
            "Train Loss: 0.9486, Validation Loss: 0.7225\n",
            " =========== EPOCH 1 ===========\n"
          ]
        },
        {
          "output_type": "stream",
          "name": "stderr",
          "text": [
            "[I 2024-03-16 20:07:08,010] Trial 59 pruned. \n"
          ]
        },
        {
          "output_type": "stream",
          "name": "stdout",
          "text": [
            "Train Loss: 0.5230, Validation Loss: 1.7568\n",
            "Parameters selected\n",
            "num_encoder_layers; num_decoder_layers; learning_rate; num_heads; dropout\n",
            "6; 6; 0,008098303277661393; 47; 0,18885895632206506\n",
            " =========== EPOCH 0 ===========\n"
          ]
        },
        {
          "output_type": "stream",
          "name": "stderr",
          "text": [
            "[I 2024-03-16 20:07:14,247] Trial 60 pruned. \n"
          ]
        },
        {
          "output_type": "stream",
          "name": "stdout",
          "text": [
            "Train Loss: 2.4508, Validation Loss: 1.5533\n",
            "Parameters selected\n",
            "num_encoder_layers; num_decoder_layers; learning_rate; num_heads; dropout\n",
            "6; 4; 0,00014987051988838476; 47; 0,14023041315089596\n",
            " =========== EPOCH 0 ===========\n",
            "Train Loss: 0.8610, Validation Loss: 0.5787\n",
            " =========== EPOCH 1 ===========\n",
            "Train Loss: 0.3715, Validation Loss: 0.3453\n",
            " =========== EPOCH 2 ===========\n",
            "Train Loss: 0.3022, Validation Loss: 0.4670\n",
            " =========== EPOCH 3 ===========\n",
            "Train Loss: 0.2801, Validation Loss: 0.4553\n",
            " =========== EPOCH 4 ===========\n",
            "Train Loss: 0.1874, Validation Loss: 0.3134\n",
            " =========== EPOCH 5 ===========\n",
            "Train Loss: 0.1999, Validation Loss: 0.2825\n",
            " =========== EPOCH 6 ===========\n",
            "Train Loss: 0.1854, Validation Loss: 0.2855\n",
            " =========== EPOCH 7 ===========\n",
            "Train Loss: 0.2103, Validation Loss: 0.3730\n",
            " =========== EPOCH 8 ===========\n",
            "Train Loss: 0.1804, Validation Loss: 0.3140\n",
            " =========== EPOCH 9 ===========\n",
            "Train Loss: 0.1696, Validation Loss: 0.2403\n",
            " =========== EPOCH 10 ===========\n",
            "Train Loss: 0.1986, Validation Loss: 0.1441\n",
            " =========== EPOCH 11 ===========\n",
            "Train Loss: 0.1714, Validation Loss: 0.4670\n",
            " =========== EPOCH 12 ===========\n",
            "Train Loss: 0.1829, Validation Loss: 0.2701\n",
            " =========== EPOCH 13 ===========\n",
            "Train Loss: 0.1549, Validation Loss: 0.0935\n",
            " =========== EPOCH 14 ===========\n",
            "Train Loss: 0.1572, Validation Loss: 0.2617\n",
            " =========== EPOCH 15 ===========\n",
            "Train Loss: 0.1425, Validation Loss: 0.1418\n",
            " =========== EPOCH 16 ===========\n",
            "Train Loss: 0.1079, Validation Loss: 0.2434\n",
            " =========== EPOCH 17 ===========\n",
            "Train Loss: 0.1267, Validation Loss: 0.3977\n",
            " =========== EPOCH 18 ===========\n",
            "Train Loss: 0.1236, Validation Loss: 0.1571\n",
            " =========== EPOCH 19 ===========\n"
          ]
        },
        {
          "output_type": "stream",
          "name": "stderr",
          "text": [
            "[I 2024-03-16 20:08:54,265] Trial 61 finished with value: 0.2655159960190455 and parameters: {'learning_rate': 0.00014987051988838476, 'num_encoder_layers': 6, 'num_decoder_layers': 4, 'num_heads': 47, 'dropout': 0.14023041315089596}. Best is trial 4 with value: 0.1414381007353465.\n"
          ]
        },
        {
          "output_type": "stream",
          "name": "stdout",
          "text": [
            "Train Loss: 0.1288, Validation Loss: 0.2655\n",
            "Best validation loss: 0.2655159960190455\n",
            "num_encoder_layers; num_decoder_layers; learning_rate; num_heads; dropout;\n",
            "6; 4; 0,00014987; 47; 0,14023041; Validation;  0,5787; 0,3453; 0,4670; 0,4553; 0,3134; 0,2825; 0,2855; 0,3730; 0,3140; 0,2403; 0,1441; 0,4670; 0,2701; 0,0935; 0,2617; 0,1418; 0,2434; 0,3977; 0,1571; 0,2655\n",
            " ; ; ; ; ; Train;  0,8610; 0,3715; 0,3022; 0,2801; 0,1874; 0,1999; 0,1854; 0,2103; 0,1804; 0,1696; 0,1986; 0,1714; 0,1829; 0,1549; 0,1572; 0,1425; 0,1079; 0,1267; 0,1236; 0,1288\n",
            "Parameters selected\n",
            "num_encoder_layers; num_decoder_layers; learning_rate; num_heads; dropout\n",
            "6; 4; 0,00014969243157076945; 47; 0,13384308901151373\n",
            " =========== EPOCH 0 ===========\n"
          ]
        },
        {
          "output_type": "stream",
          "name": "stderr",
          "text": [
            "[I 2024-03-16 20:08:59,402] Trial 62 pruned. \n"
          ]
        },
        {
          "output_type": "stream",
          "name": "stdout",
          "text": [
            "Train Loss: 1.2868, Validation Loss: 0.9795\n",
            "Parameters selected\n",
            "num_encoder_layers; num_decoder_layers; learning_rate; num_heads; dropout\n",
            "6; 4; 0,00017352792910756577; 47; 0,16097320332478682\n",
            " =========== EPOCH 0 ===========\n"
          ]
        },
        {
          "output_type": "stream",
          "name": "stderr",
          "text": [
            "[I 2024-03-16 20:09:04,762] Trial 63 pruned. \n"
          ]
        },
        {
          "output_type": "stream",
          "name": "stdout",
          "text": [
            "Train Loss: 1.2857, Validation Loss: 1.1040\n",
            "Parameters selected\n",
            "num_encoder_layers; num_decoder_layers; learning_rate; num_heads; dropout\n",
            "6; 4; 0,00013872485769603925; 47; 0,15109119564872894\n",
            " =========== EPOCH 0 ===========\n",
            "Train Loss: 1.2359, Validation Loss: 0.6843\n",
            " =========== EPOCH 1 ===========\n"
          ]
        },
        {
          "output_type": "stream",
          "name": "stderr",
          "text": [
            "[I 2024-03-16 20:09:14,875] Trial 64 pruned. \n"
          ]
        },
        {
          "output_type": "stream",
          "name": "stdout",
          "text": [
            "Train Loss: 0.5250, Validation Loss: 1.1788\n",
            "Parameters selected\n",
            "num_encoder_layers; num_decoder_layers; learning_rate; num_heads; dropout\n",
            "4; 4; 0,00011742382919897915; 47; 0,1339963000887785\n",
            " =========== EPOCH 0 ===========\n",
            "Train Loss: 0.9503, Validation Loss: 0.8289\n",
            " =========== EPOCH 1 ===========\n"
          ]
        },
        {
          "output_type": "stream",
          "name": "stderr",
          "text": [
            "[I 2024-03-16 20:09:23,649] Trial 65 pruned. \n"
          ]
        },
        {
          "output_type": "stream",
          "name": "stdout",
          "text": [
            "Train Loss: 0.4313, Validation Loss: 0.7149\n",
            "Parameters selected\n",
            "num_encoder_layers; num_decoder_layers; learning_rate; num_heads; dropout\n",
            "6; 4; 0,0037518701990608993; 3; 0,14219303115168075\n",
            " =========== EPOCH 0 ===========\n"
          ]
        },
        {
          "output_type": "stream",
          "name": "stderr",
          "text": [
            "[I 2024-03-16 20:09:28,954] Trial 66 pruned. \n"
          ]
        },
        {
          "output_type": "stream",
          "name": "stdout",
          "text": [
            "Train Loss: 2.0845, Validation Loss: 1.7119\n",
            "Parameters selected\n",
            "num_encoder_layers; num_decoder_layers; learning_rate; num_heads; dropout\n",
            "2; 4; 0,00030554548732985074; 47; 0,12077418409894823\n",
            " =========== EPOCH 0 ===========\n"
          ]
        },
        {
          "output_type": "stream",
          "name": "stderr",
          "text": [
            "[I 2024-03-16 20:09:32,813] Trial 67 pruned. \n"
          ]
        },
        {
          "output_type": "stream",
          "name": "stdout",
          "text": [
            "Train Loss: 1.4180, Validation Loss: 1.8142\n",
            "Parameters selected\n",
            "num_encoder_layers; num_decoder_layers; learning_rate; num_heads; dropout\n",
            "8; 6; 0,000198365602480647; 47; 0,2679331433054037\n",
            " =========== EPOCH 0 ===========\n"
          ]
        },
        {
          "output_type": "stream",
          "name": "stderr",
          "text": [
            "[I 2024-03-16 20:09:39,696] Trial 68 pruned. \n"
          ]
        },
        {
          "output_type": "stream",
          "name": "stdout",
          "text": [
            "Train Loss: 1.6636, Validation Loss: 1.6540\n",
            "Parameters selected\n",
            "num_encoder_layers; num_decoder_layers; learning_rate; num_heads; dropout\n",
            "6; 10; 0,00026442274997415737; 2; 0,1659959157075212\n",
            " =========== EPOCH 0 ===========\n"
          ]
        },
        {
          "output_type": "stream",
          "name": "stderr",
          "text": [
            "[I 2024-03-16 20:09:46,775] Trial 69 pruned. \n"
          ]
        },
        {
          "output_type": "stream",
          "name": "stdout",
          "text": [
            "Train Loss: 1.6946, Validation Loss: 1.4820\n",
            "Parameters selected\n",
            "num_encoder_layers; num_decoder_layers; learning_rate; num_heads; dropout\n",
            "6; 4; 0,0013157461025602897; 47; 0,15587801924352235\n",
            " =========== EPOCH 0 ===========\n"
          ]
        },
        {
          "output_type": "stream",
          "name": "stderr",
          "text": [
            "[I 2024-03-16 20:09:52,258] Trial 70 pruned. \n"
          ]
        },
        {
          "output_type": "stream",
          "name": "stdout",
          "text": [
            "Train Loss: 2.0484, Validation Loss: 1.4628\n",
            "Parameters selected\n",
            "num_encoder_layers; num_decoder_layers; learning_rate; num_heads; dropout\n",
            "6; 4; 0,0001563540900475655; 47; 0,17945129186208347\n",
            " =========== EPOCH 0 ===========\n"
          ]
        },
        {
          "output_type": "stream",
          "name": "stderr",
          "text": [
            "[I 2024-03-16 20:09:57,420] Trial 71 pruned. \n"
          ]
        },
        {
          "output_type": "stream",
          "name": "stdout",
          "text": [
            "Train Loss: 1.2977, Validation Loss: 2.1131\n",
            "Parameters selected\n",
            "num_encoder_layers; num_decoder_layers; learning_rate; num_heads; dropout\n",
            "6; 4; 0,00012992772362286153; 47; 0,19763669564915373\n",
            " =========== EPOCH 0 ===========\n",
            "Train Loss: 1.2501, Validation Loss: 0.9097\n",
            " =========== EPOCH 1 ===========\n"
          ]
        },
        {
          "output_type": "stream",
          "name": "stderr",
          "text": [
            "[I 2024-03-16 20:10:07,808] Trial 72 pruned. \n"
          ]
        },
        {
          "output_type": "stream",
          "name": "stdout",
          "text": [
            "Train Loss: 0.6606, Validation Loss: 0.6784\n",
            "Parameters selected\n",
            "num_encoder_layers; num_decoder_layers; learning_rate; num_heads; dropout\n",
            "6; 4; 0,00011558666873851111; 47; 0,2318715925666485\n",
            " =========== EPOCH 0 ===========\n"
          ]
        },
        {
          "output_type": "stream",
          "name": "stderr",
          "text": [
            "[I 2024-03-16 20:10:13,382] Trial 73 pruned. \n"
          ]
        },
        {
          "output_type": "stream",
          "name": "stdout",
          "text": [
            "Train Loss: 1.3943, Validation Loss: 1.4631\n",
            "Parameters selected\n",
            "num_encoder_layers; num_decoder_layers; learning_rate; num_heads; dropout\n",
            "6; 4; 0,00013980336392954788; 47; 0,1692366022589158\n",
            " =========== EPOCH 0 ===========\n"
          ]
        },
        {
          "output_type": "stream",
          "name": "stderr",
          "text": [
            "[I 2024-03-16 20:10:18,375] Trial 74 pruned. \n"
          ]
        },
        {
          "output_type": "stream",
          "name": "stdout",
          "text": [
            "Train Loss: 1.1806, Validation Loss: 1.0679\n",
            "Parameters selected\n",
            "num_encoder_layers; num_decoder_layers; learning_rate; num_heads; dropout\n",
            "6; 4; 0,0001699280072116286; 47; 0,1855699483389137\n",
            " =========== EPOCH 0 ===========\n",
            "Train Loss: 1.2394, Validation Loss: 0.9157\n",
            " =========== EPOCH 1 ===========\n",
            "Train Loss: 0.5646, Validation Loss: 0.3807\n",
            " =========== EPOCH 2 ===========\n",
            "Train Loss: 0.4447, Validation Loss: 0.3324\n",
            " =========== EPOCH 3 ===========\n",
            "Train Loss: 0.3721, Validation Loss: 0.3845\n",
            " =========== EPOCH 4 ===========\n",
            "Train Loss: 0.3428, Validation Loss: 0.5366\n",
            " =========== EPOCH 5 ===========\n",
            "Train Loss: 0.3066, Validation Loss: 0.6259\n",
            " =========== EPOCH 6 ===========\n"
          ]
        },
        {
          "output_type": "stream",
          "name": "stderr",
          "text": [
            "[I 2024-03-16 20:10:53,358] Trial 75 pruned. \n"
          ]
        },
        {
          "output_type": "stream",
          "name": "stdout",
          "text": [
            "Train Loss: 0.2822, Validation Loss: 0.3951\n",
            "Parameters selected\n",
            "num_encoder_layers; num_decoder_layers; learning_rate; num_heads; dropout\n",
            "2; 8; 0,00021566527109754462; 47; 0,14448284994891958\n",
            " =========== EPOCH 0 ===========\n"
          ]
        },
        {
          "output_type": "stream",
          "name": "stderr",
          "text": [
            "[I 2024-03-16 20:10:58,950] Trial 76 pruned. \n"
          ]
        },
        {
          "output_type": "stream",
          "name": "stdout",
          "text": [
            "Train Loss: 1.1475, Validation Loss: 1.7281\n",
            "Parameters selected\n",
            "num_encoder_layers; num_decoder_layers; learning_rate; num_heads; dropout\n",
            "6; 6; 0,00011177088860097265; 6; 0,16124376133508084\n",
            " =========== EPOCH 0 ===========\n",
            "Train Loss: 1.1131, Validation Loss: 0.3714\n",
            " =========== EPOCH 1 ===========\n",
            "Train Loss: 0.5165, Validation Loss: 1.1580\n",
            " =========== EPOCH 2 ===========\n",
            "Train Loss: 0.4157, Validation Loss: 1.7302\n",
            " =========== EPOCH 3 ===========\n",
            "Train Loss: 0.3315, Validation Loss: 1.3336\n",
            " =========== EPOCH 4 ===========\n",
            "Train Loss: 0.2860, Validation Loss: 0.6194\n",
            " =========== EPOCH 5 ===========\n",
            "Train Loss: 0.2699, Validation Loss: 1.4619\n",
            " =========== EPOCH 6 ===========\n"
          ]
        },
        {
          "output_type": "stream",
          "name": "stderr",
          "text": [
            "[I 2024-03-16 20:11:37,400] Trial 77 pruned. \n"
          ]
        },
        {
          "output_type": "stream",
          "name": "stdout",
          "text": [
            "Train Loss: 0.2747, Validation Loss: 0.8719\n",
            "Parameters selected\n",
            "num_encoder_layers; num_decoder_layers; learning_rate; num_heads; dropout\n",
            "4; 4; 0,00013179482555443148; 47; 0,21432702571676482\n",
            " =========== EPOCH 0 ===========\n"
          ]
        },
        {
          "output_type": "stream",
          "name": "stderr",
          "text": [
            "[I 2024-03-16 20:11:41,919] Trial 78 pruned. \n"
          ]
        },
        {
          "output_type": "stream",
          "name": "stdout",
          "text": [
            "Train Loss: 1.2679, Validation Loss: 1.3993\n",
            "Parameters selected\n",
            "num_encoder_layers; num_decoder_layers; learning_rate; num_heads; dropout\n",
            "6; 4; 0,000101697194193215; 3; 0,13090419056649705\n",
            " =========== EPOCH 0 ===========\n",
            "Train Loss: 1.1223, Validation Loss: 0.8232\n",
            " =========== EPOCH 1 ===========\n"
          ]
        },
        {
          "output_type": "stream",
          "name": "stderr",
          "text": [
            "[I 2024-03-16 20:11:52,086] Trial 79 pruned. \n"
          ]
        },
        {
          "output_type": "stream",
          "name": "stdout",
          "text": [
            "Train Loss: 0.4845, Validation Loss: 0.4682\n"
          ]
        }
      ]
    },
    {
      "cell_type": "code",
      "source": [
        "print(\"Best trial:\")\n",
        "trial = my_study.best_trial\n",
        "print(f\"  Value: {trial.value}\")\n",
        "print(\"  Params: \")\n",
        "for key, value in trial.params.items():\n",
        "    print(f\"    {key}: {value}\")"
      ],
      "metadata": {
        "colab": {
          "base_uri": "https://localhost:8080/"
        },
        "id": "c4_AfTVcfoCX",
        "outputId": "e541cd40-2cf4-4fa8-d2d5-0fd736b15665"
      },
      "execution_count": 31,
      "outputs": [
        {
          "output_type": "stream",
          "name": "stdout",
          "text": [
            "Best trial:\n",
            "  Value: 0.1414381007353465\n",
            "  Params: \n",
            "    learning_rate: 0.00017925927728900643\n",
            "    num_encoder_layers: 6\n",
            "    num_decoder_layers: 6\n",
            "    num_heads: 47\n",
            "    dropout: 0.18455880396778643\n"
          ]
        }
      ]
    },
    {
      "cell_type": "code",
      "source": [
        "from optuna.visualization import plot_optimization_history, plot_param_importances\n",
        "\n",
        "plot_optimization_history(my_study)"
      ],
      "metadata": {
        "colab": {
          "base_uri": "https://localhost:8080/",
          "height": 542
        },
        "id": "b87vzWYri3aO",
        "outputId": "5990c8ea-bcf4-4668-fd05-d91fb7fd9e4c"
      },
      "execution_count": 32,
      "outputs": [
        {
          "output_type": "display_data",
          "data": {
            "text/html": [
              "<html>\n",
              "<head><meta charset=\"utf-8\" /></head>\n",
              "<body>\n",
              "    <div>            <script src=\"https://cdnjs.cloudflare.com/ajax/libs/mathjax/2.7.5/MathJax.js?config=TeX-AMS-MML_SVG\"></script><script type=\"text/javascript\">if (window.MathJax && window.MathJax.Hub && window.MathJax.Hub.Config) {window.MathJax.Hub.Config({SVG: {font: \"STIX-Web\"}});}</script>                <script type=\"text/javascript\">window.PlotlyConfig = {MathJaxConfig: 'local'};</script>\n",
              "        <script charset=\"utf-8\" src=\"https://cdn.plot.ly/plotly-2.24.1.min.js\"></script>                <div id=\"400f014d-e7e5-4f14-aff9-b24c07d3838e\" class=\"plotly-graph-div\" style=\"height:525px; width:100%;\"></div>            <script type=\"text/javascript\">                                    window.PLOTLYENV=window.PLOTLYENV || {};                                    if (document.getElementById(\"400f014d-e7e5-4f14-aff9-b24c07d3838e\")) {                    Plotly.newPlot(                        \"400f014d-e7e5-4f14-aff9-b24c07d3838e\",                        [{\"mode\":\"markers\",\"name\":\"Objective Value\",\"x\":[0,1,2,3,4,5,7,21,24,31,39,42,43,54,61],\"y\":[1.475909662246704,2.395620171229045,0.20615317126115162,1.509256410598755,0.1414381007353465,0.40734439094861347,0.1954104095697403,0.17390699982643126,0.2621426304181417,0.2435350348552068,0.34057660897572833,0.2295755475759506,0.25970935622851055,0.2636934598286947,0.2655159960190455],\"type\":\"scatter\"},{\"mode\":\"lines\",\"name\":\"Best Value\",\"x\":[0,1,2,3,4,5,6,7,8,9,10,11,12,13,14,15,16,17,18,19,20,21,22,23,24,25,26,27,28,29,30,31,32,33,34,35,36,37,38,39,40,41,42,43,44,45,46,47,48,49,50,51,52,53,54,55,56,57,58,59,60,61,62,63,64,65,66,67,68,69,70,71,72,73,74,75,76,77,78,79],\"y\":[1.475909662246704,1.475909662246704,0.20615317126115162,0.20615317126115162,0.1414381007353465,0.1414381007353465,0.1414381007353465,0.1414381007353465,0.1414381007353465,0.1414381007353465,0.1414381007353465,0.1414381007353465,0.1414381007353465,0.1414381007353465,0.1414381007353465,0.1414381007353465,0.1414381007353465,0.1414381007353465,0.1414381007353465,0.1414381007353465,0.1414381007353465,0.1414381007353465,0.1414381007353465,0.1414381007353465,0.1414381007353465,0.1414381007353465,0.1414381007353465,0.1414381007353465,0.1414381007353465,0.1414381007353465,0.1414381007353465,0.1414381007353465,0.1414381007353465,0.1414381007353465,0.1414381007353465,0.1414381007353465,0.1414381007353465,0.1414381007353465,0.1414381007353465,0.1414381007353465,0.1414381007353465,0.1414381007353465,0.1414381007353465,0.1414381007353465,0.1414381007353465,0.1414381007353465,0.1414381007353465,0.1414381007353465,0.1414381007353465,0.1414381007353465,0.1414381007353465,0.1414381007353465,0.1414381007353465,0.1414381007353465,0.1414381007353465,0.1414381007353465,0.1414381007353465,0.1414381007353465,0.1414381007353465,0.1414381007353465,0.1414381007353465,0.1414381007353465,0.1414381007353465,0.1414381007353465,0.1414381007353465,0.1414381007353465,0.1414381007353465,0.1414381007353465,0.1414381007353465,0.1414381007353465,0.1414381007353465,0.1414381007353465,0.1414381007353465,0.1414381007353465,0.1414381007353465,0.1414381007353465,0.1414381007353465,0.1414381007353465,0.1414381007353465,0.1414381007353465],\"type\":\"scatter\"},{\"marker\":{\"color\":\"#cccccc\"},\"mode\":\"markers\",\"name\":\"Infeasible Trial\",\"showlegend\":false,\"x\":[],\"y\":[],\"type\":\"scatter\"}],                        {\"title\":{\"text\":\"Optimization History Plot\"},\"xaxis\":{\"title\":{\"text\":\"Trial\"}},\"yaxis\":{\"title\":{\"text\":\"Objective Value\"}},\"template\":{\"data\":{\"histogram2dcontour\":[{\"type\":\"histogram2dcontour\",\"colorbar\":{\"outlinewidth\":0,\"ticks\":\"\"},\"colorscale\":[[0.0,\"#0d0887\"],[0.1111111111111111,\"#46039f\"],[0.2222222222222222,\"#7201a8\"],[0.3333333333333333,\"#9c179e\"],[0.4444444444444444,\"#bd3786\"],[0.5555555555555556,\"#d8576b\"],[0.6666666666666666,\"#ed7953\"],[0.7777777777777778,\"#fb9f3a\"],[0.8888888888888888,\"#fdca26\"],[1.0,\"#f0f921\"]]}],\"choropleth\":[{\"type\":\"choropleth\",\"colorbar\":{\"outlinewidth\":0,\"ticks\":\"\"}}],\"histogram2d\":[{\"type\":\"histogram2d\",\"colorbar\":{\"outlinewidth\":0,\"ticks\":\"\"},\"colorscale\":[[0.0,\"#0d0887\"],[0.1111111111111111,\"#46039f\"],[0.2222222222222222,\"#7201a8\"],[0.3333333333333333,\"#9c179e\"],[0.4444444444444444,\"#bd3786\"],[0.5555555555555556,\"#d8576b\"],[0.6666666666666666,\"#ed7953\"],[0.7777777777777778,\"#fb9f3a\"],[0.8888888888888888,\"#fdca26\"],[1.0,\"#f0f921\"]]}],\"heatmap\":[{\"type\":\"heatmap\",\"colorbar\":{\"outlinewidth\":0,\"ticks\":\"\"},\"colorscale\":[[0.0,\"#0d0887\"],[0.1111111111111111,\"#46039f\"],[0.2222222222222222,\"#7201a8\"],[0.3333333333333333,\"#9c179e\"],[0.4444444444444444,\"#bd3786\"],[0.5555555555555556,\"#d8576b\"],[0.6666666666666666,\"#ed7953\"],[0.7777777777777778,\"#fb9f3a\"],[0.8888888888888888,\"#fdca26\"],[1.0,\"#f0f921\"]]}],\"heatmapgl\":[{\"type\":\"heatmapgl\",\"colorbar\":{\"outlinewidth\":0,\"ticks\":\"\"},\"colorscale\":[[0.0,\"#0d0887\"],[0.1111111111111111,\"#46039f\"],[0.2222222222222222,\"#7201a8\"],[0.3333333333333333,\"#9c179e\"],[0.4444444444444444,\"#bd3786\"],[0.5555555555555556,\"#d8576b\"],[0.6666666666666666,\"#ed7953\"],[0.7777777777777778,\"#fb9f3a\"],[0.8888888888888888,\"#fdca26\"],[1.0,\"#f0f921\"]]}],\"contourcarpet\":[{\"type\":\"contourcarpet\",\"colorbar\":{\"outlinewidth\":0,\"ticks\":\"\"}}],\"contour\":[{\"type\":\"contour\",\"colorbar\":{\"outlinewidth\":0,\"ticks\":\"\"},\"colorscale\":[[0.0,\"#0d0887\"],[0.1111111111111111,\"#46039f\"],[0.2222222222222222,\"#7201a8\"],[0.3333333333333333,\"#9c179e\"],[0.4444444444444444,\"#bd3786\"],[0.5555555555555556,\"#d8576b\"],[0.6666666666666666,\"#ed7953\"],[0.7777777777777778,\"#fb9f3a\"],[0.8888888888888888,\"#fdca26\"],[1.0,\"#f0f921\"]]}],\"surface\":[{\"type\":\"surface\",\"colorbar\":{\"outlinewidth\":0,\"ticks\":\"\"},\"colorscale\":[[0.0,\"#0d0887\"],[0.1111111111111111,\"#46039f\"],[0.2222222222222222,\"#7201a8\"],[0.3333333333333333,\"#9c179e\"],[0.4444444444444444,\"#bd3786\"],[0.5555555555555556,\"#d8576b\"],[0.6666666666666666,\"#ed7953\"],[0.7777777777777778,\"#fb9f3a\"],[0.8888888888888888,\"#fdca26\"],[1.0,\"#f0f921\"]]}],\"mesh3d\":[{\"type\":\"mesh3d\",\"colorbar\":{\"outlinewidth\":0,\"ticks\":\"\"}}],\"scatter\":[{\"fillpattern\":{\"fillmode\":\"overlay\",\"size\":10,\"solidity\":0.2},\"type\":\"scatter\"}],\"parcoords\":[{\"type\":\"parcoords\",\"line\":{\"colorbar\":{\"outlinewidth\":0,\"ticks\":\"\"}}}],\"scatterpolargl\":[{\"type\":\"scatterpolargl\",\"marker\":{\"colorbar\":{\"outlinewidth\":0,\"ticks\":\"\"}}}],\"bar\":[{\"error_x\":{\"color\":\"#2a3f5f\"},\"error_y\":{\"color\":\"#2a3f5f\"},\"marker\":{\"line\":{\"color\":\"#E5ECF6\",\"width\":0.5},\"pattern\":{\"fillmode\":\"overlay\",\"size\":10,\"solidity\":0.2}},\"type\":\"bar\"}],\"scattergeo\":[{\"type\":\"scattergeo\",\"marker\":{\"colorbar\":{\"outlinewidth\":0,\"ticks\":\"\"}}}],\"scatterpolar\":[{\"type\":\"scatterpolar\",\"marker\":{\"colorbar\":{\"outlinewidth\":0,\"ticks\":\"\"}}}],\"histogram\":[{\"marker\":{\"pattern\":{\"fillmode\":\"overlay\",\"size\":10,\"solidity\":0.2}},\"type\":\"histogram\"}],\"scattergl\":[{\"type\":\"scattergl\",\"marker\":{\"colorbar\":{\"outlinewidth\":0,\"ticks\":\"\"}}}],\"scatter3d\":[{\"type\":\"scatter3d\",\"line\":{\"colorbar\":{\"outlinewidth\":0,\"ticks\":\"\"}},\"marker\":{\"colorbar\":{\"outlinewidth\":0,\"ticks\":\"\"}}}],\"scattermapbox\":[{\"type\":\"scattermapbox\",\"marker\":{\"colorbar\":{\"outlinewidth\":0,\"ticks\":\"\"}}}],\"scatterternary\":[{\"type\":\"scatterternary\",\"marker\":{\"colorbar\":{\"outlinewidth\":0,\"ticks\":\"\"}}}],\"scattercarpet\":[{\"type\":\"scattercarpet\",\"marker\":{\"colorbar\":{\"outlinewidth\":0,\"ticks\":\"\"}}}],\"carpet\":[{\"aaxis\":{\"endlinecolor\":\"#2a3f5f\",\"gridcolor\":\"white\",\"linecolor\":\"white\",\"minorgridcolor\":\"white\",\"startlinecolor\":\"#2a3f5f\"},\"baxis\":{\"endlinecolor\":\"#2a3f5f\",\"gridcolor\":\"white\",\"linecolor\":\"white\",\"minorgridcolor\":\"white\",\"startlinecolor\":\"#2a3f5f\"},\"type\":\"carpet\"}],\"table\":[{\"cells\":{\"fill\":{\"color\":\"#EBF0F8\"},\"line\":{\"color\":\"white\"}},\"header\":{\"fill\":{\"color\":\"#C8D4E3\"},\"line\":{\"color\":\"white\"}},\"type\":\"table\"}],\"barpolar\":[{\"marker\":{\"line\":{\"color\":\"#E5ECF6\",\"width\":0.5},\"pattern\":{\"fillmode\":\"overlay\",\"size\":10,\"solidity\":0.2}},\"type\":\"barpolar\"}],\"pie\":[{\"automargin\":true,\"type\":\"pie\"}]},\"layout\":{\"autotypenumbers\":\"strict\",\"colorway\":[\"#636efa\",\"#EF553B\",\"#00cc96\",\"#ab63fa\",\"#FFA15A\",\"#19d3f3\",\"#FF6692\",\"#B6E880\",\"#FF97FF\",\"#FECB52\"],\"font\":{\"color\":\"#2a3f5f\"},\"hovermode\":\"closest\",\"hoverlabel\":{\"align\":\"left\"},\"paper_bgcolor\":\"white\",\"plot_bgcolor\":\"#E5ECF6\",\"polar\":{\"bgcolor\":\"#E5ECF6\",\"angularaxis\":{\"gridcolor\":\"white\",\"linecolor\":\"white\",\"ticks\":\"\"},\"radialaxis\":{\"gridcolor\":\"white\",\"linecolor\":\"white\",\"ticks\":\"\"}},\"ternary\":{\"bgcolor\":\"#E5ECF6\",\"aaxis\":{\"gridcolor\":\"white\",\"linecolor\":\"white\",\"ticks\":\"\"},\"baxis\":{\"gridcolor\":\"white\",\"linecolor\":\"white\",\"ticks\":\"\"},\"caxis\":{\"gridcolor\":\"white\",\"linecolor\":\"white\",\"ticks\":\"\"}},\"coloraxis\":{\"colorbar\":{\"outlinewidth\":0,\"ticks\":\"\"}},\"colorscale\":{\"sequential\":[[0.0,\"#0d0887\"],[0.1111111111111111,\"#46039f\"],[0.2222222222222222,\"#7201a8\"],[0.3333333333333333,\"#9c179e\"],[0.4444444444444444,\"#bd3786\"],[0.5555555555555556,\"#d8576b\"],[0.6666666666666666,\"#ed7953\"],[0.7777777777777778,\"#fb9f3a\"],[0.8888888888888888,\"#fdca26\"],[1.0,\"#f0f921\"]],\"sequentialminus\":[[0.0,\"#0d0887\"],[0.1111111111111111,\"#46039f\"],[0.2222222222222222,\"#7201a8\"],[0.3333333333333333,\"#9c179e\"],[0.4444444444444444,\"#bd3786\"],[0.5555555555555556,\"#d8576b\"],[0.6666666666666666,\"#ed7953\"],[0.7777777777777778,\"#fb9f3a\"],[0.8888888888888888,\"#fdca26\"],[1.0,\"#f0f921\"]],\"diverging\":[[0,\"#8e0152\"],[0.1,\"#c51b7d\"],[0.2,\"#de77ae\"],[0.3,\"#f1b6da\"],[0.4,\"#fde0ef\"],[0.5,\"#f7f7f7\"],[0.6,\"#e6f5d0\"],[0.7,\"#b8e186\"],[0.8,\"#7fbc41\"],[0.9,\"#4d9221\"],[1,\"#276419\"]]},\"xaxis\":{\"gridcolor\":\"white\",\"linecolor\":\"white\",\"ticks\":\"\",\"title\":{\"standoff\":15},\"zerolinecolor\":\"white\",\"automargin\":true,\"zerolinewidth\":2},\"yaxis\":{\"gridcolor\":\"white\",\"linecolor\":\"white\",\"ticks\":\"\",\"title\":{\"standoff\":15},\"zerolinecolor\":\"white\",\"automargin\":true,\"zerolinewidth\":2},\"scene\":{\"xaxis\":{\"backgroundcolor\":\"#E5ECF6\",\"gridcolor\":\"white\",\"linecolor\":\"white\",\"showbackground\":true,\"ticks\":\"\",\"zerolinecolor\":\"white\",\"gridwidth\":2},\"yaxis\":{\"backgroundcolor\":\"#E5ECF6\",\"gridcolor\":\"white\",\"linecolor\":\"white\",\"showbackground\":true,\"ticks\":\"\",\"zerolinecolor\":\"white\",\"gridwidth\":2},\"zaxis\":{\"backgroundcolor\":\"#E5ECF6\",\"gridcolor\":\"white\",\"linecolor\":\"white\",\"showbackground\":true,\"ticks\":\"\",\"zerolinecolor\":\"white\",\"gridwidth\":2}},\"shapedefaults\":{\"line\":{\"color\":\"#2a3f5f\"}},\"annotationdefaults\":{\"arrowcolor\":\"#2a3f5f\",\"arrowhead\":0,\"arrowwidth\":1},\"geo\":{\"bgcolor\":\"white\",\"landcolor\":\"#E5ECF6\",\"subunitcolor\":\"white\",\"showland\":true,\"showlakes\":true,\"lakecolor\":\"white\"},\"title\":{\"x\":0.05},\"mapbox\":{\"style\":\"light\"}}}},                        {\"responsive\": true}                    ).then(function(){\n",
              "                            \n",
              "var gd = document.getElementById('400f014d-e7e5-4f14-aff9-b24c07d3838e');\n",
              "var x = new MutationObserver(function (mutations, observer) {{\n",
              "        var display = window.getComputedStyle(gd).display;\n",
              "        if (!display || display === 'none') {{\n",
              "            console.log([gd, 'removed!']);\n",
              "            Plotly.purge(gd);\n",
              "            observer.disconnect();\n",
              "        }}\n",
              "}});\n",
              "\n",
              "// Listen for the removal of the full notebook cells\n",
              "var notebookContainer = gd.closest('#notebook-container');\n",
              "if (notebookContainer) {{\n",
              "    x.observe(notebookContainer, {childList: true});\n",
              "}}\n",
              "\n",
              "// Listen for the clearing of the current output cell\n",
              "var outputEl = gd.closest('.output');\n",
              "if (outputEl) {{\n",
              "    x.observe(outputEl, {childList: true});\n",
              "}}\n",
              "\n",
              "                        })                };                            </script>        </div>\n",
              "</body>\n",
              "</html>"
            ]
          },
          "metadata": {}
        }
      ]
    },
    {
      "cell_type": "code",
      "source": [
        "from optuna.visualization import plot_slice\n",
        "\n",
        "plot_slice(my_study)"
      ],
      "metadata": {
        "colab": {
          "base_uri": "https://localhost:8080/",
          "height": 562
        },
        "id": "cNdx7N94vdkH",
        "outputId": "48245fd3-bd35-4ebb-aa17-d30cee614091"
      },
      "execution_count": 33,
      "outputs": [
        {
          "output_type": "display_data",
          "data": {
            "text/html": [
              "<html>\n",
              "<head><meta charset=\"utf-8\" /></head>\n",
              "<body>\n",
              "    <div>            <script src=\"https://cdnjs.cloudflare.com/ajax/libs/mathjax/2.7.5/MathJax.js?config=TeX-AMS-MML_SVG\"></script><script type=\"text/javascript\">if (window.MathJax && window.MathJax.Hub && window.MathJax.Hub.Config) {window.MathJax.Hub.Config({SVG: {font: \"STIX-Web\"}});}</script>                <script type=\"text/javascript\">window.PlotlyConfig = {MathJaxConfig: 'local'};</script>\n",
              "        <script charset=\"utf-8\" src=\"https://cdn.plot.ly/plotly-2.24.1.min.js\"></script>                <div id=\"ad392eae-4990-4f69-967f-b93d4a18adda\" class=\"plotly-graph-div\" style=\"height:525px; width:1500px;\"></div>            <script type=\"text/javascript\">                                    window.PLOTLYENV=window.PLOTLYENV || {};                                    if (document.getElementById(\"ad392eae-4990-4f69-967f-b93d4a18adda\")) {                    Plotly.newPlot(                        \"ad392eae-4990-4f69-967f-b93d4a18adda\",                        [{\"marker\":{\"color\":[0,1,2,3,4,5,7,21,24,31,39,42,43,54,61],\"colorbar\":{\"title\":{\"text\":\"Trial\"},\"x\":1.0,\"xpad\":40},\"colorscale\":[[0.0,\"rgb(247,251,255)\"],[0.125,\"rgb(222,235,247)\"],[0.25,\"rgb(198,219,239)\"],[0.375,\"rgb(158,202,225)\"],[0.5,\"rgb(107,174,214)\"],[0.625,\"rgb(66,146,198)\"],[0.75,\"rgb(33,113,181)\"],[0.875,\"rgb(8,81,156)\"],[1.0,\"rgb(8,48,107)\"]],\"line\":{\"color\":\"Grey\",\"width\":0.5},\"showscale\":true},\"mode\":\"markers\",\"name\":\"Feasible Trial\",\"showlegend\":false,\"x\":[0.252150842191467,0.151433804306645,0.14797772933311013,0.22594188504945548,0.18455880396778643,0.14342623450495753,0.15335278736000987,0.15364276868953763,0.18308444136434632,0.14931320358686934,0.1477069362746623,0.1535177703462687,0.13429932392074828,0.1451243749575431,0.14023041315089596],\"y\":[1.475909662246704,2.395620171229045,0.20615317126115162,1.509256410598755,0.1414381007353465,0.40734439094861347,0.1954104095697403,0.17390699982643126,0.2621426304181417,0.2435350348552068,0.34057660897572833,0.2295755475759506,0.25970935622851055,0.2636934598286947,0.2655159960190455],\"type\":\"scatter\",\"xaxis\":\"x\",\"yaxis\":\"y\"},{\"marker\":{\"color\":[0,1,2,3,4,5,7,21,24,31,39,42,43,54,61],\"colorbar\":{\"title\":{\"text\":\"Trial\"},\"x\":1.0,\"xpad\":40},\"colorscale\":[[0.0,\"rgb(247,251,255)\"],[0.125,\"rgb(222,235,247)\"],[0.25,\"rgb(198,219,239)\"],[0.375,\"rgb(158,202,225)\"],[0.5,\"rgb(107,174,214)\"],[0.625,\"rgb(66,146,198)\"],[0.75,\"rgb(33,113,181)\"],[0.875,\"rgb(8,81,156)\"],[1.0,\"rgb(8,48,107)\"]],\"line\":{\"color\":\"Grey\",\"width\":0.5},\"showscale\":false},\"mode\":\"markers\",\"name\":\"Feasible Trial\",\"showlegend\":false,\"x\":[0.0003412000262445707,0.00020693010160242341,0.0001079850674085742,0.004462049532792837,0.00017925927728900643,0.0001509836009130835,0.00016875550640324543,0.00010431516576428127,0.0001480741607408916,0.00010174690857123897,0.00016576889165625114,0.00010478517114412029,0.00015218983543273157,0.00012115893480487151,0.00014987051988838476],\"y\":[1.475909662246704,2.395620171229045,0.20615317126115162,1.509256410598755,0.1414381007353465,0.40734439094861347,0.1954104095697403,0.17390699982643126,0.2621426304181417,0.2435350348552068,0.34057660897572833,0.2295755475759506,0.25970935622851055,0.2636934598286947,0.2655159960190455],\"type\":\"scatter\",\"xaxis\":\"x2\",\"yaxis\":\"y2\"},{\"marker\":{\"color\":[0,1,2,3,4,5,7,21,24,31,39,42,43,54,61],\"colorbar\":{\"title\":{\"text\":\"Trial\"},\"x\":1.0,\"xpad\":40},\"colorscale\":[[0.0,\"rgb(247,251,255)\"],[0.125,\"rgb(222,235,247)\"],[0.25,\"rgb(198,219,239)\"],[0.375,\"rgb(158,202,225)\"],[0.5,\"rgb(107,174,214)\"],[0.625,\"rgb(66,146,198)\"],[0.75,\"rgb(33,113,181)\"],[0.875,\"rgb(8,81,156)\"],[1.0,\"rgb(8,48,107)\"]],\"line\":{\"color\":\"Grey\",\"width\":0.5},\"showscale\":false},\"mode\":\"markers\",\"name\":\"Feasible Trial\",\"showlegend\":false,\"x\":[6,10,4,8,6,4,4,4,4,4,4,4,4,4,4],\"y\":[1.475909662246704,2.395620171229045,0.20615317126115162,1.509256410598755,0.1414381007353465,0.40734439094861347,0.1954104095697403,0.17390699982643126,0.2621426304181417,0.2435350348552068,0.34057660897572833,0.2295755475759506,0.25970935622851055,0.2636934598286947,0.2655159960190455],\"type\":\"scatter\",\"xaxis\":\"x3\",\"yaxis\":\"y3\"},{\"marker\":{\"color\":[0,1,2,3,4,5,7,21,24,31,39,42,43,54,61],\"colorbar\":{\"title\":{\"text\":\"Trial\"},\"x\":1.0,\"xpad\":40},\"colorscale\":[[0.0,\"rgb(247,251,255)\"],[0.125,\"rgb(222,235,247)\"],[0.25,\"rgb(198,219,239)\"],[0.375,\"rgb(158,202,225)\"],[0.5,\"rgb(107,174,214)\"],[0.625,\"rgb(66,146,198)\"],[0.75,\"rgb(33,113,181)\"],[0.875,\"rgb(8,81,156)\"],[1.0,\"rgb(8,48,107)\"]],\"line\":{\"color\":\"Grey\",\"width\":0.5},\"showscale\":false},\"mode\":\"markers\",\"name\":\"Feasible Trial\",\"showlegend\":false,\"x\":[2,6,6,8,6,8,2,6,6,6,6,6,6,6,6],\"y\":[1.475909662246704,2.395620171229045,0.20615317126115162,1.509256410598755,0.1414381007353465,0.40734439094861347,0.1954104095697403,0.17390699982643126,0.2621426304181417,0.2435350348552068,0.34057660897572833,0.2295755475759506,0.25970935622851055,0.2636934598286947,0.2655159960190455],\"type\":\"scatter\",\"xaxis\":\"x4\",\"yaxis\":\"y4\"},{\"marker\":{\"color\":[0,1,2,3,4,5,7,21,24,31,39,42,43,54,61],\"colorbar\":{\"title\":{\"text\":\"Trial\"},\"x\":1.0,\"xpad\":40},\"colorscale\":[[0.0,\"rgb(247,251,255)\"],[0.125,\"rgb(222,235,247)\"],[0.25,\"rgb(198,219,239)\"],[0.375,\"rgb(158,202,225)\"],[0.5,\"rgb(107,174,214)\"],[0.625,\"rgb(66,146,198)\"],[0.75,\"rgb(33,113,181)\"],[0.875,\"rgb(8,81,156)\"],[1.0,\"rgb(8,48,107)\"]],\"line\":{\"color\":\"Grey\",\"width\":0.5},\"showscale\":false},\"mode\":\"markers\",\"name\":\"Feasible Trial\",\"showlegend\":false,\"x\":[2,47,47,47,47,6,47,47,47,47,2,47,47,47,47],\"y\":[1.475909662246704,2.395620171229045,0.20615317126115162,1.509256410598755,0.1414381007353465,0.40734439094861347,0.1954104095697403,0.17390699982643126,0.2621426304181417,0.2435350348552068,0.34057660897572833,0.2295755475759506,0.25970935622851055,0.2636934598286947,0.2655159960190455],\"type\":\"scatter\",\"xaxis\":\"x5\",\"yaxis\":\"y5\"}],                        {\"template\":{\"data\":{\"histogram2dcontour\":[{\"type\":\"histogram2dcontour\",\"colorbar\":{\"outlinewidth\":0,\"ticks\":\"\"},\"colorscale\":[[0.0,\"#0d0887\"],[0.1111111111111111,\"#46039f\"],[0.2222222222222222,\"#7201a8\"],[0.3333333333333333,\"#9c179e\"],[0.4444444444444444,\"#bd3786\"],[0.5555555555555556,\"#d8576b\"],[0.6666666666666666,\"#ed7953\"],[0.7777777777777778,\"#fb9f3a\"],[0.8888888888888888,\"#fdca26\"],[1.0,\"#f0f921\"]]}],\"choropleth\":[{\"type\":\"choropleth\",\"colorbar\":{\"outlinewidth\":0,\"ticks\":\"\"}}],\"histogram2d\":[{\"type\":\"histogram2d\",\"colorbar\":{\"outlinewidth\":0,\"ticks\":\"\"},\"colorscale\":[[0.0,\"#0d0887\"],[0.1111111111111111,\"#46039f\"],[0.2222222222222222,\"#7201a8\"],[0.3333333333333333,\"#9c179e\"],[0.4444444444444444,\"#bd3786\"],[0.5555555555555556,\"#d8576b\"],[0.6666666666666666,\"#ed7953\"],[0.7777777777777778,\"#fb9f3a\"],[0.8888888888888888,\"#fdca26\"],[1.0,\"#f0f921\"]]}],\"heatmap\":[{\"type\":\"heatmap\",\"colorbar\":{\"outlinewidth\":0,\"ticks\":\"\"},\"colorscale\":[[0.0,\"#0d0887\"],[0.1111111111111111,\"#46039f\"],[0.2222222222222222,\"#7201a8\"],[0.3333333333333333,\"#9c179e\"],[0.4444444444444444,\"#bd3786\"],[0.5555555555555556,\"#d8576b\"],[0.6666666666666666,\"#ed7953\"],[0.7777777777777778,\"#fb9f3a\"],[0.8888888888888888,\"#fdca26\"],[1.0,\"#f0f921\"]]}],\"heatmapgl\":[{\"type\":\"heatmapgl\",\"colorbar\":{\"outlinewidth\":0,\"ticks\":\"\"},\"colorscale\":[[0.0,\"#0d0887\"],[0.1111111111111111,\"#46039f\"],[0.2222222222222222,\"#7201a8\"],[0.3333333333333333,\"#9c179e\"],[0.4444444444444444,\"#bd3786\"],[0.5555555555555556,\"#d8576b\"],[0.6666666666666666,\"#ed7953\"],[0.7777777777777778,\"#fb9f3a\"],[0.8888888888888888,\"#fdca26\"],[1.0,\"#f0f921\"]]}],\"contourcarpet\":[{\"type\":\"contourcarpet\",\"colorbar\":{\"outlinewidth\":0,\"ticks\":\"\"}}],\"contour\":[{\"type\":\"contour\",\"colorbar\":{\"outlinewidth\":0,\"ticks\":\"\"},\"colorscale\":[[0.0,\"#0d0887\"],[0.1111111111111111,\"#46039f\"],[0.2222222222222222,\"#7201a8\"],[0.3333333333333333,\"#9c179e\"],[0.4444444444444444,\"#bd3786\"],[0.5555555555555556,\"#d8576b\"],[0.6666666666666666,\"#ed7953\"],[0.7777777777777778,\"#fb9f3a\"],[0.8888888888888888,\"#fdca26\"],[1.0,\"#f0f921\"]]}],\"surface\":[{\"type\":\"surface\",\"colorbar\":{\"outlinewidth\":0,\"ticks\":\"\"},\"colorscale\":[[0.0,\"#0d0887\"],[0.1111111111111111,\"#46039f\"],[0.2222222222222222,\"#7201a8\"],[0.3333333333333333,\"#9c179e\"],[0.4444444444444444,\"#bd3786\"],[0.5555555555555556,\"#d8576b\"],[0.6666666666666666,\"#ed7953\"],[0.7777777777777778,\"#fb9f3a\"],[0.8888888888888888,\"#fdca26\"],[1.0,\"#f0f921\"]]}],\"mesh3d\":[{\"type\":\"mesh3d\",\"colorbar\":{\"outlinewidth\":0,\"ticks\":\"\"}}],\"scatter\":[{\"fillpattern\":{\"fillmode\":\"overlay\",\"size\":10,\"solidity\":0.2},\"type\":\"scatter\"}],\"parcoords\":[{\"type\":\"parcoords\",\"line\":{\"colorbar\":{\"outlinewidth\":0,\"ticks\":\"\"}}}],\"scatterpolargl\":[{\"type\":\"scatterpolargl\",\"marker\":{\"colorbar\":{\"outlinewidth\":0,\"ticks\":\"\"}}}],\"bar\":[{\"error_x\":{\"color\":\"#2a3f5f\"},\"error_y\":{\"color\":\"#2a3f5f\"},\"marker\":{\"line\":{\"color\":\"#E5ECF6\",\"width\":0.5},\"pattern\":{\"fillmode\":\"overlay\",\"size\":10,\"solidity\":0.2}},\"type\":\"bar\"}],\"scattergeo\":[{\"type\":\"scattergeo\",\"marker\":{\"colorbar\":{\"outlinewidth\":0,\"ticks\":\"\"}}}],\"scatterpolar\":[{\"type\":\"scatterpolar\",\"marker\":{\"colorbar\":{\"outlinewidth\":0,\"ticks\":\"\"}}}],\"histogram\":[{\"marker\":{\"pattern\":{\"fillmode\":\"overlay\",\"size\":10,\"solidity\":0.2}},\"type\":\"histogram\"}],\"scattergl\":[{\"type\":\"scattergl\",\"marker\":{\"colorbar\":{\"outlinewidth\":0,\"ticks\":\"\"}}}],\"scatter3d\":[{\"type\":\"scatter3d\",\"line\":{\"colorbar\":{\"outlinewidth\":0,\"ticks\":\"\"}},\"marker\":{\"colorbar\":{\"outlinewidth\":0,\"ticks\":\"\"}}}],\"scattermapbox\":[{\"type\":\"scattermapbox\",\"marker\":{\"colorbar\":{\"outlinewidth\":0,\"ticks\":\"\"}}}],\"scatterternary\":[{\"type\":\"scatterternary\",\"marker\":{\"colorbar\":{\"outlinewidth\":0,\"ticks\":\"\"}}}],\"scattercarpet\":[{\"type\":\"scattercarpet\",\"marker\":{\"colorbar\":{\"outlinewidth\":0,\"ticks\":\"\"}}}],\"carpet\":[{\"aaxis\":{\"endlinecolor\":\"#2a3f5f\",\"gridcolor\":\"white\",\"linecolor\":\"white\",\"minorgridcolor\":\"white\",\"startlinecolor\":\"#2a3f5f\"},\"baxis\":{\"endlinecolor\":\"#2a3f5f\",\"gridcolor\":\"white\",\"linecolor\":\"white\",\"minorgridcolor\":\"white\",\"startlinecolor\":\"#2a3f5f\"},\"type\":\"carpet\"}],\"table\":[{\"cells\":{\"fill\":{\"color\":\"#EBF0F8\"},\"line\":{\"color\":\"white\"}},\"header\":{\"fill\":{\"color\":\"#C8D4E3\"},\"line\":{\"color\":\"white\"}},\"type\":\"table\"}],\"barpolar\":[{\"marker\":{\"line\":{\"color\":\"#E5ECF6\",\"width\":0.5},\"pattern\":{\"fillmode\":\"overlay\",\"size\":10,\"solidity\":0.2}},\"type\":\"barpolar\"}],\"pie\":[{\"automargin\":true,\"type\":\"pie\"}]},\"layout\":{\"autotypenumbers\":\"strict\",\"colorway\":[\"#636efa\",\"#EF553B\",\"#00cc96\",\"#ab63fa\",\"#FFA15A\",\"#19d3f3\",\"#FF6692\",\"#B6E880\",\"#FF97FF\",\"#FECB52\"],\"font\":{\"color\":\"#2a3f5f\"},\"hovermode\":\"closest\",\"hoverlabel\":{\"align\":\"left\"},\"paper_bgcolor\":\"white\",\"plot_bgcolor\":\"#E5ECF6\",\"polar\":{\"bgcolor\":\"#E5ECF6\",\"angularaxis\":{\"gridcolor\":\"white\",\"linecolor\":\"white\",\"ticks\":\"\"},\"radialaxis\":{\"gridcolor\":\"white\",\"linecolor\":\"white\",\"ticks\":\"\"}},\"ternary\":{\"bgcolor\":\"#E5ECF6\",\"aaxis\":{\"gridcolor\":\"white\",\"linecolor\":\"white\",\"ticks\":\"\"},\"baxis\":{\"gridcolor\":\"white\",\"linecolor\":\"white\",\"ticks\":\"\"},\"caxis\":{\"gridcolor\":\"white\",\"linecolor\":\"white\",\"ticks\":\"\"}},\"coloraxis\":{\"colorbar\":{\"outlinewidth\":0,\"ticks\":\"\"}},\"colorscale\":{\"sequential\":[[0.0,\"#0d0887\"],[0.1111111111111111,\"#46039f\"],[0.2222222222222222,\"#7201a8\"],[0.3333333333333333,\"#9c179e\"],[0.4444444444444444,\"#bd3786\"],[0.5555555555555556,\"#d8576b\"],[0.6666666666666666,\"#ed7953\"],[0.7777777777777778,\"#fb9f3a\"],[0.8888888888888888,\"#fdca26\"],[1.0,\"#f0f921\"]],\"sequentialminus\":[[0.0,\"#0d0887\"],[0.1111111111111111,\"#46039f\"],[0.2222222222222222,\"#7201a8\"],[0.3333333333333333,\"#9c179e\"],[0.4444444444444444,\"#bd3786\"],[0.5555555555555556,\"#d8576b\"],[0.6666666666666666,\"#ed7953\"],[0.7777777777777778,\"#fb9f3a\"],[0.8888888888888888,\"#fdca26\"],[1.0,\"#f0f921\"]],\"diverging\":[[0,\"#8e0152\"],[0.1,\"#c51b7d\"],[0.2,\"#de77ae\"],[0.3,\"#f1b6da\"],[0.4,\"#fde0ef\"],[0.5,\"#f7f7f7\"],[0.6,\"#e6f5d0\"],[0.7,\"#b8e186\"],[0.8,\"#7fbc41\"],[0.9,\"#4d9221\"],[1,\"#276419\"]]},\"xaxis\":{\"gridcolor\":\"white\",\"linecolor\":\"white\",\"ticks\":\"\",\"title\":{\"standoff\":15},\"zerolinecolor\":\"white\",\"automargin\":true,\"zerolinewidth\":2},\"yaxis\":{\"gridcolor\":\"white\",\"linecolor\":\"white\",\"ticks\":\"\",\"title\":{\"standoff\":15},\"zerolinecolor\":\"white\",\"automargin\":true,\"zerolinewidth\":2},\"scene\":{\"xaxis\":{\"backgroundcolor\":\"#E5ECF6\",\"gridcolor\":\"white\",\"linecolor\":\"white\",\"showbackground\":true,\"ticks\":\"\",\"zerolinecolor\":\"white\",\"gridwidth\":2},\"yaxis\":{\"backgroundcolor\":\"#E5ECF6\",\"gridcolor\":\"white\",\"linecolor\":\"white\",\"showbackground\":true,\"ticks\":\"\",\"zerolinecolor\":\"white\",\"gridwidth\":2},\"zaxis\":{\"backgroundcolor\":\"#E5ECF6\",\"gridcolor\":\"white\",\"linecolor\":\"white\",\"showbackground\":true,\"ticks\":\"\",\"zerolinecolor\":\"white\",\"gridwidth\":2}},\"shapedefaults\":{\"line\":{\"color\":\"#2a3f5f\"}},\"annotationdefaults\":{\"arrowcolor\":\"#2a3f5f\",\"arrowhead\":0,\"arrowwidth\":1},\"geo\":{\"bgcolor\":\"white\",\"landcolor\":\"#E5ECF6\",\"subunitcolor\":\"white\",\"showland\":true,\"showlakes\":true,\"lakecolor\":\"white\"},\"title\":{\"x\":0.05},\"mapbox\":{\"style\":\"light\"}}},\"xaxis\":{\"anchor\":\"y\",\"domain\":[0.0,0.16799999999999998],\"title\":{\"text\":\"dropout\"}},\"yaxis\":{\"anchor\":\"x\",\"domain\":[0.0,1.0],\"title\":{\"text\":\"Objective Value\"}},\"xaxis2\":{\"anchor\":\"y2\",\"domain\":[0.208,0.376],\"title\":{\"text\":\"learning_rate\"},\"type\":\"log\"},\"yaxis2\":{\"anchor\":\"x2\",\"domain\":[0.0,1.0],\"matches\":\"y\",\"showticklabels\":false},\"xaxis3\":{\"anchor\":\"y3\",\"domain\":[0.416,0.584],\"title\":{\"text\":\"num_decoder_layers\"},\"type\":\"category\",\"categoryorder\":\"array\",\"categoryarray\":[4,6,8,10]},\"yaxis3\":{\"anchor\":\"x3\",\"domain\":[0.0,1.0],\"matches\":\"y\",\"showticklabels\":false},\"xaxis4\":{\"anchor\":\"y4\",\"domain\":[0.624,0.792],\"title\":{\"text\":\"num_encoder_layers\"},\"type\":\"category\",\"categoryorder\":\"array\",\"categoryarray\":[2,4,6,8]},\"yaxis4\":{\"anchor\":\"x4\",\"domain\":[0.0,1.0],\"matches\":\"y\",\"showticklabels\":false},\"xaxis5\":{\"anchor\":\"y5\",\"domain\":[0.832,1.0],\"title\":{\"text\":\"num_heads\"},\"type\":\"category\",\"categoryorder\":\"array\",\"categoryarray\":[2,3,6,47]},\"yaxis5\":{\"anchor\":\"x5\",\"domain\":[0.0,1.0],\"matches\":\"y\",\"showticklabels\":false},\"title\":{\"text\":\"Slice Plot\"},\"width\":1500},                        {\"responsive\": true}                    ).then(function(){\n",
              "                            \n",
              "var gd = document.getElementById('ad392eae-4990-4f69-967f-b93d4a18adda');\n",
              "var x = new MutationObserver(function (mutations, observer) {{\n",
              "        var display = window.getComputedStyle(gd).display;\n",
              "        if (!display || display === 'none') {{\n",
              "            console.log([gd, 'removed!']);\n",
              "            Plotly.purge(gd);\n",
              "            observer.disconnect();\n",
              "        }}\n",
              "}});\n",
              "\n",
              "// Listen for the removal of the full notebook cells\n",
              "var notebookContainer = gd.closest('#notebook-container');\n",
              "if (notebookContainer) {{\n",
              "    x.observe(notebookContainer, {childList: true});\n",
              "}}\n",
              "\n",
              "// Listen for the clearing of the current output cell\n",
              "var outputEl = gd.closest('.output');\n",
              "if (outputEl) {{\n",
              "    x.observe(outputEl, {childList: true});\n",
              "}}\n",
              "\n",
              "                        })                };                            </script>        </div>\n",
              "</body>\n",
              "</html>"
            ]
          },
          "metadata": {}
        }
      ]
    },
    {
      "cell_type": "code",
      "source": [
        "from optuna.visualization import plot_timeline\n",
        "\n",
        "plot_timeline(my_study)"
      ],
      "metadata": {
        "colab": {
          "base_uri": "https://localhost:8080/",
          "height": 610
        },
        "id": "9ySb5w0yvk53",
        "outputId": "337765e4-752f-4b4e-9e4b-f61edc2f207e"
      },
      "execution_count": 34,
      "outputs": [
        {
          "output_type": "stream",
          "name": "stderr",
          "text": [
            "<ipython-input-34-9022e711cc7d>:3: ExperimentalWarning:\n",
            "\n",
            "plot_timeline is experimental (supported from v3.2.0). The interface can change in the future.\n",
            "\n"
          ]
        },
        {
          "output_type": "display_data",
          "data": {
            "text/html": [
              "<html>\n",
              "<head><meta charset=\"utf-8\" /></head>\n",
              "<body>\n",
              "    <div>            <script src=\"https://cdnjs.cloudflare.com/ajax/libs/mathjax/2.7.5/MathJax.js?config=TeX-AMS-MML_SVG\"></script><script type=\"text/javascript\">if (window.MathJax && window.MathJax.Hub && window.MathJax.Hub.Config) {window.MathJax.Hub.Config({SVG: {font: \"STIX-Web\"}});}</script>                <script type=\"text/javascript\">window.PlotlyConfig = {MathJaxConfig: 'local'};</script>\n",
              "        <script charset=\"utf-8\" src=\"https://cdn.plot.ly/plotly-2.24.1.min.js\"></script>                <div id=\"9b89f63c-ddcb-4470-bc89-c3408203bb96\" class=\"plotly-graph-div\" style=\"height:525px; width:100%;\"></div>            <script type=\"text/javascript\">                                    window.PLOTLYENV=window.PLOTLYENV || {};                                    if (document.getElementById(\"9b89f63c-ddcb-4470-bc89-c3408203bb96\")) {                    Plotly.newPlot(                        \"9b89f63c-ddcb-4470-bc89-c3408203bb96\",                        [{\"base\":[\"2024-03-16T19:38:40.966233\",\"2024-03-16T19:40:08.662934\",\"2024-03-16T19:42:28.463974\",\"2024-03-16T19:44:04.689103\",\"2024-03-16T19:46:20.873137\",\"2024-03-16T19:48:11.598635\",\"2024-03-16T19:49:59.764226\",\"2024-03-16T19:52:23.576615\",\"2024-03-16T19:54:11.049276\",\"2024-03-16T19:56:22.573752\",\"2024-03-16T19:58:47.848885\",\"2024-03-16T20:00:34.956889\",\"2024-03-16T20:02:12.876007\",\"2024-03-16T20:05:00.068648\",\"2024-03-16T20:07:14.262077\"],\"hovertemplate\":\"%{text}\\u003cextra\\u003eCOMPLETE\\u003c\\u002fextra\\u003e\",\"marker\":{\"color\":\"blue\"},\"name\":\"COMPLETE\",\"orientation\":\"h\",\"text\":[\"{\\u003cbr\\u003e  \\\"number\\\": 0,\\u003cbr\\u003e  \\\"values\\\": [\\u003cbr\\u003e    1.475909662246704\\u003cbr\\u003e  ],\\u003cbr\\u003e  \\\"params\\\": {\\u003cbr\\u003e    \\\"learning_rate\\\": 0.0003412000262445707,\\u003cbr\\u003e    \\\"num_encoder_layers\\\": 2,\\u003cbr\\u003e    \\\"num_decoder_layers\\\": 6,\\u003cbr\\u003e    \\\"num_heads\\\": 2,\\u003cbr\\u003e    \\\"dropout\\\": 0.252150842191467\\u003cbr\\u003e  }\\u003cbr\\u003e}\",\"{\\u003cbr\\u003e  \\\"number\\\": 1,\\u003cbr\\u003e  \\\"values\\\": [\\u003cbr\\u003e    2.395620171229045\\u003cbr\\u003e  ],\\u003cbr\\u003e  \\\"params\\\": {\\u003cbr\\u003e    \\\"learning_rate\\\": 0.00020693010160242341,\\u003cbr\\u003e    \\\"num_encoder_layers\\\": 6,\\u003cbr\\u003e    \\\"num_decoder_layers\\\": 10,\\u003cbr\\u003e    \\\"num_heads\\\": 47,\\u003cbr\\u003e    \\\"dropout\\\": 0.151433804306645\\u003cbr\\u003e  }\\u003cbr\\u003e}\",\"{\\u003cbr\\u003e  \\\"number\\\": 2,\\u003cbr\\u003e  \\\"values\\\": [\\u003cbr\\u003e    0.20615317126115162\\u003cbr\\u003e  ],\\u003cbr\\u003e  \\\"params\\\": {\\u003cbr\\u003e    \\\"learning_rate\\\": 0.0001079850674085742,\\u003cbr\\u003e    \\\"num_encoder_layers\\\": 6,\\u003cbr\\u003e    \\\"num_decoder_layers\\\": 4,\\u003cbr\\u003e    \\\"num_heads\\\": 47,\\u003cbr\\u003e    \\\"dropout\\\": 0.14797772933311013\\u003cbr\\u003e  }\\u003cbr\\u003e}\",\"{\\u003cbr\\u003e  \\\"number\\\": 3,\\u003cbr\\u003e  \\\"values\\\": [\\u003cbr\\u003e    1.509256410598755\\u003cbr\\u003e  ],\\u003cbr\\u003e  \\\"params\\\": {\\u003cbr\\u003e    \\\"learning_rate\\\": 0.004462049532792837,\\u003cbr\\u003e    \\\"num_encoder_layers\\\": 8,\\u003cbr\\u003e    \\\"num_decoder_layers\\\": 8,\\u003cbr\\u003e    \\\"num_heads\\\": 47,\\u003cbr\\u003e    \\\"dropout\\\": 0.22594188504945548\\u003cbr\\u003e  }\\u003cbr\\u003e}\",\"{\\u003cbr\\u003e  \\\"number\\\": 4,\\u003cbr\\u003e  \\\"values\\\": [\\u003cbr\\u003e    0.1414381007353465\\u003cbr\\u003e  ],\\u003cbr\\u003e  \\\"params\\\": {\\u003cbr\\u003e    \\\"learning_rate\\\": 0.00017925927728900643,\\u003cbr\\u003e    \\\"num_encoder_layers\\\": 6,\\u003cbr\\u003e    \\\"num_decoder_layers\\\": 6,\\u003cbr\\u003e    \\\"num_heads\\\": 47,\\u003cbr\\u003e    \\\"dropout\\\": 0.18455880396778643\\u003cbr\\u003e  }\\u003cbr\\u003e}\",\"{\\u003cbr\\u003e  \\\"number\\\": 5,\\u003cbr\\u003e  \\\"values\\\": [\\u003cbr\\u003e    0.40734439094861347\\u003cbr\\u003e  ],\\u003cbr\\u003e  \\\"params\\\": {\\u003cbr\\u003e    \\\"learning_rate\\\": 0.0001509836009130835,\\u003cbr\\u003e    \\\"num_encoder_layers\\\": 8,\\u003cbr\\u003e    \\\"num_decoder_layers\\\": 4,\\u003cbr\\u003e    \\\"num_heads\\\": 6,\\u003cbr\\u003e    \\\"dropout\\\": 0.14342623450495753\\u003cbr\\u003e  }\\u003cbr\\u003e}\",\"{\\u003cbr\\u003e  \\\"number\\\": 7,\\u003cbr\\u003e  \\\"values\\\": [\\u003cbr\\u003e    0.1954104095697403\\u003cbr\\u003e  ],\\u003cbr\\u003e  \\\"params\\\": {\\u003cbr\\u003e    \\\"learning_rate\\\": 0.00016875550640324543,\\u003cbr\\u003e    \\\"num_encoder_layers\\\": 2,\\u003cbr\\u003e    \\\"num_decoder_layers\\\": 4,\\u003cbr\\u003e    \\\"num_heads\\\": 47,\\u003cbr\\u003e    \\\"dropout\\\": 0.15335278736000987\\u003cbr\\u003e  }\\u003cbr\\u003e}\",\"{\\u003cbr\\u003e  \\\"number\\\": 21,\\u003cbr\\u003e  \\\"values\\\": [\\u003cbr\\u003e    0.17390699982643126\\u003cbr\\u003e  ],\\u003cbr\\u003e  \\\"params\\\": {\\u003cbr\\u003e    \\\"learning_rate\\\": 0.00010431516576428127,\\u003cbr\\u003e    \\\"num_encoder_layers\\\": 6,\\u003cbr\\u003e    \\\"num_decoder_layers\\\": 4,\\u003cbr\\u003e    \\\"num_heads\\\": 47,\\u003cbr\\u003e    \\\"dropout\\\": 0.15364276868953763\\u003cbr\\u003e  }\\u003cbr\\u003e}\",\"{\\u003cbr\\u003e  \\\"number\\\": 24,\\u003cbr\\u003e  \\\"values\\\": [\\u003cbr\\u003e    0.2621426304181417\\u003cbr\\u003e  ],\\u003cbr\\u003e  \\\"params\\\": {\\u003cbr\\u003e    \\\"learning_rate\\\": 0.0001480741607408916,\\u003cbr\\u003e    \\\"num_encoder_layers\\\": 6,\\u003cbr\\u003e    \\\"num_decoder_layers\\\": 4,\\u003cbr\\u003e    \\\"num_heads\\\": 47,\\u003cbr\\u003e    \\\"dropout\\\": 0.18308444136434632\\u003cbr\\u003e  }\\u003cbr\\u003e}\",\"{\\u003cbr\\u003e  \\\"number\\\": 31,\\u003cbr\\u003e  \\\"values\\\": [\\u003cbr\\u003e    0.2435350348552068\\u003cbr\\u003e  ],\\u003cbr\\u003e  \\\"params\\\": {\\u003cbr\\u003e    \\\"learning_rate\\\": 0.00010174690857123897,\\u003cbr\\u003e    \\\"num_encoder_layers\\\": 6,\\u003cbr\\u003e    \\\"num_decoder_layers\\\": 4,\\u003cbr\\u003e    \\\"num_heads\\\": 47,\\u003cbr\\u003e    \\\"dropout\\\": 0.14931320358686934\\u003cbr\\u003e  }\\u003cbr\\u003e}\",\"{\\u003cbr\\u003e  \\\"number\\\": 39,\\u003cbr\\u003e  \\\"values\\\": [\\u003cbr\\u003e    0.34057660897572833\\u003cbr\\u003e  ],\\u003cbr\\u003e  \\\"params\\\": {\\u003cbr\\u003e    \\\"learning_rate\\\": 0.00016576889165625114,\\u003cbr\\u003e    \\\"num_encoder_layers\\\": 6,\\u003cbr\\u003e    \\\"num_decoder_layers\\\": 4,\\u003cbr\\u003e    \\\"num_heads\\\": 2,\\u003cbr\\u003e    \\\"dropout\\\": 0.1477069362746623\\u003cbr\\u003e  }\\u003cbr\\u003e}\",\"{\\u003cbr\\u003e  \\\"number\\\": 42,\\u003cbr\\u003e  \\\"values\\\": [\\u003cbr\\u003e    0.2295755475759506\\u003cbr\\u003e  ],\\u003cbr\\u003e  \\\"params\\\": {\\u003cbr\\u003e    \\\"learning_rate\\\": 0.00010478517114412029,\\u003cbr\\u003e    \\\"num_encoder_layers\\\": 6,\\u003cbr\\u003e    \\\"num_decoder_layers\\\": 4,\\u003cbr\\u003e    \\\"num_heads\\\": 47,\\u003cbr\\u003e    \\\"dropout\\\": 0.1535177703462687\\u003cbr\\u003e  }\\u003cbr\\u003e}\",\"{\\u003cbr\\u003e  \\\"number\\\": 43,\\u003cbr\\u003e  \\\"values\\\": [\\u003cbr\\u003e    0.25970935622851055\\u003cbr\\u003e  ],\\u003cbr\\u003e  \\\"params\\\": {\\u003cbr\\u003e    \\\"learning_rate\\\": 0.00015218983543273157,\\u003cbr\\u003e    \\\"num_encoder_layers\\\": 6,\\u003cbr\\u003e    \\\"num_decoder_layers\\\": 4,\\u003cbr\\u003e    \\\"num_heads\\\": 47,\\u003cbr\\u003e    \\\"dropout\\\": 0.13429932392074828\\u003cbr\\u003e  }\\u003cbr\\u003e}\",\"{\\u003cbr\\u003e  \\\"number\\\": 54,\\u003cbr\\u003e  \\\"values\\\": [\\u003cbr\\u003e    0.2636934598286947\\u003cbr\\u003e  ],\\u003cbr\\u003e  \\\"params\\\": {\\u003cbr\\u003e    \\\"learning_rate\\\": 0.00012115893480487151,\\u003cbr\\u003e    \\\"num_encoder_layers\\\": 6,\\u003cbr\\u003e    \\\"num_decoder_layers\\\": 4,\\u003cbr\\u003e    \\\"num_heads\\\": 47,\\u003cbr\\u003e    \\\"dropout\\\": 0.1451243749575431\\u003cbr\\u003e  }\\u003cbr\\u003e}\",\"{\\u003cbr\\u003e  \\\"number\\\": 61,\\u003cbr\\u003e  \\\"values\\\": [\\u003cbr\\u003e    0.2655159960190455\\u003cbr\\u003e  ],\\u003cbr\\u003e  \\\"params\\\": {\\u003cbr\\u003e    \\\"learning_rate\\\": 0.00014987051988838476,\\u003cbr\\u003e    \\\"num_encoder_layers\\\": 6,\\u003cbr\\u003e    \\\"num_decoder_layers\\\": 4,\\u003cbr\\u003e    \\\"num_heads\\\": 47,\\u003cbr\\u003e    \\\"dropout\\\": 0.14023041315089596\\u003cbr\\u003e  }\\u003cbr\\u003e}\"],\"textposition\":\"none\",\"x\":[87661.897,139769.799,96196.746,136147.384,110696.068,101703.93,75680.258,97077.05500000001,97191.858,97492.378,92564.369,97888.086,98216.938,97555.774,99983.88799999999],\"y\":[0,1,2,3,4,5,7,21,24,31,39,42,43,54,61],\"type\":\"bar\"},{\"base\":[\"2024-03-16T19:49:53.332560\",\"2024-03-16T19:51:15.472839\",\"2024-03-16T19:51:23.478185\",\"2024-03-16T19:51:27.838970\",\"2024-03-16T19:51:34.073764\",\"2024-03-16T19:51:38.593512\",\"2024-03-16T19:51:44.829891\",\"2024-03-16T19:51:49.367311\",\"2024-03-16T19:51:54.304844\",\"2024-03-16T19:51:59.197894\",\"2024-03-16T19:52:03.855888\",\"2024-03-16T19:52:09.900943\",\"2024-03-16T19:52:14.352488\",\"2024-03-16T19:52:19.801308\",\"2024-03-16T19:54:00.684020\",\"2024-03-16T19:54:05.761001\",\"2024-03-16T19:55:48.270909\",\"2024-03-16T19:55:54.513319\",\"2024-03-16T19:56:01.287271\",\"2024-03-16T19:56:08.218541\",\"2024-03-16T19:56:12.879000\",\"2024-03-16T19:56:17.897451\",\"2024-03-16T19:58:00.095358\",\"2024-03-16T19:58:05.537746\",\"2024-03-16T19:58:15.086586\",\"2024-03-16T19:58:20.535288\",\"2024-03-16T19:58:28.616430\",\"2024-03-16T19:58:33.290886\",\"2024-03-16T19:58:39.896401\",\"2024-03-16T20:00:20.442951\",\"2024-03-16T20:00:24.788893\",\"2024-03-16T20:03:51.123873\",\"2024-03-16T20:03:55.659589\",\"2024-03-16T20:04:05.863509\",\"2024-03-16T20:04:15.969344\",\"2024-03-16T20:04:20.587615\",\"2024-03-16T20:04:28.042171\",\"2024-03-16T20:04:34.690277\",\"2024-03-16T20:04:44.778493\",\"2024-03-16T20:04:50.170070\",\"2024-03-16T20:04:55.104048\",\"2024-03-16T20:06:37.653460\",\"2024-03-16T20:06:41.434547\",\"2024-03-16T20:06:47.095142\",\"2024-03-16T20:06:52.307542\",\"2024-03-16T20:06:57.234917\",\"2024-03-16T20:07:08.021574\",\"2024-03-16T20:08:54.277191\",\"2024-03-16T20:08:59.417482\",\"2024-03-16T20:09:04.777262\",\"2024-03-16T20:09:14.886977\",\"2024-03-16T20:09:23.665685\",\"2024-03-16T20:09:28.968225\",\"2024-03-16T20:09:32.824169\",\"2024-03-16T20:09:39.707729\",\"2024-03-16T20:09:46.790035\",\"2024-03-16T20:09:52.272084\",\"2024-03-16T20:09:57.432342\",\"2024-03-16T20:10:07.819879\",\"2024-03-16T20:10:13.394873\",\"2024-03-16T20:10:18.386574\",\"2024-03-16T20:10:53.369345\",\"2024-03-16T20:10:58.966610\",\"2024-03-16T20:11:37.412235\",\"2024-03-16T20:11:41.930856\"],\"hovertemplate\":\"%{text}\\u003cextra\\u003ePRUNED\\u003c\\u002fextra\\u003e\",\"marker\":{\"color\":\"orange\"},\"name\":\"PRUNED\",\"orientation\":\"h\",\"text\":[\"{\\u003cbr\\u003e  \\\"number\\\": 6,\\u003cbr\\u003e  \\\"values\\\": [\\u003cbr\\u003e    1.4872762362162273\\u003cbr\\u003e  ],\\u003cbr\\u003e  \\\"params\\\": {\\u003cbr\\u003e    \\\"learning_rate\\\": 0.002008607886467333,\\u003cbr\\u003e    \\\"num_encoder_layers\\\": 2,\\u003cbr\\u003e    \\\"num_decoder_layers\\\": 10,\\u003cbr\\u003e    \\\"num_heads\\\": 6,\\u003cbr\\u003e    \\\"dropout\\\": 0.12946305509408426\\u003cbr\\u003e  }\\u003cbr\\u003e}\",\"{\\u003cbr\\u003e  \\\"number\\\": 8,\\u003cbr\\u003e  \\\"values\\\": [\\u003cbr\\u003e    1.5880801836649576\\u003cbr\\u003e  ],\\u003cbr\\u003e  \\\"params\\\": {\\u003cbr\\u003e    \\\"learning_rate\\\": 0.00020346825800147844,\\u003cbr\\u003e    \\\"num_encoder_layers\\\": 8,\\u003cbr\\u003e    \\\"num_decoder_layers\\\": 10,\\u003cbr\\u003e    \\\"num_heads\\\": 2,\\u003cbr\\u003e    \\\"dropout\\\": 0.25192628035672265\\u003cbr\\u003e  }\\u003cbr\\u003e}\",\"{\\u003cbr\\u003e  \\\"number\\\": 9,\\u003cbr\\u003e  \\\"values\\\": [\\u003cbr\\u003e    1.5243786493937175\\u003cbr\\u003e  ],\\u003cbr\\u003e  \\\"params\\\": {\\u003cbr\\u003e    \\\"learning_rate\\\": 0.00016495148714808894,\\u003cbr\\u003e    \\\"num_encoder_layers\\\": 4,\\u003cbr\\u003e    \\\"num_decoder_layers\\\": 4,\\u003cbr\\u003e    \\\"num_heads\\\": 47,\\u003cbr\\u003e    \\\"dropout\\\": 0.10288657063012561\\u003cbr\\u003e  }\\u003cbr\\u003e}\",\"{\\u003cbr\\u003e  \\\"number\\\": 10,\\u003cbr\\u003e  \\\"values\\\": [\\u003cbr\\u003e    1.5376981099446614\\u003cbr\\u003e  ],\\u003cbr\\u003e  \\\"params\\\": {\\u003cbr\\u003e    \\\"learning_rate\\\": 0.0006322324732840011,\\u003cbr\\u003e    \\\"num_encoder_layers\\\": 6,\\u003cbr\\u003e    \\\"num_decoder_layers\\\": 6,\\u003cbr\\u003e    \\\"num_heads\\\": 3,\\u003cbr\\u003e    \\\"dropout\\\": 0.2998577797345076\\u003cbr\\u003e  }\\u003cbr\\u003e}\",\"{\\u003cbr\\u003e  \\\"number\\\": 11,\\u003cbr\\u003e  \\\"values\\\": [\\u003cbr\\u003e    1.4657037774721782\\u003cbr\\u003e  ],\\u003cbr\\u003e  \\\"params\\\": {\\u003cbr\\u003e    \\\"learning_rate\\\": 0.0005913760616849062,\\u003cbr\\u003e    \\\"num_encoder_layers\\\": 2,\\u003cbr\\u003e    \\\"num_decoder_layers\\\": 6,\\u003cbr\\u003e    \\\"num_heads\\\": 47,\\u003cbr\\u003e    \\\"dropout\\\": 0.19818373023474972\\u003cbr\\u003e  }\\u003cbr\\u003e}\",\"{\\u003cbr\\u003e  \\\"number\\\": 12,\\u003cbr\\u003e  \\\"values\\\": [\\u003cbr\\u003e    1.528442664941152\\u003cbr\\u003e  ],\\u003cbr\\u003e  \\\"params\\\": {\\u003cbr\\u003e    \\\"learning_rate\\\": 0.0009504964268619431,\\u003cbr\\u003e    \\\"num_encoder_layers\\\": 4,\\u003cbr\\u003e    \\\"num_decoder_layers\\\": 8,\\u003cbr\\u003e    \\\"num_heads\\\": 3,\\u003cbr\\u003e    \\\"dropout\\\": 0.18538114546375922\\u003cbr\\u003e  }\\u003cbr\\u003e}\",\"{\\u003cbr\\u003e  \\\"number\\\": 13,\\u003cbr\\u003e  \\\"values\\\": [\\u003cbr\\u003e    2.0060049215952556\\u003cbr\\u003e  ],\\u003cbr\\u003e  \\\"params\\\": {\\u003cbr\\u003e    \\\"learning_rate\\\": 0.0003664468933671111,\\u003cbr\\u003e    \\\"num_encoder_layers\\\": 2,\\u003cbr\\u003e    \\\"num_decoder_layers\\\": 6,\\u003cbr\\u003e    \\\"num_heads\\\": 47,\\u003cbr\\u003e    \\\"dropout\\\": 0.1754120338198971\\u003cbr\\u003e  }\\u003cbr\\u003e}\",\"{\\u003cbr\\u003e  \\\"number\\\": 14,\\u003cbr\\u003e  \\\"values\\\": [\\u003cbr\\u003e    1.5420795361200967\\u003cbr\\u003e  ],\\u003cbr\\u003e  \\\"params\\\": {\\u003cbr\\u003e    \\\"learning_rate\\\": 0.0022512275236127137,\\u003cbr\\u003e    \\\"num_encoder_layers\\\": 6,\\u003cbr\\u003e    \\\"num_decoder_layers\\\": 4,\\u003cbr\\u003e    \\\"num_heads\\\": 47,\\u003cbr\\u003e    \\\"dropout\\\": 0.21807448913025526\\u003cbr\\u003e  }\\u003cbr\\u003e}\",\"{\\u003cbr\\u003e  \\\"number\\\": 15,\\u003cbr\\u003e  \\\"values\\\": [\\u003cbr\\u003e    2.0579601446787517\\u003cbr\\u003e  ],\\u003cbr\\u003e  \\\"params\\\": {\\u003cbr\\u003e    \\\"learning_rate\\\": 0.00010199604380594386,\\u003cbr\\u003e    \\\"num_encoder_layers\\\": 2,\\u003cbr\\u003e    \\\"num_decoder_layers\\\": 6,\\u003cbr\\u003e    \\\"num_heads\\\": 47,\\u003cbr\\u003e    \\\"dropout\\\": 0.16681845386797406\\u003cbr\\u003e  }\\u003cbr\\u003e}\",\"{\\u003cbr\\u003e  \\\"number\\\": 16,\\u003cbr\\u003e  \\\"values\\\": [\\u003cbr\\u003e    1.45538432598114\\u003cbr\\u003e  ],\\u003cbr\\u003e  \\\"params\\\": {\\u003cbr\\u003e    \\\"learning_rate\\\": 0.0003456563907627854,\\u003cbr\\u003e    \\\"num_encoder_layers\\\": 6,\\u003cbr\\u003e    \\\"num_decoder_layers\\\": 4,\\u003cbr\\u003e    \\\"num_heads\\\": 2,\\u003cbr\\u003e    \\\"dropout\\\": 0.12461802758104365\\u003cbr\\u003e  }\\u003cbr\\u003e}\",\"{\\u003cbr\\u003e  \\\"number\\\": 17,\\u003cbr\\u003e  \\\"values\\\": [\\u003cbr\\u003e    1.512154793739319\\u003cbr\\u003e  ],\\u003cbr\\u003e  \\\"params\\\": {\\u003cbr\\u003e    \\\"learning_rate\\\": 0.007614387462021869,\\u003cbr\\u003e    \\\"num_encoder_layers\\\": 4,\\u003cbr\\u003e    \\\"num_decoder_layers\\\": 8,\\u003cbr\\u003e    \\\"num_heads\\\": 6,\\u003cbr\\u003e    \\\"dropout\\\": 0.10213609645436314\\u003cbr\\u003e  }\\u003cbr\\u003e}\",\"{\\u003cbr\\u003e  \\\"number\\\": 18,\\u003cbr\\u003e  \\\"values\\\": [\\u003cbr\\u003e    1.4931251207987468\\u003cbr\\u003e  ],\\u003cbr\\u003e  \\\"params\\\": {\\u003cbr\\u003e    \\\"learning_rate\\\": 0.0016661546218101468,\\u003cbr\\u003e    \\\"num_encoder_layers\\\": 2,\\u003cbr\\u003e    \\\"num_decoder_layers\\\": 6,\\u003cbr\\u003e    \\\"num_heads\\\": 3,\\u003cbr\\u003e    \\\"dropout\\\": 0.21882469417254105\\u003cbr\\u003e  }\\u003cbr\\u003e}\",\"{\\u003cbr\\u003e  \\\"number\\\": 19,\\u003cbr\\u003e  \\\"values\\\": [\\u003cbr\\u003e    2.344977029164632\\u003cbr\\u003e  ],\\u003cbr\\u003e  \\\"params\\\": {\\u003cbr\\u003e    \\\"learning_rate\\\": 0.00027531860299773116,\\u003cbr\\u003e    \\\"num_encoder_layers\\\": 6,\\u003cbr\\u003e    \\\"num_decoder_layers\\\": 4,\\u003cbr\\u003e    \\\"num_heads\\\": 47,\\u003cbr\\u003e    \\\"dropout\\\": 0.19115071432225827\\u003cbr\\u003e  }\\u003cbr\\u003e}\",\"{\\u003cbr\\u003e  \\\"number\\\": 20,\\u003cbr\\u003e  \\\"values\\\": [\\u003cbr\\u003e    1.9311017433802287\\u003cbr\\u003e  ],\\u003cbr\\u003e  \\\"params\\\": {\\u003cbr\\u003e    \\\"learning_rate\\\": 0.0005658436199265017,\\u003cbr\\u003e    \\\"num_encoder_layers\\\": 2,\\u003cbr\\u003e    \\\"num_decoder_layers\\\": 4,\\u003cbr\\u003e    \\\"num_heads\\\": 47,\\u003cbr\\u003e    \\\"dropout\\\": 0.1669647843243653\\u003cbr\\u003e  }\\u003cbr\\u003e}\",\"{\\u003cbr\\u003e  \\\"number\\\": 22,\\u003cbr\\u003e  \\\"values\\\": [\\u003cbr\\u003e    1.3764358083407084\\u003cbr\\u003e  ],\\u003cbr\\u003e  \\\"params\\\": {\\u003cbr\\u003e    \\\"learning_rate\\\": 0.00012690506691674495,\\u003cbr\\u003e    \\\"num_encoder_layers\\\": 6,\\u003cbr\\u003e    \\\"num_decoder_layers\\\": 4,\\u003cbr\\u003e    \\\"num_heads\\\": 47,\\u003cbr\\u003e    \\\"dropout\\\": 0.16024928470669816\\u003cbr\\u003e  }\\u003cbr\\u003e}\",\"{\\u003cbr\\u003e  \\\"number\\\": 23,\\u003cbr\\u003e  \\\"values\\\": [\\u003cbr\\u003e    2.3227210521697996\\u003cbr\\u003e  ],\\u003cbr\\u003e  \\\"params\\\": {\\u003cbr\\u003e    \\\"learning_rate\\\": 0.00021832185907605796,\\u003cbr\\u003e    \\\"num_encoder_layers\\\": 6,\\u003cbr\\u003e    \\\"num_decoder_layers\\\": 4,\\u003cbr\\u003e    \\\"num_heads\\\": 47,\\u003cbr\\u003e    \\\"dropout\\\": 0.13000936077865372\\u003cbr\\u003e  }\\u003cbr\\u003e}\",\"{\\u003cbr\\u003e  \\\"number\\\": 25,\\u003cbr\\u003e  \\\"values\\\": [\\u003cbr\\u003e    1.4957214673360189\\u003cbr\\u003e  ],\\u003cbr\\u003e  \\\"params\\\": {\\u003cbr\\u003e    \\\"learning_rate\\\": 0.0002438682317782633,\\u003cbr\\u003e    \\\"num_encoder_layers\\\": 6,\\u003cbr\\u003e    \\\"num_decoder_layers\\\": 6,\\u003cbr\\u003e    \\\"num_heads\\\": 47,\\u003cbr\\u003e    \\\"dropout\\\": 0.20650175591781877\\u003cbr\\u003e  }\\u003cbr\\u003e}\",\"{\\u003cbr\\u003e  \\\"number\\\": 26,\\u003cbr\\u003e  \\\"values\\\": [\\u003cbr\\u003e    1.4972280979156494\\u003cbr\\u003e  ],\\u003cbr\\u003e  \\\"params\\\": {\\u003cbr\\u003e    \\\"learning_rate\\\": 0.000438352838091796,\\u003cbr\\u003e    \\\"num_encoder_layers\\\": 8,\\u003cbr\\u003e    \\\"num_decoder_layers\\\": 8,\\u003cbr\\u003e    \\\"num_heads\\\": 3,\\u003cbr\\u003e    \\\"dropout\\\": 0.13994574898454004\\u003cbr\\u003e  }\\u003cbr\\u003e}\",\"{\\u003cbr\\u003e  \\\"number\\\": 27,\\u003cbr\\u003e  \\\"values\\\": [\\u003cbr\\u003e    1.4780420978864035\\u003cbr\\u003e  ],\\u003cbr\\u003e  \\\"params\\\": {\\u003cbr\\u003e    \\\"learning_rate\\\": 0.0012000880029978795,\\u003cbr\\u003e    \\\"num_encoder_layers\\\": 4,\\u003cbr\\u003e    \\\"num_decoder_layers\\\": 10,\\u003cbr\\u003e    \\\"num_heads\\\": 2,\\u003cbr\\u003e    \\\"dropout\\\": 0.11271517126309243\\u003cbr\\u003e  }\\u003cbr\\u003e}\",\"{\\u003cbr\\u003e  \\\"number\\\": 28,\\u003cbr\\u003e  \\\"values\\\": [\\u003cbr\\u003e    1.0673978487650553\\u003cbr\\u003e  ],\\u003cbr\\u003e  \\\"params\\\": {\\u003cbr\\u003e    \\\"learning_rate\\\": 0.0001658571471475819,\\u003cbr\\u003e    \\\"num_encoder_layers\\\": 6,\\u003cbr\\u003e    \\\"num_decoder_layers\\\": 4,\\u003cbr\\u003e    \\\"num_heads\\\": 6,\\u003cbr\\u003e    \\\"dropout\\\": 0.23699101255672939\\u003cbr\\u003e  }\\u003cbr\\u003e}\",\"{\\u003cbr\\u003e  \\\"number\\\": 29,\\u003cbr\\u003e  \\\"values\\\": [\\u003cbr\\u003e    1.3518814166386923\\u003cbr\\u003e  ],\\u003cbr\\u003e  \\\"params\\\": {\\u003cbr\\u003e    \\\"learning_rate\\\": 0.00029643303266618315,\\u003cbr\\u003e    \\\"num_encoder_layers\\\": 2,\\u003cbr\\u003e    \\\"num_decoder_layers\\\": 6,\\u003cbr\\u003e    \\\"num_heads\\\": 2,\\u003cbr\\u003e    \\\"dropout\\\": 0.29029158395502863\\u003cbr\\u003e  }\\u003cbr\\u003e}\",\"{\\u003cbr\\u003e  \\\"number\\\": 30,\\u003cbr\\u003e  \\\"values\\\": [\\u003cbr\\u003e    1.1357242027918497\\u003cbr\\u003e  ],\\u003cbr\\u003e  \\\"params\\\": {\\u003cbr\\u003e    \\\"learning_rate\\\": 0.00010741061549235614,\\u003cbr\\u003e    \\\"num_encoder_layers\\\": 2,\\u003cbr\\u003e    \\\"num_decoder_layers\\\": 6,\\u003cbr\\u003e    \\\"num_heads\\\": 47,\\u003cbr\\u003e    \\\"dropout\\\": 0.1576852744169235\\u003cbr\\u003e  }\\u003cbr\\u003e}\",\"{\\u003cbr\\u003e  \\\"number\\\": 32,\\u003cbr\\u003e  \\\"values\\\": [\\u003cbr\\u003e    1.6040490508079528\\u003cbr\\u003e  ],\\u003cbr\\u003e  \\\"params\\\": {\\u003cbr\\u003e    \\\"learning_rate\\\": 0.00018529379654021397,\\u003cbr\\u003e    \\\"num_encoder_layers\\\": 6,\\u003cbr\\u003e    \\\"num_decoder_layers\\\": 4,\\u003cbr\\u003e    \\\"num_heads\\\": 47,\\u003cbr\\u003e    \\\"dropout\\\": 0.1368377015773147\\u003cbr\\u003e  }\\u003cbr\\u003e}\",\"{\\u003cbr\\u003e  \\\"number\\\": 33,\\u003cbr\\u003e  \\\"values\\\": [\\u003cbr\\u003e    0.6193440000216166\\u003cbr\\u003e  ],\\u003cbr\\u003e  \\\"params\\\": {\\u003cbr\\u003e    \\\"learning_rate\\\": 0.00013348843050182193,\\u003cbr\\u003e    \\\"num_encoder_layers\\\": 6,\\u003cbr\\u003e    \\\"num_decoder_layers\\\": 4,\\u003cbr\\u003e    \\\"num_heads\\\": 47,\\u003cbr\\u003e    \\\"dropout\\\": 0.17632035555309428\\u003cbr\\u003e  }\\u003cbr\\u003e}\",\"{\\u003cbr\\u003e  \\\"number\\\": 34,\\u003cbr\\u003e  \\\"values\\\": [\\u003cbr\\u003e    1.0647830327351888\\u003cbr\\u003e  ],\\u003cbr\\u003e  \\\"params\\\": {\\u003cbr\\u003e    \\\"learning_rate\\\": 0.00013025716595787198,\\u003cbr\\u003e    \\\"num_encoder_layers\\\": 6,\\u003cbr\\u003e    \\\"num_decoder_layers\\\": 4,\\u003cbr\\u003e    \\\"num_heads\\\": 47,\\u003cbr\\u003e    \\\"dropout\\\": 0.15133121872403116\\u003cbr\\u003e  }\\u003cbr\\u003e}\",\"{\\u003cbr\\u003e  \\\"number\\\": 35,\\u003cbr\\u003e  \\\"values\\\": [\\u003cbr\\u003e    2.008989373842875\\u003cbr\\u003e  ],\\u003cbr\\u003e  \\\"params\\\": {\\u003cbr\\u003e    \\\"learning_rate\\\": 0.00020189300631419396,\\u003cbr\\u003e    \\\"num_encoder_layers\\\": 8,\\u003cbr\\u003e    \\\"num_decoder_layers\\\": 10,\\u003cbr\\u003e    \\\"num_heads\\\": 47,\\u003cbr\\u003e    \\\"dropout\\\": 0.1720712398677115\\u003cbr\\u003e  }\\u003cbr\\u003e}\",\"{\\u003cbr\\u003e  \\\"number\\\": 36,\\u003cbr\\u003e  \\\"values\\\": [\\u003cbr\\u003e    1.6178575038909913\\u003cbr\\u003e  ],\\u003cbr\\u003e  \\\"params\\\": {\\u003cbr\\u003e    \\\"learning_rate\\\": 0.003832322124200008,\\u003cbr\\u003e    \\\"num_encoder_layers\\\": 6,\\u003cbr\\u003e    \\\"num_decoder_layers\\\": 4,\\u003cbr\\u003e    \\\"num_heads\\\": 6,\\u003cbr\\u003e    \\\"dropout\\\": 0.1250604927113935\\u003cbr\\u003e  }\\u003cbr\\u003e}\",\"{\\u003cbr\\u003e  \\\"number\\\": 37,\\u003cbr\\u003e  \\\"values\\\": [\\u003cbr\\u003e    2.102960244814555\\u003cbr\\u003e  ],\\u003cbr\\u003e  \\\"params\\\": {\\u003cbr\\u003e    \\\"learning_rate\\\": 0.0002519657508154955,\\u003cbr\\u003e    \\\"num_encoder_layers\\\": 6,\\u003cbr\\u003e    \\\"num_decoder_layers\\\": 8,\\u003cbr\\u003e    \\\"num_heads\\\": 47,\\u003cbr\\u003e    \\\"dropout\\\": 0.20095609063579922\\u003cbr\\u003e  }\\u003cbr\\u003e}\",\"{\\u003cbr\\u003e  \\\"number\\\": 38,\\u003cbr\\u003e  \\\"values\\\": [\\u003cbr\\u003e    1.5931342919667562\\u003cbr\\u003e  ],\\u003cbr\\u003e  \\\"params\\\": {\\u003cbr\\u003e    \\\"learning_rate\\\": 0.0004397776722402249,\\u003cbr\\u003e    \\\"num_encoder_layers\\\": 8,\\u003cbr\\u003e    \\\"num_decoder_layers\\\": 10,\\u003cbr\\u003e    \\\"num_heads\\\": 47,\\u003cbr\\u003e    \\\"dropout\\\": 0.11680316770212792\\u003cbr\\u003e  }\\u003cbr\\u003e}\",\"{\\u003cbr\\u003e  \\\"number\\\": 40,\\u003cbr\\u003e  \\\"values\\\": [\\u003cbr\\u003e    1.9484777927398682\\u003cbr\\u003e  ],\\u003cbr\\u003e  \\\"params\\\": {\\u003cbr\\u003e    \\\"learning_rate\\\": 0.0001222586562674428,\\u003cbr\\u003e    \\\"num_encoder_layers\\\": 4,\\u003cbr\\u003e    \\\"num_decoder_layers\\\": 4,\\u003cbr\\u003e    \\\"num_heads\\\": 3,\\u003cbr\\u003e    \\\"dropout\\\": 0.1612440587506075\\u003cbr\\u003e  }\\u003cbr\\u003e}\",\"{\\u003cbr\\u003e  \\\"number\\\": 41,\\u003cbr\\u003e  \\\"values\\\": [\\u003cbr\\u003e    0.5397412737210592\\u003cbr\\u003e  ],\\u003cbr\\u003e  \\\"params\\\": {\\u003cbr\\u003e    \\\"learning_rate\\\": 0.00011036907009317642,\\u003cbr\\u003e    \\\"num_encoder_layers\\\": 6,\\u003cbr\\u003e    \\\"num_decoder_layers\\\": 4,\\u003cbr\\u003e    \\\"num_heads\\\": 47,\\u003cbr\\u003e    \\\"dropout\\\": 0.14428966985655498\\u003cbr\\u003e  }\\u003cbr\\u003e}\",\"{\\u003cbr\\u003e  \\\"number\\\": 44,\\u003cbr\\u003e  \\\"values\\\": [\\u003cbr\\u003e    2.1195961395899454\\u003cbr\\u003e  ],\\u003cbr\\u003e  \\\"params\\\": {\\u003cbr\\u003e    \\\"learning_rate\\\": 0.00019328778496063777,\\u003cbr\\u003e    \\\"num_encoder_layers\\\": 2,\\u003cbr\\u003e    \\\"num_decoder_layers\\\": 6,\\u003cbr\\u003e    \\\"num_heads\\\": 47,\\u003cbr\\u003e    \\\"dropout\\\": 0.18331780018976995\\u003cbr\\u003e  }\\u003cbr\\u003e}\",\"{\\u003cbr\\u003e  \\\"number\\\": 45,\\u003cbr\\u003e  \\\"values\\\": [\\u003cbr\\u003e    0.7484740893046061\\u003cbr\\u003e  ],\\u003cbr\\u003e  \\\"params\\\": {\\u003cbr\\u003e    \\\"learning_rate\\\": 0.00014061819744786545,\\u003cbr\\u003e    \\\"num_encoder_layers\\\": 6,\\u003cbr\\u003e    \\\"num_decoder_layers\\\": 4,\\u003cbr\\u003e    \\\"num_heads\\\": 47,\\u003cbr\\u003e    \\\"dropout\\\": 0.15718153820541894\\u003cbr\\u003e  }\\u003cbr\\u003e}\",\"{\\u003cbr\\u003e  \\\"number\\\": 46,\\u003cbr\\u003e  \\\"values\\\": [\\u003cbr\\u003e    0.6214634299278259\\u003cbr\\u003e  ],\\u003cbr\\u003e  \\\"params\\\": {\\u003cbr\\u003e    \\\"learning_rate\\\": 0.0001017287618105267,\\u003cbr\\u003e    \\\"num_encoder_layers\\\": 6,\\u003cbr\\u003e    \\\"num_decoder_layers\\\": 4,\\u003cbr\\u003e    \\\"num_heads\\\": 47,\\u003cbr\\u003e    \\\"dropout\\\": 0.19334668977023817\\u003cbr\\u003e  }\\u003cbr\\u003e}\",\"{\\u003cbr\\u003e  \\\"number\\\": 47,\\u003cbr\\u003e  \\\"values\\\": [\\u003cbr\\u003e    1.5722466786702474\\u003cbr\\u003e  ],\\u003cbr\\u003e  \\\"params\\\": {\\u003cbr\\u003e    \\\"learning_rate\\\": 0.0008076287984957857,\\u003cbr\\u003e    \\\"num_encoder_layers\\\": 2,\\u003cbr\\u003e    \\\"num_decoder_layers\\\": 6,\\u003cbr\\u003e    \\\"num_heads\\\": 6,\\u003cbr\\u003e    \\\"dropout\\\": 0.11632676518831041\\u003cbr\\u003e  }\\u003cbr\\u003e}\",\"{\\u003cbr\\u003e  \\\"number\\\": 48,\\u003cbr\\u003e  \\\"values\\\": [\\u003cbr\\u003e    1.7690097252527872\\u003cbr\\u003e  ],\\u003cbr\\u003e  \\\"params\\\": {\\u003cbr\\u003e    \\\"learning_rate\\\": 0.00029955986474757224,\\u003cbr\\u003e    \\\"num_encoder_layers\\\": 8,\\u003cbr\\u003e    \\\"num_decoder_layers\\\": 8,\\u003cbr\\u003e    \\\"num_heads\\\": 47,\\u003cbr\\u003e    \\\"dropout\\\": 0.17374781233913583\\u003cbr\\u003e  }\\u003cbr\\u003e}\",\"{\\u003cbr\\u003e  \\\"number\\\": 49,\\u003cbr\\u003e  \\\"values\\\": [\\u003cbr\\u003e    1.971044659614563\\u003cbr\\u003e  ],\\u003cbr\\u003e  \\\"params\\\": {\\u003cbr\\u003e    \\\"learning_rate\\\": 0.0002291442151495037,\\u003cbr\\u003e    \\\"num_encoder_layers\\\": 4,\\u003cbr\\u003e    \\\"num_decoder_layers\\\": 10,\\u003cbr\\u003e    \\\"num_heads\\\": 47,\\u003cbr\\u003e    \\\"dropout\\\": 0.20819666472312937\\u003cbr\\u003e  }\\u003cbr\\u003e}\",\"{\\u003cbr\\u003e  \\\"number\\\": 50,\\u003cbr\\u003e  \\\"values\\\": [\\u003cbr\\u003e    0.6568805674711863\\u003cbr\\u003e  ],\\u003cbr\\u003e  \\\"params\\\": {\\u003cbr\\u003e    \\\"learning_rate\\\": 0.00019015029465895917,\\u003cbr\\u003e    \\\"num_encoder_layers\\\": 6,\\u003cbr\\u003e    \\\"num_decoder_layers\\\": 4,\\u003cbr\\u003e    \\\"num_heads\\\": 3,\\u003cbr\\u003e    \\\"dropout\\\": 0.16726914908335297\\u003cbr\\u003e  }\\u003cbr\\u003e}\",\"{\\u003cbr\\u003e  \\\"number\\\": 51,\\u003cbr\\u003e  \\\"values\\\": [\\u003cbr\\u003e    1.6089995543162028\\u003cbr\\u003e  ],\\u003cbr\\u003e  \\\"params\\\": {\\u003cbr\\u003e    \\\"learning_rate\\\": 0.00010181572802440769,\\u003cbr\\u003e    \\\"num_encoder_layers\\\": 6,\\u003cbr\\u003e    \\\"num_decoder_layers\\\": 4,\\u003cbr\\u003e    \\\"num_heads\\\": 47,\\u003cbr\\u003e    \\\"dropout\\\": 0.15067862647752878\\u003cbr\\u003e  }\\u003cbr\\u003e}\",\"{\\u003cbr\\u003e  \\\"number\\\": 52,\\u003cbr\\u003e  \\\"values\\\": [\\u003cbr\\u003e    1.0277384042739868\\u003cbr\\u003e  ],\\u003cbr\\u003e  \\\"params\\\": {\\u003cbr\\u003e    \\\"learning_rate\\\": 0.0001263172033380869,\\u003cbr\\u003e    \\\"num_encoder_layers\\\": 6,\\u003cbr\\u003e    \\\"num_decoder_layers\\\": 4,\\u003cbr\\u003e    \\\"num_heads\\\": 47,\\u003cbr\\u003e    \\\"dropout\\\": 0.1540547168267567\\u003cbr\\u003e  }\\u003cbr\\u003e}\",\"{\\u003cbr\\u003e  \\\"number\\\": 53,\\u003cbr\\u003e  \\\"values\\\": [\\u003cbr\\u003e    1.0604249556859335\\u003cbr\\u003e  ],\\u003cbr\\u003e  \\\"params\\\": {\\u003cbr\\u003e    \\\"learning_rate\\\": 0.0001705765286827313,\\u003cbr\\u003e    \\\"num_encoder_layers\\\": 6,\\u003cbr\\u003e    \\\"num_decoder_layers\\\": 4,\\u003cbr\\u003e    \\\"num_heads\\\": 47,\\u003cbr\\u003e    \\\"dropout\\\": 0.1376763781675563\\u003cbr\\u003e  }\\u003cbr\\u003e}\",\"{\\u003cbr\\u003e  \\\"number\\\": 55,\\u003cbr\\u003e  \\\"values\\\": [\\u003cbr\\u003e    1.1590555628140768\\u003cbr\\u003e  ],\\u003cbr\\u003e  \\\"params\\\": {\\u003cbr\\u003e    \\\"learning_rate\\\": 0.00015038310976366035,\\u003cbr\\u003e    \\\"num_encoder_layers\\\": 2,\\u003cbr\\u003e    \\\"num_decoder_layers\\\": 4,\\u003cbr\\u003e    \\\"num_heads\\\": 47,\\u003cbr\\u003e    \\\"dropout\\\": 0.1659234714514859\\u003cbr\\u003e  }\\u003cbr\\u003e}\",\"{\\u003cbr\\u003e  \\\"number\\\": 56,\\u003cbr\\u003e  \\\"values\\\": [\\u003cbr\\u003e    1.080431294441223\\u003cbr\\u003e  ],\\u003cbr\\u003e  \\\"params\\\": {\\u003cbr\\u003e    \\\"learning_rate\\\": 0.00010031595668462718,\\u003cbr\\u003e    \\\"num_encoder_layers\\\": 6,\\u003cbr\\u003e    \\\"num_decoder_layers\\\": 6,\\u003cbr\\u003e    \\\"num_heads\\\": 47,\\u003cbr\\u003e    \\\"dropout\\\": 0.1295767492292847\\u003cbr\\u003e  }\\u003cbr\\u003e}\",\"{\\u003cbr\\u003e  \\\"number\\\": 57,\\u003cbr\\u003e  \\\"values\\\": [\\u003cbr\\u003e    1.5782513777414957\\u003cbr\\u003e  ],\\u003cbr\\u003e  \\\"params\\\": {\\u003cbr\\u003e    \\\"learning_rate\\\": 0.0004216091158386748,\\u003cbr\\u003e    \\\"num_encoder_layers\\\": 6,\\u003cbr\\u003e    \\\"num_decoder_layers\\\": 4,\\u003cbr\\u003e    \\\"num_heads\\\": 2,\\u003cbr\\u003e    \\\"dropout\\\": 0.1782558294580964\\u003cbr\\u003e  }\\u003cbr\\u003e}\",\"{\\u003cbr\\u003e  \\\"number\\\": 58,\\u003cbr\\u003e  \\\"values\\\": [\\u003cbr\\u003e    1.6633016467094421\\u003cbr\\u003e  ],\\u003cbr\\u003e  \\\"params\\\": {\\u003cbr\\u003e    \\\"learning_rate\\\": 0.00022139414919139324,\\u003cbr\\u003e    \\\"num_encoder_layers\\\": 6,\\u003cbr\\u003e    \\\"num_decoder_layers\\\": 4,\\u003cbr\\u003e    \\\"num_heads\\\": 47,\\u003cbr\\u003e    \\\"dropout\\\": 0.10856165628373174\\u003cbr\\u003e  }\\u003cbr\\u003e}\",\"{\\u003cbr\\u003e  \\\"number\\\": 59,\\u003cbr\\u003e  \\\"values\\\": [\\u003cbr\\u003e    1.756839919090271\\u003cbr\\u003e  ],\\u003cbr\\u003e  \\\"params\\\": {\\u003cbr\\u003e    \\\"learning_rate\\\": 0.00011833680470745883,\\u003cbr\\u003e    \\\"num_encoder_layers\\\": 2,\\u003cbr\\u003e    \\\"num_decoder_layers\\\": 8,\\u003cbr\\u003e    \\\"num_heads\\\": 6,\\u003cbr\\u003e    \\\"dropout\\\": 0.12321478420460527\\u003cbr\\u003e  }\\u003cbr\\u003e}\",\"{\\u003cbr\\u003e  \\\"number\\\": 60,\\u003cbr\\u003e  \\\"values\\\": [\\u003cbr\\u003e    1.5532731533050537\\u003cbr\\u003e  ],\\u003cbr\\u003e  \\\"params\\\": {\\u003cbr\\u003e    \\\"learning_rate\\\": 0.008098303277661393,\\u003cbr\\u003e    \\\"num_encoder_layers\\\": 6,\\u003cbr\\u003e    \\\"num_decoder_layers\\\": 6,\\u003cbr\\u003e    \\\"num_heads\\\": 47,\\u003cbr\\u003e    \\\"dropout\\\": 0.18885895632206506\\u003cbr\\u003e  }\\u003cbr\\u003e}\",\"{\\u003cbr\\u003e  \\\"number\\\": 62,\\u003cbr\\u003e  \\\"values\\\": [\\u003cbr\\u003e    0.9795459667841594\\u003cbr\\u003e  ],\\u003cbr\\u003e  \\\"params\\\": {\\u003cbr\\u003e    \\\"learning_rate\\\": 0.00014969243157076945,\\u003cbr\\u003e    \\\"num_encoder_layers\\\": 6,\\u003cbr\\u003e    \\\"num_decoder_layers\\\": 4,\\u003cbr\\u003e    \\\"num_heads\\\": 47,\\u003cbr\\u003e    \\\"dropout\\\": 0.13384308901151373\\u003cbr\\u003e  }\\u003cbr\\u003e}\",\"{\\u003cbr\\u003e  \\\"number\\\": 63,\\u003cbr\\u003e  \\\"values\\\": [\\u003cbr\\u003e    1.1039518992106119\\u003cbr\\u003e  ],\\u003cbr\\u003e  \\\"params\\\": {\\u003cbr\\u003e    \\\"learning_rate\\\": 0.00017352792910756577,\\u003cbr\\u003e    \\\"num_encoder_layers\\\": 6,\\u003cbr\\u003e    \\\"num_decoder_layers\\\": 4,\\u003cbr\\u003e    \\\"num_heads\\\": 47,\\u003cbr\\u003e    \\\"dropout\\\": 0.16097320332478682\\u003cbr\\u003e  }\\u003cbr\\u003e}\",\"{\\u003cbr\\u003e  \\\"number\\\": 64,\\u003cbr\\u003e  \\\"values\\\": [\\u003cbr\\u003e    1.178816545009613\\u003cbr\\u003e  ],\\u003cbr\\u003e  \\\"params\\\": {\\u003cbr\\u003e    \\\"learning_rate\\\": 0.00013872485769603925,\\u003cbr\\u003e    \\\"num_encoder_layers\\\": 6,\\u003cbr\\u003e    \\\"num_decoder_layers\\\": 4,\\u003cbr\\u003e    \\\"num_heads\\\": 47,\\u003cbr\\u003e    \\\"dropout\\\": 0.15109119564872894\\u003cbr\\u003e  }\\u003cbr\\u003e}\",\"{\\u003cbr\\u003e  \\\"number\\\": 65,\\u003cbr\\u003e  \\\"values\\\": [\\u003cbr\\u003e    0.7149224201838176\\u003cbr\\u003e  ],\\u003cbr\\u003e  \\\"params\\\": {\\u003cbr\\u003e    \\\"learning_rate\\\": 0.00011742382919897915,\\u003cbr\\u003e    \\\"num_encoder_layers\\\": 4,\\u003cbr\\u003e    \\\"num_decoder_layers\\\": 4,\\u003cbr\\u003e    \\\"num_heads\\\": 47,\\u003cbr\\u003e    \\\"dropout\\\": 0.1339963000887785\\u003cbr\\u003e  }\\u003cbr\\u003e}\",\"{\\u003cbr\\u003e  \\\"number\\\": 66,\\u003cbr\\u003e  \\\"values\\\": [\\u003cbr\\u003e    1.7119317690531413\\u003cbr\\u003e  ],\\u003cbr\\u003e  \\\"params\\\": {\\u003cbr\\u003e    \\\"learning_rate\\\": 0.0037518701990608993,\\u003cbr\\u003e    \\\"num_encoder_layers\\\": 6,\\u003cbr\\u003e    \\\"num_decoder_layers\\\": 4,\\u003cbr\\u003e    \\\"num_heads\\\": 3,\\u003cbr\\u003e    \\\"dropout\\\": 0.14219303115168075\\u003cbr\\u003e  }\\u003cbr\\u003e}\",\"{\\u003cbr\\u003e  \\\"number\\\": 67,\\u003cbr\\u003e  \\\"values\\\": [\\u003cbr\\u003e    1.814155348141988\\u003cbr\\u003e  ],\\u003cbr\\u003e  \\\"params\\\": {\\u003cbr\\u003e    \\\"learning_rate\\\": 0.00030554548732985074,\\u003cbr\\u003e    \\\"num_encoder_layers\\\": 2,\\u003cbr\\u003e    \\\"num_decoder_layers\\\": 4,\\u003cbr\\u003e    \\\"num_heads\\\": 47,\\u003cbr\\u003e    \\\"dropout\\\": 0.12077418409894823\\u003cbr\\u003e  }\\u003cbr\\u003e}\",\"{\\u003cbr\\u003e  \\\"number\\\": 68,\\u003cbr\\u003e  \\\"values\\\": [\\u003cbr\\u003e    1.6539843400319418\\u003cbr\\u003e  ],\\u003cbr\\u003e  \\\"params\\\": {\\u003cbr\\u003e    \\\"learning_rate\\\": 0.000198365602480647,\\u003cbr\\u003e    \\\"num_encoder_layers\\\": 8,\\u003cbr\\u003e    \\\"num_decoder_layers\\\": 6,\\u003cbr\\u003e    \\\"num_heads\\\": 47,\\u003cbr\\u003e    \\\"dropout\\\": 0.2679331433054037\\u003cbr\\u003e  }\\u003cbr\\u003e}\",\"{\\u003cbr\\u003e  \\\"number\\\": 69,\\u003cbr\\u003e  \\\"values\\\": [\\u003cbr\\u003e    1.4819804986317953\\u003cbr\\u003e  ],\\u003cbr\\u003e  \\\"params\\\": {\\u003cbr\\u003e    \\\"learning_rate\\\": 0.00026442274997415737,\\u003cbr\\u003e    \\\"num_encoder_layers\\\": 6,\\u003cbr\\u003e    \\\"num_decoder_layers\\\": 10,\\u003cbr\\u003e    \\\"num_heads\\\": 2,\\u003cbr\\u003e    \\\"dropout\\\": 0.1659959157075212\\u003cbr\\u003e  }\\u003cbr\\u003e}\",\"{\\u003cbr\\u003e  \\\"number\\\": 70,\\u003cbr\\u003e  \\\"values\\\": [\\u003cbr\\u003e    1.4627732753753662\\u003cbr\\u003e  ],\\u003cbr\\u003e  \\\"params\\\": {\\u003cbr\\u003e    \\\"learning_rate\\\": 0.0013157461025602897,\\u003cbr\\u003e    \\\"num_encoder_layers\\\": 6,\\u003cbr\\u003e    \\\"num_decoder_layers\\\": 4,\\u003cbr\\u003e    \\\"num_heads\\\": 47,\\u003cbr\\u003e    \\\"dropout\\\": 0.15587801924352235\\u003cbr\\u003e  }\\u003cbr\\u003e}\",\"{\\u003cbr\\u003e  \\\"number\\\": 71,\\u003cbr\\u003e  \\\"values\\\": [\\u003cbr\\u003e    2.1131473382314048\\u003cbr\\u003e  ],\\u003cbr\\u003e  \\\"params\\\": {\\u003cbr\\u003e    \\\"learning_rate\\\": 0.0001563540900475655,\\u003cbr\\u003e    \\\"num_encoder_layers\\\": 6,\\u003cbr\\u003e    \\\"num_decoder_layers\\\": 4,\\u003cbr\\u003e    \\\"num_heads\\\": 47,\\u003cbr\\u003e    \\\"dropout\\\": 0.17945129186208347\\u003cbr\\u003e  }\\u003cbr\\u003e}\",\"{\\u003cbr\\u003e  \\\"number\\\": 72,\\u003cbr\\u003e  \\\"values\\\": [\\u003cbr\\u003e    0.6783706823984782\\u003cbr\\u003e  ],\\u003cbr\\u003e  \\\"params\\\": {\\u003cbr\\u003e    \\\"learning_rate\\\": 0.00012992772362286153,\\u003cbr\\u003e    \\\"num_encoder_layers\\\": 6,\\u003cbr\\u003e    \\\"num_decoder_layers\\\": 4,\\u003cbr\\u003e    \\\"num_heads\\\": 47,\\u003cbr\\u003e    \\\"dropout\\\": 0.19763669564915373\\u003cbr\\u003e  }\\u003cbr\\u003e}\",\"{\\u003cbr\\u003e  \\\"number\\\": 73,\\u003cbr\\u003e  \\\"values\\\": [\\u003cbr\\u003e    1.4630698402722677\\u003cbr\\u003e  ],\\u003cbr\\u003e  \\\"params\\\": {\\u003cbr\\u003e    \\\"learning_rate\\\": 0.00011558666873851111,\\u003cbr\\u003e    \\\"num_encoder_layers\\\": 6,\\u003cbr\\u003e    \\\"num_decoder_layers\\\": 4,\\u003cbr\\u003e    \\\"num_heads\\\": 47,\\u003cbr\\u003e    \\\"dropout\\\": 0.2318715925666485\\u003cbr\\u003e  }\\u003cbr\\u003e}\",\"{\\u003cbr\\u003e  \\\"number\\\": 74,\\u003cbr\\u003e  \\\"values\\\": [\\u003cbr\\u003e    1.0679335117340087\\u003cbr\\u003e  ],\\u003cbr\\u003e  \\\"params\\\": {\\u003cbr\\u003e    \\\"learning_rate\\\": 0.00013980336392954788,\\u003cbr\\u003e    \\\"num_encoder_layers\\\": 6,\\u003cbr\\u003e    \\\"num_decoder_layers\\\": 4,\\u003cbr\\u003e    \\\"num_heads\\\": 47,\\u003cbr\\u003e    \\\"dropout\\\": 0.1692366022589158\\u003cbr\\u003e  }\\u003cbr\\u003e}\",\"{\\u003cbr\\u003e  \\\"number\\\": 75,\\u003cbr\\u003e  \\\"values\\\": [\\u003cbr\\u003e    0.395124892393748\\u003cbr\\u003e  ],\\u003cbr\\u003e  \\\"params\\\": {\\u003cbr\\u003e    \\\"learning_rate\\\": 0.0001699280072116286,\\u003cbr\\u003e    \\\"num_encoder_layers\\\": 6,\\u003cbr\\u003e    \\\"num_decoder_layers\\\": 4,\\u003cbr\\u003e    \\\"num_heads\\\": 47,\\u003cbr\\u003e    \\\"dropout\\\": 0.1855699483389137\\u003cbr\\u003e  }\\u003cbr\\u003e}\",\"{\\u003cbr\\u003e  \\\"number\\\": 76,\\u003cbr\\u003e  \\\"values\\\": [\\u003cbr\\u003e    1.7280705451965332\\u003cbr\\u003e  ],\\u003cbr\\u003e  \\\"params\\\": {\\u003cbr\\u003e    \\\"learning_rate\\\": 0.00021566527109754462,\\u003cbr\\u003e    \\\"num_encoder_layers\\\": 2,\\u003cbr\\u003e    \\\"num_decoder_layers\\\": 8,\\u003cbr\\u003e    \\\"num_heads\\\": 47,\\u003cbr\\u003e    \\\"dropout\\\": 0.14448284994891958\\u003cbr\\u003e  }\\u003cbr\\u003e}\",\"{\\u003cbr\\u003e  \\\"number\\\": 77,\\u003cbr\\u003e  \\\"values\\\": [\\u003cbr\\u003e    0.8719492435455323\\u003cbr\\u003e  ],\\u003cbr\\u003e  \\\"params\\\": {\\u003cbr\\u003e    \\\"learning_rate\\\": 0.00011177088860097265,\\u003cbr\\u003e    \\\"num_encoder_layers\\\": 6,\\u003cbr\\u003e    \\\"num_decoder_layers\\\": 6,\\u003cbr\\u003e    \\\"num_heads\\\": 6,\\u003cbr\\u003e    \\\"dropout\\\": 0.16124376133508084\\u003cbr\\u003e  }\\u003cbr\\u003e}\",\"{\\u003cbr\\u003e  \\\"number\\\": 78,\\u003cbr\\u003e  \\\"values\\\": [\\u003cbr\\u003e    1.3992619593938191\\u003cbr\\u003e  ],\\u003cbr\\u003e  \\\"params\\\": {\\u003cbr\\u003e    \\\"learning_rate\\\": 0.00013179482555443148,\\u003cbr\\u003e    \\\"num_encoder_layers\\\": 4,\\u003cbr\\u003e    \\\"num_decoder_layers\\\": 4,\\u003cbr\\u003e    \\\"num_heads\\\": 47,\\u003cbr\\u003e    \\\"dropout\\\": 0.21432702571676482\\u003cbr\\u003e  }\\u003cbr\\u003e}\",\"{\\u003cbr\\u003e  \\\"number\\\": 79,\\u003cbr\\u003e  \\\"values\\\": [\\u003cbr\\u003e    0.4682413955529531\\u003cbr\\u003e  ],\\u003cbr\\u003e  \\\"params\\\": {\\u003cbr\\u003e    \\\"learning_rate\\\": 0.000101697194193215,\\u003cbr\\u003e    \\\"num_encoder_layers\\\": 6,\\u003cbr\\u003e    \\\"num_decoder_layers\\\": 4,\\u003cbr\\u003e    \\\"num_heads\\\": 3,\\u003cbr\\u003e    \\\"dropout\\\": 0.13090419056649705\\u003cbr\\u003e  }\\u003cbr\\u003e}\"],\"textposition\":\"none\",\"x\":[6410.222,7983.853,4336.491,6213.130999999999,4498.362,6215.6539999999995,4516.059,4912.287,4872.213000000001,4637.2970000000005,6023.982,4430.561,5423.738,3752.599,5046.292,5264.601,6221.3279999999995,6752.169999999999,6909.875,4638.518999999999,4994.956,4650.588,5417.671,9519.056,5423.954,8054.111000000001,4652.955000000001,6581.159000000001,7930.71,4320.955,10146.169,4511.977,10182.488,10084.312,4593.59,7431.816000000001,6626.438,10065.952,5363.97,4912.7919999999995,4938.150000000001,3759.477,5639.1179999999995,5188.731,4903.348,10764.279,6212.405000000001,5110.915,5334.603,10087.716999999999,8749.873,5277.47,3834.508,6860.638,7054.964,5457.226000000001,5138.225,10365.214,5551.543,4969.663,34960.016,5569.059,38422.654,4495.151,10144.520999999999],\"y\":[6,8,9,10,11,12,13,14,15,16,17,18,19,20,22,23,25,26,27,28,29,30,32,33,34,35,36,37,38,40,41,44,45,46,47,48,49,50,51,52,53,55,56,57,58,59,60,62,63,64,65,66,67,68,69,70,71,72,73,74,75,76,77,78,79],\"type\":\"bar\"}],                        {\"template\":{\"data\":{\"histogram2dcontour\":[{\"type\":\"histogram2dcontour\",\"colorbar\":{\"outlinewidth\":0,\"ticks\":\"\"},\"colorscale\":[[0.0,\"#0d0887\"],[0.1111111111111111,\"#46039f\"],[0.2222222222222222,\"#7201a8\"],[0.3333333333333333,\"#9c179e\"],[0.4444444444444444,\"#bd3786\"],[0.5555555555555556,\"#d8576b\"],[0.6666666666666666,\"#ed7953\"],[0.7777777777777778,\"#fb9f3a\"],[0.8888888888888888,\"#fdca26\"],[1.0,\"#f0f921\"]]}],\"choropleth\":[{\"type\":\"choropleth\",\"colorbar\":{\"outlinewidth\":0,\"ticks\":\"\"}}],\"histogram2d\":[{\"type\":\"histogram2d\",\"colorbar\":{\"outlinewidth\":0,\"ticks\":\"\"},\"colorscale\":[[0.0,\"#0d0887\"],[0.1111111111111111,\"#46039f\"],[0.2222222222222222,\"#7201a8\"],[0.3333333333333333,\"#9c179e\"],[0.4444444444444444,\"#bd3786\"],[0.5555555555555556,\"#d8576b\"],[0.6666666666666666,\"#ed7953\"],[0.7777777777777778,\"#fb9f3a\"],[0.8888888888888888,\"#fdca26\"],[1.0,\"#f0f921\"]]}],\"heatmap\":[{\"type\":\"heatmap\",\"colorbar\":{\"outlinewidth\":0,\"ticks\":\"\"},\"colorscale\":[[0.0,\"#0d0887\"],[0.1111111111111111,\"#46039f\"],[0.2222222222222222,\"#7201a8\"],[0.3333333333333333,\"#9c179e\"],[0.4444444444444444,\"#bd3786\"],[0.5555555555555556,\"#d8576b\"],[0.6666666666666666,\"#ed7953\"],[0.7777777777777778,\"#fb9f3a\"],[0.8888888888888888,\"#fdca26\"],[1.0,\"#f0f921\"]]}],\"heatmapgl\":[{\"type\":\"heatmapgl\",\"colorbar\":{\"outlinewidth\":0,\"ticks\":\"\"},\"colorscale\":[[0.0,\"#0d0887\"],[0.1111111111111111,\"#46039f\"],[0.2222222222222222,\"#7201a8\"],[0.3333333333333333,\"#9c179e\"],[0.4444444444444444,\"#bd3786\"],[0.5555555555555556,\"#d8576b\"],[0.6666666666666666,\"#ed7953\"],[0.7777777777777778,\"#fb9f3a\"],[0.8888888888888888,\"#fdca26\"],[1.0,\"#f0f921\"]]}],\"contourcarpet\":[{\"type\":\"contourcarpet\",\"colorbar\":{\"outlinewidth\":0,\"ticks\":\"\"}}],\"contour\":[{\"type\":\"contour\",\"colorbar\":{\"outlinewidth\":0,\"ticks\":\"\"},\"colorscale\":[[0.0,\"#0d0887\"],[0.1111111111111111,\"#46039f\"],[0.2222222222222222,\"#7201a8\"],[0.3333333333333333,\"#9c179e\"],[0.4444444444444444,\"#bd3786\"],[0.5555555555555556,\"#d8576b\"],[0.6666666666666666,\"#ed7953\"],[0.7777777777777778,\"#fb9f3a\"],[0.8888888888888888,\"#fdca26\"],[1.0,\"#f0f921\"]]}],\"surface\":[{\"type\":\"surface\",\"colorbar\":{\"outlinewidth\":0,\"ticks\":\"\"},\"colorscale\":[[0.0,\"#0d0887\"],[0.1111111111111111,\"#46039f\"],[0.2222222222222222,\"#7201a8\"],[0.3333333333333333,\"#9c179e\"],[0.4444444444444444,\"#bd3786\"],[0.5555555555555556,\"#d8576b\"],[0.6666666666666666,\"#ed7953\"],[0.7777777777777778,\"#fb9f3a\"],[0.8888888888888888,\"#fdca26\"],[1.0,\"#f0f921\"]]}],\"mesh3d\":[{\"type\":\"mesh3d\",\"colorbar\":{\"outlinewidth\":0,\"ticks\":\"\"}}],\"scatter\":[{\"fillpattern\":{\"fillmode\":\"overlay\",\"size\":10,\"solidity\":0.2},\"type\":\"scatter\"}],\"parcoords\":[{\"type\":\"parcoords\",\"line\":{\"colorbar\":{\"outlinewidth\":0,\"ticks\":\"\"}}}],\"scatterpolargl\":[{\"type\":\"scatterpolargl\",\"marker\":{\"colorbar\":{\"outlinewidth\":0,\"ticks\":\"\"}}}],\"bar\":[{\"error_x\":{\"color\":\"#2a3f5f\"},\"error_y\":{\"color\":\"#2a3f5f\"},\"marker\":{\"line\":{\"color\":\"#E5ECF6\",\"width\":0.5},\"pattern\":{\"fillmode\":\"overlay\",\"size\":10,\"solidity\":0.2}},\"type\":\"bar\"}],\"scattergeo\":[{\"type\":\"scattergeo\",\"marker\":{\"colorbar\":{\"outlinewidth\":0,\"ticks\":\"\"}}}],\"scatterpolar\":[{\"type\":\"scatterpolar\",\"marker\":{\"colorbar\":{\"outlinewidth\":0,\"ticks\":\"\"}}}],\"histogram\":[{\"marker\":{\"pattern\":{\"fillmode\":\"overlay\",\"size\":10,\"solidity\":0.2}},\"type\":\"histogram\"}],\"scattergl\":[{\"type\":\"scattergl\",\"marker\":{\"colorbar\":{\"outlinewidth\":0,\"ticks\":\"\"}}}],\"scatter3d\":[{\"type\":\"scatter3d\",\"line\":{\"colorbar\":{\"outlinewidth\":0,\"ticks\":\"\"}},\"marker\":{\"colorbar\":{\"outlinewidth\":0,\"ticks\":\"\"}}}],\"scattermapbox\":[{\"type\":\"scattermapbox\",\"marker\":{\"colorbar\":{\"outlinewidth\":0,\"ticks\":\"\"}}}],\"scatterternary\":[{\"type\":\"scatterternary\",\"marker\":{\"colorbar\":{\"outlinewidth\":0,\"ticks\":\"\"}}}],\"scattercarpet\":[{\"type\":\"scattercarpet\",\"marker\":{\"colorbar\":{\"outlinewidth\":0,\"ticks\":\"\"}}}],\"carpet\":[{\"aaxis\":{\"endlinecolor\":\"#2a3f5f\",\"gridcolor\":\"white\",\"linecolor\":\"white\",\"minorgridcolor\":\"white\",\"startlinecolor\":\"#2a3f5f\"},\"baxis\":{\"endlinecolor\":\"#2a3f5f\",\"gridcolor\":\"white\",\"linecolor\":\"white\",\"minorgridcolor\":\"white\",\"startlinecolor\":\"#2a3f5f\"},\"type\":\"carpet\"}],\"table\":[{\"cells\":{\"fill\":{\"color\":\"#EBF0F8\"},\"line\":{\"color\":\"white\"}},\"header\":{\"fill\":{\"color\":\"#C8D4E3\"},\"line\":{\"color\":\"white\"}},\"type\":\"table\"}],\"barpolar\":[{\"marker\":{\"line\":{\"color\":\"#E5ECF6\",\"width\":0.5},\"pattern\":{\"fillmode\":\"overlay\",\"size\":10,\"solidity\":0.2}},\"type\":\"barpolar\"}],\"pie\":[{\"automargin\":true,\"type\":\"pie\"}]},\"layout\":{\"autotypenumbers\":\"strict\",\"colorway\":[\"#636efa\",\"#EF553B\",\"#00cc96\",\"#ab63fa\",\"#FFA15A\",\"#19d3f3\",\"#FF6692\",\"#B6E880\",\"#FF97FF\",\"#FECB52\"],\"font\":{\"color\":\"#2a3f5f\"},\"hovermode\":\"closest\",\"hoverlabel\":{\"align\":\"left\"},\"paper_bgcolor\":\"white\",\"plot_bgcolor\":\"#E5ECF6\",\"polar\":{\"bgcolor\":\"#E5ECF6\",\"angularaxis\":{\"gridcolor\":\"white\",\"linecolor\":\"white\",\"ticks\":\"\"},\"radialaxis\":{\"gridcolor\":\"white\",\"linecolor\":\"white\",\"ticks\":\"\"}},\"ternary\":{\"bgcolor\":\"#E5ECF6\",\"aaxis\":{\"gridcolor\":\"white\",\"linecolor\":\"white\",\"ticks\":\"\"},\"baxis\":{\"gridcolor\":\"white\",\"linecolor\":\"white\",\"ticks\":\"\"},\"caxis\":{\"gridcolor\":\"white\",\"linecolor\":\"white\",\"ticks\":\"\"}},\"coloraxis\":{\"colorbar\":{\"outlinewidth\":0,\"ticks\":\"\"}},\"colorscale\":{\"sequential\":[[0.0,\"#0d0887\"],[0.1111111111111111,\"#46039f\"],[0.2222222222222222,\"#7201a8\"],[0.3333333333333333,\"#9c179e\"],[0.4444444444444444,\"#bd3786\"],[0.5555555555555556,\"#d8576b\"],[0.6666666666666666,\"#ed7953\"],[0.7777777777777778,\"#fb9f3a\"],[0.8888888888888888,\"#fdca26\"],[1.0,\"#f0f921\"]],\"sequentialminus\":[[0.0,\"#0d0887\"],[0.1111111111111111,\"#46039f\"],[0.2222222222222222,\"#7201a8\"],[0.3333333333333333,\"#9c179e\"],[0.4444444444444444,\"#bd3786\"],[0.5555555555555556,\"#d8576b\"],[0.6666666666666666,\"#ed7953\"],[0.7777777777777778,\"#fb9f3a\"],[0.8888888888888888,\"#fdca26\"],[1.0,\"#f0f921\"]],\"diverging\":[[0,\"#8e0152\"],[0.1,\"#c51b7d\"],[0.2,\"#de77ae\"],[0.3,\"#f1b6da\"],[0.4,\"#fde0ef\"],[0.5,\"#f7f7f7\"],[0.6,\"#e6f5d0\"],[0.7,\"#b8e186\"],[0.8,\"#7fbc41\"],[0.9,\"#4d9221\"],[1,\"#276419\"]]},\"xaxis\":{\"gridcolor\":\"white\",\"linecolor\":\"white\",\"ticks\":\"\",\"title\":{\"standoff\":15},\"zerolinecolor\":\"white\",\"automargin\":true,\"zerolinewidth\":2},\"yaxis\":{\"gridcolor\":\"white\",\"linecolor\":\"white\",\"ticks\":\"\",\"title\":{\"standoff\":15},\"zerolinecolor\":\"white\",\"automargin\":true,\"zerolinewidth\":2},\"scene\":{\"xaxis\":{\"backgroundcolor\":\"#E5ECF6\",\"gridcolor\":\"white\",\"linecolor\":\"white\",\"showbackground\":true,\"ticks\":\"\",\"zerolinecolor\":\"white\",\"gridwidth\":2},\"yaxis\":{\"backgroundcolor\":\"#E5ECF6\",\"gridcolor\":\"white\",\"linecolor\":\"white\",\"showbackground\":true,\"ticks\":\"\",\"zerolinecolor\":\"white\",\"gridwidth\":2},\"zaxis\":{\"backgroundcolor\":\"#E5ECF6\",\"gridcolor\":\"white\",\"linecolor\":\"white\",\"showbackground\":true,\"ticks\":\"\",\"zerolinecolor\":\"white\",\"gridwidth\":2}},\"shapedefaults\":{\"line\":{\"color\":\"#2a3f5f\"}},\"annotationdefaults\":{\"arrowcolor\":\"#2a3f5f\",\"arrowhead\":0,\"arrowwidth\":1},\"geo\":{\"bgcolor\":\"white\",\"landcolor\":\"#E5ECF6\",\"subunitcolor\":\"white\",\"showland\":true,\"showlakes\":true,\"lakecolor\":\"white\"},\"title\":{\"x\":0.05},\"mapbox\":{\"style\":\"light\"}}},\"xaxis\":{\"type\":\"date\",\"title\":{\"text\":\"Datetime\"}},\"title\":{\"text\":\"Timeline Plot\"},\"yaxis\":{\"title\":{\"text\":\"Trial\"}},\"showlegend\":true},                        {\"responsive\": true}                    ).then(function(){\n",
              "                            \n",
              "var gd = document.getElementById('9b89f63c-ddcb-4470-bc89-c3408203bb96');\n",
              "var x = new MutationObserver(function (mutations, observer) {{\n",
              "        var display = window.getComputedStyle(gd).display;\n",
              "        if (!display || display === 'none') {{\n",
              "            console.log([gd, 'removed!']);\n",
              "            Plotly.purge(gd);\n",
              "            observer.disconnect();\n",
              "        }}\n",
              "}});\n",
              "\n",
              "// Listen for the removal of the full notebook cells\n",
              "var notebookContainer = gd.closest('#notebook-container');\n",
              "if (notebookContainer) {{\n",
              "    x.observe(notebookContainer, {childList: true});\n",
              "}}\n",
              "\n",
              "// Listen for the clearing of the current output cell\n",
              "var outputEl = gd.closest('.output');\n",
              "if (outputEl) {{\n",
              "    x.observe(outputEl, {childList: true});\n",
              "}}\n",
              "\n",
              "                        })                };                            </script>        </div>\n",
              "</body>\n",
              "</html>"
            ]
          },
          "metadata": {}
        }
      ]
    },
    {
      "cell_type": "markdown",
      "source": [
        "## Training with the best hyperparameters"
      ],
      "metadata": {
        "id": "Od1ukY32B2TM"
      }
    },
    {
      "cell_type": "code",
      "source": [
        "model = Transformer(\n",
        "    num_tokens=inp_train.size()[1], dim_model=282, num_heads=47, num_encoder_layers=6, num_decoder_layers=6, dropout_p=0.18\n",
        ").to(device)\n",
        "#opt = torch.optim.SGD(model.parameters(), lr=0.0003)\n",
        "opt = torch.optim.Adam(model.parameters(), lr=0.0002)\n",
        "loss_fn = CustomLoss()\n",
        "\n",
        "# num_tokens = length of sequence"
      ],
      "metadata": {
        "colab": {
          "base_uri": "https://localhost:8080/"
        },
        "id": "UasP4WPZwCdS",
        "outputId": "f422bc63-50a2-4e87-ff0a-16ae0aeebf8a"
      },
      "execution_count": 35,
      "outputs": [
        {
          "output_type": "stream",
          "name": "stderr",
          "text": [
            "/usr/local/lib/python3.10/dist-packages/torch/nn/modules/transformer.py:286: UserWarning:\n",
            "\n",
            "enable_nested_tensor is True, but self.use_nested_tensor is False because encoder_layer.self_attn.num_heads is odd\n",
            "\n"
          ]
        }
      ]
    },
    {
      "cell_type": "code",
      "source": [
        "def validation_loop2(model, loss_fn, train_dataloader, val_dataloader):\n",
        "    \"\"\"\n",
        "    Method from \"A detailed guide to Pytorch's nn.Transformer() module.\", by\n",
        "    Daniel Melchor: https://medium.com/@danielmelchor/a-detailed-guide-to-pytorchs-nn-transformer-module-c80afbc9ffb1\n",
        "    \"\"\"\n",
        "\n",
        "    model.eval()\n",
        "    train_total_loss = 0\n",
        "    val_total_loss = 0\n",
        "\n",
        "    with torch.no_grad():\n",
        "        for batch in val_dataloader:\n",
        "            X, y = batch[0], batch[1]\n",
        "            X, y = torch.tensor(X, device=device), torch.tensor(y, device=device)\n",
        "\n",
        "            pad_mask_src = model.create_pad_mask(X, 500).to(device)\n",
        "\n",
        "            # Standard training except we pass in y_input and src_mask\n",
        "            #print(\"val \", X.shape, y.shape, X.dtype, y.dtype)\n",
        "            pred = model(X, y, src_pad_mask=pad_mask_src)\n",
        "\n",
        "            loss = loss_fn(pred, y)\n",
        "            val_total_loss += loss.detach().item()\n",
        "\n",
        "        for batch in train_dataloader:\n",
        "            X, y = batch[0], batch[1]\n",
        "            X, y = torch.tensor(X, device=device), torch.tensor(y, device=device)\n",
        "\n",
        "            pad_mask_src = model.create_pad_mask(X, 500).to(device)\n",
        "\n",
        "            # Standard training except we pass in y_input and src_mask\n",
        "            #print(\"val \", X.shape, y.shape, X.dtype, y.dtype)\n",
        "            pred = model(X, y, src_pad_mask=pad_mask_src)\n",
        "\n",
        "\n",
        "            loss = loss_fn(pred, y)\n",
        "            train_total_loss += loss.detach().item()\n",
        "\n",
        "    return train_total_loss / len(train_dataloader), val_total_loss / len(val_dataloader)"
      ],
      "metadata": {
        "id": "-eQtqSJZwKMY"
      },
      "execution_count": 36,
      "outputs": []
    },
    {
      "cell_type": "code",
      "source": [
        "# Create DataLoader for training set\n",
        "train_dataloader = DataLoader(TensorDataset(inp_train.float(), target_train.float()), batch_size=30, shuffle=True, drop_last=True)\n",
        "\n",
        "# Create DataLoader for validation set\n",
        "val_dataloader = DataLoader(TensorDataset(inp_val.float(), target_val.float()), batch_size=30, shuffle=True, drop_last=True)\n",
        "\n",
        "n_epochs = 100\n",
        "\n",
        "\n",
        "#train_dataloader = DataLoader(TensorDataset(inp_tensor.float(), target_tensor.float()), batch_size=53, shuffle=True, drop_last=True)\n",
        "#val_dataloader = DataLoader(TensorDataset(inp_tensor.float(), target_tensor.float()),batch_size=53, shuffle=True,  drop_last=True)\n",
        "\n",
        "def fit(model, opt, loss_fn, train_dataloader, val_dataloader, epochs):\n",
        "    \"\"\"\n",
        "    Method from \"A detailed guide to Pytorch's nn.Transformer() module.\", by\n",
        "    Daniel Melchor: https://medium.com/@danielmelchor/a-detailed-guide-to-pytorchs-nn-transformer-module-c80afbc9ffb1\n",
        "    \"\"\"\n",
        "\n",
        "    # Used for plotting later on\n",
        "    train_loss_list, validation_loss_list,train_v_loss_list  = [], [], []\n",
        "\n",
        "    print(\"Training and validating model\")\n",
        "    for epoch in range(epochs):\n",
        "        print(\"-\"*25, f\"Epoch {epoch + 1}\",\"-\"*25)\n",
        "\n",
        "        train_loss = train_loop(model, opt, loss_fn, train_dataloader)\n",
        "        train_loss_list += [train_loss]\n",
        "\n",
        "        train_v_loss, validation_loss = validation_loop2(model, loss_fn, train_dataloader,val_dataloader)\n",
        "        train_v_loss_list += [train_v_loss]\n",
        "        validation_loss_list += [validation_loss]\n",
        "\n",
        "        print(f\"Training loss: {train_loss:.4f}\")\n",
        "        print(f\"Training loss: {train_v_loss:.4f}\")\n",
        "        print(f\"Validation loss: {validation_loss:.4f}\")\n",
        "        print()\n",
        "\n",
        "    return train_loss_list, train_v_loss_list, validation_loss_list\n",
        "\n",
        "train_loss_list,train_v_loss_list, validation_loss_list = fit(model, opt, loss_fn, train_dataloader, val_dataloader, n_epochs)"
      ],
      "metadata": {
        "colab": {
          "base_uri": "https://localhost:8080/"
        },
        "id": "A4Fj5z5BvsF8",
        "outputId": "cbe0db96-d4c7-47e4-81c6-b145c54c62f8"
      },
      "execution_count": 37,
      "outputs": [
        {
          "output_type": "stream",
          "name": "stdout",
          "text": [
            "Training and validating model\n",
            "------------------------- Epoch 1 -------------------------\n"
          ]
        },
        {
          "output_type": "stream",
          "name": "stderr",
          "text": [
            "<ipython-input-11-b24b9f5ee9ad>:12: UserWarning:\n",
            "\n",
            "To copy construct from a tensor, it is recommended to use sourceTensor.clone().detach() or sourceTensor.clone().detach().requires_grad_(True), rather than torch.tensor(sourceTensor).\n",
            "\n",
            "<ipython-input-36-0b6981d225a1>:14: UserWarning:\n",
            "\n",
            "To copy construct from a tensor, it is recommended to use sourceTensor.clone().detach() or sourceTensor.clone().detach().requires_grad_(True), rather than torch.tensor(sourceTensor).\n",
            "\n",
            "<ipython-input-36-0b6981d225a1>:27: UserWarning:\n",
            "\n",
            "To copy construct from a tensor, it is recommended to use sourceTensor.clone().detach() or sourceTensor.clone().detach().requires_grad_(True), rather than torch.tensor(sourceTensor).\n",
            "\n"
          ]
        },
        {
          "output_type": "stream",
          "name": "stdout",
          "text": [
            "Training loss: 1.5740\n",
            "Training loss: 0.5366\n",
            "Validation loss: 2.2234\n",
            "\n",
            "------------------------- Epoch 2 -------------------------\n",
            "Training loss: 0.7934\n",
            "Training loss: 0.2049\n",
            "Validation loss: 2.0457\n",
            "\n",
            "------------------------- Epoch 3 -------------------------\n",
            "Training loss: 0.6043\n",
            "Training loss: 0.4990\n",
            "Validation loss: 0.9250\n",
            "\n",
            "------------------------- Epoch 4 -------------------------\n",
            "Training loss: 0.6058\n",
            "Training loss: 0.2904\n",
            "Validation loss: 1.7296\n",
            "\n",
            "------------------------- Epoch 5 -------------------------\n",
            "Training loss: 0.6096\n",
            "Training loss: 0.1958\n",
            "Validation loss: 2.2896\n",
            "\n",
            "------------------------- Epoch 6 -------------------------\n",
            "Training loss: 0.4460\n",
            "Training loss: 0.1146\n",
            "Validation loss: 0.6653\n",
            "\n",
            "------------------------- Epoch 7 -------------------------\n",
            "Training loss: 0.4893\n",
            "Training loss: 0.1636\n",
            "Validation loss: 0.5024\n",
            "\n",
            "------------------------- Epoch 8 -------------------------\n",
            "Training loss: 0.3287\n",
            "Training loss: 0.0686\n",
            "Validation loss: 0.4383\n",
            "\n",
            "------------------------- Epoch 9 -------------------------\n",
            "Training loss: 0.2556\n",
            "Training loss: 0.1325\n",
            "Validation loss: 1.8742\n",
            "\n",
            "------------------------- Epoch 10 -------------------------\n",
            "Training loss: 0.2814\n",
            "Training loss: 0.1072\n",
            "Validation loss: 0.6964\n",
            "\n",
            "------------------------- Epoch 11 -------------------------\n",
            "Training loss: 0.2399\n",
            "Training loss: 0.1270\n",
            "Validation loss: 0.7329\n",
            "\n",
            "------------------------- Epoch 12 -------------------------\n",
            "Training loss: 0.2355\n",
            "Training loss: 0.0772\n",
            "Validation loss: 0.1975\n",
            "\n",
            "------------------------- Epoch 13 -------------------------\n",
            "Training loss: 0.2505\n",
            "Training loss: 0.0533\n",
            "Validation loss: 0.2554\n",
            "\n",
            "------------------------- Epoch 14 -------------------------\n",
            "Training loss: 0.2738\n",
            "Training loss: 0.1915\n",
            "Validation loss: 0.1669\n",
            "\n",
            "------------------------- Epoch 15 -------------------------\n",
            "Training loss: 0.2461\n",
            "Training loss: 0.1608\n",
            "Validation loss: 0.4408\n",
            "\n",
            "------------------------- Epoch 16 -------------------------\n",
            "Training loss: 0.2861\n",
            "Training loss: 0.1143\n",
            "Validation loss: 0.1098\n",
            "\n",
            "------------------------- Epoch 17 -------------------------\n",
            "Training loss: 0.2568\n",
            "Training loss: 0.1523\n",
            "Validation loss: 0.3851\n",
            "\n",
            "------------------------- Epoch 18 -------------------------\n",
            "Training loss: 0.2472\n",
            "Training loss: 0.1258\n",
            "Validation loss: 0.2150\n",
            "\n",
            "------------------------- Epoch 19 -------------------------\n",
            "Training loss: 0.2333\n",
            "Training loss: 0.1194\n",
            "Validation loss: 0.2586\n",
            "\n",
            "------------------------- Epoch 20 -------------------------\n",
            "Training loss: 0.2217\n",
            "Training loss: 0.0551\n",
            "Validation loss: 0.2243\n",
            "\n",
            "------------------------- Epoch 21 -------------------------\n",
            "Training loss: 0.1962\n",
            "Training loss: 0.1023\n",
            "Validation loss: 0.1754\n",
            "\n",
            "------------------------- Epoch 22 -------------------------\n",
            "Training loss: 0.2257\n",
            "Training loss: 0.1373\n",
            "Validation loss: 0.6939\n",
            "\n",
            "------------------------- Epoch 23 -------------------------\n",
            "Training loss: 0.2351\n",
            "Training loss: 0.0653\n",
            "Validation loss: 0.1180\n",
            "\n",
            "------------------------- Epoch 24 -------------------------\n",
            "Training loss: 0.2090\n",
            "Training loss: 0.0875\n",
            "Validation loss: 0.4180\n",
            "\n",
            "------------------------- Epoch 25 -------------------------\n",
            "Training loss: 0.2451\n",
            "Training loss: 0.0713\n",
            "Validation loss: 0.2253\n",
            "\n",
            "------------------------- Epoch 26 -------------------------\n",
            "Training loss: 0.1940\n",
            "Training loss: 0.1290\n",
            "Validation loss: 0.1948\n",
            "\n",
            "------------------------- Epoch 27 -------------------------\n",
            "Training loss: 0.2386\n",
            "Training loss: 0.1590\n",
            "Validation loss: 0.3109\n",
            "\n",
            "------------------------- Epoch 28 -------------------------\n",
            "Training loss: 0.1675\n",
            "Training loss: 0.1200\n",
            "Validation loss: 0.1959\n",
            "\n",
            "------------------------- Epoch 29 -------------------------\n",
            "Training loss: 0.2087\n",
            "Training loss: 0.1502\n",
            "Validation loss: 0.2511\n",
            "\n",
            "------------------------- Epoch 30 -------------------------\n",
            "Training loss: 0.2078\n",
            "Training loss: 0.1668\n",
            "Validation loss: 0.2121\n",
            "\n",
            "------------------------- Epoch 31 -------------------------\n",
            "Training loss: 0.2037\n",
            "Training loss: 0.0935\n",
            "Validation loss: 0.1440\n",
            "\n",
            "------------------------- Epoch 32 -------------------------\n",
            "Training loss: 0.1838\n",
            "Training loss: 0.1152\n",
            "Validation loss: 0.1794\n",
            "\n",
            "------------------------- Epoch 33 -------------------------\n",
            "Training loss: 0.1841\n",
            "Training loss: 0.0556\n",
            "Validation loss: 0.0952\n",
            "\n",
            "------------------------- Epoch 34 -------------------------\n",
            "Training loss: 0.3766\n",
            "Training loss: 0.2774\n",
            "Validation loss: 0.5494\n",
            "\n",
            "------------------------- Epoch 35 -------------------------\n",
            "Training loss: 0.4562\n",
            "Training loss: 0.1003\n",
            "Validation loss: 0.9379\n",
            "\n",
            "------------------------- Epoch 36 -------------------------\n",
            "Training loss: 0.3145\n",
            "Training loss: 0.1403\n",
            "Validation loss: 0.1577\n",
            "\n",
            "------------------------- Epoch 37 -------------------------\n",
            "Training loss: 0.2794\n",
            "Training loss: 0.0790\n",
            "Validation loss: 0.2522\n",
            "\n",
            "------------------------- Epoch 38 -------------------------\n",
            "Training loss: 0.2195\n",
            "Training loss: 0.0646\n",
            "Validation loss: 0.1942\n",
            "\n",
            "------------------------- Epoch 39 -------------------------\n",
            "Training loss: 0.1919\n",
            "Training loss: 0.1012\n",
            "Validation loss: 0.1453\n",
            "\n",
            "------------------------- Epoch 40 -------------------------\n",
            "Training loss: 0.1966\n",
            "Training loss: 0.0938\n",
            "Validation loss: 0.1064\n",
            "\n",
            "------------------------- Epoch 41 -------------------------\n",
            "Training loss: 0.1763\n",
            "Training loss: 0.0888\n",
            "Validation loss: 0.1892\n",
            "\n",
            "------------------------- Epoch 42 -------------------------\n",
            "Training loss: 0.2042\n",
            "Training loss: 0.1185\n",
            "Validation loss: 0.1856\n",
            "\n",
            "------------------------- Epoch 43 -------------------------\n",
            "Training loss: 0.1729\n",
            "Training loss: 0.1124\n",
            "Validation loss: 0.1752\n",
            "\n",
            "------------------------- Epoch 44 -------------------------\n",
            "Training loss: 0.1989\n",
            "Training loss: 0.1136\n",
            "Validation loss: 0.5554\n",
            "\n",
            "------------------------- Epoch 45 -------------------------\n",
            "Training loss: 0.1963\n",
            "Training loss: 0.2359\n",
            "Validation loss: 0.2455\n",
            "\n",
            "------------------------- Epoch 46 -------------------------\n",
            "Training loss: 0.2171\n",
            "Training loss: 0.1101\n",
            "Validation loss: 0.1936\n",
            "\n",
            "------------------------- Epoch 47 -------------------------\n",
            "Training loss: 0.2118\n",
            "Training loss: 0.0659\n",
            "Validation loss: 0.2260\n",
            "\n",
            "------------------------- Epoch 48 -------------------------\n",
            "Training loss: 0.1659\n",
            "Training loss: 0.1598\n",
            "Validation loss: 0.2151\n",
            "\n",
            "------------------------- Epoch 49 -------------------------\n",
            "Training loss: 0.1911\n",
            "Training loss: 0.1255\n",
            "Validation loss: 0.1651\n",
            "\n",
            "------------------------- Epoch 50 -------------------------\n",
            "Training loss: 0.1955\n",
            "Training loss: 0.1308\n",
            "Validation loss: 0.2434\n",
            "\n",
            "------------------------- Epoch 51 -------------------------\n",
            "Training loss: 0.1856\n",
            "Training loss: 0.1606\n",
            "Validation loss: 0.3266\n",
            "\n",
            "------------------------- Epoch 52 -------------------------\n",
            "Training loss: 0.1725\n",
            "Training loss: 0.0752\n",
            "Validation loss: 0.2950\n",
            "\n",
            "------------------------- Epoch 53 -------------------------\n",
            "Training loss: 0.1418\n",
            "Training loss: 0.0712\n",
            "Validation loss: 0.1988\n",
            "\n",
            "------------------------- Epoch 54 -------------------------\n",
            "Training loss: 0.1737\n",
            "Training loss: 0.1178\n",
            "Validation loss: 0.2275\n",
            "\n",
            "------------------------- Epoch 55 -------------------------\n",
            "Training loss: 0.1727\n",
            "Training loss: 0.1132\n",
            "Validation loss: 0.6344\n",
            "\n",
            "------------------------- Epoch 56 -------------------------\n",
            "Training loss: 0.1652\n",
            "Training loss: 0.1265\n",
            "Validation loss: 0.2411\n",
            "\n",
            "------------------------- Epoch 57 -------------------------\n",
            "Training loss: 0.1569\n",
            "Training loss: 0.0718\n",
            "Validation loss: 0.2846\n",
            "\n",
            "------------------------- Epoch 58 -------------------------\n",
            "Training loss: 0.1895\n",
            "Training loss: 0.1334\n",
            "Validation loss: 0.0957\n",
            "\n",
            "------------------------- Epoch 59 -------------------------\n",
            "Training loss: 0.2086\n",
            "Training loss: 0.1267\n",
            "Validation loss: 0.2146\n",
            "\n",
            "------------------------- Epoch 60 -------------------------\n",
            "Training loss: 0.1891\n",
            "Training loss: 0.0877\n",
            "Validation loss: 0.2790\n",
            "\n",
            "------------------------- Epoch 61 -------------------------\n",
            "Training loss: 0.1629\n",
            "Training loss: 0.1483\n",
            "Validation loss: 0.1446\n",
            "\n",
            "------------------------- Epoch 62 -------------------------\n",
            "Training loss: 0.2175\n",
            "Training loss: 0.1060\n",
            "Validation loss: 0.1327\n",
            "\n",
            "------------------------- Epoch 63 -------------------------\n",
            "Training loss: 0.1705\n",
            "Training loss: 0.0933\n",
            "Validation loss: 0.1935\n",
            "\n",
            "------------------------- Epoch 64 -------------------------\n",
            "Training loss: 0.1752\n",
            "Training loss: 0.1016\n",
            "Validation loss: 0.2476\n",
            "\n",
            "------------------------- Epoch 65 -------------------------\n",
            "Training loss: 0.1558\n",
            "Training loss: 0.1057\n",
            "Validation loss: 0.1042\n",
            "\n",
            "------------------------- Epoch 66 -------------------------\n",
            "Training loss: 0.2064\n",
            "Training loss: 0.1273\n",
            "Validation loss: 0.2969\n",
            "\n",
            "------------------------- Epoch 67 -------------------------\n",
            "Training loss: 0.1927\n",
            "Training loss: 0.1371\n",
            "Validation loss: 0.4785\n",
            "\n",
            "------------------------- Epoch 68 -------------------------\n",
            "Training loss: 0.2213\n",
            "Training loss: 0.1142\n",
            "Validation loss: 0.2556\n",
            "\n",
            "------------------------- Epoch 69 -------------------------\n",
            "Training loss: 0.2116\n",
            "Training loss: 0.1484\n",
            "Validation loss: 0.2385\n",
            "\n",
            "------------------------- Epoch 70 -------------------------\n",
            "Training loss: 0.1939\n",
            "Training loss: 0.0878\n",
            "Validation loss: 0.0752\n",
            "\n",
            "------------------------- Epoch 71 -------------------------\n",
            "Training loss: 0.1838\n",
            "Training loss: 0.1188\n",
            "Validation loss: 0.1780\n",
            "\n",
            "------------------------- Epoch 72 -------------------------\n",
            "Training loss: 0.1880\n",
            "Training loss: 0.0858\n",
            "Validation loss: 0.3378\n",
            "\n",
            "------------------------- Epoch 73 -------------------------\n",
            "Training loss: 0.1897\n",
            "Training loss: 0.0894\n",
            "Validation loss: 0.1184\n",
            "\n",
            "------------------------- Epoch 74 -------------------------\n",
            "Training loss: 0.1607\n",
            "Training loss: 0.1650\n",
            "Validation loss: 0.3469\n",
            "\n",
            "------------------------- Epoch 75 -------------------------\n",
            "Training loss: 0.1981\n",
            "Training loss: 0.1151\n",
            "Validation loss: 0.1377\n",
            "\n",
            "------------------------- Epoch 76 -------------------------\n",
            "Training loss: 0.1871\n",
            "Training loss: 0.1048\n",
            "Validation loss: 0.1140\n",
            "\n",
            "------------------------- Epoch 77 -------------------------\n",
            "Training loss: 0.1853\n",
            "Training loss: 0.1695\n",
            "Validation loss: 0.3692\n",
            "\n",
            "------------------------- Epoch 78 -------------------------\n",
            "Training loss: 0.1860\n",
            "Training loss: 0.0670\n",
            "Validation loss: 0.2378\n",
            "\n",
            "------------------------- Epoch 79 -------------------------\n",
            "Training loss: 0.1841\n",
            "Training loss: 0.1372\n",
            "Validation loss: 0.4151\n",
            "\n",
            "------------------------- Epoch 80 -------------------------\n",
            "Training loss: 0.1836\n",
            "Training loss: 0.1240\n",
            "Validation loss: 0.1342\n",
            "\n",
            "------------------------- Epoch 81 -------------------------\n",
            "Training loss: 0.2178\n",
            "Training loss: 0.0888\n",
            "Validation loss: 0.1441\n",
            "\n",
            "------------------------- Epoch 82 -------------------------\n",
            "Training loss: 0.1720\n",
            "Training loss: 0.1521\n",
            "Validation loss: 0.2034\n",
            "\n",
            "------------------------- Epoch 83 -------------------------\n",
            "Training loss: 0.1665\n",
            "Training loss: 0.1311\n",
            "Validation loss: 0.2961\n",
            "\n",
            "------------------------- Epoch 84 -------------------------\n",
            "Training loss: 0.1804\n",
            "Training loss: 0.1724\n",
            "Validation loss: 0.1492\n",
            "\n",
            "------------------------- Epoch 85 -------------------------\n",
            "Training loss: 0.1647\n",
            "Training loss: 0.0624\n",
            "Validation loss: 0.3330\n",
            "\n",
            "------------------------- Epoch 86 -------------------------\n",
            "Training loss: 0.1377\n",
            "Training loss: 0.1789\n",
            "Validation loss: 0.1277\n",
            "\n",
            "------------------------- Epoch 87 -------------------------\n",
            "Training loss: 0.2462\n",
            "Training loss: 0.6501\n",
            "Validation loss: 0.6765\n",
            "\n",
            "------------------------- Epoch 88 -------------------------\n",
            "Training loss: 0.4616\n",
            "Training loss: 0.2537\n",
            "Validation loss: 0.2728\n",
            "\n",
            "------------------------- Epoch 89 -------------------------\n",
            "Training loss: 0.4052\n",
            "Training loss: 0.1198\n",
            "Validation loss: 0.1210\n",
            "\n",
            "------------------------- Epoch 90 -------------------------\n",
            "Training loss: 0.4200\n",
            "Training loss: 0.1485\n",
            "Validation loss: 0.1631\n",
            "\n",
            "------------------------- Epoch 91 -------------------------\n",
            "Training loss: 0.3335\n",
            "Training loss: 0.1207\n",
            "Validation loss: 0.1488\n",
            "\n",
            "------------------------- Epoch 92 -------------------------\n",
            "Training loss: 0.2669\n",
            "Training loss: 0.2237\n",
            "Validation loss: 0.4383\n",
            "\n",
            "------------------------- Epoch 93 -------------------------\n",
            "Training loss: 0.2228\n",
            "Training loss: 0.0968\n",
            "Validation loss: 0.1970\n",
            "\n",
            "------------------------- Epoch 94 -------------------------\n",
            "Training loss: 0.2101\n",
            "Training loss: 0.0817\n",
            "Validation loss: 0.1802\n",
            "\n",
            "------------------------- Epoch 95 -------------------------\n",
            "Training loss: 0.1867\n",
            "Training loss: 0.0707\n",
            "Validation loss: 0.1298\n",
            "\n",
            "------------------------- Epoch 96 -------------------------\n",
            "Training loss: 0.1908\n",
            "Training loss: 0.1345\n",
            "Validation loss: 0.1305\n",
            "\n",
            "------------------------- Epoch 97 -------------------------\n",
            "Training loss: 0.1799\n",
            "Training loss: 0.1405\n",
            "Validation loss: 0.1119\n",
            "\n",
            "------------------------- Epoch 98 -------------------------\n",
            "Training loss: 0.1848\n",
            "Training loss: 0.0781\n",
            "Validation loss: 0.3753\n",
            "\n",
            "------------------------- Epoch 99 -------------------------\n",
            "Training loss: 0.1959\n",
            "Training loss: 0.0531\n",
            "Validation loss: 0.2376\n",
            "\n",
            "------------------------- Epoch 100 -------------------------\n",
            "Training loss: 0.1848\n",
            "Training loss: 0.1354\n",
            "Validation loss: 0.2006\n",
            "\n"
          ]
        }
      ]
    },
    {
      "cell_type": "code",
      "source": [
        "# Plot the training and validation loss\n",
        "plt.plot(range(1, n_epochs + 1), train_loss_list, label='Training Loss')\n",
        "plt.plot(range(1, n_epochs + 1), train_v_loss_list, label='Training V Loss')\n",
        "plt.plot(range(1, n_epochs + 1), validation_loss_list, label='Validation Loss')\n",
        "plt.xlabel('Epoch')\n",
        "plt.ylabel('Loss')\n",
        "plt.title('Training and Validation Loss Over Time')\n",
        "plt.legend()\n",
        "plt.show()"
      ],
      "metadata": {
        "colab": {
          "base_uri": "https://localhost:8080/",
          "height": 472
        },
        "id": "7y089dkWwUCF",
        "outputId": "c4d338df-868b-4893-925c-50d96cde08f7"
      },
      "execution_count": 40,
      "outputs": [
        {
          "output_type": "display_data",
          "data": {
            "text/plain": [
              "<Figure size 640x480 with 1 Axes>"
            ],
            "image/png": "[encoded data removed]"
          },
          "metadata": {}
        }
      ]
    },
    {
      "cell_type": "code",
      "source": [
        "# Plot the training and validation loss\n",
        "plt.plot(range(1, n_epochs + 1), train_loss_list, label='Training Loss')\n",
        "#plt.plot(range(1, n_epochs + 1), train_v_loss_list, label='Training V Loss')\n",
        "plt.plot(range(1, n_epochs + 1), validation_loss_list, label='Validation Loss')\n",
        "plt.xlabel('Epoch')\n",
        "plt.ylabel('Loss')\n",
        "plt.title('Training and Validation Loss Over Time')\n",
        "plt.legend()\n",
        "plt.show()"
      ],
      "metadata": {
        "colab": {
          "base_uri": "https://localhost:8080/",
          "height": 472
        },
        "id": "9rsv-TZB8Yk7",
        "outputId": "44b2d86e-6cd5-4298-c8e4-5addb09f91a3"
      },
      "execution_count": 41,
      "outputs": [
        {
          "output_type": "display_data",
          "data": {
            "text/plain": [
              "<Figure size 640x480 with 1 Axes>"
            ],
            "image/png": "[encoded data removed]"
          },
          "metadata": {}
        }
      ]
    },
    {
      "cell_type": "code",
      "source": [
        "# save the model parameters (state_dict)\n",
        "torch.save(model.state_dict(), '/content/reward_function_mode_state_dict_6.pth')"
      ],
      "metadata": {
        "id": "uSYPmc6H8M3A"
      },
      "execution_count": 45,
      "outputs": []
    },
    {
      "cell_type": "code",
      "source": [
        "test_dataloader = DataLoader(TensorDataset(inp_test.float(), target_test.float()), batch_size=30, shuffle=True, drop_last=True)"
      ],
      "metadata": {
        "id": "3HUTmZyU9_JF"
      },
      "execution_count": 46,
      "outputs": []
    },
    {
      "cell_type": "code",
      "source": [
        "import torch.nn.functional as F"
      ],
      "metadata": {
        "id": "2REQ1GDY_qNh"
      },
      "execution_count": 47,
      "outputs": []
    },
    {
      "cell_type": "code",
      "source": [
        "def compute_loss(model, dataloader, loss_fn):\n",
        "    model.eval()  # Set model to evaluation mode\n",
        "    total_loss = 0.0\n",
        "    num_samples = 0\n",
        "\n",
        "    with torch.no_grad():  # Disable gradient calculation\n",
        "        for batch in dataloader:\n",
        "            inputs, targets = batch\n",
        "            inputs, targets = inputs.to(device), targets.to(device)  # Move data to device\n",
        "            predictions = model(inputs,targets)  # Forward pass\n",
        "            loss = loss_fn(predictions, targets)  # Compute loss\n",
        "            total_loss += loss.item() * len(inputs)\n",
        "            num_samples += len(inputs)\n",
        "\n",
        "    return total_loss / num_samples\n",
        "\n",
        "# Define your loss function (e.g., Mean Squared Error for regression)\n",
        "loss_fn = loss_function\n",
        "\n",
        "# Calculate loss on the test dataset\n",
        "test_loss = compute_loss(model, test_dataloader, loss_fn)\n",
        "print(f'Loss on test dataset: {test_loss:.4f}')"
      ],
      "metadata": {
        "colab": {
          "base_uri": "https://localhost:8080/"
        },
        "id": "ESon1pSp8uDg",
        "outputId": "d44038d2-7a49-4d6b-8693-859d3dfbb6f8"
      },
      "execution_count": 49,
      "outputs": [
        {
          "output_type": "stream",
          "name": "stdout",
          "text": [
            "Loss on test dataset: 0.1997\n"
          ]
        }
      ]
    },
    {
      "cell_type": "code",
      "source": [],
      "metadata": {
        "id": "TXujexN3ACfH"
      },
      "execution_count": null,
      "outputs": []
    }
  ]
}