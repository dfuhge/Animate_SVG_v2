{
 "cells": [
  {
   "cell_type": "markdown",
   "source": [
    "# Transformer Application"
   ],
   "metadata": {
    "collapsed": false
   },
   "id": "785e23fb7a10fac6"
  },
  {
   "cell_type": "markdown",
   "source": [
    "## Configuration"
   ],
   "metadata": {
    "collapsed": false
   },
   "id": "252ba02f4cf97389"
  },
  {
   "cell_type": "markdown",
   "source": [
    "### Hyperparameters"
   ],
   "metadata": {
    "collapsed": false
   },
   "id": "c2c03b7821046028"
  },
  {
   "cell_type": "code",
   "outputs": [],
   "source": [
    "from CustomLoss import CustomEmbeddingSliceLoss\n",
    "import torch.nn as nn\n",
    "import matplotlib.pyplot as plt\n",
    "\n",
    "# HYPERPARAMETERS\n",
    "BATCH_SIZE = 64\n",
    "LEARNING_RATE = 0.000082\n",
    "\n",
    "#transformer\n",
    "NUM_HEADS = 90 # Dividers of 270: {1; 2; 3; 5; 6; 9; 10; 15; 18; 27; 30; 45; 54; 90; 135; 270}\n",
    "NUM_ENCODER_LAYERS = 3\n",
    "NUM_DECODER_LAYERS = 5\n",
    "DROPOUT=0.15\n",
    "\n",
    "# Methods\n",
    "loss_function_val = CustomEmbeddingSliceLoss(weight_deep_svg=10, weight_type=0.91, weight_parameters=650, weight_eos=2.7)\n",
    "loss_function_train = CustomEmbeddingSliceLoss(weight_deep_svg=10,\n",
    "                                               weight_type=8,\n",
    "                                               weight_parameters=95,\n",
    "                                               weight_eos=1.3)\n",
    "# CONSTANTS\n",
    "FEATURE_DIM = 270"
   ],
   "metadata": {
    "collapsed": false
   },
   "id": "508e547be8863b4c",
   "execution_count": null
  },
  {
   "cell_type": "markdown",
   "source": [
    "## Load Prepared Tensors from Disk\n",
    "Run file `prototype_dataset.ipynb` first"
   ],
   "metadata": {
    "collapsed": false
   },
   "id": "e0797527f3ff4a27"
  },
  {
   "cell_type": "code",
   "outputs": [],
   "source": [
    "import torch\n",
    "\n",
    "train_sequence_input = torch.load('data/prototype_dataset/train_sequence_input_len_20.pt')\n",
    "train_sequence_output = torch.load('data/prototype_dataset/train_sequence_output_len_20.pt')\n",
    "test_sequence_input = torch.load('data/prototype_dataset/test_sequence_input_len_20.pt')\n",
    "test_sequence_output = torch.load('data/prototype_dataset/test_sequence_output_len_20.pt')"
   ],
   "metadata": {
    "collapsed": false
   },
   "id": "ee9854fe06e9ade1",
   "execution_count": null
  },
  {
   "cell_type": "code",
   "outputs": [],
   "source": [
    "from prototype_dataset_helper import warn_if_contains_NaN\n",
    "\n",
    "warn_if_contains_NaN(train_sequence_input)\n",
    "warn_if_contains_NaN(train_sequence_output)\n",
    "warn_if_contains_NaN(test_sequence_input)\n",
    "warn_if_contains_NaN(test_sequence_output)"
   ],
   "metadata": {
    "collapsed": false
   },
   "id": "d4a0db6b3ad420b6",
   "execution_count": null
  },
  {
   "cell_type": "code",
   "outputs": [],
   "source": [
    "print(train_sequence_input.size())\n",
    "print(train_sequence_output.size())\n",
    "print(test_sequence_input.size())\n",
    "print(test_sequence_output.size())"
   ],
   "metadata": {
    "collapsed": false
   },
   "id": "29c9d0622c6c09e8",
   "execution_count": null
  },
  {
   "cell_type": "markdown",
   "source": [
    "## Build Dataloader with Batches"
   ],
   "metadata": {
    "collapsed": false
   },
   "id": "78852276c50093a0"
  },
  {
   "cell_type": "code",
   "execution_count": null,
   "id": "initial_id",
   "metadata": {
    "collapsed": true
   },
   "outputs": [],
   "source": [
    "from torch.utils.data import DataLoader, TensorDataset\n",
    "\n",
    "train_dataloader = DataLoader(TensorDataset(train_sequence_input.float(), train_sequence_output.float()),\n",
    "                              batch_size=BATCH_SIZE, shuffle=True, drop_last=True)\n",
    "val_dataloader = DataLoader(TensorDataset(test_sequence_input.float(), test_sequence_output.float()),\n",
    "                            batch_size=BATCH_SIZE, shuffle=False, drop_last=True)\n",
    "print(f\"Train batches: {len(train_dataloader)}\\n\"\n",
    "      f\"Validation batches: {len(val_dataloader)}\")"
   ]
  },
  {
   "cell_type": "markdown",
   "source": [
    "## Initialize"
   ],
   "metadata": {
    "collapsed": false
   },
   "id": "524ec1a0c79dbc2a"
  },
  {
   "cell_type": "code",
   "outputs": [],
   "source": [
    "# Enable anomaly detection\n",
    "torch.autograd.set_detect_anomaly(True)\n",
    "print(torch.__version__)\n",
    "device = torch.device(\"cuda:0\" if torch.cuda.is_available() else \"cpu\")\n",
    "#device = \"cpu\"\n",
    "print(device)"
   ],
   "metadata": {
    "collapsed": false
   },
   "id": "56536a90ec7c6586",
   "execution_count": null
  },
  {
   "cell_type": "code",
   "outputs": [],
   "source": [
    "from torch import nn\n",
    "from AnimationTransformer import AnimationTransformer\n",
    "\n",
    "model = AnimationTransformer(\n",
    "    dim_model=FEATURE_DIM,\n",
    "    num_heads=NUM_HEADS,\n",
    "    num_encoder_layers=NUM_ENCODER_LAYERS,\n",
    "    num_decoder_layers=NUM_DECODER_LAYERS,\n",
    "    dropout_p=DROPOUT,\n",
    "    use_positional_encoder=False # No improvement\n",
    ").to(device)\n",
    "\n",
    "# optimizer = torch.optim.SGD(model.parameters(), lr=LEARNING_RATE)\n",
    "optimizer = torch.optim.Adam(model.parameters(), lr=LEARNING_RATE)\n",
    "\n",
    "total_param = sum(p.numel() for p in model.parameters())\n",
    "print(f\"The model has {total_param} trainable parameters\")"
   ],
   "metadata": {
    "collapsed": false
   },
   "id": "cf1dff2a6bc96474",
   "execution_count": null
  },
  {
   "cell_type": "markdown",
   "source": [
    "## Training"
   ],
   "metadata": {
    "collapsed": false
   },
   "id": "274e011ea2a897aa"
  },
  {
   "cell_type": "code",
   "outputs": [],
   "source": [
    "from AnimationTransformer import fit\n",
    "\n",
    "train_loss_list, validation_loss_list, variance_list = fit(model,\n",
    "                                            optimizer,\n",
    "                                            loss_function_train,\n",
    "                                            loss_function_val,\n",
    "                                            train_dataloader,\n",
    "                                            val_dataloader,\n",
    "                                            epochs=10,\n",
    "                                            device=device)"
   ],
   "metadata": {
    "collapsed": false
   },
   "id": "504fb525334cb368",
   "execution_count": null
  },
  {
   "cell_type": "code",
   "outputs": [],
   "source": [
    "# Define the number of additional epochs you want to train for\n",
    "additional_epochs = 5\n",
    "\n",
    "# Continue training the model for more epochs\n",
    "new_train_loss, new_validation_loss, new_variance_list = fit(model,\n",
    "                                          optimizer,\n",
    "                                          loss_function_train,\n",
    "                                          loss_function_val,\n",
    "                                          train_dataloader,\n",
    "                                          val_dataloader,\n",
    "                                          epochs=additional_epochs,\n",
    "                                          device=device)\n",
    "\n",
    "# Extend the original loss lists with the new loss values\n",
    "train_loss_list.extend(new_train_loss)\n",
    "validation_loss_list.extend(new_validation_loss)\n",
    "variance_list.extend(new_variance_list)"
   ],
   "metadata": {
    "collapsed": false
   },
   "id": "4c920a75e5f59950",
   "execution_count": null
  },
  {
   "cell_type": "code",
   "outputs": [],
   "source": [
    "def print_for_excel(list, title=\"\"):\n",
    "    print(f\"{title};\", \";\".join([str(f\"{element:.3f}\").replace('.', ',') for element in list]))"
   ],
   "metadata": {
    "collapsed": false
   },
   "id": "3f853ce1cf82a124",
   "execution_count": null
  },
  {
   "cell_type": "code",
   "outputs": [],
   "source": [
    "from CreativityLoss import dict_list_to_list_dict\n",
    "\n",
    "print_for_excel(train_loss_list, title=\"Train Loss\")\n",
    "print_for_excel(validation_loss_list, title=\"Validation Loss\")\n",
    "\n",
    "print_dict = dict_list_to_list_dict(variance_list)\n",
    "#print_for_excel(print_dict[\"batch_variance\"], title=\"Batch Variance\")\n",
    "print_for_excel(print_dict[\"val_loss_on_train\"], title=\"Validation loss on train data\")\n",
    "print_for_excel(print_dict[\"batch_variance_deep_svg\"], title=\"Batch Variance (deep_svg)\")\n",
    "print_for_excel(print_dict[\"batch_variance_type\"], title=\"Batch Variance (type)\")\n",
    "print_for_excel(print_dict[\"batch_variance_parameters\"], title=\"Batch Variance (parameter)\")\n",
    "print_for_excel(print_dict[\"batch_variance_eos\"], title=\"Batch Variance (eos)\")\n",
    "#print_for_excel(print_dict[\"sequence_variance\"], title=\"Sequence Variance\")\n",
    "print_for_excel(print_dict[\"sequence_variance_deep_svg\"], title=\"Sequence Variance (deep_svg)\")\n",
    "print_for_excel(print_dict[\"sequence_variance_type\"], title=\"Sequence Variance (type)\")\n",
    "print_for_excel(print_dict[\"sequence_variance_parameters\"], title=\"Sequence Variance (parameter)\")\n",
    "print_for_excel(print_dict[\"sequence_variance_eos\"], title=\"Sequence Variance (eos)\")"
   ],
   "metadata": {
    "collapsed": false
   },
   "id": "5c6a61372a608eeb",
   "execution_count": null
  },
  {
   "cell_type": "markdown",
   "source": [
    "## Training and Validation Loss Plot"
   ],
   "metadata": {
    "collapsed": false
   },
   "id": "4cd1c6564934a7af"
  },
  {
   "cell_type": "code",
   "outputs": [],
   "source": [
    "# # Plot the training and validation loss\n",
    "plt.figure(figsize=(10, 6))\n",
    "plt.plot(train_loss_list, label='Training Loss')\n",
    "plt.plot(validation_loss_list, label='Validation Loss')\n",
    "\n",
    "# Add title and labels\n",
    "plt.title('Training and Validation Loss')\n",
    "plt.xlabel('Epochs')\n",
    "plt.ylabel('Loss')\n",
    "\n",
    "# Add a legend\n",
    "plt.legend()\n",
    "\n",
    "# Show the plot\n",
    "plt.show()"
   ],
   "metadata": {
    "collapsed": false
   },
   "id": "89297cea9ea4a9c6",
   "execution_count": null
  },
  {
   "cell_type": "markdown",
   "source": [
    "# Prediction"
   ],
   "metadata": {
    "collapsed": false
   },
   "id": "cdbeac949784565"
  },
  {
   "cell_type": "code",
   "outputs": [],
   "source": [
    "# Create a tensor of zeros with 270 elements\n",
    "sos_token = torch.zeros(270)\n",
    "# Set the value at the 256 index to 1\n",
    "sos_token[269] = 1"
   ],
   "metadata": {
    "collapsed": false
   },
   "id": "a3a328c640894ee5",
   "execution_count": null
  },
  {
   "cell_type": "code",
   "outputs": [],
   "source": [
    "examples = torch.load('data/prototype_dataset/examples.pt')"
   ],
   "metadata": {
    "collapsed": false
   },
   "id": "b0e0f3cf8a4f9889",
   "execution_count": null
  },
  {
   "cell_type": "code",
   "outputs": [],
   "source": [
    "from AnimationTransformer import predict\n",
    "\n",
    "predict(model, examples[30], sos_token=sos_token, device=device, max_length=10, eos_threshold=0.5)"
   ],
   "metadata": {
    "collapsed": false
   },
   "id": "b1275cdf2526d3d2",
   "execution_count": null
  },
  {
   "cell_type": "code",
   "outputs": [],
   "source": [
    "import prototype_dataset_helper\n",
    "from AnimationTransformer import create_pad_mask\n",
    "\n",
    "\n",
    "def predict(model, source_sequence, sos_token: torch.Tensor, device, max_length=32, eos_threshold=0.5, silent=False, random=False):\n",
    "    model.eval()\n",
    "\n",
    "    source_sequence = source_sequence.float().to(device)\n",
    "    y_input = torch.unsqueeze(sos_token, dim=0).float().to(device)\n",
    "\n",
    "    i = 0\n",
    "    while i < max_length:\n",
    "        # Get source mask\n",
    "        prediction = model(source_sequence.unsqueeze(0), y_input.unsqueeze(0),  # un-squeeze for batch\n",
    "                           # tgt_mask=get_tgt_mask(y_input.size(0)).to(device),\n",
    "                           src_key_padding_mask=create_pad_mask(source_sequence.unsqueeze(0)).to(device))\n",
    "\n",
    "        next_embedding = prediction[0, -1, :]  # prediction on last token\n",
    "        pred_deep_svg, pred_type, pred_parameters, pred_eos = prototype_dataset_helper.unpack_embedding(next_embedding,\n",
    "                                                                                                        dim=0)\n",
    "        pred_deep_svg, pred_type, pred_parameters, pred_eos = pred_deep_svg.to(device), pred_type.to(\n",
    "            device), pred_parameters.to(\n",
    "            device), pred_eos.to(device)\n",
    "\n",
    "        # === SOFTMAX ===\n",
    "        type_softmax = torch.softmax(pred_type, dim=0)\n",
    "        animation_type = torch.argmax(type_softmax, dim=0)\n",
    "        \n",
    "        if random:\n",
    "            animation_type = torch.multinomial(type_softmax, 1).item()\n",
    "\n",
    "        eos_softmax = torch.softmax(pred_eos, dim=0)\n",
    "        if not silent: print(f\"EOS: {eos_softmax[1] * 100:.1f}%\")\n",
    "\n",
    "        # Break if EOS is most likely\n",
    "        if eos_softmax[1] > eos_threshold:\n",
    "            if not silent: print(\"END OF ANIMATION\")\n",
    "            y_input = torch.cat((y_input, sos_token.unsqueeze(0).to(device)), dim=0)\n",
    "            return y_input\n",
    "\n",
    "        pred_type = torch.zeros(6)\n",
    "        pred_type[animation_type] = 1\n",
    "\n",
    "        # === DEEP SVG ===\n",
    "        # Find the closest path\n",
    "        distances = [torch.norm(pred_deep_svg - embedding[:-14]) for embedding in source_sequence]\n",
    "        closest_index = distances.index(min(distances))\n",
    "        closest_token = source_sequence[closest_index]\n",
    "\n",
    "        # === PARAMETERS ===\n",
    "        # overwrite unused parameters\n",
    "        for j in range(len(pred_parameters)):\n",
    "            if j in prototype_dataset_helper.ANIMATION_PARAMETER_INDICES[int(animation_type)]:\n",
    "                continue\n",
    "            pred_parameters[j] = -1\n",
    "\n",
    "        # === SEQUENCE ===\n",
    "        y_new = torch.concat([closest_token[:-14],\n",
    "                              pred_type.to(device),\n",
    "                              pred_parameters,\n",
    "                              torch.tensor([1, 0]).to(device)],\n",
    "                             dim=0)\n",
    "        y_input = torch.cat((y_input, y_new.unsqueeze(0)), dim=0)\n",
    "\n",
    "        # === INFO PRINT ===\n",
    "        if not silent:\n",
    "            print(f\"{int(y_input.size(0))}: Path {closest_index} ({round(float(distances[closest_index]), 3)}) \"\n",
    "                  f\"got animation {animation_type} ({round(float(type_softmax[animation_type]), 3)}%) \"\n",
    "                  f\"with parameters {[round(num, 2) for num in pred_parameters.tolist()]}\")\n",
    "\n",
    "        i += 1\n",
    "\n",
    "    return y_input"
   ],
   "metadata": {
    "collapsed": false
   },
   "id": "a93c8eef79cf513e",
   "execution_count": null
  },
  {
   "cell_type": "code",
   "outputs": [],
   "source": [
    "def get_predicting_sequence_length(model, input_sequences, sos_token, device, max_length=10, eos_threshold=0.5):\n",
    "    total_animations = 0\n",
    "    animation_types_all = torch.zeros(9, 6).to(device)\n",
    "    animation_types_div = torch.zeros(6).to(device)\n",
    "    for i in range(len(input_sequences)):\n",
    "        sequence = predict(model, input_sequences[i], sos_token=sos_token, device=device, max_length=max_length, silent=True, eos_threshold=eos_threshold, random=True)\n",
    "        animation_types_all += sequence[... ,-14:-8]\n",
    "        animation_types_div += torch.ones(6).to(device) * (sequence[... ,-14:-8].sum(dim=0) != 0)\n",
    "        total_animations += sum(sequence[:, -2])\n",
    "        \n",
    "        print(f\"{i}: {sum(sequence[:, -2])} Animations\")\n",
    "    \n",
    "    print(f\"In average {total_animations / len(input_sequences)} per sequence with eos_threshold {eos_threshold}\") \n",
    "    print(animation_types_all)\n",
    "    print(animation_types_div)\n",
    "get_predicting_sequence_length(model, examples, device=device, sos_token=sos_token, eos_threshold=0.99999, max_length=8)"
   ],
   "metadata": {
    "collapsed": false
   },
   "id": "66592a56d0fe683a",
   "execution_count": null
  },
  {
   "cell_type": "code",
   "outputs": [],
   "source": [
    "# get_predicting_sequence_length(model, examples, device=device, sos_token=sos_token, eos_threshold=0.6)\n",
    "get_predicting_sequence_length(model, examples, device=device, sos_token=sos_token, eos_threshold=0.7)\n",
    "# get_predicting_sequence_length(model, examples, device=device, sos_token=sos_token, eos_threshold=0.8)\n",
    "# get_predicting_sequence_length(model, examples, device=device, sos_token=sos_token, eos_threshold=0.9)"
   ],
   "metadata": {
    "collapsed": false
   },
   "id": "db88ea26168d9d67",
   "execution_count": null
  },
  {
   "cell_type": "code",
   "outputs": [],
   "source": [
    "# get_predicting_sequence_length(model, examples, device=device, sos_token=sos_token, max_length=1, eos_threshold=0.99999)\n",
    "# get_predicting_sequence_length(model, examples, device=device, sos_token=sos_token, max_length=2, eos_threshold=0.99999)\n",
    "# get_predicting_sequence_length(model, examples, device=device, sos_token=sos_token, max_length=3, eos_threshold=0.99999)\n",
    "# get_predicting_sequence_length(model, examples, device=device, sos_token=sos_token, max_length=4, eos_threshold=0.99999)\n",
    "# get_predicting_sequence_length(model, examples, device=device, sos_token=sos_token, max_length=5, eos_threshold=0.99999)\n",
    "# get_predicting_sequence_length(model, examples, device=device, sos_token=sos_token, max_length=6, eos_threshold=0.99999)\n",
    "# get_predicting_sequence_length(model, examples, device=device, sos_token=sos_token, max_length=7, eos_threshold=0.99999)\n",
    "get_predicting_sequence_length(model, examples[:2], device=device, sos_token=sos_token, max_length=8, eos_threshold=0.99999)"
   ],
   "metadata": {
    "collapsed": false
   },
   "id": "e10a6a30bb601ccb",
   "execution_count": null
  },
  {
   "cell_type": "code",
   "outputs": [],
   "source": [
    "# Sequences with long input\n",
    "test_sequence_input[220, :, 0]"
   ],
   "metadata": {
    "collapsed": false
   },
   "id": "f3c8452421fbb912",
   "execution_count": null
  },
  {
   "cell_type": "code",
   "outputs": [],
   "source": [
    "# check sequence length / embedding\n",
    "print(test_sequence_output[222, :, -14:])\n",
    "print(test_sequence_input [222, :, -14:])"
   ],
   "metadata": {
    "collapsed": false
   },
   "id": "b89e04b3d1425a49",
   "execution_count": null
  },
  {
   "cell_type": "code",
   "outputs": [],
   "source": [
    "# torch.save(model.state_dict(), \"data/prototype_transformer.pth\")"
   ],
   "metadata": {
    "collapsed": false
   },
   "id": "f91d438a7a60c3b1",
   "execution_count": null
  },
  {
   "cell_type": "markdown",
   "source": [
    "# Hyperparameter Tuning"
   ],
   "metadata": {
    "collapsed": false
   },
   "id": "785899ffda9c61f8"
  },
  {
   "cell_type": "code",
   "outputs": [],
   "source": [
    "from AnimationTransformer import validation_loop, train_loop, creativity_loop\n",
    "import optuna\n",
    "from torch.utils.data import DataLoader\n",
    "\n",
    "MAX_EPOCHS = 10\n",
    "\n",
    "def objective(trial):\n",
    "    # Define the hyperparameter search space\n",
    "    learning_rate = trial.suggest_float('learning_rate', 1e-5, 1e-4, log=True)\n",
    "    num_encoder_layers = trial.suggest_categorical('num_encoder_layers', [3, 4])\n",
    "    num_decoder_layers = trial.suggest_categorical('num_decoder_layers', [5, 6])\n",
    "    # batch_size = trial.suggest_categorical('batch_size', [32, 64, 128])\n",
    "    # num_heads = trial.suggest_categorical('num_heads', [9, 15, 27, 45, 90])\n",
    "    dropout = trial.suggest_float('dropout', 0.1, 0.3)\n",
    "    #use_positional_encoder = trial.suggest_categorical('pos_encoder_max_len', [True, False])\n",
    "    \n",
    "    loss_weight_type = trial.suggest_float('loss_weight_type', 0.1, 100, log=True)\n",
    "    loss_weight_param = trial.suggest_float('loss_weight_param', 0.1, 100, log=True)\n",
    "    loss_weight_eos = trial.suggest_float('loss_weight_eos', 0.1, 10, log=True)\n",
    "    \n",
    "    print(f'Parameters selected')\n",
    "    print(f'learning_rate; num_encoder_layers; num_decoder_layers; dropout; loss_weight_type; loss_weight_param; loss_weight_eos')\n",
    "    print(f'{learning_rate}; {num_encoder_layers}; {num_decoder_layers}; {dropout}; {loss_weight_type}; {loss_weight_param}; {loss_weight_eos}')\n",
    "   \n",
    "    # Instantiate the model with suggested hyperparameters\n",
    "    model = AnimationTransformer(\n",
    "        dim_model=FEATURE_DIM,\n",
    "        num_heads=NUM_HEADS,\n",
    "        num_encoder_layers=num_encoder_layers,\n",
    "        num_decoder_layers=num_decoder_layers,\n",
    "        dropout_p=dropout,\n",
    "        use_positional_encoder=False\n",
    "    ).to(device)\n",
    "        \n",
    "    optimizer = torch.optim.Adam(model.parameters(), lr=learning_rate)\n",
    "        \n",
    "    loss_function_validation = CustomEmbeddingSliceLoss(weight_deep_svg=10,\n",
    "                                                   weight_type=0.91,\n",
    "                                                   weight_parameters=650,\n",
    "                                                   weight_eos=2.7)\n",
    "    loss_function_train = CustomEmbeddingSliceLoss(weight_deep_svg=10,\n",
    "                                                   weight_type=loss_weight_type,\n",
    "                                                   weight_parameters=loss_weight_param,\n",
    "                                                   weight_eos=loss_weight_eos)\n",
    "    \n",
    "    train_loss_list = []\n",
    "    validation_loss_list = []\n",
    "    variance_list = []\n",
    "\n",
    "    validation_loss = -1\n",
    "    # Training loop with early stopping, validation, etc.\n",
    "    for epoch in range(MAX_EPOCHS):\n",
    "        print(f' =========== EPOCH {epoch} ===========')\n",
    "        \n",
    "        train_loss = train_loop(model, optimizer, loss_function_train, train_dataloader, device)\n",
    "        train_loss_list += [train_loss]\n",
    "\n",
    "        validation_loss = validation_loop(model, loss_function_validation, val_dataloader, device)\n",
    "        validation_loss_list += [validation_loss]\n",
    "        \n",
    "        variance = creativity_loop(model, val_dataloader, device)\n",
    "        variance_list.append(variance)\n",
    "        \n",
    "        print(f'Train Loss: {train_loss:.4f}, Validation Loss: {validation_loss:.4f}')\n",
    "        \n",
    "        # Report the validation loss to Optuna\n",
    "        trial.report(validation_loss, epoch)\n",
    "        \n",
    "        # Implement early stopping logic\n",
    "        if trial.should_prune():\n",
    "            print(f\"PRUNING IN EPOCH {epoch}\")\n",
    "            raise optuna.exceptions.TrialPruned()\n",
    "    \n",
    "    print(f'Best validation loss: {validation_loss}')\n",
    "    print(f'loss_weight_type; loss_weight_param; loss_weight_eos')\n",
    "    print(f'{loss_weight_type}; {loss_weight_param}; {loss_weight_eos}'.replace('.', ','))\n",
    "    print_for_excel(train_loss_list, title=\"Train Loss\")\n",
    "    print_for_excel(validation_loss_list, title=\"Validation Loss\")\n",
    "    \n",
    "    print_dict = dict_list_to_list_dict(variance_list)\n",
    "    #print_for_excel(print_dict[\"batch_variance\"], title=\"Batch Variance\")\n",
    "    print_for_excel(print_dict[\"batch_variance_deep_svg\"], title=\"Batch Variance (deep_svg)\")\n",
    "    print_for_excel(print_dict[\"batch_variance_type\"], title=\"Batch Variance (type)\")\n",
    "    print_for_excel(print_dict[\"batch_variance_parameters\"], title=\"Batch Variance (parameter)\")\n",
    "    print_for_excel(print_dict[\"batch_variance_eos\"], title=\"Batch Variance (eos)\")\n",
    "    #print_for_excel(print_dict[\"sequence_variance\"], title=\"Sequence Variance\")\n",
    "    print_for_excel(print_dict[\"sequence_variance_deep_svg\"], title=\"Sequence Variance (deep_svg)\")\n",
    "    print_for_excel(print_dict[\"sequence_variance_type\"], title=\"Sequence Variance (type)\")\n",
    "    print_for_excel(print_dict[\"sequence_variance_parameters\"], title=\"Sequence Variance (parameter)\")\n",
    "    print_for_excel(print_dict[\"sequence_variance_eos\"], title=\"Sequence Variance (eos)\")\n",
    "    \n",
    "    return validation_loss"
   ],
   "metadata": {
    "collapsed": false
   },
   "id": "84ac116ba60f873a",
   "execution_count": null
  },
  {
   "cell_type": "markdown",
   "source": [
    "Used:\n",
    "- pick_and_animate_from_8     First Run\n",
    "- pick_and_animate_from_8_v3  First Main Run\n",
    "- pick_and_animate_from_8_loss_optimization\n",
    "- pick_and_animate_from_8_loss_optimization_normalized\n",
    "- pick_and_animate_from_8_lo_correction       corrected dataset"
   ],
   "metadata": {
    "collapsed": false
   },
   "id": "42ec6f9ac58486db"
  },
  {
   "cell_type": "code",
   "outputs": [],
   "source": [
    "my_study = optuna.create_study(\n",
    "    direction='minimize',\n",
    "    study_name='pick_and_animate_from_8_lo_correction', # IMPORTANT: Chance Name when new Dataset\n",
    "    storage='sqlite:///animate_svg_optuna.db',\n",
    "    load_if_exists=True\n",
    ")"
   ],
   "metadata": {
    "collapsed": false
   },
   "id": "f02c795e29038042",
   "execution_count": null
  },
  {
   "cell_type": "code",
   "outputs": [],
   "source": [
    "my_study.optimize(objective, n_trials=200)"
   ],
   "metadata": {
    "collapsed": false
   },
   "id": "a13f41c46488c115",
   "execution_count": null
  },
  {
   "cell_type": "code",
   "outputs": [],
   "source": [
    "print(\"Best trial:\")\n",
    "trial = my_study.best_trial\n",
    "print(f\"  Value: {trial.value}\")\n",
    "print(\"  Params: \")\n",
    "for key, value in trial.params.items():\n",
    "    print(f\"    {key}: {value}\")"
   ],
   "metadata": {
    "collapsed": false
   },
   "id": "9b68b3288e88b82c",
   "execution_count": null
  },
  {
   "cell_type": "code",
   "outputs": [],
   "source": [
    "from optuna.visualization import plot_optimization_history, plot_param_importances\n",
    "\n",
    "plot_optimization_history(my_study)"
   ],
   "metadata": {
    "collapsed": false
   },
   "id": "4b4454b71fe58709",
   "execution_count": null
  },
  {
   "cell_type": "code",
   "outputs": [],
   "source": [
    "plot_param_importances(my_study)"
   ],
   "metadata": {
    "collapsed": false
   },
   "id": "af745d741c9f91e8",
   "execution_count": null
  },
  {
   "cell_type": "code",
   "outputs": [],
   "source": [
    "from optuna.visualization import plot_slice\n",
    "\n",
    "plot_slice(my_study)"
   ],
   "metadata": {
    "collapsed": false
   },
   "id": "5f9536888eb5d9ac",
   "execution_count": null
  },
  {
   "cell_type": "code",
   "outputs": [],
   "source": [
    "from optuna.visualization import plot_timeline\n",
    "\n",
    "plot_timeline(my_study)"
   ],
   "metadata": {
    "collapsed": false
   },
   "id": "223b93522b8685dc",
   "execution_count": null
  }
 ],
 "metadata": {
  "kernelspec": {
   "display_name": "Python 3",
   "language": "python",
   "name": "python3"
  },
  "language_info": {
   "codemirror_mode": {
    "name": "ipython",
    "version": 2
   },
   "file_extension": ".py",
   "mimetype": "text/x-python",
   "name": "python",
   "nbconvert_exporter": "python",
   "pygments_lexer": "ipython2",
   "version": "2.7.6"
  }
 },
 "nbformat": 4,
 "nbformat_minor": 5
}
