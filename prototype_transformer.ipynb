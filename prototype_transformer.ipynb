{
 "cells": [
  {
   "cell_type": "markdown",
   "id": "785e23fb7a10fac6",
   "metadata": {
    "collapsed": false
   },
   "source": [
    "# Transformer Application"
   ]
  },
  {
   "cell_type": "markdown",
   "id": "252ba02f4cf97389",
   "metadata": {
    "collapsed": false
   },
   "source": [
    "## Configuration"
   ]
  },
  {
   "cell_type": "markdown",
   "id": "c2c03b7821046028",
   "metadata": {
    "collapsed": false
   },
   "source": [
    "### Hyperparameters"
   ]
  },
  {
   "cell_type": "code",
   "execution_count": 17,
   "id": "508e547be8863b4c",
   "metadata": {
    "collapsed": false
   },
   "outputs": [
    {
     "data": {
      "text/plain": [
       "'c:\\\\Users\\\\okan2\\\\Desktop\\\\team project\\\\Animate_SVG_v2'"
      ]
     },
     "execution_count": 17,
     "metadata": {},
     "output_type": "execute_result"
    }
   ],
   "source": [
    "from CustomLoss import CustomEmbeddingSliceLoss\n",
    "import torch.nn as nn\n",
    "import matplotlib.pyplot as plt\n",
    "from torch.nn import MSELoss\n",
    "\n",
    "import os\n",
    "\n",
    "# HYPERPARAMETERS\n",
    "BATCH_SIZE = 32\n",
    "LEARNING_RATE = 0.01\n",
    "\n",
    "#transformer\n",
    "NUM_HEADS = 47 # Dividers of 282: {1, 2, 3, 6, 47, 94, 141, 282}\n",
    "NUM_ENCODER_LAYERS = 2\n",
    "NUM_DECODER_LAYERS = 6\n",
    "DROPOUT=0.1\n",
    "\n",
    "# Methods\n",
    "loss_function = CustomEmbeddingSliceLoss()\n",
    "\n",
    "os.getcwd()"
   ]
  },
  {
   "cell_type": "markdown",
   "id": "38275f8024e6a423",
   "metadata": {
    "collapsed": false
   },
   "source": [
    "### Constants"
   ]
  },
  {
   "cell_type": "code",
   "execution_count": 18,
   "id": "acf2a0f340d6c6fc",
   "metadata": {
    "collapsed": false
   },
   "outputs": [],
   "source": [
    "# CONSTANTS\n",
    "FEATURE_DIM = 282"
   ]
  },
  {
   "cell_type": "markdown",
   "id": "e0797527f3ff4a27",
   "metadata": {
    "collapsed": false
   },
   "source": [
    "## Load Prepared Tensors from Disk\n",
    "Run file `prototype_dataset.ipynb` first"
   ]
  },
  {
   "cell_type": "code",
   "execution_count": 19,
   "id": "ee9854fe06e9ade1",
   "metadata": {
    "collapsed": false
   },
   "outputs": [],
   "source": [
    "import torch\n",
    "\n",
    "train_sequence_input = torch.load('data/prototype_dataset/train_sequence_input.pt')\n",
    "train_sequence_output = torch.load('data/prototype_dataset/train_sequence_output.pt')\n",
    "test_sequence_input = torch.load('data/prototype_dataset/test_sequence_input.pt')\n",
    "test_sequence_output = torch.load('data/prototype_dataset/test_sequence_output.pt')"
   ]
  },
  {
   "cell_type": "code",
   "execution_count": 20,
   "id": "d4a0db6b3ad420b6",
   "metadata": {
    "collapsed": false
   },
   "outputs": [],
   "source": [
    "from dataset_helper import warn_if_contains_NaN\n",
    "\n",
    "warn_if_contains_NaN(train_sequence_input)\n",
    "warn_if_contains_NaN(train_sequence_output)\n",
    "warn_if_contains_NaN(test_sequence_input)\n",
    "warn_if_contains_NaN(test_sequence_output)"
   ]
  },
  {
   "cell_type": "code",
   "execution_count": 21,
   "id": "29c9d0622c6c09e8",
   "metadata": {
    "collapsed": false
   },
   "outputs": [
    {
     "name": "stdout",
     "output_type": "stream",
     "text": [
      "torch.Size([2598, 95, 282])\n",
      "torch.Size([2598, 95, 282])\n",
      "torch.Size([233, 95, 282])\n",
      "torch.Size([233, 95, 282])\n"
     ]
    }
   ],
   "source": [
    "print(train_sequence_input.size())\n",
    "print(train_sequence_output.size())\n",
    "print(test_sequence_input.size())\n",
    "print(test_sequence_output.size())"
   ]
  },
  {
   "cell_type": "markdown",
   "id": "78852276c50093a0",
   "metadata": {
    "collapsed": false
   },
   "source": [
    "## Build Dataloader with Batches"
   ]
  },
  {
   "cell_type": "code",
   "execution_count": 22,
   "id": "initial_id",
   "metadata": {
    "collapsed": true
   },
   "outputs": [],
   "source": [
    "from torch.utils.data import DataLoader, TensorDataset\n",
    "\n",
    "train_dataloader = DataLoader(TensorDataset(train_sequence_input.float(), train_sequence_output.float()),\n",
    "                              batch_size=BATCH_SIZE,\n",
    "                              shuffle=True,\n",
    "                              drop_last=True)\n",
    "val_dataloader = DataLoader(TensorDataset(test_sequence_input.float(), test_sequence_output.float()),\n",
    "                            batch_size=BATCH_SIZE,\n",
    "                            shuffle=False,\n",
    "                            drop_last=True)"
   ]
  },
  {
   "cell_type": "code",
   "execution_count": 23,
   "id": "9c6d2274b93cd09",
   "metadata": {
    "collapsed": false
   },
   "outputs": [
    {
     "data": {
      "text/plain": [
       "81"
      ]
     },
     "execution_count": 23,
     "metadata": {},
     "output_type": "execute_result"
    }
   ],
   "source": [
    "len(train_dataloader)"
   ]
  },
  {
   "cell_type": "markdown",
   "id": "524ec1a0c79dbc2a",
   "metadata": {
    "collapsed": false
   },
   "source": [
    "## Initialize"
   ]
  },
  {
   "cell_type": "code",
   "execution_count": 24,
   "id": "56536a90ec7c6586",
   "metadata": {
    "collapsed": false
   },
   "outputs": [
    {
     "data": {
      "text/plain": [
       "'2.1.1'"
      ]
     },
     "execution_count": 24,
     "metadata": {},
     "output_type": "execute_result"
    }
   ],
   "source": [
    "# Enable anomaly detection\n",
    "torch.autograd.set_detect_anomaly(True)\n",
    "torch.__version__"
   ]
  },
  {
   "cell_type": "code",
   "execution_count": 25,
   "id": "db497beac7ffd3bb",
   "metadata": {
    "collapsed": false
   },
   "outputs": [
    {
     "name": "stdout",
     "output_type": "stream",
     "text": [
      "cuda:0\n"
     ]
    }
   ],
   "source": [
    "device = torch.device(\"cuda:0\" if torch.cuda.is_available() else \"cpu\")\n",
    "#device = \"cpu\"\n",
    "print(device)"
   ]
  },
  {
   "cell_type": "code",
   "execution_count": 26,
   "id": "cf1dff2a6bc96474",
   "metadata": {
    "collapsed": false
   },
   "outputs": [
    {
     "name": "stdout",
     "output_type": "stream",
     "text": [
      "The model has 13741888 trainable parameters\n"
     ]
    },
    {
     "name": "stderr",
     "output_type": "stream",
     "text": [
      "c:\\Users\\okan2\\anaconda3\\envs\\animationSVG\\lib\\site-packages\\torch\\nn\\modules\\transformer.py:282: UserWarning: enable_nested_tensor is True, but self.use_nested_tensor is False because encoder_layer.self_attn.num_heads is odd\n",
      "  warnings.warn(f\"enable_nested_tensor is True, but self.use_nested_tensor is False because {why_not_sparsity_fast_path}\")\n"
     ]
    }
   ],
   "source": [
    "from torch import nn\n",
    "from AnimationTransformer import AnimationTransformer\n",
    "\n",
    "model = AnimationTransformer(\n",
    "    dim_model=FEATURE_DIM,\n",
    "    num_heads=NUM_HEADS,\n",
    "    num_encoder_layers=NUM_ENCODER_LAYERS,\n",
    "    num_decoder_layers=NUM_DECODER_LAYERS,\n",
    "    dropout_p=DROPOUT,\n",
    "    use_positional_encoder=True\n",
    ").to(device)\n",
    "\n",
    "# optimizer = torch.optim.SGD(model.parameters(), lr=LEARNING_RATE)\n",
    "optimizer = torch.optim.Adam(model.parameters(), lr=LEARNING_RATE)\n",
    "\n",
    "total_param = sum(p.numel() for p in model.parameters())\n",
    "print(f\"The model has {total_param} trainable parameters\")"
   ]
  },
  {
   "cell_type": "markdown",
   "id": "274e011ea2a897aa",
   "metadata": {
    "collapsed": false
   },
   "source": [
    "## Training"
   ]
  },
  {
   "cell_type": "code",
   "execution_count": 27,
   "id": "504fb525334cb368",
   "metadata": {
    "collapsed": false
   },
   "outputs": [
    {
     "name": "stdout",
     "output_type": "stream",
     "text": [
      "Training and validating model\n",
      "------------------------- Epoch 1 -------------------------\n"
     ]
    },
    {
     "name": "stderr",
     "output_type": "stream",
     "text": [
      "c:\\Users\\okan2\\anaconda3\\envs\\animationSVG\\lib\\site-packages\\torch\\nn\\functional.py:5076: UserWarning: Support for mismatched key_padding_mask and attn_mask is deprecated. Use same type for both instead.\n",
      "  warnings.warn(\n"
     ]
    },
    {
     "name": "stdout",
     "output_type": "stream",
     "text": [
      ">> 1: Time per Batch  1.37s | Total expected  1.85 min | Remaining  1.82 min \n",
      ">> 10: Time per Batch  0.85s | Total expected  1.15 min | Remaining  1.01 min \n",
      ">> 20: Time per Batch  0.82s | Total expected  1.11 min | Remaining  0.84 min \n",
      ">> 30: Time per Batch  0.82s | Total expected  1.10 min | Remaining  0.69 min \n",
      ">> 40: Time per Batch  0.81s | Total expected  1.10 min | Remaining  0.56 min \n",
      ">> 50: Time per Batch  0.81s | Total expected  1.09 min | Remaining  0.42 min \n",
      ">> 60: Time per Batch  0.81s | Total expected  1.09 min | Remaining  0.28 min \n",
      ">> 70: Time per Batch  0.80s | Total expected  1.09 min | Remaining  0.15 min \n",
      ">> 80: Time per Batch  0.80s | Total expected  1.08 min | Remaining  0.01 min \n",
      ">> Epoch time: 1.09 min\n",
      "Training loss: 29.1618\n",
      "Validation loss: 21.0042\n",
      "\n",
      "------------------------- Epoch 2 -------------------------\n",
      ">> 1: Time per Batch  0.89s | Total expected  1.20 min | Remaining  1.18 min \n",
      ">> 10: Time per Batch  0.80s | Total expected  1.08 min | Remaining  0.95 min \n",
      ">> 20: Time per Batch  0.80s | Total expected  1.08 min | Remaining  0.81 min \n",
      ">> 30: Time per Batch  0.80s | Total expected  1.08 min | Remaining  0.68 min \n",
      ">> 40: Time per Batch  0.80s | Total expected  1.07 min | Remaining  0.54 min \n",
      ">> 50: Time per Batch  0.80s | Total expected  1.07 min | Remaining  0.41 min \n",
      ">> 60: Time per Batch  0.80s | Total expected  1.07 min | Remaining  0.28 min \n",
      ">> 70: Time per Batch  0.79s | Total expected  1.07 min | Remaining  0.15 min \n",
      ">> 80: Time per Batch  0.79s | Total expected  1.07 min | Remaining  0.01 min \n",
      ">> Epoch time: 1.07 min\n",
      "Training loss: 27.4359\n",
      "Validation loss: 20.0076\n",
      "\n",
      "------------------------- Epoch 3 -------------------------\n",
      ">> 1: Time per Batch  0.92s | Total expected  1.25 min | Remaining  1.23 min \n",
      ">> 10: Time per Batch  0.81s | Total expected  1.09 min | Remaining  0.96 min \n",
      ">> 20: Time per Batch  0.80s | Total expected  1.09 min | Remaining  0.82 min \n",
      ">> 30: Time per Batch  0.80s | Total expected  1.08 min | Remaining  0.68 min \n",
      ">> 40: Time per Batch  0.80s | Total expected  1.08 min | Remaining  0.55 min \n",
      ">> 50: Time per Batch  0.80s | Total expected  1.08 min | Remaining  0.41 min \n",
      ">> 60: Time per Batch  0.80s | Total expected  1.08 min | Remaining  0.28 min \n",
      ">> 70: Time per Batch  0.80s | Total expected  1.08 min | Remaining  0.15 min \n",
      ">> 80: Time per Batch  0.80s | Total expected  1.08 min | Remaining  0.01 min \n",
      ">> Epoch time: 1.08 min\n",
      "Training loss: 26.0720\n",
      "Validation loss: 19.1254\n",
      "\n",
      "------------------------- Epoch 4 -------------------------\n",
      ">> 1: Time per Batch  0.89s | Total expected  1.20 min | Remaining  1.18 min \n",
      ">> 10: Time per Batch  0.80s | Total expected  1.08 min | Remaining  0.95 min \n",
      ">> 20: Time per Batch  0.81s | Total expected  1.09 min | Remaining  0.82 min \n",
      ">> 30: Time per Batch  0.81s | Total expected  1.09 min | Remaining  0.69 min \n",
      ">> 40: Time per Batch  0.81s | Total expected  1.10 min | Remaining  0.56 min \n",
      ">> 50: Time per Batch  0.81s | Total expected  1.10 min | Remaining  0.42 min \n",
      ">> 60: Time per Batch  0.81s | Total expected  1.10 min | Remaining  0.28 min \n",
      ">> 70: Time per Batch  0.82s | Total expected  1.10 min | Remaining  0.15 min \n",
      ">> 80: Time per Batch  0.82s | Total expected  1.10 min | Remaining  0.01 min \n",
      ">> Epoch time: 1.10 min\n",
      "Training loss: 24.7564\n",
      "Validation loss: 18.2824\n",
      "\n",
      "------------------------- Epoch 5 -------------------------\n",
      ">> 1: Time per Batch  0.92s | Total expected  1.24 min | Remaining  1.23 min \n",
      ">> 10: Time per Batch  0.84s | Total expected  1.13 min | Remaining  0.99 min \n",
      ">> 20: Time per Batch  0.83s | Total expected  1.12 min | Remaining  0.84 min \n",
      ">> 30: Time per Batch  0.83s | Total expected  1.12 min | Remaining  0.71 min \n",
      ">> 40: Time per Batch  0.83s | Total expected  1.12 min | Remaining  0.56 min \n",
      ">> 50: Time per Batch  0.83s | Total expected  1.12 min | Remaining  0.43 min \n",
      ">> 60: Time per Batch  0.83s | Total expected  1.11 min | Remaining  0.29 min \n",
      ">> 70: Time per Batch  0.83s | Total expected  1.11 min | Remaining  0.15 min \n",
      ">> 80: Time per Batch  0.82s | Total expected  1.11 min | Remaining  0.01 min \n",
      ">> Epoch time: 1.11 min\n",
      "Training loss: 23.5143\n",
      "Validation loss: 17.4938\n",
      "\n",
      "------------------------- Epoch 6 -------------------------\n",
      ">> 1: Time per Batch  0.92s | Total expected  1.24 min | Remaining  1.22 min \n",
      ">> 10: Time per Batch  0.86s | Total expected  1.16 min | Remaining  1.02 min \n",
      ">> 20: Time per Batch  0.84s | Total expected  1.14 min | Remaining  0.86 min \n",
      ">> 30: Time per Batch  0.84s | Total expected  1.13 min | Remaining  0.71 min \n",
      ">> 40: Time per Batch  0.83s | Total expected  1.13 min | Remaining  0.57 min \n",
      ">> 50: Time per Batch  0.83s | Total expected  1.13 min | Remaining  0.43 min \n",
      ">> 60: Time per Batch  0.84s | Total expected  1.13 min | Remaining  0.29 min \n",
      ">> 70: Time per Batch  0.83s | Total expected  1.12 min | Remaining  0.15 min \n",
      ">> 80: Time per Batch  0.83s | Total expected  1.12 min | Remaining  0.01 min \n",
      ">> Epoch time: 1.12 min\n",
      "Training loss: 22.3701\n",
      "Validation loss: 16.8795\n",
      "\n",
      "------------------------- Epoch 7 -------------------------\n",
      ">> 1: Time per Batch  0.89s | Total expected  1.20 min | Remaining  1.19 min \n",
      ">> 10: Time per Batch  0.80s | Total expected  1.08 min | Remaining  0.94 min \n",
      ">> 20: Time per Batch  0.80s | Total expected  1.08 min | Remaining  0.81 min \n",
      ">> 30: Time per Batch  0.80s | Total expected  1.08 min | Remaining  0.68 min \n",
      ">> 40: Time per Batch  0.80s | Total expected  1.08 min | Remaining  0.55 min \n",
      ">> 50: Time per Batch  0.80s | Total expected  1.07 min | Remaining  0.41 min \n",
      ">> 60: Time per Batch  0.80s | Total expected  1.07 min | Remaining  0.28 min \n",
      ">> 70: Time per Batch  0.80s | Total expected  1.07 min | Remaining  0.15 min \n",
      ">> 80: Time per Batch  0.80s | Total expected  1.08 min | Remaining  0.01 min \n",
      ">> Epoch time: 1.08 min\n",
      "Training loss: 21.3856\n",
      "Validation loss: 16.2177\n",
      "\n",
      "------------------------- Epoch 8 -------------------------\n",
      ">> 1: Time per Batch  0.89s | Total expected  1.20 min | Remaining  1.18 min \n",
      ">> 10: Time per Batch  0.80s | Total expected  1.08 min | Remaining  0.95 min \n",
      ">> 20: Time per Batch  0.80s | Total expected  1.08 min | Remaining  0.81 min \n",
      ">> 30: Time per Batch  0.80s | Total expected  1.08 min | Remaining  0.68 min \n",
      ">> 40: Time per Batch  0.80s | Total expected  1.08 min | Remaining  0.55 min \n",
      ">> 50: Time per Batch  0.80s | Total expected  1.08 min | Remaining  0.41 min \n",
      ">> 60: Time per Batch  0.80s | Total expected  1.08 min | Remaining  0.28 min \n",
      ">> 70: Time per Batch  0.80s | Total expected  1.08 min | Remaining  0.15 min \n",
      ">> 80: Time per Batch  0.80s | Total expected  1.08 min | Remaining  0.01 min \n",
      ">> Epoch time: 1.08 min\n",
      "Training loss: 20.5470\n",
      "Validation loss: 15.6584\n",
      "\n",
      "------------------------- Epoch 9 -------------------------\n",
      ">> 1: Time per Batch  0.88s | Total expected  1.19 min | Remaining  1.17 min \n",
      ">> 10: Time per Batch  0.80s | Total expected  1.08 min | Remaining  0.95 min \n",
      ">> 20: Time per Batch  0.80s | Total expected  1.08 min | Remaining  0.81 min \n",
      ">> 30: Time per Batch  0.80s | Total expected  1.08 min | Remaining  0.68 min \n",
      ">> 40: Time per Batch  0.80s | Total expected  1.08 min | Remaining  0.55 min \n",
      ">> 50: Time per Batch  0.80s | Total expected  1.08 min | Remaining  0.41 min \n",
      ">> 60: Time per Batch  0.80s | Total expected  1.08 min | Remaining  0.28 min \n",
      ">> 70: Time per Batch  0.80s | Total expected  1.08 min | Remaining  0.15 min \n",
      ">> 80: Time per Batch  0.80s | Total expected  1.08 min | Remaining  0.01 min \n",
      ">> Epoch time: 1.08 min\n",
      "Training loss: 19.7374\n",
      "Validation loss: 15.1732\n",
      "\n",
      "------------------------- Epoch 10 -------------------------\n",
      ">> 1: Time per Batch  0.88s | Total expected  1.19 min | Remaining  1.17 min \n",
      ">> 10: Time per Batch  0.81s | Total expected  1.09 min | Remaining  0.95 min \n",
      ">> 20: Time per Batch  0.80s | Total expected  1.09 min | Remaining  0.82 min \n",
      ">> 30: Time per Batch  0.80s | Total expected  1.08 min | Remaining  0.68 min \n",
      ">> 40: Time per Batch  0.80s | Total expected  1.08 min | Remaining  0.55 min \n",
      ">> 50: Time per Batch  0.80s | Total expected  1.08 min | Remaining  0.41 min \n",
      ">> 60: Time per Batch  0.80s | Total expected  1.08 min | Remaining  0.28 min \n",
      ">> 70: Time per Batch  0.80s | Total expected  1.08 min | Remaining  0.15 min \n",
      ">> 80: Time per Batch  0.80s | Total expected  1.08 min | Remaining  0.01 min \n",
      ">> Epoch time: 1.08 min\n",
      "Training loss: 19.0415\n",
      "Validation loss: 14.7639\n",
      "\n",
      "------------------------- Epoch 11 -------------------------\n",
      ">> 1: Time per Batch  0.89s | Total expected  1.20 min | Remaining  1.19 min \n",
      ">> 10: Time per Batch  0.80s | Total expected  1.08 min | Remaining  0.95 min \n",
      ">> 20: Time per Batch  0.80s | Total expected  1.08 min | Remaining  0.82 min \n",
      ">> 30: Time per Batch  0.80s | Total expected  1.08 min | Remaining  0.68 min \n",
      ">> 40: Time per Batch  0.80s | Total expected  1.08 min | Remaining  0.55 min \n",
      ">> 50: Time per Batch  0.80s | Total expected  1.08 min | Remaining  0.42 min \n",
      ">> 60: Time per Batch  0.80s | Total expected  1.09 min | Remaining  0.28 min \n",
      ">> 70: Time per Batch  0.80s | Total expected  1.09 min | Remaining  0.15 min \n",
      ">> 80: Time per Batch  0.80s | Total expected  1.08 min | Remaining  0.01 min \n",
      ">> Epoch time: 1.08 min\n",
      "Training loss: 18.3856\n",
      "Validation loss: 14.4375\n",
      "\n",
      "------------------------- Epoch 12 -------------------------\n",
      ">> 1: Time per Batch  0.90s | Total expected  1.21 min | Remaining  1.20 min \n",
      ">> 10: Time per Batch  0.83s | Total expected  1.12 min | Remaining  0.98 min \n",
      ">> 20: Time per Batch  0.82s | Total expected  1.11 min | Remaining  0.83 min \n",
      ">> 30: Time per Batch  0.81s | Total expected  1.10 min | Remaining  0.69 min \n",
      ">> 40: Time per Batch  0.82s | Total expected  1.10 min | Remaining  0.56 min \n",
      ">> 50: Time per Batch  0.82s | Total expected  1.10 min | Remaining  0.42 min \n",
      ">> 60: Time per Batch  0.83s | Total expected  1.12 min | Remaining  0.29 min \n",
      ">> 70: Time per Batch  0.84s | Total expected  1.13 min | Remaining  0.15 min \n",
      ">> 80: Time per Batch  0.84s | Total expected  1.14 min | Remaining  0.01 min \n",
      ">> Epoch time: 1.14 min\n",
      "Training loss: 17.8691\n",
      "Validation loss: 14.0260\n",
      "\n",
      "------------------------- Epoch 13 -------------------------\n",
      ">> 1: Time per Batch  0.92s | Total expected  1.24 min | Remaining  1.23 min \n",
      ">> 10: Time per Batch  0.83s | Total expected  1.12 min | Remaining  0.99 min \n",
      ">> 20: Time per Batch  0.83s | Total expected  1.12 min | Remaining  0.84 min \n",
      ">> 30: Time per Batch  0.83s | Total expected  1.12 min | Remaining  0.71 min \n",
      ">> 40: Time per Batch  0.83s | Total expected  1.12 min | Remaining  0.57 min \n",
      ">> 50: Time per Batch  0.83s | Total expected  1.12 min | Remaining  0.43 min \n",
      ">> 60: Time per Batch  0.83s | Total expected  1.12 min | Remaining  0.29 min \n",
      ">> 70: Time per Batch  0.83s | Total expected  1.12 min | Remaining  0.15 min \n",
      ">> 80: Time per Batch  0.83s | Total expected  1.12 min | Remaining  0.01 min \n",
      ">> Epoch time: 1.12 min\n",
      "Training loss: 17.2918\n",
      "Validation loss: 13.7412\n",
      "\n",
      "------------------------- Epoch 14 -------------------------\n",
      ">> 1: Time per Batch  0.91s | Total expected  1.23 min | Remaining  1.21 min \n",
      ">> 10: Time per Batch  0.83s | Total expected  1.13 min | Remaining  0.99 min \n",
      ">> 20: Time per Batch  0.84s | Total expected  1.13 min | Remaining  0.85 min \n",
      ">> 30: Time per Batch  0.83s | Total expected  1.12 min | Remaining  0.71 min \n",
      ">> 40: Time per Batch  0.83s | Total expected  1.12 min | Remaining  0.57 min \n",
      ">> 50: Time per Batch  0.83s | Total expected  1.12 min | Remaining  0.43 min \n",
      ">> 60: Time per Batch  0.83s | Total expected  1.12 min | Remaining  0.29 min \n",
      ">> 70: Time per Batch  0.83s | Total expected  1.12 min | Remaining  0.15 min \n",
      ">> 80: Time per Batch  0.83s | Total expected  1.12 min | Remaining  0.01 min \n",
      ">> Epoch time: 1.12 min\n",
      "Training loss: 16.9028\n",
      "Validation loss: 13.4712\n",
      "\n",
      "------------------------- Epoch 15 -------------------------\n",
      ">> 1: Time per Batch  1.00s | Total expected  1.35 min | Remaining  1.33 min \n",
      ">> 10: Time per Batch  0.85s | Total expected  1.14 min | Remaining  1.00 min \n",
      ">> 20: Time per Batch  0.84s | Total expected  1.13 min | Remaining  0.85 min \n",
      ">> 30: Time per Batch  0.83s | Total expected  1.12 min | Remaining  0.70 min \n",
      ">> 40: Time per Batch  0.83s | Total expected  1.12 min | Remaining  0.57 min \n",
      ">> 50: Time per Batch  0.83s | Total expected  1.12 min | Remaining  0.43 min \n",
      ">> 60: Time per Batch  0.83s | Total expected  1.12 min | Remaining  0.29 min \n",
      ">> 70: Time per Batch  0.83s | Total expected  1.12 min | Remaining  0.15 min \n",
      ">> 80: Time per Batch  0.83s | Total expected  1.12 min | Remaining  0.01 min \n",
      ">> Epoch time: 1.12 min\n",
      "Training loss: 16.4918\n",
      "Validation loss: 13.2398\n",
      "\n",
      "------------------------- Epoch 16 -------------------------\n",
      ">> 1: Time per Batch  0.91s | Total expected  1.23 min | Remaining  1.22 min \n",
      ">> 10: Time per Batch  0.84s | Total expected  1.14 min | Remaining  1.00 min \n",
      ">> 20: Time per Batch  0.84s | Total expected  1.13 min | Remaining  0.85 min \n",
      ">> 30: Time per Batch  0.83s | Total expected  1.13 min | Remaining  0.71 min \n",
      ">> 40: Time per Batch  0.83s | Total expected  1.12 min | Remaining  0.57 min \n",
      ">> 50: Time per Batch  0.83s | Total expected  1.12 min | Remaining  0.43 min \n",
      ">> 60: Time per Batch  0.83s | Total expected  1.12 min | Remaining  0.29 min \n",
      ">> 70: Time per Batch  0.83s | Total expected  1.12 min | Remaining  0.15 min \n",
      ">> 80: Time per Batch  0.83s | Total expected  1.12 min | Remaining  0.01 min \n",
      ">> Epoch time: 1.12 min\n",
      "Training loss: 16.1370\n",
      "Validation loss: 13.0406\n",
      "\n",
      "------------------------- Epoch 17 -------------------------\n",
      ">> 1: Time per Batch  0.94s | Total expected  1.27 min | Remaining  1.25 min \n",
      ">> 10: Time per Batch  0.84s | Total expected  1.14 min | Remaining  1.00 min \n",
      ">> 20: Time per Batch  0.84s | Total expected  1.13 min | Remaining  0.85 min \n",
      ">> 30: Time per Batch  0.83s | Total expected  1.13 min | Remaining  0.71 min \n",
      ">> 40: Time per Batch  0.83s | Total expected  1.13 min | Remaining  0.57 min \n",
      ">> 50: Time per Batch  0.83s | Total expected  1.13 min | Remaining  0.43 min \n",
      ">> 60: Time per Batch  0.83s | Total expected  1.13 min | Remaining  0.29 min \n",
      ">> 70: Time per Batch  0.83s | Total expected  1.13 min | Remaining  0.15 min \n",
      ">> 80: Time per Batch  0.83s | Total expected  1.13 min | Remaining  0.01 min \n",
      ">> Epoch time: 1.13 min\n",
      "Training loss: 15.8325\n",
      "Validation loss: 12.9020\n",
      "\n",
      "------------------------- Epoch 18 -------------------------\n",
      ">> 1: Time per Batch  0.93s | Total expected  1.26 min | Remaining  1.24 min \n",
      ">> 10: Time per Batch  0.83s | Total expected  1.13 min | Remaining  0.99 min \n",
      ">> 20: Time per Batch  0.84s | Total expected  1.13 min | Remaining  0.85 min \n",
      ">> 30: Time per Batch  0.83s | Total expected  1.12 min | Remaining  0.71 min \n",
      ">> 40: Time per Batch  0.83s | Total expected  1.13 min | Remaining  0.57 min \n",
      ">> 50: Time per Batch  0.83s | Total expected  1.12 min | Remaining  0.43 min \n",
      ">> 60: Time per Batch  0.83s | Total expected  1.12 min | Remaining  0.29 min \n",
      ">> 70: Time per Batch  0.83s | Total expected  1.12 min | Remaining  0.15 min \n",
      ">> 80: Time per Batch  0.83s | Total expected  1.12 min | Remaining  0.01 min \n",
      ">> Epoch time: 1.12 min\n",
      "Training loss: 15.5776\n",
      "Validation loss: 12.7412\n",
      "\n",
      "------------------------- Epoch 19 -------------------------\n",
      ">> 1: Time per Batch  0.92s | Total expected  1.25 min | Remaining  1.23 min \n",
      ">> 10: Time per Batch  0.85s | Total expected  1.14 min | Remaining  1.00 min \n",
      ">> 20: Time per Batch  0.85s | Total expected  1.14 min | Remaining  0.86 min \n",
      ">> 30: Time per Batch  0.84s | Total expected  1.14 min | Remaining  0.72 min \n",
      ">> 40: Time per Batch  0.84s | Total expected  1.14 min | Remaining  0.57 min \n",
      ">> 50: Time per Batch  0.84s | Total expected  1.13 min | Remaining  0.43 min \n",
      ">> 60: Time per Batch  0.84s | Total expected  1.13 min | Remaining  0.29 min \n",
      ">> 70: Time per Batch  0.84s | Total expected  1.13 min | Remaining  0.15 min \n",
      ">> 80: Time per Batch  0.84s | Total expected  1.13 min | Remaining  0.01 min \n",
      ">> Epoch time: 1.13 min\n",
      "Training loss: 15.3703\n",
      "Validation loss: 12.6160\n",
      "\n",
      "------------------------- Epoch 20 -------------------------\n",
      ">> 1: Time per Batch  0.92s | Total expected  1.24 min | Remaining  1.22 min \n",
      ">> 10: Time per Batch  0.83s | Total expected  1.12 min | Remaining  0.98 min \n",
      ">> 20: Time per Batch  0.83s | Total expected  1.12 min | Remaining  0.84 min \n",
      ">> 30: Time per Batch  0.83s | Total expected  1.12 min | Remaining  0.70 min \n",
      ">> 40: Time per Batch  0.83s | Total expected  1.12 min | Remaining  0.57 min \n",
      ">> 50: Time per Batch  0.83s | Total expected  1.11 min | Remaining  0.43 min \n",
      ">> 60: Time per Batch  0.82s | Total expected  1.11 min | Remaining  0.29 min \n",
      ">> 70: Time per Batch  0.82s | Total expected  1.11 min | Remaining  0.15 min \n",
      ">> 80: Time per Batch  0.82s | Total expected  1.11 min | Remaining  0.01 min \n",
      ">> Epoch time: 1.11 min\n",
      "Training loss: 15.1536\n",
      "Validation loss: 12.5313\n",
      "\n"
     ]
    }
   ],
   "source": [
    "from AnimationTransformer import fit\n",
    "\n",
    "train_loss_list, validation_loss_list = fit(model,\n",
    "                                            optimizer,\n",
    "                                            loss_function,\n",
    "                                            train_dataloader,\n",
    "                                            val_dataloader,\n",
    "                                            epochs=20,\n",
    "                                            device=device)"
   ]
  },
  {
   "cell_type": "code",
   "execution_count": 33,
   "id": "4c920a75e5f59950",
   "metadata": {
    "collapsed": false
   },
   "outputs": [
    {
     "name": "stdout",
     "output_type": "stream",
     "text": [
      "Training and validating model\n",
      "------------------------- Epoch 1 -------------------------\n",
      ">> 1: Time per Batch  0.96s | Total expected  1.29 min | Remaining  1.27 min \n",
      ">> 10: Time per Batch  0.81s | Total expected  1.09 min | Remaining  0.96 min \n",
      ">> 20: Time per Batch  0.81s | Total expected  1.09 min | Remaining  0.82 min \n",
      ">> 30: Time per Batch  0.80s | Total expected  1.09 min | Remaining  0.68 min \n",
      ">> 40: Time per Batch  0.81s | Total expected  1.09 min | Remaining  0.55 min \n",
      ">> 50: Time per Batch  0.80s | Total expected  1.08 min | Remaining  0.41 min \n",
      ">> 60: Time per Batch  0.81s | Total expected  1.09 min | Remaining  0.28 min \n",
      ">> 70: Time per Batch  0.80s | Total expected  1.09 min | Remaining  0.15 min \n",
      ">> 80: Time per Batch  0.80s | Total expected  1.09 min | Remaining  0.01 min \n",
      ">> Epoch time: 1.09 min\n",
      "Training loss: 15.0234\n",
      "Validation loss: 12.4377\n",
      "\n",
      "------------------------- Epoch 2 -------------------------\n",
      ">> 1: Time per Batch  0.89s | Total expected  1.20 min | Remaining  1.19 min \n",
      ">> 10: Time per Batch  0.80s | Total expected  1.08 min | Remaining  0.94 min \n",
      ">> 20: Time per Batch  0.80s | Total expected  1.08 min | Remaining  0.81 min \n",
      ">> 30: Time per Batch  0.80s | Total expected  1.08 min | Remaining  0.68 min \n",
      ">> 40: Time per Batch  0.80s | Total expected  1.08 min | Remaining  0.55 min \n",
      ">> 50: Time per Batch  0.80s | Total expected  1.08 min | Remaining  0.41 min \n",
      ">> 60: Time per Batch  0.80s | Total expected  1.08 min | Remaining  0.28 min \n",
      ">> 70: Time per Batch  0.80s | Total expected  1.08 min | Remaining  0.15 min \n",
      ">> 80: Time per Batch  0.80s | Total expected  1.08 min | Remaining  0.01 min \n",
      ">> Epoch time: 1.08 min\n",
      "Training loss: 14.8597\n",
      "Validation loss: 12.3704\n",
      "\n",
      "------------------------- Epoch 3 -------------------------\n",
      ">> 1: Time per Batch  0.91s | Total expected  1.22 min | Remaining  1.21 min \n",
      ">> 10: Time per Batch  0.82s | Total expected  1.10 min | Remaining  0.97 min \n",
      ">> 20: Time per Batch  0.81s | Total expected  1.09 min | Remaining  0.82 min \n",
      ">> 30: Time per Batch  0.81s | Total expected  1.09 min | Remaining  0.69 min \n",
      ">> 40: Time per Batch  0.81s | Total expected  1.09 min | Remaining  0.55 min \n",
      ">> 50: Time per Batch  0.81s | Total expected  1.09 min | Remaining  0.42 min \n",
      ">> 60: Time per Batch  0.81s | Total expected  1.09 min | Remaining  0.28 min \n",
      ">> 70: Time per Batch  0.81s | Total expected  1.09 min | Remaining  0.15 min \n",
      ">> 80: Time per Batch  0.81s | Total expected  1.10 min | Remaining  0.01 min \n",
      ">> Epoch time: 1.09 min\n",
      "Training loss: 14.7227\n",
      "Validation loss: 12.3377\n",
      "\n",
      "------------------------- Epoch 4 -------------------------\n",
      ">> 1: Time per Batch  0.90s | Total expected  1.22 min | Remaining  1.21 min \n",
      ">> 10: Time per Batch  0.82s | Total expected  1.11 min | Remaining  0.97 min \n",
      ">> 20: Time per Batch  0.81s | Total expected  1.10 min | Remaining  0.83 min \n",
      ">> 30: Time per Batch  0.81s | Total expected  1.10 min | Remaining  0.69 min \n",
      ">> 40: Time per Batch  0.81s | Total expected  1.10 min | Remaining  0.55 min \n",
      ">> 50: Time per Batch  0.81s | Total expected  1.10 min | Remaining  0.42 min \n",
      ">> 60: Time per Batch  0.81s | Total expected  1.09 min | Remaining  0.28 min \n",
      ">> 70: Time per Batch  0.81s | Total expected  1.09 min | Remaining  0.15 min \n",
      ">> 80: Time per Batch  0.81s | Total expected  1.09 min | Remaining  0.01 min \n",
      ">> Epoch time: 1.09 min\n",
      "Training loss: 14.6368\n",
      "Validation loss: 12.2841\n",
      "\n",
      "------------------------- Epoch 5 -------------------------\n",
      ">> 1: Time per Batch  0.90s | Total expected  1.21 min | Remaining  1.20 min \n",
      ">> 10: Time per Batch  0.83s | Total expected  1.12 min | Remaining  0.98 min \n",
      ">> 20: Time per Batch  0.81s | Total expected  1.10 min | Remaining  0.83 min \n",
      ">> 30: Time per Batch  0.82s | Total expected  1.10 min | Remaining  0.69 min \n",
      ">> 40: Time per Batch  0.81s | Total expected  1.10 min | Remaining  0.55 min \n",
      ">> 50: Time per Batch  0.81s | Total expected  1.09 min | Remaining  0.42 min \n",
      ">> 60: Time per Batch  0.81s | Total expected  1.09 min | Remaining  0.28 min \n",
      ">> 70: Time per Batch  0.81s | Total expected  1.09 min | Remaining  0.15 min \n",
      ">> 80: Time per Batch  0.81s | Total expected  1.09 min | Remaining  0.01 min \n",
      ">> Epoch time: 1.09 min\n",
      "Training loss: 14.5345\n",
      "Validation loss: 12.2274\n",
      "\n",
      "------------------------- Epoch 6 -------------------------\n",
      ">> 1: Time per Batch  0.89s | Total expected  1.20 min | Remaining  1.19 min \n",
      ">> 10: Time per Batch  0.82s | Total expected  1.11 min | Remaining  0.97 min \n",
      ">> 20: Time per Batch  0.82s | Total expected  1.11 min | Remaining  0.83 min \n",
      ">> 30: Time per Batch  0.82s | Total expected  1.11 min | Remaining  0.70 min \n",
      ">> 40: Time per Batch  0.82s | Total expected  1.11 min | Remaining  0.56 min \n",
      ">> 50: Time per Batch  0.82s | Total expected  1.10 min | Remaining  0.42 min \n",
      ">> 60: Time per Batch  0.81s | Total expected  1.10 min | Remaining  0.28 min \n",
      ">> 70: Time per Batch  0.81s | Total expected  1.09 min | Remaining  0.15 min \n",
      ">> 80: Time per Batch  0.81s | Total expected  1.09 min | Remaining  0.01 min \n",
      ">> Epoch time: 1.09 min\n",
      "Training loss: 14.4406\n",
      "Validation loss: 12.2310\n",
      "\n",
      "------------------------- Epoch 7 -------------------------\n",
      ">> 1: Time per Batch  0.89s | Total expected  1.20 min | Remaining  1.19 min \n",
      ">> 10: Time per Batch  0.80s | Total expected  1.08 min | Remaining  0.95 min \n",
      ">> 20: Time per Batch  0.80s | Total expected  1.08 min | Remaining  0.82 min \n",
      ">> 30: Time per Batch  0.80s | Total expected  1.08 min | Remaining  0.68 min \n",
      ">> 40: Time per Batch  0.80s | Total expected  1.08 min | Remaining  0.55 min \n",
      ">> 50: Time per Batch  0.80s | Total expected  1.08 min | Remaining  0.41 min \n",
      ">> 60: Time per Batch  0.80s | Total expected  1.08 min | Remaining  0.28 min \n",
      ">> 70: Time per Batch  0.80s | Total expected  1.08 min | Remaining  0.15 min \n",
      ">> 80: Time per Batch  0.80s | Total expected  1.08 min | Remaining  0.01 min \n",
      ">> Epoch time: 1.08 min\n",
      "Training loss: 14.4197\n",
      "Validation loss: 12.1914\n",
      "\n",
      "------------------------- Epoch 8 -------------------------\n",
      ">> 1: Time per Batch  0.89s | Total expected  1.20 min | Remaining  1.19 min \n",
      ">> 10: Time per Batch  0.82s | Total expected  1.10 min | Remaining  0.97 min \n",
      ">> 20: Time per Batch  0.81s | Total expected  1.09 min | Remaining  0.82 min \n",
      ">> 30: Time per Batch  0.81s | Total expected  1.09 min | Remaining  0.69 min \n",
      ">> 40: Time per Batch  0.81s | Total expected  1.09 min | Remaining  0.55 min \n",
      ">> 50: Time per Batch  0.80s | Total expected  1.09 min | Remaining  0.42 min \n",
      ">> 60: Time per Batch  0.80s | Total expected  1.08 min | Remaining  0.28 min \n",
      ">> 70: Time per Batch  0.80s | Total expected  1.08 min | Remaining  0.15 min \n",
      ">> 80: Time per Batch  0.80s | Total expected  1.08 min | Remaining  0.01 min \n",
      ">> Epoch time: 1.08 min\n",
      "Training loss: 14.3725\n",
      "Validation loss: 12.1949\n",
      "\n",
      "------------------------- Epoch 9 -------------------------\n",
      ">> 1: Time per Batch  0.88s | Total expected  1.19 min | Remaining  1.17 min \n",
      ">> 10: Time per Batch  0.81s | Total expected  1.09 min | Remaining  0.96 min \n",
      ">> 20: Time per Batch  0.81s | Total expected  1.09 min | Remaining  0.82 min \n",
      ">> 30: Time per Batch  0.81s | Total expected  1.09 min | Remaining  0.69 min \n",
      ">> 40: Time per Batch  0.80s | Total expected  1.09 min | Remaining  0.55 min \n",
      ">> 50: Time per Batch  0.80s | Total expected  1.09 min | Remaining  0.42 min \n",
      ">> 60: Time per Batch  0.80s | Total expected  1.08 min | Remaining  0.28 min \n",
      ">> 70: Time per Batch  0.80s | Total expected  1.08 min | Remaining  0.15 min \n",
      ">> 80: Time per Batch  0.80s | Total expected  1.08 min | Remaining  0.01 min \n",
      ">> Epoch time: 1.08 min\n",
      "Training loss: 14.3490\n",
      "Validation loss: 12.1752\n",
      "\n",
      "------------------------- Epoch 10 -------------------------\n",
      ">> 1: Time per Batch  0.90s | Total expected  1.22 min | Remaining  1.20 min \n",
      ">> 10: Time per Batch  0.81s | Total expected  1.09 min | Remaining  0.95 min \n",
      ">> 20: Time per Batch  0.80s | Total expected  1.08 min | Remaining  0.81 min \n",
      ">> 30: Time per Batch  0.80s | Total expected  1.08 min | Remaining  0.68 min \n",
      ">> 40: Time per Batch  0.80s | Total expected  1.08 min | Remaining  0.55 min \n",
      ">> 50: Time per Batch  0.80s | Total expected  1.08 min | Remaining  0.41 min \n",
      ">> 60: Time per Batch  0.80s | Total expected  1.08 min | Remaining  0.28 min \n",
      ">> 70: Time per Batch  0.80s | Total expected  1.08 min | Remaining  0.15 min \n",
      ">> 80: Time per Batch  0.80s | Total expected  1.08 min | Remaining  0.01 min \n",
      ">> Epoch time: 1.08 min\n",
      "Training loss: 14.2938\n",
      "Validation loss: 12.2052\n",
      "\n",
      "------------------------- Epoch 11 -------------------------\n",
      ">> 1: Time per Batch  0.88s | Total expected  1.19 min | Remaining  1.17 min \n",
      ">> 10: Time per Batch  0.81s | Total expected  1.09 min | Remaining  0.96 min \n",
      ">> 20: Time per Batch  0.80s | Total expected  1.08 min | Remaining  0.81 min \n",
      ">> 30: Time per Batch  0.80s | Total expected  1.08 min | Remaining  0.68 min \n",
      ">> 40: Time per Batch  0.80s | Total expected  1.08 min | Remaining  0.55 min \n",
      ">> 50: Time per Batch  0.80s | Total expected  1.08 min | Remaining  0.41 min \n",
      ">> 60: Time per Batch  0.80s | Total expected  1.08 min | Remaining  0.28 min \n",
      ">> 70: Time per Batch  0.80s | Total expected  1.08 min | Remaining  0.15 min \n",
      ">> 80: Time per Batch  0.80s | Total expected  1.08 min | Remaining  0.01 min \n",
      ">> Epoch time: 1.08 min\n",
      "Training loss: 14.2958\n",
      "Validation loss: 12.2235\n",
      "\n",
      "------------------------- Epoch 12 -------------------------\n",
      ">> 1: Time per Batch  0.89s | Total expected  1.20 min | Remaining  1.18 min \n",
      ">> 10: Time per Batch  0.80s | Total expected  1.08 min | Remaining  0.95 min \n",
      ">> 20: Time per Batch  0.80s | Total expected  1.08 min | Remaining  0.81 min \n",
      ">> 30: Time per Batch  0.80s | Total expected  1.08 min | Remaining  0.68 min \n",
      ">> 40: Time per Batch  0.80s | Total expected  1.08 min | Remaining  0.55 min \n",
      ">> 50: Time per Batch  0.80s | Total expected  1.08 min | Remaining  0.41 min \n",
      ">> 60: Time per Batch  0.80s | Total expected  1.08 min | Remaining  0.28 min \n",
      ">> 70: Time per Batch  0.80s | Total expected  1.08 min | Remaining  0.15 min \n",
      ">> 80: Time per Batch  0.80s | Total expected  1.08 min | Remaining  0.01 min \n",
      ">> Epoch time: 1.08 min\n",
      "Training loss: 14.2744\n",
      "Validation loss: 12.1835\n",
      "\n",
      "------------------------- Epoch 13 -------------------------\n",
      ">> 1: Time per Batch  0.89s | Total expected  1.20 min | Remaining  1.19 min \n",
      ">> 10: Time per Batch  0.82s | Total expected  1.10 min | Remaining  0.96 min \n",
      ">> 20: Time per Batch  0.81s | Total expected  1.09 min | Remaining  0.82 min \n",
      ">> 30: Time per Batch  0.80s | Total expected  1.09 min | Remaining  0.68 min \n",
      ">> 40: Time per Batch  0.80s | Total expected  1.09 min | Remaining  0.55 min \n",
      ">> 50: Time per Batch  0.80s | Total expected  1.08 min | Remaining  0.41 min \n",
      ">> 60: Time per Batch  0.80s | Total expected  1.08 min | Remaining  0.28 min \n",
      ">> 70: Time per Batch  0.80s | Total expected  1.08 min | Remaining  0.15 min \n",
      ">> 80: Time per Batch  0.80s | Total expected  1.08 min | Remaining  0.01 min \n",
      ">> Epoch time: 1.08 min\n",
      "Training loss: 14.2398\n",
      "Validation loss: 12.1784\n",
      "\n",
      "------------------------- Epoch 14 -------------------------\n",
      ">> 1: Time per Batch  0.91s | Total expected  1.22 min | Remaining  1.21 min \n",
      ">> 10: Time per Batch  0.81s | Total expected  1.09 min | Remaining  0.96 min \n",
      ">> 20: Time per Batch  0.81s | Total expected  1.09 min | Remaining  0.82 min \n",
      ">> 30: Time per Batch  0.80s | Total expected  1.08 min | Remaining  0.68 min \n",
      ">> 40: Time per Batch  0.80s | Total expected  1.08 min | Remaining  0.55 min \n",
      ">> 50: Time per Batch  0.80s | Total expected  1.08 min | Remaining  0.41 min \n",
      ">> 60: Time per Batch  0.80s | Total expected  1.08 min | Remaining  0.28 min \n",
      ">> 70: Time per Batch  0.80s | Total expected  1.08 min | Remaining  0.15 min \n",
      ">> 80: Time per Batch  0.80s | Total expected  1.08 min | Remaining  0.01 min \n",
      ">> Epoch time: 1.08 min\n",
      "Training loss: 14.2293\n",
      "Validation loss: 12.1311\n",
      "\n",
      "------------------------- Epoch 15 -------------------------\n",
      ">> 1: Time per Batch  0.93s | Total expected  1.26 min | Remaining  1.24 min \n",
      ">> 10: Time per Batch  0.83s | Total expected  1.12 min | Remaining  0.98 min \n",
      ">> 20: Time per Batch  0.82s | Total expected  1.10 min | Remaining  0.83 min \n",
      ">> 30: Time per Batch  0.82s | Total expected  1.10 min | Remaining  0.69 min \n",
      ">> 40: Time per Batch  0.81s | Total expected  1.10 min | Remaining  0.56 min \n",
      ">> 50: Time per Batch  0.81s | Total expected  1.09 min | Remaining  0.42 min \n",
      ">> 60: Time per Batch  0.81s | Total expected  1.09 min | Remaining  0.28 min \n",
      ">> 70: Time per Batch  0.81s | Total expected  1.09 min | Remaining  0.15 min \n",
      ">> 80: Time per Batch  0.81s | Total expected  1.10 min | Remaining  0.01 min \n",
      ">> Epoch time: 1.10 min\n",
      "Training loss: 14.2292\n",
      "Validation loss: 12.1630\n",
      "\n",
      "------------------------- Epoch 16 -------------------------\n",
      ">> 1: Time per Batch  0.90s | Total expected  1.21 min | Remaining  1.20 min \n",
      ">> 10: Time per Batch  0.82s | Total expected  1.11 min | Remaining  0.97 min \n",
      ">> 20: Time per Batch  0.81s | Total expected  1.10 min | Remaining  0.83 min \n",
      ">> 30: Time per Batch  0.81s | Total expected  1.10 min | Remaining  0.69 min \n",
      ">> 40: Time per Batch  0.81s | Total expected  1.10 min | Remaining  0.55 min \n",
      ">> 50: Time per Batch  0.81s | Total expected  1.10 min | Remaining  0.42 min \n",
      ">> 60: Time per Batch  0.81s | Total expected  1.10 min | Remaining  0.28 min \n",
      ">> 70: Time per Batch  0.81s | Total expected  1.09 min | Remaining  0.15 min \n",
      ">> 80: Time per Batch  0.81s | Total expected  1.09 min | Remaining  0.01 min \n",
      ">> Epoch time: 1.09 min\n",
      "Training loss: 14.2560\n",
      "Validation loss: 12.1747\n",
      "\n",
      "------------------------- Epoch 17 -------------------------\n",
      ">> 1: Time per Batch  0.87s | Total expected  1.18 min | Remaining  1.17 min \n",
      ">> 10: Time per Batch  0.81s | Total expected  1.10 min | Remaining  0.96 min \n",
      ">> 20: Time per Batch  0.80s | Total expected  1.09 min | Remaining  0.82 min \n",
      ">> 30: Time per Batch  0.80s | Total expected  1.09 min | Remaining  0.68 min \n",
      ">> 40: Time per Batch  0.80s | Total expected  1.08 min | Remaining  0.55 min \n",
      ">> 50: Time per Batch  0.80s | Total expected  1.08 min | Remaining  0.41 min \n",
      ">> 60: Time per Batch  0.80s | Total expected  1.08 min | Remaining  0.28 min \n",
      ">> 70: Time per Batch  0.80s | Total expected  1.08 min | Remaining  0.15 min \n",
      ">> 80: Time per Batch  0.80s | Total expected  1.08 min | Remaining  0.01 min \n",
      ">> Epoch time: 1.08 min\n",
      "Training loss: 14.1780\n",
      "Validation loss: 12.1726\n",
      "\n",
      "------------------------- Epoch 18 -------------------------\n",
      ">> 1: Time per Batch  0.91s | Total expected  1.22 min | Remaining  1.21 min \n",
      ">> 10: Time per Batch  0.80s | Total expected  1.09 min | Remaining  0.95 min \n",
      ">> 20: Time per Batch  0.80s | Total expected  1.08 min | Remaining  0.82 min \n",
      ">> 30: Time per Batch  0.80s | Total expected  1.08 min | Remaining  0.68 min \n",
      ">> 40: Time per Batch  0.80s | Total expected  1.08 min | Remaining  0.55 min \n",
      ">> 50: Time per Batch  0.80s | Total expected  1.08 min | Remaining  0.41 min \n",
      ">> 60: Time per Batch  0.80s | Total expected  1.08 min | Remaining  0.28 min \n",
      ">> 70: Time per Batch  0.80s | Total expected  1.08 min | Remaining  0.15 min \n",
      ">> 80: Time per Batch  0.80s | Total expected  1.08 min | Remaining  0.01 min \n",
      ">> Epoch time: 1.08 min\n",
      "Training loss: 14.2320\n",
      "Validation loss: 12.1953\n",
      "\n",
      "------------------------- Epoch 19 -------------------------\n",
      ">> 1: Time per Batch  0.90s | Total expected  1.21 min | Remaining  1.20 min \n",
      ">> 10: Time per Batch  0.81s | Total expected  1.10 min | Remaining  0.96 min \n",
      ">> 20: Time per Batch  0.81s | Total expected  1.09 min | Remaining  0.82 min \n",
      ">> 30: Time per Batch  0.80s | Total expected  1.09 min | Remaining  0.68 min \n",
      ">> 40: Time per Batch  0.81s | Total expected  1.09 min | Remaining  0.55 min \n",
      ">> 50: Time per Batch  0.80s | Total expected  1.08 min | Remaining  0.42 min \n",
      ">> 60: Time per Batch  0.80s | Total expected  1.08 min | Remaining  0.28 min \n",
      ">> 70: Time per Batch  0.80s | Total expected  1.09 min | Remaining  0.15 min \n",
      ">> 80: Time per Batch  0.80s | Total expected  1.09 min | Remaining  0.01 min \n",
      ">> Epoch time: 1.09 min\n",
      "Training loss: 14.2338\n",
      "Validation loss: 12.1920\n",
      "\n",
      "------------------------- Epoch 20 -------------------------\n",
      ">> 1: Time per Batch  0.89s | Total expected  1.20 min | Remaining  1.19 min \n",
      ">> 10: Time per Batch  0.81s | Total expected  1.09 min | Remaining  0.96 min \n",
      ">> 20: Time per Batch  0.81s | Total expected  1.09 min | Remaining  0.82 min \n",
      ">> 30: Time per Batch  0.80s | Total expected  1.08 min | Remaining  0.68 min \n",
      ">> 40: Time per Batch  0.80s | Total expected  1.08 min | Remaining  0.55 min \n",
      ">> 50: Time per Batch  0.80s | Total expected  1.08 min | Remaining  0.41 min \n",
      ">> 60: Time per Batch  0.80s | Total expected  1.08 min | Remaining  0.28 min \n",
      ">> 70: Time per Batch  0.80s | Total expected  1.08 min | Remaining  0.15 min \n",
      ">> 80: Time per Batch  0.80s | Total expected  1.08 min | Remaining  0.01 min \n",
      ">> Epoch time: 1.08 min\n",
      "Training loss: 14.2314\n",
      "Validation loss: 12.2000\n",
      "\n",
      "------------------------- Epoch 21 -------------------------\n",
      ">> 1: Time per Batch  0.88s | Total expected  1.19 min | Remaining  1.17 min \n",
      ">> 10: Time per Batch  0.81s | Total expected  1.10 min | Remaining  0.96 min \n",
      ">> 20: Time per Batch  0.81s | Total expected  1.09 min | Remaining  0.82 min \n",
      ">> 30: Time per Batch  0.81s | Total expected  1.09 min | Remaining  0.69 min \n",
      ">> 40: Time per Batch  0.81s | Total expected  1.09 min | Remaining  0.55 min \n",
      ">> 50: Time per Batch  0.80s | Total expected  1.08 min | Remaining  0.41 min \n",
      ">> 60: Time per Batch  0.80s | Total expected  1.08 min | Remaining  0.28 min \n",
      ">> 70: Time per Batch  0.80s | Total expected  1.08 min | Remaining  0.15 min \n",
      ">> 80: Time per Batch  0.80s | Total expected  1.09 min | Remaining  0.01 min \n",
      ">> Epoch time: 1.09 min\n",
      "Training loss: 14.2286\n",
      "Validation loss: 12.2810\n",
      "\n",
      "------------------------- Epoch 22 -------------------------\n",
      ">> 1: Time per Batch  0.91s | Total expected  1.23 min | Remaining  1.22 min \n",
      ">> 10: Time per Batch  0.82s | Total expected  1.11 min | Remaining  0.97 min \n",
      ">> 20: Time per Batch  0.81s | Total expected  1.09 min | Remaining  0.82 min \n",
      ">> 30: Time per Batch  0.81s | Total expected  1.09 min | Remaining  0.69 min \n",
      ">> 40: Time per Batch  0.80s | Total expected  1.09 min | Remaining  0.55 min \n",
      ">> 50: Time per Batch  0.80s | Total expected  1.09 min | Remaining  0.42 min \n",
      ">> 60: Time per Batch  0.80s | Total expected  1.09 min | Remaining  0.28 min \n",
      ">> 70: Time per Batch  0.81s | Total expected  1.09 min | Remaining  0.15 min \n",
      ">> 80: Time per Batch  0.81s | Total expected  1.09 min | Remaining  0.01 min \n",
      ">> Epoch time: 1.09 min\n",
      "Training loss: 14.2224\n",
      "Validation loss: 12.1976\n",
      "\n",
      "------------------------- Epoch 23 -------------------------\n",
      ">> 1: Time per Batch  0.90s | Total expected  1.21 min | Remaining  1.20 min \n",
      ">> 10: Time per Batch  0.81s | Total expected  1.09 min | Remaining  0.95 min \n",
      ">> 20: Time per Batch  0.80s | Total expected  1.08 min | Remaining  0.81 min \n",
      ">> 30: Time per Batch  0.80s | Total expected  1.08 min | Remaining  0.68 min \n",
      ">> 40: Time per Batch  0.80s | Total expected  1.08 min | Remaining  0.55 min \n",
      ">> 50: Time per Batch  0.80s | Total expected  1.09 min | Remaining  0.42 min \n",
      ">> 60: Time per Batch  0.80s | Total expected  1.08 min | Remaining  0.28 min \n",
      ">> 70: Time per Batch  0.80s | Total expected  1.09 min | Remaining  0.15 min \n",
      ">> 80: Time per Batch  0.80s | Total expected  1.08 min | Remaining  0.01 min \n",
      ">> Epoch time: 1.08 min\n",
      "Training loss: 14.1956\n",
      "Validation loss: 12.2037\n",
      "\n",
      "------------------------- Epoch 24 -------------------------\n",
      ">> 1: Time per Batch  0.91s | Total expected  1.23 min | Remaining  1.21 min \n",
      ">> 10: Time per Batch  0.82s | Total expected  1.11 min | Remaining  0.98 min \n",
      ">> 20: Time per Batch  0.81s | Total expected  1.10 min | Remaining  0.83 min \n",
      ">> 30: Time per Batch  0.81s | Total expected  1.09 min | Remaining  0.69 min \n",
      ">> 40: Time per Batch  0.81s | Total expected  1.09 min | Remaining  0.55 min \n",
      ">> 50: Time per Batch  0.81s | Total expected  1.10 min | Remaining  0.42 min \n",
      ">> 60: Time per Batch  0.81s | Total expected  1.09 min | Remaining  0.28 min \n",
      ">> 70: Time per Batch  0.81s | Total expected  1.09 min | Remaining  0.15 min \n",
      ">> 80: Time per Batch  0.81s | Total expected  1.09 min | Remaining  0.01 min \n",
      ">> Epoch time: 1.09 min\n",
      "Training loss: 14.2258\n",
      "Validation loss: 12.2027\n",
      "\n",
      "------------------------- Epoch 25 -------------------------\n",
      ">> 1: Time per Batch  0.90s | Total expected  1.22 min | Remaining  1.20 min \n",
      ">> 10: Time per Batch  0.82s | Total expected  1.11 min | Remaining  0.97 min \n",
      ">> 20: Time per Batch  0.81s | Total expected  1.09 min | Remaining  0.82 min \n",
      ">> 30: Time per Batch  0.81s | Total expected  1.10 min | Remaining  0.69 min \n",
      ">> 40: Time per Batch  0.81s | Total expected  1.09 min | Remaining  0.55 min \n",
      ">> 50: Time per Batch  0.81s | Total expected  1.09 min | Remaining  0.42 min \n",
      ">> 60: Time per Batch  0.81s | Total expected  1.09 min | Remaining  0.28 min \n",
      ">> 70: Time per Batch  0.81s | Total expected  1.09 min | Remaining  0.15 min \n",
      ">> 80: Time per Batch  0.81s | Total expected  1.09 min | Remaining  0.01 min \n",
      ">> Epoch time: 1.09 min\n",
      "Training loss: 14.2093\n",
      "Validation loss: 12.2311\n",
      "\n",
      "------------------------- Epoch 26 -------------------------\n",
      ">> 1: Time per Batch  0.91s | Total expected  1.23 min | Remaining  1.21 min \n",
      ">> 10: Time per Batch  0.83s | Total expected  1.13 min | Remaining  0.99 min \n",
      ">> 20: Time per Batch  0.84s | Total expected  1.14 min | Remaining  0.85 min \n",
      ">> 30: Time per Batch  0.83s | Total expected  1.12 min | Remaining  0.71 min \n",
      ">> 40: Time per Batch  0.83s | Total expected  1.11 min | Remaining  0.56 min \n",
      ">> 50: Time per Batch  0.82s | Total expected  1.11 min | Remaining  0.42 min \n",
      ">> 60: Time per Batch  0.82s | Total expected  1.10 min | Remaining  0.29 min \n",
      ">> 70: Time per Batch  0.81s | Total expected  1.10 min | Remaining  0.15 min \n",
      ">> 80: Time per Batch  0.81s | Total expected  1.10 min | Remaining  0.01 min \n",
      ">> Epoch time: 1.10 min\n",
      "Training loss: 14.1493\n",
      "Validation loss: 12.2388\n",
      "\n",
      "------------------------- Epoch 27 -------------------------\n",
      ">> 1: Time per Batch  0.90s | Total expected  1.21 min | Remaining  1.20 min \n",
      ">> 10: Time per Batch  0.82s | Total expected  1.10 min | Remaining  0.97 min \n",
      ">> 20: Time per Batch  0.81s | Total expected  1.10 min | Remaining  0.82 min \n",
      ">> 30: Time per Batch  0.81s | Total expected  1.09 min | Remaining  0.68 min \n",
      ">> 40: Time per Batch  0.81s | Total expected  1.09 min | Remaining  0.55 min \n",
      ">> 50: Time per Batch  0.80s | Total expected  1.08 min | Remaining  0.42 min \n",
      ">> 60: Time per Batch  0.80s | Total expected  1.08 min | Remaining  0.28 min \n",
      ">> 70: Time per Batch  0.80s | Total expected  1.08 min | Remaining  0.15 min \n",
      ">> 80: Time per Batch  0.80s | Total expected  1.08 min | Remaining  0.01 min \n",
      ">> Epoch time: 1.08 min\n",
      "Training loss: 14.1928\n",
      "Validation loss: 12.2036\n",
      "\n",
      "------------------------- Epoch 28 -------------------------\n",
      ">> 1: Time per Batch  0.89s | Total expected  1.21 min | Remaining  1.19 min \n",
      ">> 10: Time per Batch  0.82s | Total expected  1.11 min | Remaining  0.97 min \n",
      ">> 20: Time per Batch  0.81s | Total expected  1.09 min | Remaining  0.82 min \n",
      ">> 30: Time per Batch  0.81s | Total expected  1.10 min | Remaining  0.69 min \n",
      ">> 40: Time per Batch  0.81s | Total expected  1.09 min | Remaining  0.55 min \n",
      ">> 50: Time per Batch  0.81s | Total expected  1.09 min | Remaining  0.42 min \n",
      ">> 60: Time per Batch  0.81s | Total expected  1.09 min | Remaining  0.28 min \n",
      ">> 70: Time per Batch  0.81s | Total expected  1.09 min | Remaining  0.15 min \n",
      ">> 80: Time per Batch  0.81s | Total expected  1.09 min | Remaining  0.01 min \n",
      ">> Epoch time: 1.09 min\n",
      "Training loss: 14.1962\n",
      "Validation loss: 12.1764\n",
      "\n",
      "------------------------- Epoch 29 -------------------------\n",
      ">> 1: Time per Batch  0.92s | Total expected  1.24 min | Remaining  1.22 min \n",
      ">> 10: Time per Batch  0.82s | Total expected  1.10 min | Remaining  0.97 min \n",
      ">> 20: Time per Batch  0.81s | Total expected  1.09 min | Remaining  0.82 min \n",
      ">> 30: Time per Batch  0.81s | Total expected  1.09 min | Remaining  0.69 min \n",
      ">> 40: Time per Batch  0.80s | Total expected  1.09 min | Remaining  0.55 min \n",
      ">> 50: Time per Batch  0.81s | Total expected  1.09 min | Remaining  0.42 min \n",
      ">> 60: Time per Batch  0.81s | Total expected  1.09 min | Remaining  0.28 min \n",
      ">> 70: Time per Batch  0.80s | Total expected  1.09 min | Remaining  0.15 min \n",
      ">> 80: Time per Batch  0.81s | Total expected  1.09 min | Remaining  0.01 min \n",
      ">> Epoch time: 1.09 min\n",
      "Training loss: 14.2226\n",
      "Validation loss: 12.2086\n",
      "\n",
      "------------------------- Epoch 30 -------------------------\n",
      ">> 1: Time per Batch  0.94s | Total expected  1.26 min | Remaining  1.25 min \n",
      ">> 10: Time per Batch  0.83s | Total expected  1.13 min | Remaining  0.99 min \n",
      ">> 20: Time per Batch  0.82s | Total expected  1.10 min | Remaining  0.83 min \n",
      ">> 30: Time per Batch  0.81s | Total expected  1.10 min | Remaining  0.69 min \n",
      ">> 40: Time per Batch  0.81s | Total expected  1.09 min | Remaining  0.55 min \n",
      ">> 50: Time per Batch  0.81s | Total expected  1.10 min | Remaining  0.42 min \n",
      ">> 60: Time per Batch  0.81s | Total expected  1.10 min | Remaining  0.28 min \n",
      ">> 70: Time per Batch  0.81s | Total expected  1.10 min | Remaining  0.15 min \n",
      ">> 80: Time per Batch  0.81s | Total expected  1.10 min | Remaining  0.01 min \n",
      ">> Epoch time: 1.10 min\n",
      "Training loss: 14.2152\n",
      "Validation loss: 12.1917\n",
      "\n"
     ]
    }
   ],
   "source": [
    "# Define the number of additional epochs you want to train for\n",
    "additional_epochs = 30\n",
    "\n",
    "# Continue training the model for more epochs\n",
    "new_train_loss, new_validation_loss = fit(model,\n",
    "                                          optimizer,\n",
    "                                          loss_function,\n",
    "                                          train_dataloader,\n",
    "                                          val_dataloader,\n",
    "                                          epochs=additional_epochs,\n",
    "                                          device=device)\n",
    "\n",
    "# Extend the original loss lists with the new loss values\n",
    "train_loss_list.extend(new_train_loss)\n",
    "validation_loss_list.extend(new_validation_loss)"
   ]
  },
  {
   "cell_type": "code",
   "execution_count": 34,
   "id": "3f853ce1cf82a124",
   "metadata": {
    "collapsed": false
   },
   "outputs": [
    {
     "name": "stdout",
     "output_type": "stream",
     "text": [
      "Train\n",
      " 29,1618; 27,4359; 26,0720; 24,7564; 23,5143; 22,3701; 21,3856; 20,5470; 19,7374; 19,0415; 18,3856; 17,8691; 17,2918; 16,9028; 16,4918; 16,1370; 15,8325; 15,5776; 15,3703; 15,1536; 15,0234; 14,8597; 14,7227; 14,6368; 14,5345; 14,4406; 14,4197; 14,3725; 14,3490; 14,2938; 14,2958; 14,2744; 14,2398; 14,2293; 14,2292; 14,2560; 14,1780; 14,2320; 14,2338; 14,2314; 14,2286; 14,2224; 14,1956; 14,2258; 14,2093; 14,1493; 14,1928; 14,1962; 14,2226; 14,2152\n"
     ]
    }
   ],
   "source": [
    "print(\"Train\\n\", \"; \".join([str(f\"{loss:.4f}\").replace('.', ',') for loss in train_loss_list]))"
   ]
  },
  {
   "cell_type": "code",
   "execution_count": 35,
   "id": "1d35cb0098fe9feb",
   "metadata": {
    "collapsed": false
   },
   "outputs": [
    {
     "name": "stdout",
     "output_type": "stream",
     "text": [
      "Validation\n",
      " 21,0042; 20,0076; 19,1254; 18,2824; 17,4938; 16,8795; 16,2177; 15,6584; 15,1732; 14,7639; 14,4375; 14,0260; 13,7412; 13,4712; 13,2398; 13,0406; 12,9020; 12,7412; 12,6160; 12,5313; 12,4377; 12,3704; 12,3377; 12,2841; 12,2274; 12,2310; 12,1914; 12,1949; 12,1752; 12,2052; 12,2235; 12,1835; 12,1784; 12,1311; 12,1630; 12,1747; 12,1726; 12,1953; 12,1920; 12,2000; 12,2810; 12,1976; 12,2037; 12,2027; 12,2311; 12,2388; 12,2036; 12,1764; 12,2086; 12,1917\n"
     ]
    }
   ],
   "source": [
    "print(\"Validation\\n\", \"; \".join([str(f\"{loss:.4f}\").replace('.', ',') for loss in validation_loss_list]))"
   ]
  },
  {
   "cell_type": "markdown",
   "id": "4cd1c6564934a7af",
   "metadata": {
    "collapsed": false
   },
   "source": [
    "## Training and Validation Loss Plot"
   ]
  },
  {
   "cell_type": "code",
   "execution_count": 36,
   "id": "89297cea9ea4a9c6",
   "metadata": {
    "collapsed": false
   },
   "outputs": [
    {
     "data": {
      "image/png": "[encoded data removed]",
      "text/plain": [
       "<Figure size 1000x600 with 1 Axes>"
      ]
     },
     "metadata": {},
     "output_type": "display_data"
    }
   ],
   "source": [
    "# # Plot the training and validation loss\n",
    "plt.figure(figsize=(10, 6))\n",
    "plt.plot(train_loss_list, label='Training Loss')\n",
    "plt.plot(validation_loss_list, label='Validation Loss')\n",
    "\n",
    "# Add title and labels\n",
    "plt.title('Training and Validation Loss')\n",
    "plt.xlabel('Epochs')\n",
    "plt.ylabel('Loss')\n",
    "\n",
    "# Add a legend\n",
    "plt.legend()\n",
    "\n",
    "# Show the plot\n",
    "plt.show()"
   ]
  },
  {
   "cell_type": "code",
   "execution_count": 37,
   "id": "b2098b04",
   "metadata": {},
   "outputs": [],
   "source": [
    "torch.save(model.state_dict(), \"data/models/animation_transformer.pth\")"
   ]
  },
  {
   "cell_type": "markdown",
   "id": "cdbeac949784565",
   "metadata": {
    "collapsed": false
   },
   "source": [
    "# Prediction"
   ]
  },
  {
   "cell_type": "code",
   "execution_count": null,
   "id": "f3c8452421fbb912",
   "metadata": {
    "collapsed": false
   },
   "outputs": [],
   "source": [
    "# Sequences with long input\n",
    "test_sequence_input[30, :, 0] # 50, 10, 220, 222, 600"
   ]
  },
  {
   "cell_type": "code",
   "execution_count": null,
   "id": "b89e04b3d1425a49",
   "metadata": {
    "collapsed": false
   },
   "outputs": [],
   "source": [
    "# check sequence length / embedding\n",
    "print(test_sequence_output[20, :, -26:])\n",
    "print(test_sequence_input [20, :, -26:])"
   ]
  },
  {
   "cell_type": "code",
   "execution_count": null,
   "id": "a3a328c640894ee5",
   "metadata": {
    "collapsed": false
   },
   "outputs": [],
   "source": [
    "# Create a tensor of zeros with 270 elements\n",
    "sos_token = torch.zeros(282)\n",
    "# Set the value at the 256 index to 1\n",
    "sos_token[256] = 1"
   ]
  },
  {
   "cell_type": "code",
   "execution_count": null,
   "id": "b1275cdf2526d3d2",
   "metadata": {
    "collapsed": false
   },
   "outputs": [],
   "source": [
    "from AnimationTransformer import predict\n",
    "\n",
    "result = predict(model, test_sequence_input[10], sos_token=sos_token, device=device, max_length=10, eos_scaling=0.01)\n",
    "print(result, result.shape)"
   ]
  },
  {
   "cell_type": "code",
   "execution_count": null,
   "id": "0a4c7e14",
   "metadata": {},
   "outputs": [],
   "source": [
    "import pandas as pd\n",
    "result = result.cpu()\n",
    "model_parameters = result[:,-26:].detach().numpy()\n",
    "print(model_parameters, model_parameters.shape)\n",
    "\n",
    "model_parameters = pd.DataFrame(model_parameters)\n",
    "model_parameters[\"model_output\"] = model_parameters.apply(lambda row: row.tolist(), axis=1)\n",
    "\n",
    "# Apply the custom function to the \"model_output\" column\n",
    "model_parameters = model_parameters[['model_output']]\n",
    "\n",
    "model_parameters[\"animation_id\"] = range(0, len(model_parameters))\n",
    "print(model_parameters, model_parameters.shape)\n",
    "from src.postprocessing.postprocessing import animate_logo\n",
    "\n",
    "animate_logo(model_parameters, \"data/1_inserted_animation_id/logo_104.svg\")"
   ]
  },
  {
   "cell_type": "markdown",
   "id": "785899ffda9c61f8",
   "metadata": {
    "collapsed": false
   },
   "source": [
    "# Hyperparameter Tuning"
   ]
  },
  {
   "cell_type": "code",
   "execution_count": null,
   "id": "84ac116ba60f873a",
   "metadata": {
    "collapsed": false
   },
   "outputs": [],
   "source": [
    "from AnimationTransformer import validation_loop, train_loop\n",
    "import optuna\n",
    "from torch.utils.data import DataLoader\n",
    "\n",
    "MAX_EPOCHS = 20\n",
    "\n",
    "def objective(trial):\n",
    "    # Define the hyperparameter search space\n",
    "    learning_rate = trial.suggest_float('learning_rate', 1e-4, 1e-2, log=True)\n",
    "    num_encoder_layers = trial.suggest_categorical('num_encoder_layers', [2, 4, 6, 8])\n",
    "    num_decoder_layers = trial.suggest_categorical('num_decoder_layers', [4, 6, 8, 10])\n",
    "    # batch_size = trial.suggest_categorical('batch_size', [64])\n",
    "    num_heads = trial.suggest_categorical('num_heads', [ 3, 6, 47, 94])\n",
    "    dropout = trial.suggest_float('dropout', 0.1, 0.2)\n",
    "    use_positional_encoder = trial.suggest_categorical('pos_encoder_max_len', [True, False])\n",
    "    \n",
    "    print(f'Parameters selected')\n",
    "    print(f'num_encoder_layers; num_decoder_layers; learning_rate; num_heads; use_positional_encoder; dropout')\n",
    "    print(f'{num_encoder_layers}; {num_decoder_layers}; {learning_rate}; {num_heads}; {use_positional_encoder}; {dropout}'.replace('.', ','))\n",
    "    \n",
    "    # Instantiate the model with suggested hyperparameters\n",
    "    model = AnimationTransformer(\n",
    "        dim_model=FEATURE_DIM,\n",
    "        num_heads=num_heads,\n",
    "        num_encoder_layers=num_encoder_layers,\n",
    "        num_decoder_layers=num_decoder_layers,\n",
    "        dropout_p=dropout,\n",
    "        use_positional_encoder=use_positional_encoder\n",
    "    ).to(device)\n",
    "        \n",
    "    optimizer = torch.optim.Adam(model.parameters(), lr=learning_rate)\n",
    "    train_loss_list, validation_loss_list = [], []\n",
    "\n",
    "    validation_loss = -1\n",
    "    # Training loop with early stopping, validation, etc.\n",
    "    for epoch in range(MAX_EPOCHS):\n",
    "        print(f' =========== EPOCH {epoch} ===========')\n",
    "        \n",
    "        train_loss = train_loop(model, optimizer, loss_function, train_dataloader, device)\n",
    "        train_loss_list += [train_loss]\n",
    "\n",
    "        validation_loss = validation_loop(model, loss_function, val_dataloader, device)\n",
    "        validation_loss_list += [validation_loss]\n",
    "        \n",
    "        print(f'Train Loss: {train_loss:.4f}, Validation Loss: {validation_loss:.4f}')\n",
    "        \n",
    "        # Report the validation loss to Optuna\n",
    "        trial.report(validation_loss, epoch)\n",
    "        \n",
    "        # Implement early stopping logic\n",
    "        if trial.should_prune():\n",
    "            raise optuna.exceptions.TrialPruned()\n",
    "    \n",
    "    print(f'Best validation loss: {validation_loss}')\n",
    "    print(f'num_encoder_layers; num_decoder_layers; learning_rate; num_heads; use_positional_encoder; dropout;')\n",
    "    print(f'{num_encoder_layers}; {num_decoder_layers}; {learning_rate:.8f}; {num_heads}; {use_positional_encoder}; {dropout:.8f}; Validation; '.replace('.', ','),\n",
    "          \"; \".join([str(f\"{loss:.4f}\").replace('.', ',') for loss in validation_loss_list]))\n",
    "    print(f' ; ; ; ; ; Train; ',\n",
    "          \"; \".join([str(f\"{loss:.4f}\").replace('.', ',') for loss in train_loss_list]))\n",
    "    \n",
    "    return validation_loss"
   ]
  },
  {
   "cell_type": "markdown",
   "id": "42ec6f9ac58486db",
   "metadata": {
    "collapsed": false
   },
   "source": [
    "Used:\n",
    "- pick_and_animate_from_8     First Run\n",
    "- pick_and_animate_from_8_v3  First Main Run"
   ]
  },
  {
   "cell_type": "code",
   "execution_count": null,
   "id": "f02c795e29038042",
   "metadata": {
    "collapsed": false
   },
   "outputs": [],
   "source": [
    "my_study = optuna.create_study(\n",
    "    direction='minimize',\n",
    "    study_name='FinalTransformer', # IMPORTANT: Chance Name when new Dataset\n",
    "    storage='sqlite:///animate_svg_optuna.db',\n",
    "    load_if_exists=True\n",
    ")"
   ]
  },
  {
   "cell_type": "code",
   "execution_count": null,
   "id": "a13f41c46488c115",
   "metadata": {
    "collapsed": false
   },
   "outputs": [],
   "source": [
    "#study = optuna.create_study(direction='minimize')\n",
    "my_study.optimize(objective, n_trials=200)"
   ]
  },
  {
   "cell_type": "code",
   "execution_count": null,
   "id": "9b68b3288e88b82c",
   "metadata": {
    "collapsed": false
   },
   "outputs": [],
   "source": [
    "print(\"Best trial:\")\n",
    "trial = my_study.best_trial\n",
    "print(f\"  Value: {trial.value}\")\n",
    "print(\"  Params: \")\n",
    "for key, value in trial.params.items():\n",
    "    print(f\"    {key}: {value}\")"
   ]
  },
  {
   "cell_type": "code",
   "execution_count": null,
   "id": "4b4454b71fe58709",
   "metadata": {
    "collapsed": false
   },
   "outputs": [],
   "source": [
    "from optuna.visualization import plot_optimization_history, plot_param_importances\n",
    "\n",
    "plot_optimization_history(my_study)"
   ]
  },
  {
   "cell_type": "code",
   "execution_count": null,
   "id": "af745d741c9f91e8",
   "metadata": {
    "collapsed": false
   },
   "outputs": [],
   "source": [
    "plot_param_importances(my_study)"
   ]
  },
  {
   "cell_type": "code",
   "execution_count": null,
   "id": "5f9536888eb5d9ac",
   "metadata": {
    "collapsed": false
   },
   "outputs": [],
   "source": [
    "from optuna.visualization import plot_slice\n",
    "\n",
    "plot_slice(my_study)"
   ]
  },
  {
   "cell_type": "code",
   "execution_count": null,
   "id": "223b93522b8685dc",
   "metadata": {
    "collapsed": false
   },
   "outputs": [],
   "source": [
    "from optuna.visualization import plot_timeline\n",
    "\n",
    "plot_timeline(my_study)"
   ]
  },
  {
   "cell_type": "markdown",
   "id": "eed50888",
   "metadata": {},
   "source": [
    "## Reinforcement"
   ]
  },
  {
   "cell_type": "code",
   "execution_count": null,
   "id": "34e109bb",
   "metadata": {},
   "outputs": [],
   "source": [
    "#REWARDFUNCTIONTEST\n",
    "\n",
    "from transformer_for_reward_function import RewardTransformer\n",
    "\n",
    "inputdata = torch.cat([train_sequence_output, test_sequence_output], dim=0).to(device)\n",
    "\n",
    "reward = RewardTransformer(\n",
    "            dim_model=282,\n",
    "            num_heads=6,\n",
    "            num_encoder_layers=8,\n",
    "            num_decoder_layers=8,\n",
    "            dropout_p=0.1,\n",
    "            num_tokens=inputdata[0:1,:,:].shape[1]).to(device)\n",
    "        \n",
    "reward.load_state_dict(torch.load(\"data/models/reward_function_mode_state_dict_4.pth\"))\n",
    "reward.eval()\n",
    "pred = reward(inputdata[1:2,:,:], inputdata[2:3,:,:])\n",
    "print(pred, pred.shape)\n",
    "\n",
    "import gym\n",
    "from gym import spaces\n",
    "print(spaces.Box(low=0, high=1, shape=(100, 10), dtype=int).sample())"
   ]
  },
  {
   "cell_type": "code",
   "execution_count": null,
   "id": "073e9de9",
   "metadata": {},
   "outputs": [],
   "source": [
    "import gym\n",
    "from gym import spaces\n",
    "import numpy as np\n",
    "import random\n",
    "from transformer_for_reward_function import RewardTransformer\n",
    "\n",
    "test = torch.tensor(0)\n",
    "\n",
    "class CustomEnv(gym.Env):\n",
    "    def __init__(self, startingState : torch.tensor):\n",
    "        super(CustomEnv, self).__init__()\n",
    "\n",
    "        # Define your action and observation space\n",
    "        self.action_space = spaces.Discrete(10)\n",
    "\n",
    "        # Example: 6-dimensional observation space represented by a Box\n",
    "        self.observation_space = startingState.to(device)\n",
    "\n",
    "        self.rewardList = []\n",
    "\n",
    "        # Define any other environment parameters\n",
    "        self.max_steps = 1\n",
    "        self.current_step = 0\n",
    "\n",
    "        self.reward = RewardTransformer(\n",
    "            dim_model=282,\n",
    "            num_heads=6,\n",
    "            num_encoder_layers=8,\n",
    "            num_decoder_layers=8,\n",
    "            dropout_p=0.1,\n",
    "            num_tokens=startingState.shape[1]).to(device)\n",
    "        \n",
    "        self.reward.load_state_dict(torch.load(\"data/models/reward_function_mode_state_dict_4.pth\"))\n",
    "        \n",
    "\n",
    "    def reset(self, startingState : torch.tensor):\n",
    "        # Reset the environment to its initial state\n",
    "        self.current_step = 0\n",
    "        self.observation_space = startingState\n",
    "        # Return the initial observation\n",
    "        return self.observation_space.to(device)\n",
    "\n",
    "    def step(self, action, reward):\n",
    "        ##### STATE = APPLY ACTION TO OBSERVATION #####\n",
    "        state = torch.squeeze(action)\n",
    "        \n",
    "        self.rewardList.append(reward)\n",
    "        \n",
    "        done = self.current_step >= self.max_steps\n",
    "        self.current_step += 1\n",
    "        return state.to(device), reward, done\n",
    "\n",
    "\n",
    "\n",
    "class Agent:\n",
    "    def __init__(self, input : torch.tensor, env : CustomEnv):\n",
    "\n",
    "        self.input = input\n",
    "        self.X = input[0].to(device)\n",
    "        #self.y = self.randomAnimation(self.X).to(device)\n",
    "\n",
    "        self.currentLogo = 0\n",
    "\n",
    "        self.epsilon = 0.8\n",
    "\n",
    "        self.model = AnimationTransformer(\n",
    "            dim_model=FEATURE_DIM,\n",
    "            num_heads=NUM_HEADS,\n",
    "            num_encoder_layers=NUM_ENCODER_LAYERS,\n",
    "            num_decoder_layers=NUM_DECODER_LAYERS,\n",
    "            dropout_p=DROPOUT,\n",
    "            use_positional_encoder=True\n",
    "        ).to(device)\n",
    "        \n",
    "        self.model = model\n",
    "        \n",
    "        self.opt = torch.optim.Adam(model.parameters(), lr=LEARNING_RATE)\n",
    "        self.loss_fn = CustomEmbeddingSliceLoss()\n",
    "\n",
    "        self.total_loss = 0\n",
    "\n",
    "        self.env = env\n",
    "    \n",
    "    def randomAnimation(self, t : torch.tensor):\n",
    "        #print(t.shape)\n",
    "        for i in range(t.shape[0]):\n",
    "            for j in range(t.shape[1]):\n",
    "                type = random.randint(0,10)\n",
    "                if t[i,j,256+type] != .100:\n",
    "                    t[i,j,256+type] = 1\n",
    "                    for d in range (266, 282):\n",
    "                        t[i,j,d] = random.random()\n",
    "        return t.to(device)\n",
    "    \n",
    "    def trainStep(self):\n",
    "        print(\"X: \",self.X, self.X.shape)\n",
    "        # Create a tensor of zeros with 270 elements\n",
    "        sos_token = torch.zeros(282).to(device)\n",
    "        # Set the value at the 256 index to 1\n",
    "        sos_token[256] = 1\n",
    "        \n",
    "        self.y = predict(self.model, self.X, sos_token=sos_token, device=device, max_length=10, eos_scaling=0.01, backpropagate=True, showResult=False).to(device)\n",
    "        \n",
    "        return torch.unsqueeze(self.y, dim=0).to(device)\n",
    "    \n",
    "    def chooseAction(self, pred : torch.tensor):\n",
    "        \n",
    "        print(\"choose action for:\", pred, pred.shape, type(pred))\n",
    "\n",
    "        possibleSteps = []\n",
    "        possibleStepsRewards = []\n",
    "\n",
    "        for path in range(pred.shape[1]):\n",
    "            for step in range(10):\n",
    "                next = pred \n",
    "                t = np.zeros(10, dtype=int)\n",
    "                t[step] = 1\n",
    "                #print(next[:, path, :], next[:, path, 256:266])\n",
    "                next[:, path, 256:266] = torch.tensor(t)\n",
    "                reward = self.env.reward(pred, next)[0,0,0]\n",
    "                possibleSteps.append(next.to(device))\n",
    "                possibleStepsRewards.append(reward.item())\n",
    "\n",
    "        q = random.random()\n",
    "\n",
    "        if q > self.epsilon:\n",
    "            print(\"explore\")\n",
    "            idx = random.randint(0,len(possibleSteps)-1)\n",
    "        else:\n",
    "            print(\"exploit\")\n",
    "            idx = possibleStepsRewards.index(max(possibleStepsRewards))\n",
    "\n",
    "        action = possibleSteps[idx]\n",
    "        reward = possibleStepsRewards[idx]\n",
    "        print(\"action\", action, action.shape, \"reward\", reward)\n",
    "        return action, reward\n",
    "\n",
    "    def nextLogo(self):\n",
    "        self.X = self.input[self.currentLogo+1].to(device)\n",
    "        #self.y = self.randomAnimation(self.X).to(device)\n",
    "\n",
    "        self.currentLogo = self.currentLogo+1\n",
    "    \n",
    "\n",
    "\n",
    "def reinforce():\n",
    "\n",
    "    env = CustomEnv(inputdata[0:1, :, :])\n",
    "    agent = Agent(inputdata, env)\n",
    "\n",
    "    totalReward = 0\n",
    "    for i in range(1, inputdata.shape[0]):\n",
    "        \n",
    "        print(i)\n",
    "        observation = env.reset(inputdata[i-1:i, :, :])\n",
    "\n",
    "        done = False\n",
    "        while not done:\n",
    "                \n",
    "            current = agent.trainStep()\n",
    "            action, reward = agent.chooseAction(current)\n",
    "\n",
    "            state, reward, done = env.step(action, reward)\n",
    "            print(state.shape)\n",
    "            agent.X = state\n",
    "            totalReward += reward\n",
    "\n",
    "        agent.nextLogo()\n",
    "\n",
    "inputdata = torch.cat([train_sequence_output, test_sequence_output], dim=0).to(device)\n",
    "#print(inputdata, inputdata.shape)\n",
    "reinforce()\n",
    "    \n"
   ]
  },
  {
   "cell_type": "markdown",
   "id": "e2eec347",
   "metadata": {},
   "source": [
    "## Animation Creation"
   ]
  },
  {
   "cell_type": "markdown",
   "id": "1d5c0bf1",
   "metadata": {},
   "source": []
  }
 ],
 "metadata": {
  "kernelspec": {
   "display_name": "Python 3",
   "language": "python",
   "name": "python3"
  },
  "language_info": {
   "codemirror_mode": {
    "name": "ipython",
    "version": 3
   },
   "file_extension": ".py",
   "mimetype": "text/x-python",
   "name": "python",
   "nbconvert_exporter": "python",
   "pygments_lexer": "ipython3",
   "version": "3.9.18"
  }
 },
 "nbformat": 4,
 "nbformat_minor": 5
}
