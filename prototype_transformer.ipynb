{
 "cells": [
  {
   "cell_type": "markdown",
   "source": [
    "# Transformer Application"
   ],
   "metadata": {
    "collapsed": false
   },
   "id": "785e23fb7a10fac6"
  },
  {
   "cell_type": "markdown",
   "source": [
    "## Configuration"
   ],
   "metadata": {
    "collapsed": false
   },
   "id": "252ba02f4cf97389"
  },
  {
   "cell_type": "markdown",
   "source": [
    "### Hyperparameters"
   ],
   "metadata": {
    "collapsed": false
   },
   "id": "c2c03b7821046028"
  },
  {
   "cell_type": "code",
   "outputs": [],
   "source": [
    "import torch.nn as nn\n",
    "\n",
    "# HYPERPARAMETERS\n",
    "BATCH_SIZE = 32\n",
    "LEARNING_RATE = 0.01\n",
    "\n",
    "#transformer\n",
    "NUM_HEADS = 1 #TODO should be larger\n",
    "NUM_ENCODER_LAYERS = 8\n",
    "NUM_DECODER_LAYERS = 8\n",
    "DROPOUT=0.1\n",
    "\n",
    "# Methods\n",
    "# - Optimizer SGD\n",
    "loss_function = nn.MSELoss()  #TODO Manual Loss"
   ],
   "metadata": {
    "collapsed": false
   },
   "id": "508e547be8863b4c",
   "execution_count": null
  },
  {
   "cell_type": "markdown",
   "source": [
    "### Constants"
   ],
   "metadata": {
    "collapsed": false
   },
   "id": "38275f8024e6a423"
  },
  {
   "cell_type": "code",
   "outputs": [],
   "source": [
    "# CONSTANTS\n",
    "FEATURE_DIM = 269 #TODO This is a prime number, that is infeasible for Multi-Head-Attention"
   ],
   "metadata": {
    "collapsed": false
   },
   "id": "acf2a0f340d6c6fc",
   "execution_count": null
  },
  {
   "cell_type": "markdown",
   "source": [
    "## Load Prepared Tensors from Disk\n",
    "Run file `prototype_dataset.ipynb` first"
   ],
   "metadata": {
    "collapsed": false
   },
   "id": "e0797527f3ff4a27"
  },
  {
   "cell_type": "code",
   "outputs": [],
   "source": [
    "import torch\n",
    "\n",
    "train_sequence_input = torch.load('data/prototype_dataset/train_sequence_input.pt')\n",
    "train_sequence_output = torch.load('data/prototype_dataset/train_sequence_output.pt')\n",
    "test_sequence_input = torch.load('data/prototype_dataset/test_sequence_input.pt')\n",
    "test_sequence_output = torch.load('data/prototype_dataset/test_sequence_output.pt')"
   ],
   "metadata": {
    "collapsed": false
   },
   "id": "ee9854fe06e9ade1",
   "execution_count": null
  },
  {
   "cell_type": "markdown",
   "source": [
    "## Build Dataloader with Batches"
   ],
   "metadata": {
    "collapsed": false
   },
   "id": "78852276c50093a0"
  },
  {
   "cell_type": "code",
   "execution_count": null,
   "id": "initial_id",
   "metadata": {
    "collapsed": true
   },
   "outputs": [],
   "source": [
    "from torch.utils.data import DataLoader, TensorDataset\n",
    "\n",
    "train_dataloader = DataLoader(TensorDataset(train_sequence_input.float(), train_sequence_output.float()),\n",
    "                              batch_size=BATCH_SIZE,\n",
    "                              shuffle=True,\n",
    "                              drop_last=True)\n",
    "val_dataloader = DataLoader(TensorDataset(test_sequence_input.float(), test_sequence_output.float()),\n",
    "                            batch_size=BATCH_SIZE,\n",
    "                            shuffle=False,\n",
    "                            drop_last=True)"
   ]
  },
  {
   "cell_type": "markdown",
   "source": [
    "## Initialize"
   ],
   "metadata": {
    "collapsed": false
   },
   "id": "524ec1a0c79dbc2a"
  },
  {
   "cell_type": "code",
   "outputs": [],
   "source": [
    "# Enable anomaly detection\n",
    "torch.autograd.set_detect_anomaly(True)\n",
    "torch.__version__"
   ],
   "metadata": {
    "collapsed": false
   },
   "id": "56536a90ec7c6586",
   "execution_count": null
  },
  {
   "cell_type": "code",
   "outputs": [],
   "source": [
    "device = torch.device(\"cuda:0\" if torch.cuda.is_available() else \"cpu\")\n",
    "#device = \"cpu\"\n",
    "print(device)"
   ],
   "metadata": {
    "collapsed": false
   },
   "id": "db497beac7ffd3bb",
   "execution_count": null
  },
  {
   "cell_type": "code",
   "outputs": [],
   "source": [
    "from torch import nn\n",
    "from AnimationTransformer import AnimationTransformer\n",
    "\n",
    "model = AnimationTransformer(\n",
    "    dim_model=FEATURE_DIM,\n",
    "    num_heads=NUM_HEADS,\n",
    "    num_encoder_layers=NUM_ENCODER_LAYERS,\n",
    "    num_decoder_layers=NUM_DECODER_LAYERS,\n",
    "    dropout_p=DROPOUT\n",
    ").to(device)\n",
    "\n",
    "optimizer = torch.optim.SGD(model.parameters(), lr=LEARNING_RATE)"
   ],
   "metadata": {
    "collapsed": false
   },
   "id": "cf1dff2a6bc96474",
   "execution_count": null
  },
  {
   "cell_type": "markdown",
   "source": [
    "## Training"
   ],
   "metadata": {
    "collapsed": false
   },
   "id": "274e011ea2a897aa"
  },
  {
   "cell_type": "code",
   "outputs": [],
   "source": [
    "from AnimationTransformer import fit\n",
    "\n",
    "train_loss_list, validation_loss_list = fit(model,\n",
    "                                            optimizer,\n",
    "                                            loss_function,\n",
    "                                            train_dataloader,\n",
    "                                            val_dataloader,\n",
    "                                            epochs=5,\n",
    "                                            device=device)"
   ],
   "metadata": {
    "collapsed": false
   },
   "id": "504fb525334cb368"
  }
 ],
 "metadata": {
  "kernelspec": {
   "display_name": "Python 3",
   "language": "python",
   "name": "python3"
  },
  "language_info": {
   "codemirror_mode": {
    "name": "ipython",
    "version": 2
   },
   "file_extension": ".py",
   "mimetype": "text/x-python",
   "name": "python",
   "nbconvert_exporter": "python",
   "pygments_lexer": "ipython2",
   "version": "2.7.6"
  }
 },
 "nbformat": 4,
 "nbformat_minor": 5
}
