{
 "cells": [
  {
   "cell_type": "markdown",
   "id": "785e23fb7a10fac6",
   "metadata": {
    "collapsed": false
   },
   "source": [
    "# Transformer Application"
   ]
  },
  {
   "cell_type": "markdown",
   "id": "252ba02f4cf97389",
   "metadata": {
    "collapsed": false
   },
   "source": [
    "## Configuration"
   ]
  },
  {
   "cell_type": "markdown",
   "id": "c2c03b7821046028",
   "metadata": {
    "collapsed": false
   },
   "source": [
    "### Hyperparameters"
   ]
  },
  {
   "cell_type": "code",
   "execution_count": 2,
   "id": "508e547be8863b4c",
   "metadata": {
    "collapsed": false
   },
   "outputs": [],
   "source": [
    "from CustomLoss import CustomEmbeddingSliceLoss\n",
    "import torch.nn as nn\n",
    "import matplotlib.pyplot as plt\n",
    "\n",
    "# HYPERPARAMETERS\n",
    "BATCH_SIZE = 32\n",
    "LEARNING_RATE = 0.0005\n",
    "\n",
    "#transformer\n",
    "NUM_HEADS = 6 # Dividers of 170: {1; 2; 3; 5; 6; 9; 10; 15; 18; 27; 30; 45; 54; 90; 135; 270}\n",
    "NUM_ENCODER_LAYERS = 8\n",
    "NUM_DECODER_LAYERS = 8\n",
    "DROPOUT=0.25\n",
    "\n",
    "# Methods\n",
    "loss_function = CustomEmbeddingSliceLoss()"
   ]
  },
  {
   "cell_type": "markdown",
   "id": "38275f8024e6a423",
   "metadata": {
    "collapsed": false
   },
   "source": [
    "### Constants"
   ]
  },
  {
   "cell_type": "code",
   "execution_count": 3,
   "id": "acf2a0f340d6c6fc",
   "metadata": {
    "collapsed": false
   },
   "outputs": [],
   "source": [
    "# CONSTANTS\n",
    "FEATURE_DIM = 282"
   ]
  },
  {
   "cell_type": "markdown",
   "id": "e0797527f3ff4a27",
   "metadata": {
    "collapsed": false
   },
   "source": [
    "## Load Prepared Tensors from Disk\n",
    "Run file `prototype_dataset.ipynb` first"
   ]
  },
  {
   "cell_type": "code",
   "execution_count": 4,
   "id": "ee9854fe06e9ade1",
   "metadata": {
    "collapsed": false
   },
   "outputs": [],
   "source": [
    "import torch\n",
    "\n",
    "train_sequence_input = torch.load('data/prototype_dataset/train_sequence_input.pt')\n",
    "train_sequence_output = torch.load('data/prototype_dataset/train_sequence_output.pt')\n",
    "test_sequence_input = torch.load('data/prototype_dataset/test_sequence_input.pt')\n",
    "test_sequence_output = torch.load('data/prototype_dataset/test_sequence_output.pt')"
   ]
  },
  {
   "cell_type": "code",
   "execution_count": 5,
   "id": "d4a0db6b3ad420b6",
   "metadata": {
    "collapsed": false
   },
   "outputs": [],
   "source": [
    "from dataset_helper import warn_if_contains_NaN\n",
    "\n",
    "warn_if_contains_NaN(train_sequence_input)\n",
    "warn_if_contains_NaN(train_sequence_output)\n",
    "warn_if_contains_NaN(test_sequence_input)\n",
    "warn_if_contains_NaN(test_sequence_output)"
   ]
  },
  {
   "cell_type": "code",
   "execution_count": 6,
   "id": "29c9d0622c6c09e8",
   "metadata": {
    "collapsed": false
   },
   "outputs": [
    {
     "name": "stdout",
     "output_type": "stream",
     "text": [
      "torch.Size([294, 100, 282])\n",
      "torch.Size([294, 100, 282])\n",
      "torch.Size([66, 100, 282])\n",
      "torch.Size([66, 100, 282])\n"
     ]
    }
   ],
   "source": [
    "print(train_sequence_input.size())\n",
    "print(train_sequence_output.size())\n",
    "print(test_sequence_input.size())\n",
    "print(test_sequence_output.size())"
   ]
  },
  {
   "cell_type": "markdown",
   "id": "78852276c50093a0",
   "metadata": {
    "collapsed": false
   },
   "source": [
    "## Build Dataloader with Batches"
   ]
  },
  {
   "cell_type": "code",
   "execution_count": 7,
   "id": "initial_id",
   "metadata": {
    "collapsed": true
   },
   "outputs": [],
   "source": [
    "from torch.utils.data import DataLoader, TensorDataset\n",
    "\n",
    "train_dataloader = DataLoader(TensorDataset(train_sequence_input.float(), train_sequence_output.float()),\n",
    "                              batch_size=BATCH_SIZE,\n",
    "                              shuffle=True,\n",
    "                              drop_last=True)\n",
    "val_dataloader = DataLoader(TensorDataset(test_sequence_input.float(), test_sequence_output.float()),\n",
    "                            batch_size=BATCH_SIZE,\n",
    "                            shuffle=False,\n",
    "                            drop_last=True)"
   ]
  },
  {
   "cell_type": "code",
   "execution_count": 8,
   "id": "9c6d2274b93cd09",
   "metadata": {
    "collapsed": false
   },
   "outputs": [
    {
     "data": {
      "text/plain": [
       "9"
      ]
     },
     "execution_count": 8,
     "metadata": {},
     "output_type": "execute_result"
    }
   ],
   "source": [
    "len(train_dataloader)"
   ]
  },
  {
   "cell_type": "markdown",
   "id": "524ec1a0c79dbc2a",
   "metadata": {
    "collapsed": false
   },
   "source": [
    "## Initialize"
   ]
  },
  {
   "cell_type": "code",
   "execution_count": 9,
   "id": "56536a90ec7c6586",
   "metadata": {
    "collapsed": false
   },
   "outputs": [
    {
     "data": {
      "text/plain": [
       "'2.1.1'"
      ]
     },
     "execution_count": 9,
     "metadata": {},
     "output_type": "execute_result"
    }
   ],
   "source": [
    "# Enable anomaly detection\n",
    "torch.autograd.set_detect_anomaly(True)\n",
    "torch.__version__"
   ]
  },
  {
   "cell_type": "code",
   "execution_count": 10,
   "id": "db497beac7ffd3bb",
   "metadata": {
    "collapsed": false
   },
   "outputs": [
    {
     "name": "stdout",
     "output_type": "stream",
     "text": [
      "cuda:0\n"
     ]
    }
   ],
   "source": [
    "device = torch.device(\"cuda:0\" if torch.cuda.is_available() else \"cpu\")\n",
    "#device = \"cpu\"\n",
    "print(device)"
   ]
  },
  {
   "cell_type": "code",
   "execution_count": 11,
   "id": "cf1dff2a6bc96474",
   "metadata": {
    "collapsed": false
   },
   "outputs": [
    {
     "name": "stdout",
     "output_type": "stream",
     "text": [
      "The model has 26203496 trainable parameters\n"
     ]
    }
   ],
   "source": [
    "from torch import nn\n",
    "from AnimationTransformer import AnimationTransformer\n",
    "\n",
    "model = AnimationTransformer(\n",
    "    dim_model=FEATURE_DIM,\n",
    "    num_heads=NUM_HEADS,\n",
    "    num_encoder_layers=NUM_ENCODER_LAYERS,\n",
    "    num_decoder_layers=NUM_DECODER_LAYERS,\n",
    "    dropout_p=DROPOUT,\n",
    "    use_positional_encoder=True\n",
    ").to(device)\n",
    "\n",
    "# optimizer = torch.optim.SGD(model.parameters(), lr=LEARNING_RATE)\n",
    "optimizer = torch.optim.Adam(model.parameters(), lr=LEARNING_RATE)\n",
    "\n",
    "total_param = sum(p.numel() for p in model.parameters())\n",
    "print(f\"The model has {total_param} trainable parameters\")"
   ]
  },
  {
   "cell_type": "markdown",
   "id": "274e011ea2a897aa",
   "metadata": {
    "collapsed": false
   },
   "source": [
    "## Training"
   ]
  },
  {
   "cell_type": "code",
   "execution_count": 12,
   "id": "504fb525334cb368",
   "metadata": {
    "collapsed": false
   },
   "outputs": [
    {
     "name": "stdout",
     "output_type": "stream",
     "text": [
      "Training and validating model\n",
      "------------------------- Epoch 1 -------------------------\n"
     ]
    },
    {
     "name": "stderr",
     "output_type": "stream",
     "text": [
      "c:\\Users\\okan2\\anaconda3\\envs\\animationSVG\\lib\\site-packages\\torch\\nn\\functional.py:5076: UserWarning: Support for mismatched key_padding_mask and attn_mask is deprecated. Use same type for both instead.\n",
      "  warnings.warn(\n"
     ]
    },
    {
     "name": "stdout",
     "output_type": "stream",
     "text": [
      ">> 1: Time per Batch  1.56s | Total expected  0.23 min | Remaining  0.21 min \n",
      ">> Epoch time: 0.18 min\n"
     ]
    },
    {
     "name": "stderr",
     "output_type": "stream",
     "text": [
      "c:\\Users\\okan2\\anaconda3\\envs\\animationSVG\\lib\\site-packages\\torch\\nn\\modules\\transformer.py:380: UserWarning: The PyTorch API of nested tensors is in prototype stage and will change in the near future. (Triggered internally at C:\\cb\\pytorch_1000000000000\\work\\aten\\src\\ATen\\NestedTensorImpl.cpp:180.)\n",
      "  output = torch._nested_tensor_from_mask(output, src_key_padding_mask.logical_not(), mask_check=False)\n"
     ]
    },
    {
     "name": "stdout",
     "output_type": "stream",
     "text": [
      "Training loss: 18.1837\n",
      "Validation loss: 14.9766\n",
      "\n",
      "------------------------- Epoch 2 -------------------------\n",
      ">> 1: Time per Batch  1.20s | Total expected  0.18 min | Remaining  0.16 min \n",
      ">> Epoch time: 0.17 min\n",
      "Training loss: 17.2821\n",
      "Validation loss: 14.8866\n",
      "\n"
     ]
    }
   ],
   "source": [
    "from AnimationTransformer import fit\n",
    "\n",
    "train_loss_list, validation_loss_list = fit(model,\n",
    "                                            optimizer,\n",
    "                                            loss_function,\n",
    "                                            train_dataloader,\n",
    "                                            val_dataloader,\n",
    "                                            epochs=2,\n",
    "                                            device=device)"
   ]
  },
  {
   "cell_type": "code",
   "execution_count": 13,
   "id": "4c920a75e5f59950",
   "metadata": {
    "collapsed": false
   },
   "outputs": [
    {
     "name": "stdout",
     "output_type": "stream",
     "text": [
      "Training and validating model\n",
      "------------------------- Epoch 1 -------------------------\n",
      ">> 1: Time per Batch  1.23s | Total expected  0.18 min | Remaining  0.16 min \n",
      ">> Epoch time: 0.17 min\n",
      "Training loss: 17.7498\n",
      "Validation loss: 14.8354\n",
      "\n",
      "------------------------- Epoch 2 -------------------------\n",
      ">> 1: Time per Batch  1.25s | Total expected  0.19 min | Remaining  0.17 min \n",
      ">> Epoch time: 0.17 min\n",
      "Training loss: 17.5827\n",
      "Validation loss: 14.8297\n",
      "\n"
     ]
    }
   ],
   "source": [
    "# Define the number of additional epochs you want to train for\n",
    "additional_epochs = 2\n",
    "\n",
    "# Continue training the model for more epochs\n",
    "new_train_loss, new_validation_loss = fit(model,\n",
    "                                          optimizer,\n",
    "                                          loss_function,\n",
    "                                          train_dataloader,\n",
    "                                          val_dataloader,\n",
    "                                          epochs=additional_epochs,\n",
    "                                          device=device)\n",
    "\n",
    "# Extend the original loss lists with the new loss values\n",
    "train_loss_list.extend(new_train_loss)\n",
    "validation_loss_list.extend(new_validation_loss)"
   ]
  },
  {
   "cell_type": "code",
   "execution_count": 14,
   "id": "3f853ce1cf82a124",
   "metadata": {
    "collapsed": false
   },
   "outputs": [
    {
     "name": "stdout",
     "output_type": "stream",
     "text": [
      "Train\n",
      " 18,1837; 17,2821; 17,7498; 17,5827\n"
     ]
    }
   ],
   "source": [
    "print(\"Train\\n\", \"; \".join([str(f\"{loss:.4f}\").replace('.', ',') for loss in train_loss_list]))"
   ]
  },
  {
   "cell_type": "code",
   "execution_count": 15,
   "id": "1d35cb0098fe9feb",
   "metadata": {
    "collapsed": false
   },
   "outputs": [
    {
     "name": "stdout",
     "output_type": "stream",
     "text": [
      "Validation\n",
      " 14,9766; 14,8866; 14,8354; 14,8297\n"
     ]
    }
   ],
   "source": [
    "print(\"Validation\\n\", \"; \".join([str(f\"{loss:.4f}\").replace('.', ',') for loss in validation_loss_list]))"
   ]
  },
  {
   "cell_type": "markdown",
   "id": "4cd1c6564934a7af",
   "metadata": {
    "collapsed": false
   },
   "source": [
    "## Training and Validation Loss Plot"
   ]
  },
  {
   "cell_type": "code",
   "execution_count": 16,
   "id": "89297cea9ea4a9c6",
   "metadata": {
    "collapsed": false
   },
   "outputs": [
    {
     "data": {
      "image/png": "[encoded data removed]",
      "text/plain": [
       "<Figure size 1000x600 with 1 Axes>"
      ]
     },
     "metadata": {},
     "output_type": "display_data"
    }
   ],
   "source": [
    "# # Plot the training and validation loss\n",
    "plt.figure(figsize=(10, 6))\n",
    "plt.plot(train_loss_list, label='Training Loss')\n",
    "plt.plot(validation_loss_list, label='Validation Loss')\n",
    "\n",
    "# Add title and labels\n",
    "plt.title('Training and Validation Loss')\n",
    "plt.xlabel('Epochs')\n",
    "plt.ylabel('Loss')\n",
    "\n",
    "# Add a legend\n",
    "plt.legend()\n",
    "\n",
    "# Show the plot\n",
    "plt.show()"
   ]
  },
  {
   "cell_type": "markdown",
   "id": "cdbeac949784565",
   "metadata": {
    "collapsed": false
   },
   "source": [
    "# Prediction"
   ]
  },
  {
   "cell_type": "code",
   "execution_count": 17,
   "id": "f3c8452421fbb912",
   "metadata": {
    "collapsed": false
   },
   "outputs": [
    {
     "data": {
      "text/plain": [
       "tensor([  -1.4797,   -1.4797, -100.0000, -100.0000, -100.0000, -100.0000,\n",
       "        -100.0000, -100.0000, -100.0000, -100.0000, -100.0000, -100.0000,\n",
       "        -100.0000, -100.0000, -100.0000, -100.0000, -100.0000, -100.0000,\n",
       "        -100.0000, -100.0000, -100.0000, -100.0000, -100.0000, -100.0000,\n",
       "        -100.0000, -100.0000, -100.0000, -100.0000, -100.0000, -100.0000,\n",
       "        -100.0000, -100.0000, -100.0000, -100.0000, -100.0000, -100.0000,\n",
       "        -100.0000, -100.0000, -100.0000, -100.0000, -100.0000, -100.0000,\n",
       "        -100.0000, -100.0000, -100.0000, -100.0000, -100.0000, -100.0000,\n",
       "        -100.0000, -100.0000, -100.0000, -100.0000, -100.0000, -100.0000,\n",
       "        -100.0000, -100.0000, -100.0000, -100.0000, -100.0000, -100.0000,\n",
       "        -100.0000, -100.0000, -100.0000, -100.0000, -100.0000, -100.0000,\n",
       "        -100.0000, -100.0000, -100.0000, -100.0000, -100.0000, -100.0000,\n",
       "        -100.0000, -100.0000, -100.0000, -100.0000, -100.0000, -100.0000,\n",
       "        -100.0000, -100.0000, -100.0000, -100.0000, -100.0000, -100.0000,\n",
       "        -100.0000, -100.0000, -100.0000, -100.0000, -100.0000, -100.0000,\n",
       "        -100.0000, -100.0000, -100.0000, -100.0000, -100.0000, -100.0000,\n",
       "        -100.0000, -100.0000, -100.0000, -100.0000], dtype=torch.float64)"
      ]
     },
     "execution_count": 17,
     "metadata": {},
     "output_type": "execute_result"
    }
   ],
   "source": [
    "# Sequences with long input\n",
    "test_sequence_input[50, :, 0] # 50, 10, 220, 222, 600"
   ]
  },
  {
   "cell_type": "code",
   "execution_count": 18,
   "id": "b89e04b3d1425a49",
   "metadata": {
    "collapsed": false
   },
   "outputs": [
    {
     "name": "stdout",
     "output_type": "stream",
     "text": [
      "tensor([[   1.0000,    0.0000,    0.0000,  ...,    0.0000,    0.0000,\n",
      "            0.0000],\n",
      "        [   0.0000,    1.0000,    0.0000,  ...,   83.5821,   19.0000,\n",
      "            0.0000],\n",
      "        [   0.0000,    0.0000,    0.0000,  ...,   60.3084,   20.0000,\n",
      "            0.0000],\n",
      "        ...,\n",
      "        [-100.0000, -100.0000, -100.0000,  ..., -100.0000, -100.0000,\n",
      "         -100.0000],\n",
      "        [-100.0000, -100.0000, -100.0000,  ..., -100.0000, -100.0000,\n",
      "         -100.0000],\n",
      "        [-100.0000, -100.0000, -100.0000,  ..., -100.0000, -100.0000,\n",
      "         -100.0000]])\n",
      "tensor([[   0.,    0.,    0.,  ...,    0.,    0.,    0.],\n",
      "        [   0.,    0.,    0.,  ...,    0.,    0.,    0.],\n",
      "        [-100., -100., -100.,  ..., -100., -100., -100.],\n",
      "        ...,\n",
      "        [-100., -100., -100.,  ..., -100., -100., -100.],\n",
      "        [-100., -100., -100.,  ..., -100., -100., -100.],\n",
      "        [-100., -100., -100.,  ..., -100., -100., -100.]], dtype=torch.float64)\n"
     ]
    }
   ],
   "source": [
    "# check sequence length / embedding\n",
    "print(test_sequence_output[50, :, -26:])\n",
    "print(test_sequence_input [50, :, -26:])"
   ]
  },
  {
   "cell_type": "code",
   "execution_count": 19,
   "id": "a3a328c640894ee5",
   "metadata": {
    "collapsed": false
   },
   "outputs": [],
   "source": [
    "# Create a tensor of zeros with 270 elements\n",
    "sos_token = torch.zeros(282)\n",
    "# Set the value at the 256 index to 1\n",
    "sos_token[256] = 1"
   ]
  },
  {
   "cell_type": "code",
   "execution_count": 20,
   "id": "b1275cdf2526d3d2",
   "metadata": {
    "collapsed": false
   },
   "outputs": [
    {
     "name": "stdout",
     "output_type": "stream",
     "text": [
      "2: Path 0 (15.839) got animation 2 (0.212%) with parameters [1.0, 0.0, -1.0, -1.0, 0.58, 0.09, -1.0, -1.0, -1.0, -1.0, -1.0, -1.0, -1.0, -1.0, -1.0]\n",
      "3: Path 0 (15.839) got animation 2 (0.212%) with parameters [1.0, 0.0, -1.0, -1.0, 0.58, 0.09, -1.0, -1.0, -1.0, -1.0, -1.0, -1.0, -1.0, -1.0, -1.0]\n",
      "4: Path 0 (15.839) got animation 2 (0.212%) with parameters [1.0, 0.0, -1.0, -1.0, 0.58, 0.09, -1.0, -1.0, -1.0, -1.0, -1.0, -1.0, -1.0, -1.0, -1.0]\n",
      "5: Path 0 (15.839) got animation 2 (0.212%) with parameters [1.0, 0.0, -1.0, -1.0, 0.58, 0.09, -1.0, -1.0, -1.0, -1.0, -1.0, -1.0, -1.0, -1.0, -1.0]\n",
      "6: Path 0 (15.839) got animation 2 (0.212%) with parameters [1.0, 0.0, -1.0, -1.0, 0.58, 0.09, -1.0, -1.0, -1.0, -1.0, -1.0, -1.0, -1.0, -1.0, -1.0]\n",
      "7: Path 0 (15.839) got animation 2 (0.212%) with parameters [1.0, 0.0, -1.0, -1.0, 0.58, 0.09, -1.0, -1.0, -1.0, -1.0, -1.0, -1.0, -1.0, -1.0, -1.0]\n",
      "8: Path 0 (15.839) got animation 2 (0.212%) with parameters [1.0, 0.0, -1.0, -1.0, 0.58, 0.09, -1.0, -1.0, -1.0, -1.0, -1.0, -1.0, -1.0, -1.0, -1.0]\n",
      "9: Path 0 (15.839) got animation 2 (0.212%) with parameters [1.0, 0.0, -1.0, -1.0, 0.58, 0.09, -1.0, -1.0, -1.0, -1.0, -1.0, -1.0, -1.0, -1.0, -1.0]\n",
      "10: Path 0 (15.839) got animation 2 (0.212%) with parameters [1.0, 0.0, -1.0, -1.0, 0.58, 0.09, -1.0, -1.0, -1.0, -1.0, -1.0, -1.0, -1.0, -1.0, -1.0]\n",
      "11: Path 0 (15.839) got animation 2 (0.212%) with parameters [1.0, 0.0, -1.0, -1.0, 0.58, 0.09, -1.0, -1.0, -1.0, -1.0, -1.0, -1.0, -1.0, -1.0, -1.0]\n",
      "tensor([[ 0.0000,  0.0000,  0.0000,  ...,  0.0000,  0.0000,  0.0000],\n",
      "        [-1.4797,  1.4999, -0.4608,  ..., -1.0000, -1.0000, -1.0000],\n",
      "        [-1.4797,  1.4999, -0.4608,  ..., -1.0000, -1.0000, -1.0000],\n",
      "        ...,\n",
      "        [-1.4797,  1.4999, -0.4608,  ..., -1.0000, -1.0000, -1.0000],\n",
      "        [-1.4797,  1.4999, -0.4608,  ..., -1.0000, -1.0000, -1.0000],\n",
      "        [-1.4797,  1.4999, -0.4608,  ..., -1.0000, -1.0000, -1.0000]],\n",
      "       device='cuda:0', grad_fn=<CatBackward0>) torch.Size([11, 282])\n"
     ]
    }
   ],
   "source": [
    "from AnimationTransformer import predict\n",
    "\n",
    "result = predict(model, test_sequence_input[10], sos_token=sos_token, device=device, max_length=100, eos_scaling=0.01)\n",
    "print(result, result.shape)"
   ]
  },
  {
   "cell_type": "code",
   "execution_count": null,
   "id": "0a4c7e14",
   "metadata": {},
   "outputs": [],
   "source": [
    "result = result.cpu()\n",
    "model_parameters = result[:,1:,:12].squeeze(0).detach().numpy()\n",
    "print(model_parameters, model_parameters.shape)\n",
    "\n",
    "model_parameters = pd.DataFrame(model_parameters)\n",
    "model_parameters[\"model_output\"] = model_parameters.apply(lambda row: row.tolist(), axis=1)\n",
    "\n",
    "# Apply the custom function to the \"model_output\" column\n",
    "model_parameters = model_parameters[['model_output']]\n",
    "\n",
    "model_parameters[\"animation_id\"] = range(0, len(model_parameters))\n",
    "print(model_parameters, model_parameters.shape)\n",
    "from src.postprocessing.postprocessing import *\n",
    "\n",
    "postprocess_logo(model_parameters, \"data/1_inserted_animation_id/logo_104.svg\")"
   ]
  },
  {
   "cell_type": "markdown",
   "id": "785899ffda9c61f8",
   "metadata": {
    "collapsed": false
   },
   "source": [
    "# Hyperparameter Tuning"
   ]
  },
  {
   "cell_type": "code",
   "execution_count": null,
   "id": "84ac116ba60f873a",
   "metadata": {
    "collapsed": false
   },
   "outputs": [],
   "source": [
    "from AnimationTransformer import validation_loop, train_loop\n",
    "import optuna\n",
    "from torch.utils.data import DataLoader\n",
    "\n",
    "MAX_EPOCHS = 5\n",
    "\n",
    "def objective(trial):\n",
    "    # Define the hyperparameter search space\n",
    "    learning_rate = trial.suggest_float('learning_rate', 1e-4, 1e-2, log=True)\n",
    "    num_encoder_layers = trial.suggest_categorical('num_encoder_layers', [2, 4, 6])\n",
    "    num_decoder_layers = trial.suggest_categorical('num_decoder_layers', [4, 6, 8])\n",
    "    # batch_size = trial.suggest_categorical('batch_size', [64])\n",
    "    num_heads = trial.suggest_categorical('num_heads', [2, 3, 6])\n",
    "    dropout = trial.suggest_float('dropout', 0.1, 0.3)\n",
    "    use_positional_encoder = trial.suggest_categorical('pos_encoder_max_len', [True, False])\n",
    "    \n",
    "    print(f'Parameters selected')\n",
    "    print(f'num_encoder_layers; num_decoder_layers; learning_rate; num_heads; use_positional_encoder; dropout')\n",
    "    print(f'{num_encoder_layers}; {num_decoder_layers}; {learning_rate}; {num_heads}; {use_positional_encoder}; {dropout}'.replace('.', ','))\n",
    "    \n",
    "    # Instantiate the model with suggested hyperparameters\n",
    "    model = AnimationTransformer(\n",
    "        dim_model=FEATURE_DIM,\n",
    "        num_heads=num_heads,\n",
    "        num_encoder_layers=num_encoder_layers,\n",
    "        num_decoder_layers=num_decoder_layers,\n",
    "        dropout_p=dropout,\n",
    "        use_positional_encoder=use_positional_encoder\n",
    "    ).to(device)\n",
    "        \n",
    "    optimizer = torch.optim.Adam(model.parameters(), lr=learning_rate)\n",
    "    train_loss_list, validation_loss_list = [], []\n",
    "\n",
    "    validation_loss = -1\n",
    "    # Training loop with early stopping, validation, etc.\n",
    "    for epoch in range(MAX_EPOCHS):\n",
    "        print(f' =========== EPOCH {epoch} ===========')\n",
    "        \n",
    "        train_loss = train_loop(model, optimizer, loss_function, train_dataloader, device)\n",
    "        train_loss_list += [train_loss]\n",
    "\n",
    "        validation_loss = validation_loop(model, loss_function, val_dataloader, device)\n",
    "        validation_loss_list += [validation_loss]\n",
    "        \n",
    "        print(f'Train Loss: {train_loss:.4f}, Validation Loss: {validation_loss:.4f}')\n",
    "        \n",
    "        # Report the validation loss to Optuna\n",
    "        trial.report(validation_loss, epoch)\n",
    "        \n",
    "        # Implement early stopping logic\n",
    "        if trial.should_prune():\n",
    "            raise optuna.exceptions.TrialPruned()\n",
    "    \n",
    "    print(f'Best validation loss: {validation_loss}')\n",
    "    print(f'num_encoder_layers; num_decoder_layers; learning_rate; num_heads; use_positional_encoder; dropout;')\n",
    "    print(f'{num_encoder_layers}; {num_decoder_layers}; {learning_rate:.8f}; {num_heads}; {use_positional_encoder}; {dropout:.8f}; Validation; '.replace('.', ','),\n",
    "          \"; \".join([str(f\"{loss:.4f}\").replace('.', ',') for loss in validation_loss_list]))\n",
    "    print(f' ; ; ; ; ; Train; ',\n",
    "          \"; \".join([str(f\"{loss:.4f}\").replace('.', ',') for loss in train_loss_list]))\n",
    "    \n",
    "    return validation_loss"
   ]
  },
  {
   "cell_type": "markdown",
   "id": "42ec6f9ac58486db",
   "metadata": {
    "collapsed": false
   },
   "source": [
    "Used:\n",
    "- pick_and_animate_from_8     First Run\n",
    "- pick_and_animate_from_8_v3  First Main Run"
   ]
  },
  {
   "cell_type": "code",
   "execution_count": null,
   "id": "f02c795e29038042",
   "metadata": {
    "collapsed": false
   },
   "outputs": [],
   "source": [
    "my_study = optuna.create_study(\n",
    "    direction='minimize',\n",
    "    study_name='pick_and_animate_from_8', # IMPORTANT: Chance Name when new Dataset\n",
    "    storage='sqlite:///animate_svg_optuna.db',\n",
    "    load_if_exists=True\n",
    ")"
   ]
  },
  {
   "cell_type": "code",
   "execution_count": null,
   "id": "a13f41c46488c115",
   "metadata": {
    "collapsed": false
   },
   "outputs": [],
   "source": [
    "#study = optuna.create_study(direction='minimize')\n",
    "my_study.optimize(objective, n_trials=100)"
   ]
  },
  {
   "cell_type": "code",
   "execution_count": null,
   "id": "9b68b3288e88b82c",
   "metadata": {
    "collapsed": false
   },
   "outputs": [],
   "source": [
    "print(\"Best trial:\")\n",
    "trial = my_study.best_trial\n",
    "print(f\"  Value: {trial.value}\")\n",
    "print(\"  Params: \")\n",
    "for key, value in trial.params.items():\n",
    "    print(f\"    {key}: {value}\")"
   ]
  },
  {
   "cell_type": "code",
   "execution_count": null,
   "id": "4b4454b71fe58709",
   "metadata": {
    "collapsed": false
   },
   "outputs": [],
   "source": [
    "from optuna.visualization import plot_optimization_history, plot_param_importances\n",
    "\n",
    "plot_optimization_history(my_study)"
   ]
  },
  {
   "cell_type": "code",
   "execution_count": null,
   "id": "af745d741c9f91e8",
   "metadata": {
    "collapsed": false
   },
   "outputs": [],
   "source": [
    "plot_param_importances(my_study)"
   ]
  },
  {
   "cell_type": "code",
   "execution_count": null,
   "id": "5f9536888eb5d9ac",
   "metadata": {
    "collapsed": false
   },
   "outputs": [],
   "source": [
    "from optuna.visualization import plot_slice\n",
    "\n",
    "plot_slice(my_study)"
   ]
  },
  {
   "cell_type": "code",
   "execution_count": null,
   "id": "223b93522b8685dc",
   "metadata": {
    "collapsed": false
   },
   "outputs": [],
   "source": [
    "from optuna.visualization import plot_timeline\n",
    "\n",
    "plot_timeline(my_study)"
   ]
  },
  {
   "cell_type": "markdown",
   "id": "eed50888",
   "metadata": {},
   "source": [
    "## Reinforcement"
   ]
  },
  {
   "cell_type": "code",
   "execution_count": null,
   "id": "073e9de9",
   "metadata": {},
   "outputs": [],
   "source": [
    "import gym\n",
    "from gym import spaces\n",
    "import numpy as np\n",
    "import random\n",
    "import CustomLoss\n",
    "\n",
    "\n",
    "\n",
    "class CustomEnv(gym.Env):\n",
    "    def __init__(self, startingState : torch.tensor):\n",
    "        super(CustomEnv, self).__init__()\n",
    "\n",
    "        # Define your action and observation space\n",
    "        self.action_space = spaces.Discrete(6)\n",
    "\n",
    "        # Example: 6-dimensional observation space represented by a Box\n",
    "        self.observation_space = startingState\n",
    "\n",
    "        # Define any other environment parameters\n",
    "        self.max_steps = 100\n",
    "        self.current_step = 0\n",
    "\n",
    "    def reset(self, startingState : torch.tensor):\n",
    "        # Reset the environment to its initial state\n",
    "        self.current_step = 0\n",
    "        self.observation_space = startingState\n",
    "        # Return the initial observation\n",
    "        return self.observation_space\n",
    "\n",
    "    def step(self, action):\n",
    "        ##### STATE = APPLY ACTION TO OBSERVATION #####\n",
    "        state = np.random.rand(6, 6)\n",
    "        \n",
    "        reward = np.random.rand()\n",
    "        \n",
    "        done = self.current_step >= self.max_steps\n",
    "        self.current_step += 1\n",
    "        return state, reward, done\n",
    "\n",
    "\n",
    "\n",
    "class Agent:\n",
    "    def __init__(self, input : torch.tensor):\n",
    "\n",
    "        self.input = input\n",
    "        self.X = input[0:1, :, :].to(device)\n",
    "        self.y = self.randomAnimation(self.X).to(device)\n",
    "\n",
    "        self.currentLogo = 0\n",
    "\n",
    "        self.epsilon = 0.8\n",
    "\n",
    "        self.model = AnimationTransformer(\n",
    "            dim_model=FEATURE_DIM,\n",
    "            num_heads=NUM_HEADS,\n",
    "            num_encoder_layers=NUM_ENCODER_LAYERS,\n",
    "            num_decoder_layers=NUM_DECODER_LAYERS,\n",
    "            dropout_p=DROPOUT,\n",
    "            use_positional_encoder=True\n",
    "            ).to(device)\n",
    "        self.opt = torch.optim.SGD(self.model.parameters(), lr=0.005)\n",
    "        self.loss_fn = CustomEmbeddingSliceLoss()\n",
    "\n",
    "        self.total_loss = 0\n",
    "    \n",
    "    def randomAnimation(self, t : torch.tensor):\n",
    "        print(t.shape)\n",
    "        for i in range(t.shape[0]):\n",
    "            for j in range(t.shape[1]):\n",
    "                type = random.randint(0,5)\n",
    "                if t[i,j,256+type] != 50 and t[i,j,256+type] != 10 and t[i,j,256+type] != 30:\n",
    "                    t[i,j,256+type] = 1\n",
    "                    for d in range (261, 268):\n",
    "                        t[i,j,d] = random.random()\n",
    "        return t\n",
    "    \n",
    "    def trainStep(self):\n",
    "\n",
    "        # Now we shift the tgt by one so with the <SOS> we predict the token at pos 1\n",
    "        y_input = self.y[:,:-1,:]\n",
    "        y_expected = self.y[:,1:,:]\n",
    "            \n",
    "        # Get mask to mask out the next words\n",
    "        sequence_length = self.y.size(1)\n",
    "        tgt_mask = self.model.get_tgt_mask(sequence_length).to(device)\n",
    "        pad_mask_src = self.model.create_pad_mask(self.X, 10).to(device)\n",
    "        pad_mask_tgt = self.model.create_pad_mask(self.y, 10).to(device)\n",
    "\n",
    "        # Standard training except we pass in y_input and tgt_mask\n",
    "        pred = self.model(self.X, self.y, tgt_mask, src_pad_mask=pad_mask_src, tgt_pad_mask=pad_mask_tgt)\n",
    "        \n",
    "\n",
    "        sm = nn.Softmax(dim=2)\n",
    "        next_item = sm(pred[:,:,256:262])\n",
    "        #print(next_item, next_item.shape)\n",
    "        animation_type = torch.argmax(next_item, dim=2)[0].tolist()\n",
    "        #print(animation_type)\n",
    "\n",
    "        for k in range(len(animation_type)):\n",
    "            for i in range(0,6):\n",
    "                if i == animation_type[k]:\n",
    "                    pred[:,k,256+i] = 1\n",
    "                else:\n",
    "                    pred[:,k,256+i] = 0\n",
    "                    \n",
    "        print(pred, pred.shape)\n",
    "        loss = self.loss_fn(pred, self.y)\n",
    "        self.opt.zero_grad()\n",
    "        loss.backward()\n",
    "        self.opt.step()\n",
    "        self.total_loss += loss.detach().item()\n",
    "\n",
    "        return pred\n",
    "    \n",
    "    def chooseAction(self, pred : torch.tensor):\n",
    "        \n",
    "        q = random.random()\n",
    "\n",
    "        if q > self.epsilon:\n",
    "            print(\"explore\")\n",
    "        else:\n",
    "            print(\"exploit\")\n",
    "\n",
    "        return random.randint(0,5)\n",
    "\n",
    "    def nextLogo(self):\n",
    "        self.X = input[self.currentLogo:self.currentLogo+1, :, :].to(device)\n",
    "        self.y = self.randomAnimation(self.X).to(device)\n",
    "\n",
    "        self.currentLogo = self.currentLogo+1\n",
    "    \n",
    "\n",
    "\n",
    "def reinforce():\n",
    "\n",
    "    env = CustomEnv(inpTensor2[0:1, :, :])\n",
    "    agent = Agent(inpTensor2)\n",
    "\n",
    "    totalReward = 0\n",
    "    for i in range(1, inpTensor2.shape[0]):\n",
    "        \n",
    "        print(i)\n",
    "        observation = env.reset(inpTensor2[i-1:i, :, :])\n",
    "\n",
    "        done = False\n",
    "        while not done:\n",
    "                \n",
    "            current = agent.trainStep()\n",
    "            action = agent.chooseAction(current)\n",
    "\n",
    "            state, reward, done = env.step(action)\n",
    "            totalReward += reward\n",
    "\n",
    "        agent.nextLogo()\n",
    "\n",
    "reinforce()\n",
    "    \n"
   ]
  },
  {
   "cell_type": "markdown",
   "id": "e2eec347",
   "metadata": {},
   "source": [
    "## Animation Creation"
   ]
  }
 ],
 "metadata": {
  "kernelspec": {
   "display_name": "Python 3",
   "language": "python",
   "name": "python3"
  },
  "language_info": {
   "codemirror_mode": {
    "name": "ipython",
    "version": 3
   },
   "file_extension": ".py",
   "mimetype": "text/x-python",
   "name": "python",
   "nbconvert_exporter": "python",
   "pygments_lexer": "ipython3",
   "version": "3.9.18"
  }
 },
 "nbformat": 4,
 "nbformat_minor": 5
}
