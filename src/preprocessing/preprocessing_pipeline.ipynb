{
 "cells": [
  {
   "cell_type": "markdown",
   "metadata": {},
   "source": [
    "# Pipeline for preprocessing and embedding SVGs\n",
    "\n",
    "Mostly copied from AnimateSVG"
   ]
  },
  {
   "cell_type": "markdown",
   "metadata": {},
   "source": [
    "## 0.0 Change directory to main folder\n",
    "Only execute this once, otherwise the directory gets changed to a higher level than necessary."
   ]
  },
  {
   "cell_type": "code",
   "execution_count": 1,
   "metadata": {},
   "outputs": [
    {
     "name": "stdout",
     "output_type": "stream",
     "text": [
      "/Users/dfuhge/Documents/Studium/Uni Mannheim/Master/1. Semester/TP 500 Team Project - AnimateSVG/Animate_SVG_v2/Animate_SVG_v2\n"
     ]
    }
   ],
   "source": [
    "import os\n",
    "os.chdir(\"../..\")\n",
    "print(os.getcwd())"
   ]
  },
  {
   "cell_type": "markdown",
   "metadata": {},
   "source": [
    "## 0.1 Reset folders (optional)\n",
    "Deletes all preprocessed data except for raw dataset"
   ]
  },
  {
   "cell_type": "code",
   "execution_count": 2,
   "metadata": {},
   "outputs": [],
   "source": [
    "import shutil\n",
    "folder_paths = [\n",
    "    \"1_inserted_animation_id\",\n",
    "    \"2_expanded_viewbox\",\n",
    "    \"3_decomposed_svg\"\n",
    "]\n",
    "\n",
    "for folder in folder_paths:\n",
    "    if os.path.exists(os.path.join(os.getcwd(), \"data\", folder)):\n",
    "        shutil.rmtree(os.path.join(os.getcwd(), \"data\", folder))"
   ]
  },
  {
   "cell_type": "markdown",
   "metadata": {},
   "source": [
    "## 0.2 Define file path for dataset\n",
    "Set path to raw dataset as current path to work in"
   ]
  },
  {
   "cell_type": "code",
   "execution_count": 3,
   "metadata": {},
   "outputs": [
    {
     "name": "stdout",
     "output_type": "stream",
     "text": [
      "/Users/dfuhge/Documents/Studium/Uni Mannheim/Master/1. Semester/TP 500 Team Project - AnimateSVG/Animate_SVG_v2/Animate_SVG_v2/data/0_raw_dataset\n"
     ]
    }
   ],
   "source": [
    "current_path = os.path.join(os.getcwd(), \"data\", \"0_raw_dataset\")\n",
    "print(current_path)"
   ]
  },
  {
   "cell_type": "markdown",
   "metadata": {},
   "source": [
    "## 1.0 Insert animation ID to every path in every SVG\n",
    "The animation ID is used to uniquely identify a path inside of the SVG."
   ]
  },
  {
   "cell_type": "code",
   "execution_count": 4,
   "metadata": {},
   "outputs": [],
   "source": [
    "from pathlib import Path\n",
    "from src.preprocessing.preprocessing import insert_animation_id_folder\n",
    "\n",
    "target_folder_name = \"1_inserted_animation_id\"\n",
    "target_folder_path = os.path.join(os.getcwd(), \"data\", target_folder_name)\n",
    "\n",
    "# Create target folder if not existent\n",
    "Path(target_folder_path).mkdir(parents=True, exist_ok=True)\n",
    "\n",
    "# Insert animation IDs\n",
    "insert_animation_id_folder(current_path, target_folder_path)\n",
    "\n",
    "# Set new current path\n",
    "current_path = target_folder_path"
   ]
  },
  {
   "cell_type": "markdown",
   "metadata": {},
   "source": [
    "## 2.0 Expand viewbox of SVGs\n",
    "TODO Why?"
   ]
  },
  {
   "cell_type": "code",
   "execution_count": 5,
   "metadata": {},
   "outputs": [],
   "source": [
    "from pathlib import Path\n",
    "from src.preprocessing.preprocessing import expand_viewbox_folder\n",
    "\n",
    "target_folder_name = \"2_expanded_viewbox\"\n",
    "target_folder_path = os.path.join(os.getcwd(), \"data\", target_folder_name)\n",
    "\n",
    "# Create target folder if not existent\n",
    "Path(target_folder_path).mkdir(parents=True, exist_ok=True)\n",
    "\n",
    "# Expand viewbox\n",
    "expand_viewbox_folder(current_path, target_folder_path)\n",
    "# Set new current path\n",
    "current_path = target_folder_path"
   ]
  },
  {
   "cell_type": "markdown",
   "metadata": {},
   "source": [
    "## 3.0 Decompose SVG to single-path-SVGs"
   ]
  },
  {
   "cell_type": "code",
   "execution_count": 6,
   "metadata": {},
   "outputs": [],
   "source": [
    "from pathlib import Path\n",
    "from src.preprocessing.preprocessing import decompose_svg_folder\n",
    "\n",
    "target_folder_name = \"3_decomposed_svg\"\n",
    "target_folder_path = os.path.join(os.getcwd(), \"data\", target_folder_name)\n",
    "\n",
    "# Create target folder if not existent\n",
    "Path(target_folder_path).mkdir(parents=True, exist_ok=True)\n",
    "\n",
    "# Decompose SVGs in folder\n",
    "decompose_svg_folder(current_path, target_folder_path)\n",
    "# Set new current path\n",
    "current_path = target_folder_path"
   ]
  },
  {
   "cell_type": "markdown",
   "metadata": {},
   "source": [
    "## 3.1 Extract SVG Metadata -> removed (not used in our model)"
   ]
  },
  {
   "cell_type": "markdown",
   "metadata": {},
   "source": [
    "## 4 Encode every SVG path to embedding\n",
    "Filename, animation Id, 256 embedding"
   ]
  },
  {
   "cell_type": "code",
   "execution_count": null,
   "metadata": {},
   "outputs": [],
   "source": []
  }
 ],
 "metadata": {
  "kernelspec": {
   "display_name": "base",
   "language": "python",
   "name": "python3"
  },
  "language_info": {
   "codemirror_mode": {
    "name": "ipython",
    "version": 3
   },
   "file_extension": ".py",
   "mimetype": "text/x-python",
   "name": "python",
   "nbconvert_exporter": "python",
   "pygments_lexer": "ipython3",
   "version": "3.9.12"
  }
 },
 "nbformat": 4,
 "nbformat_minor": 2
}
